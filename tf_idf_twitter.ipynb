{
 "cells": [
  {
   "cell_type": "code",
   "execution_count": 1,
   "metadata": {},
   "outputs": [],
   "source": [
    "import pandas as pd\n",
    "\n",
    "from sklearn.model_selection import train_test_split\n",
    "from sklearn.preprocessing import LabelEncoder\n",
    "from sklearn.metrics import confusion_matrix, classification_report, accuracy_score\n",
    "from sklearn.manifold import TSNE\n",
    "from sklearn.feature_extraction.text import TfidfVectorizer\n",
    "from sklearn.feature_selection import VarianceThreshold\n",
    "from keras.preprocessing.text import Tokenizer\n",
    "from keras.utils import pad_sequences\n",
    "from keras.models import Sequential\n",
    "from keras.layers import Activation, Dense, Dropout, Embedding, Flatten, Conv1D, MaxPooling1D, LSTM, Convolution1D, GlobalMaxPooling1D\n",
    "from keras import utils\n",
    "from keras.callbacks import ReduceLROnPlateau, EarlyStopping\n",
    "from matplotlib import pyplot as plt\n",
    "import nltk\n",
    "from nltk.corpus import stopwords\n",
    "from nltk.stem import SnowballStemmer\n",
    "\n",
    "import seaborn as sns\n",
    "# Word2vec\n",
    "import gensim\n",
    "\n",
    "# Utility\n",
    "import ssl\n",
    "import re\n",
    "import numpy as np\n",
    "import os\n",
    "from collections import Counter\n",
    "import logging\n",
    "import time\n",
    "import pickle\n",
    "import itertools"
   ]
  },
  {
   "cell_type": "code",
   "execution_count": 2,
   "metadata": {},
   "outputs": [
    {
     "name": "stdout",
     "output_type": "stream",
     "text": [
      "   Unnamed: 0                                            message  label\n",
      "0           0  The lack of this understanding is a small but ...      1\n",
      "1           1  i just told my parents about my depression and...      1\n",
      "2           2  depression is something i don't speak about ev...      1\n",
      "3           3  Made myself a tortilla filled with pb&j. My de...      1\n",
      "4           4  @WorldofOutlaws I am gonna need depression med...      1\n",
      "5           5  my anxiety and my depression fighting over who...      1\n",
      "6           6  wow she's suddenly cured my depression and gav...      1\n",
      "7           7  I am officially done with @kanyewest. him, the...      1\n",
      "8           8  Me: what's wrong?My girl: *looks up at me with...      1\n",
      "9           9  @AusBorderForce @PeterDutton_MP @shanebazzi Ag...      1\n"
     ]
    }
   ],
   "source": [
    "df = pd.read_csv('d1.csv')\n",
    "print(df.iloc[:10])"
   ]
  },
  {
   "cell_type": "code",
   "execution_count": 3,
   "metadata": {},
   "outputs": [
    {
     "name": "stderr",
     "output_type": "stream",
     "text": [
      "[nltk_data] Downloading package stopwords to\n",
      "[nltk_data]     /Users/santhosh/nltk_data...\n",
      "[nltk_data]   Package stopwords is already up-to-date!\n"
     ]
    },
    {
     "data": {
      "text/plain": [
       "True"
      ]
     },
     "execution_count": 3,
     "metadata": {},
     "output_type": "execute_result"
    }
   ],
   "source": [
    "try:\n",
    "    _create_unverified_https_context = ssl._create_unverified_context\n",
    "except AttributeError:\n",
    "    pass\n",
    "else:\n",
    "    ssl._create_default_https_context = _create_unverified_https_context\n",
    "    \n",
    "nltk.download('stopwords')"
   ]
  },
  {
   "cell_type": "code",
   "execution_count": 4,
   "metadata": {},
   "outputs": [],
   "source": [
    "stop_words = stopwords.words(\"english\")\n",
    "stemmer = SnowballStemmer(\"english\")"
   ]
  },
  {
   "cell_type": "code",
   "execution_count": 5,
   "metadata": {},
   "outputs": [],
   "source": [
    "def preprocess(text, stem=True):\n",
    "    # Remove link,user and special characters\n",
    "    TEXT_CLEANING_RE = \"@\\S+|https?:\\S+|http?:\\S|[^A-Za-z0-9]+\"\n",
    "    text = re.sub(TEXT_CLEANING_RE, ' ', str(text).lower()).strip()\n",
    "    tokens = []\n",
    "    for token in text.split():\n",
    "        if token not in stop_words:\n",
    "            if stem:\n",
    "                tokens.append(stemmer.stem(token))\n",
    "            else:\n",
    "                tokens.append(token)\n",
    "    return \" \".join(tokens)"
   ]
  },
  {
   "cell_type": "code",
   "execution_count": 6,
   "metadata": {},
   "outputs": [
    {
     "name": "stdout",
     "output_type": "stream",
     "text": [
      "   Unnamed: 0                                            message  label\n",
      "0           0  The lack of this understanding is a small but ...      1\n",
      "1           1  i just told my parents about my depression and...      1\n",
      "2           2  depression is something i don't speak about ev...      1\n",
      "3           3  Made myself a tortilla filled with pb&j. My de...      1\n",
      "4           4  @WorldofOutlaws I am gonna need depression med...      1\n",
      "after preprocessing\n",
      "   Unnamed: 0                                            message  label\n",
      "0           0  lack understand small signific part caus anxie...      1\n",
      "1           1  told parent depress hard get gen x peopl under...      1\n",
      "2           2  depress someth speak even go also doubl edg sw...      1\n",
      "3           3  made tortilla fill pb j depress cure olivia 1 ...      1\n",
      "4           4  gonna need depress med soon rainout spin equil...      1\n"
     ]
    }
   ],
   "source": [
    "print(df.head())\n",
    "df.message = df.message.apply(lambda x: preprocess(x))\n",
    "\n",
    "print(\"after preprocessing\")\n",
    "print(df.head())"
   ]
  },
  {
   "cell_type": "code",
   "execution_count": 7,
   "metadata": {},
   "outputs": [],
   "source": [
    "texts = df.message.to_numpy()\n",
    "labels = df.label.to_numpy()"
   ]
  },
  {
   "cell_type": "code",
   "execution_count": 11,
   "metadata": {},
   "outputs": [],
   "source": [
    "# Initialize TF-IDF vectorizer with maximum features set to 1000\n",
    "vectorizer = TfidfVectorizer(max_features=1000)\n",
    "\n",
    "# Fit and transform the texts into TF-IDF features\n",
    "tfidf_features = vectorizer.fit_transform(texts)\n",
    "\n",
    "# Set the maximum sequence length to the number of features in the TF-IDF matrix\n",
    "max_len = tfidf_features.shape[1]\n",
    "\n",
    "# Split the dataset into train and test sets\n"
   ]
  },
  {
   "cell_type": "code",
   "execution_count": 9,
   "metadata": {},
   "outputs": [],
   "source": [
    "X_train, X_test, y_train, y_test = train_test_split(tfidf_features, labels, test_size=0.2, random_state=42)"
   ]
  },
  {
   "cell_type": "code",
   "execution_count": 12,
   "metadata": {},
   "outputs": [
    {
     "data": {
      "text/plain": [
       "1000"
      ]
     },
     "execution_count": 12,
     "metadata": {},
     "output_type": "execute_result"
    }
   ],
   "source": [
    "tfidf_features.shape[1]"
   ]
  },
  {
   "attachments": {},
   "cell_type": "markdown",
   "metadata": {},
   "source": [
    "**LSTM**"
   ]
  },
  {
   "cell_type": "code",
   "execution_count": 46,
   "metadata": {},
   "outputs": [],
   "source": [
    "# Build the LSTM model\n",
    "model = Sequential()\n",
    "model.add(Embedding(input_dim=tfidf_features.shape[1], output_dim=128, input_length=max_len, mask_zero=True))\n",
    "model.add(LSTM(128))\n",
    "model.add(Dense(1, activation='sigmoid'))\n",
    "model.compile(optimizer='adam', loss='binary_crossentropy', metrics=['accuracy'])"
   ]
  },
  {
   "cell_type": "code",
   "execution_count": 48,
   "metadata": {},
   "outputs": [
    {
     "name": "stdout",
     "output_type": "stream",
     "text": [
      "Epoch 1/10\n",
      "51/51 [==============================] - 167s 3s/step - loss: 0.6037 - accuracy: 0.6312 - val_loss: 0.5615 - val_accuracy: 0.6836\n",
      "Epoch 2/10\n",
      "51/51 [==============================] - 281s 6s/step - loss: 0.5742 - accuracy: 0.6741 - val_loss: 0.5649 - val_accuracy: 0.6652\n",
      "Epoch 3/10\n",
      "51/51 [==============================] - 375s 7s/step - loss: 0.5696 - accuracy: 0.6766 - val_loss: 0.5598 - val_accuracy: 0.6836\n",
      "Epoch 4/10\n",
      "51/51 [==============================] - 207s 4s/step - loss: 0.5696 - accuracy: 0.6709 - val_loss: 0.5627 - val_accuracy: 0.6836\n",
      "Epoch 5/10\n",
      "51/51 [==============================] - 398s 8s/step - loss: 0.5695 - accuracy: 0.6731 - val_loss: 0.5612 - val_accuracy: 0.6652\n",
      "Epoch 6/10\n",
      "51/51 [==============================] - 192s 4s/step - loss: 0.5694 - accuracy: 0.6737 - val_loss: 0.5643 - val_accuracy: 0.6652\n",
      "Epoch 7/10\n",
      "51/51 [==============================] - 182s 4s/step - loss: 0.5678 - accuracy: 0.6772 - val_loss: 0.5619 - val_accuracy: 0.6652\n",
      "Epoch 8/10\n",
      "51/51 [==============================] - 167s 3s/step - loss: 0.5685 - accuracy: 0.6761 - val_loss: 0.5623 - val_accuracy: 0.6652\n",
      "Epoch 9/10\n",
      "51/51 [==============================] - 183s 4s/step - loss: 0.5678 - accuracy: 0.6772 - val_loss: 0.5641 - val_accuracy: 0.6652\n",
      "Epoch 10/10\n",
      "51/51 [==============================] - 168s 3s/step - loss: 0.5690 - accuracy: 0.6744 - val_loss: 0.5626 - val_accuracy: 0.6652\n"
     ]
    },
    {
     "data": {
      "text/plain": [
       "<keras.callbacks.History at 0x2fed95bd0>"
      ]
     },
     "execution_count": 48,
     "metadata": {},
     "output_type": "execute_result"
    }
   ],
   "source": [
    "# Train the LSTM model\n",
    "model.fit(X_train, y_train, epochs=10, batch_size=128, validation_data=(X_test, y_test))"
   ]
  },
  {
   "cell_type": "code",
   "execution_count": 50,
   "metadata": {},
   "outputs": [
    {
     "name": "stdout",
     "output_type": "stream",
     "text": [
      "1631/1631 [==============================] - 79s 49ms/step - loss: 0.5626 - accuracy: 0.6652\n",
      "Test Loss: 0.5625651478767395\n",
      "Test Accuracy: 0.6652360558509827\n"
     ]
    }
   ],
   "source": [
    "# Evaluate the LSTM model\n",
    "loss, accuracy = model.evaluate(X_test, y_test, batch_size=1)\n",
    "print('Test Loss:', loss)\n",
    "print('Test Accuracy:', accuracy)"
   ]
  },
  {
   "cell_type": "code",
   "execution_count": 54,
   "metadata": {},
   "outputs": [
    {
     "data": {
      "text/plain": [
       "array([[1],\n",
       "       [1],\n",
       "       [0],\n",
       "       ...,\n",
       "       [1],\n",
       "       [0],\n",
       "       [0]])"
      ]
     },
     "execution_count": 54,
     "metadata": {},
     "output_type": "execute_result"
    }
   ],
   "source": [
    "y_train = y_train.reshape(-1,1)\n",
    "y_train"
   ]
  },
  {
   "cell_type": "code",
   "execution_count": 55,
   "metadata": {},
   "outputs": [
    {
     "name": "stdout",
     "output_type": "stream",
     "text": [
      "51/51 [==============================] - 19s 375ms/step\n",
      "              precision    recall  f1-score   support\n",
      "\n",
      "           0       0.56      0.77      0.65       649\n",
      "           1       0.80      0.60      0.68       982\n",
      "\n",
      "    accuracy                           0.67      1631\n",
      "   macro avg       0.68      0.68      0.66      1631\n",
      "weighted avg       0.70      0.67      0.67      1631\n",
      "\n"
     ]
    }
   ],
   "source": [
    "labels_pred = model.predict(X_test)\n",
    "labels_pred = np.round(labels_pred)\n",
    "print(classification_report(y_test, labels_pred))"
   ]
  },
  {
   "cell_type": "code",
   "execution_count": 56,
   "metadata": {},
   "outputs": [
    {
     "data": {
      "text/html": [
       "<div>\n",
       "<style scoped>\n",
       "    .dataframe tbody tr th:only-of-type {\n",
       "        vertical-align: middle;\n",
       "    }\n",
       "\n",
       "    .dataframe tbody tr th {\n",
       "        vertical-align: top;\n",
       "    }\n",
       "\n",
       "    .dataframe thead th {\n",
       "        text-align: right;\n",
       "    }\n",
       "</style>\n",
       "<table border=\"1\" class=\"dataframe\">\n",
       "  <thead>\n",
       "    <tr style=\"text-align: right;\">\n",
       "      <th></th>\n",
       "      <th>cat</th>\n",
       "      <th>val</th>\n",
       "      <th>source</th>\n",
       "    </tr>\n",
       "  </thead>\n",
       "  <tbody>\n",
       "    <tr>\n",
       "      <th>0</th>\n",
       "      <td>precision</td>\n",
       "      <td>0.796196</td>\n",
       "      <td>lstm</td>\n",
       "    </tr>\n",
       "    <tr>\n",
       "      <th>1</th>\n",
       "      <td>recall</td>\n",
       "      <td>0.596741</td>\n",
       "      <td>lstm</td>\n",
       "    </tr>\n",
       "    <tr>\n",
       "      <th>2</th>\n",
       "      <td>accuracy</td>\n",
       "      <td>0.665236</td>\n",
       "      <td>lstm</td>\n",
       "    </tr>\n",
       "    <tr>\n",
       "      <th>3</th>\n",
       "      <td>f1-score</td>\n",
       "      <td>0.682189</td>\n",
       "      <td>lstm</td>\n",
       "    </tr>\n",
       "  </tbody>\n",
       "</table>\n",
       "</div>"
      ],
      "text/plain": [
       "         cat       val source\n",
       "0  precision  0.796196   lstm\n",
       "1     recall  0.596741   lstm\n",
       "2   accuracy  0.665236   lstm\n",
       "3   f1-score  0.682189   lstm"
      ]
     },
     "execution_count": 56,
     "metadata": {},
     "output_type": "execute_result"
    }
   ],
   "source": [
    "report = classification_report(y_test, labels_pred, output_dict=True)\n",
    "data = [['precision', report['1']['precision']], ['recall', report['1']['recall']], ['accuracy', report['accuracy']], ['f1-score', report['1']['f1-score']]]\n",
    "df_lstm = pd.DataFrame(data, columns=['cat', 'val'])\n",
    "df_lstm['source'] = 'lstm'\n",
    "df_lstm.head()"
   ]
  },
  {
   "cell_type": "code",
   "execution_count": 57,
   "metadata": {},
   "outputs": [],
   "source": [
    "def predict(text):\n",
    "    TEXT_CLEANING_RE = \"@\\S+|https?:\\S+|http?:\\S|[^A-Za-z0-9]+\"\n",
    "    text = re.sub(TEXT_CLEANING_RE, ' ', str(text).lower()).strip()\n",
    "    tokens = []\n",
    "    for token in text.split():\n",
    "        if token not in stop_words:\n",
    "            tokens.append(stemmer.stem(token))\n",
    "    text = \" \".join(tokens)\n",
    "    text = np.array([text])\n",
    "    text = vectorizer.transform(text)\n",
    "    return \"POSITIVE\" if model.predict(text.toarray()) > 0.5 else \"NEGATIVE\""
   ]
  },
  {
   "cell_type": "code",
   "execution_count": 58,
   "metadata": {},
   "outputs": [
    {
     "name": "stdout",
     "output_type": "stream",
     "text": [
      "1/1 [==============================] - 1s 1s/step\n"
     ]
    },
    {
     "data": {
      "text/plain": [
       "'POSITIVE'"
      ]
     },
     "execution_count": 58,
     "metadata": {},
     "output_type": "execute_result"
    }
   ],
   "source": [
    "predict(\"depression is real, life is very hard, i hate everything, suicide is only way\")"
   ]
  },
  {
   "cell_type": "code",
   "execution_count": 59,
   "metadata": {},
   "outputs": [
    {
     "name": "stdout",
     "output_type": "stream",
     "text": [
      "1/1 [==============================] - 0s 60ms/step\n"
     ]
    },
    {
     "data": {
      "text/plain": [
       "'NEGATIVE'"
      ]
     },
     "execution_count": 59,
     "metadata": {},
     "output_type": "execute_result"
    }
   ],
   "source": [
    "predict(\"i enjoyed the vacations, i loved listening to songs when i was in vacation\")"
   ]
  },
  {
   "attachments": {},
   "cell_type": "markdown",
   "metadata": {},
   "source": [
    "CNN"
   ]
  },
  {
   "cell_type": "code",
   "execution_count": 60,
   "metadata": {},
   "outputs": [],
   "source": [
    "# Build the CNN model\n",
    "model = Sequential()\n",
    "model.add(Conv1D(filters=64, kernel_size=3, activation='relu', input_shape=(tfidf_features.shape[1], 1)))\n",
    "model.add(MaxPooling1D(pool_size=2))\n",
    "model.add(Conv1D(filters=128, kernel_size=3, activation='relu'))\n",
    "model.add(MaxPooling1D(pool_size=2))\n",
    "model.add(GlobalMaxPooling1D())\n",
    "model.add(Dense(1, activation='sigmoid'))\n",
    "model.compile(optimizer='adam', loss='binary_crossentropy', metrics=['accuracy'])"
   ]
  },
  {
   "cell_type": "code",
   "execution_count": null,
   "metadata": {},
   "outputs": [],
   "source": [
    "X_train_reshaped = X_train.toarray().reshape(X_train.shape[0], tfidf_features.shape[1], 1)\n",
    "X_test_reshaped = X_test.toarray().reshape(X_test.shape[0], tfidf_features.shape[1], 1)"
   ]
  },
  {
   "cell_type": "code",
   "execution_count": 62,
   "metadata": {},
   "outputs": [
    {
     "name": "stdout",
     "output_type": "stream",
     "text": [
      "Epoch 1/10\n",
      "6524/6524 [==============================] - 25s 4ms/step - loss: 0.3215 - accuracy: 0.8533 - val_loss: 0.1964 - val_accuracy: 0.9154\n",
      "Epoch 2/10\n",
      "6524/6524 [==============================] - 24s 4ms/step - loss: 0.1491 - accuracy: 0.9439 - val_loss: 0.1337 - val_accuracy: 0.9448\n",
      "Epoch 3/10\n",
      "6524/6524 [==============================] - 24s 4ms/step - loss: 0.1337 - accuracy: 0.9526 - val_loss: 0.2207 - val_accuracy: 0.9191\n",
      "Epoch 4/10\n",
      "6524/6524 [==============================] - 24s 4ms/step - loss: 0.1285 - accuracy: 0.9540 - val_loss: 0.1298 - val_accuracy: 0.9491\n",
      "Epoch 5/10\n",
      "6524/6524 [==============================] - 24s 4ms/step - loss: 0.1222 - accuracy: 0.9532 - val_loss: 0.1158 - val_accuracy: 0.9534\n",
      "Epoch 6/10\n",
      "6524/6524 [==============================] - 26s 4ms/step - loss: 0.1208 - accuracy: 0.9555 - val_loss: 0.1253 - val_accuracy: 0.9510\n",
      "Epoch 7/10\n",
      "6524/6524 [==============================] - 25s 4ms/step - loss: 0.1162 - accuracy: 0.9554 - val_loss: 0.1364 - val_accuracy: 0.9510\n",
      "Epoch 8/10\n",
      "6524/6524 [==============================] - 25s 4ms/step - loss: 0.1160 - accuracy: 0.9585 - val_loss: 0.1184 - val_accuracy: 0.9528\n",
      "Epoch 9/10\n",
      "6524/6524 [==============================] - 25s 4ms/step - loss: 0.1122 - accuracy: 0.9554 - val_loss: 0.1281 - val_accuracy: 0.9510\n",
      "Epoch 10/10\n",
      "6524/6524 [==============================] - 23s 4ms/step - loss: 0.1135 - accuracy: 0.9574 - val_loss: 0.1306 - val_accuracy: 0.9540\n"
     ]
    },
    {
     "data": {
      "text/plain": [
       "<keras.callbacks.History at 0x30e02b1f0>"
      ]
     },
     "execution_count": 62,
     "metadata": {},
     "output_type": "execute_result"
    }
   ],
   "source": [
    "model.fit(X_train_reshaped, y_train, epochs=10, batch_size=1, validation_data=(X_test_reshaped, y_test))\n"
   ]
  },
  {
   "cell_type": "code",
   "execution_count": 63,
   "metadata": {},
   "outputs": [
    {
     "name": "stdout",
     "output_type": "stream",
     "text": [
      "51/51 [==============================] - 1s 16ms/step\n",
      "              precision    recall  f1-score   support\n",
      "\n",
      "           0       0.96      0.92      0.94       649\n",
      "           1       0.95      0.98      0.96       982\n",
      "\n",
      "    accuracy                           0.95      1631\n",
      "   macro avg       0.96      0.95      0.95      1631\n",
      "weighted avg       0.95      0.95      0.95      1631\n",
      "\n"
     ]
    }
   ],
   "source": [
    "labels_pred = model.predict(X_test_reshaped)\n",
    "labels_pred = np.round(labels_pred.flatten())\n",
    "print(classification_report(y_test, labels_pred))"
   ]
  },
  {
   "cell_type": "code",
   "execution_count": 67,
   "metadata": {},
   "outputs": [
    {
     "data": {
      "text/html": [
       "<div>\n",
       "<style scoped>\n",
       "    .dataframe tbody tr th:only-of-type {\n",
       "        vertical-align: middle;\n",
       "    }\n",
       "\n",
       "    .dataframe tbody tr th {\n",
       "        vertical-align: top;\n",
       "    }\n",
       "\n",
       "    .dataframe thead th {\n",
       "        text-align: right;\n",
       "    }\n",
       "</style>\n",
       "<table border=\"1\" class=\"dataframe\">\n",
       "  <thead>\n",
       "    <tr style=\"text-align: right;\">\n",
       "      <th></th>\n",
       "      <th>cat</th>\n",
       "      <th>val</th>\n",
       "      <th>source</th>\n",
       "    </tr>\n",
       "  </thead>\n",
       "  <tbody>\n",
       "    <tr>\n",
       "      <th>0</th>\n",
       "      <td>precision</td>\n",
       "      <td>0.947680</td>\n",
       "      <td>cnn</td>\n",
       "    </tr>\n",
       "    <tr>\n",
       "      <th>1</th>\n",
       "      <td>recall</td>\n",
       "      <td>0.977597</td>\n",
       "      <td>cnn</td>\n",
       "    </tr>\n",
       "    <tr>\n",
       "      <th>2</th>\n",
       "      <td>accuracy</td>\n",
       "      <td>0.954016</td>\n",
       "      <td>cnn</td>\n",
       "    </tr>\n",
       "    <tr>\n",
       "      <th>3</th>\n",
       "      <td>f1-score</td>\n",
       "      <td>0.962406</td>\n",
       "      <td>cnn</td>\n",
       "    </tr>\n",
       "  </tbody>\n",
       "</table>\n",
       "</div>"
      ],
      "text/plain": [
       "         cat       val source\n",
       "0  precision  0.947680    cnn\n",
       "1     recall  0.977597    cnn\n",
       "2   accuracy  0.954016    cnn\n",
       "3   f1-score  0.962406    cnn"
      ]
     },
     "execution_count": 67,
     "metadata": {},
     "output_type": "execute_result"
    }
   ],
   "source": [
    "report = classification_report(y_test, labels_pred, output_dict=True)\n",
    "data = [['precision', report['1']['precision']], ['recall', report['1']['recall']], ['accuracy', report['accuracy']], ['f1-score', report['1']['f1-score']]]\n",
    "df_cnn = pd.DataFrame(data, columns=['cat', 'val'])\n",
    "df_cnn['source'] = 'cnn'\n",
    "df_cnn.head()"
   ]
  },
  {
   "attachments": {},
   "cell_type": "markdown",
   "metadata": {},
   "source": [
    "**Hybrid**\n"
   ]
  },
  {
   "cell_type": "code",
   "execution_count": 35,
   "metadata": {},
   "outputs": [],
   "source": [
    "model = Sequential()\n",
    "model.add(Conv1D(filters=64, kernel_size=3, activation='relu', input_shape=(tfidf_features.shape[1], 1)))\n",
    "model.add(MaxPooling1D(pool_size=2))\n",
    "model.add(Conv1D(filters=128, kernel_size=3, activation='relu'))\n",
    "model.add(MaxPooling1D(pool_size=2))\n",
    "model.add(LSTM(128))\n",
    "model.add(Dense(1, activation='sigmoid'))"
   ]
  },
  {
   "cell_type": "code",
   "execution_count": 36,
   "metadata": {},
   "outputs": [
    {
     "name": "stdout",
     "output_type": "stream",
     "text": [
      "Model: \"sequential_4\"\n",
      "_________________________________________________________________\n",
      " Layer (type)                Output Shape              Param #   \n",
      "=================================================================\n",
      " conv1d_5 (Conv1D)           (None, 998, 64)           256       \n",
      "                                                                 \n",
      " max_pooling1d_5 (MaxPooling  (None, 499, 64)          0         \n",
      " 1D)                                                             \n",
      "                                                                 \n",
      " conv1d_6 (Conv1D)           (None, 497, 128)          24704     \n",
      "                                                                 \n",
      " max_pooling1d_6 (MaxPooling  (None, 248, 128)         0         \n",
      " 1D)                                                             \n",
      "                                                                 \n",
      " lstm_3 (LSTM)               (None, 128)               131584    \n",
      "                                                                 \n",
      " dense_3 (Dense)             (None, 1)                 129       \n",
      "                                                                 \n",
      "=================================================================\n",
      "Total params: 156,673\n",
      "Trainable params: 156,673\n",
      "Non-trainable params: 0\n",
      "_________________________________________________________________\n"
     ]
    }
   ],
   "source": [
    "model.compile(optimizer='adam', loss='binary_crossentropy', metrics=['accuracy'])\n",
    "model.summary()"
   ]
  },
  {
   "cell_type": "code",
   "execution_count": 38,
   "metadata": {},
   "outputs": [
    {
     "name": "stdout",
     "output_type": "stream",
     "text": [
      "Epoch 1/10\n",
      "6524/6524 [==============================] - 277s 42ms/step - loss: 0.6878 - accuracy: 0.5587 - val_loss: 0.6703 - val_accuracy: 0.6058\n",
      "Epoch 2/10\n",
      "6524/6524 [==============================] - 270s 41ms/step - loss: 0.6856 - accuracy: 0.5647 - val_loss: 0.6715 - val_accuracy: 0.6101\n",
      "Epoch 3/10\n",
      "6524/6524 [==============================] - 270s 41ms/step - loss: 0.6824 - accuracy: 0.5737 - val_loss: 0.6724 - val_accuracy: 0.6162\n",
      "Epoch 4/10\n",
      "6524/6524 [==============================] - 270s 41ms/step - loss: 0.6756 - accuracy: 0.5799 - val_loss: 0.6685 - val_accuracy: 0.6174\n",
      "Epoch 5/10\n",
      "6524/6524 [==============================] - 270s 41ms/step - loss: 0.6658 - accuracy: 0.5826 - val_loss: 0.6598 - val_accuracy: 0.6205\n",
      "Epoch 6/10\n",
      "6524/6524 [==============================] - 270s 41ms/step - loss: 0.6699 - accuracy: 0.5823 - val_loss: 0.6699 - val_accuracy: 0.6033\n",
      "Epoch 7/10\n",
      "6524/6524 [==============================] - 273s 42ms/step - loss: 0.6670 - accuracy: 0.5972 - val_loss: 0.6010 - val_accuracy: 0.6800\n",
      "Epoch 8/10\n",
      "6524/6524 [==============================] - 277s 43ms/step - loss: 0.5627 - accuracy: 0.7026 - val_loss: 0.3799 - val_accuracy: 0.8608\n",
      "Epoch 9/10\n",
      "6524/6524 [==============================] - 276s 42ms/step - loss: 0.5902 - accuracy: 0.6663 - val_loss: 0.5790 - val_accuracy: 0.7474\n",
      "Epoch 10/10\n",
      "6524/6524 [==============================] - 276s 42ms/step - loss: 0.4174 - accuracy: 0.8242 - val_loss: 0.2323 - val_accuracy: 0.9191\n"
     ]
    },
    {
     "data": {
      "text/plain": [
       "<keras.callbacks.History at 0x2f8ad2ce0>"
      ]
     },
     "execution_count": 38,
     "metadata": {},
     "output_type": "execute_result"
    }
   ],
   "source": [
    "model.fit(X_train_reshaped, y_train, epochs=10, batch_size=1, validation_data=(X_test_reshaped, y_test))\n"
   ]
  },
  {
   "cell_type": "code",
   "execution_count": 43,
   "metadata": {},
   "outputs": [
    {
     "name": "stdout",
     "output_type": "stream",
     "text": [
      "51/51 [==============================] - 4s 78ms/step\n",
      "              precision    recall  f1-score   support\n",
      "\n",
      "           0       0.88      0.92      0.90       649\n",
      "           1       0.95      0.92      0.93       982\n",
      "\n",
      "    accuracy                           0.92      1631\n",
      "   macro avg       0.91      0.92      0.92      1631\n",
      "weighted avg       0.92      0.92      0.92      1631\n",
      "\n"
     ]
    }
   ],
   "source": [
    "labels_pred = model.predict(X_test_reshaped)\n",
    "labels_pred = np.round(labels_pred.flatten())\n",
    "print(classification_report(y_test, labels_pred))\n",
    "report = classification_report(y_test, labels_pred, output_dict=True)"
   ]
  },
  {
   "cell_type": "code",
   "execution_count": 69,
   "metadata": {},
   "outputs": [
    {
     "data": {
      "text/html": [
       "<div>\n",
       "<style scoped>\n",
       "    .dataframe tbody tr th:only-of-type {\n",
       "        vertical-align: middle;\n",
       "    }\n",
       "\n",
       "    .dataframe tbody tr th {\n",
       "        vertical-align: top;\n",
       "    }\n",
       "\n",
       "    .dataframe thead th {\n",
       "        text-align: right;\n",
       "    }\n",
       "</style>\n",
       "<table border=\"1\" class=\"dataframe\">\n",
       "  <thead>\n",
       "    <tr style=\"text-align: right;\">\n",
       "      <th></th>\n",
       "      <th>cat</th>\n",
       "      <th>val</th>\n",
       "      <th>source</th>\n",
       "    </tr>\n",
       "  </thead>\n",
       "  <tbody>\n",
       "    <tr>\n",
       "      <th>0</th>\n",
       "      <td>precision</td>\n",
       "      <td>0.947680</td>\n",
       "      <td>hybrid</td>\n",
       "    </tr>\n",
       "    <tr>\n",
       "      <th>1</th>\n",
       "      <td>recall</td>\n",
       "      <td>0.977597</td>\n",
       "      <td>hybrid</td>\n",
       "    </tr>\n",
       "    <tr>\n",
       "      <th>2</th>\n",
       "      <td>accuracy</td>\n",
       "      <td>0.954016</td>\n",
       "      <td>hybrid</td>\n",
       "    </tr>\n",
       "    <tr>\n",
       "      <th>3</th>\n",
       "      <td>f1-score</td>\n",
       "      <td>0.962406</td>\n",
       "      <td>hybrid</td>\n",
       "    </tr>\n",
       "  </tbody>\n",
       "</table>\n",
       "</div>"
      ],
      "text/plain": [
       "         cat       val  source\n",
       "0  precision  0.947680  hybrid\n",
       "1     recall  0.977597  hybrid\n",
       "2   accuracy  0.954016  hybrid\n",
       "3   f1-score  0.962406  hybrid"
      ]
     },
     "execution_count": 69,
     "metadata": {},
     "output_type": "execute_result"
    }
   ],
   "source": [
    "data = [['precision', report['1']['precision']], ['recall', report['1']['recall']], ['accuracy', report['accuracy']], ['f1-score', report['1']['f1-score']]]\n",
    "df_hybrid = pd.DataFrame(data, columns=['cat', 'val'])\n",
    "df_hybrid['source'] = 'hybrid'\n",
    "df_hybrid.head()"
   ]
  },
  {
   "cell_type": "code",
   "execution_count": 70,
   "metadata": {},
   "outputs": [
    {
     "data": {
      "text/html": [
       "<div>\n",
       "<style scoped>\n",
       "    .dataframe tbody tr th:only-of-type {\n",
       "        vertical-align: middle;\n",
       "    }\n",
       "\n",
       "    .dataframe tbody tr th {\n",
       "        vertical-align: top;\n",
       "    }\n",
       "\n",
       "    .dataframe thead th {\n",
       "        text-align: right;\n",
       "    }\n",
       "</style>\n",
       "<table border=\"1\" class=\"dataframe\">\n",
       "  <thead>\n",
       "    <tr style=\"text-align: right;\">\n",
       "      <th></th>\n",
       "      <th>cat</th>\n",
       "      <th>val</th>\n",
       "      <th>source</th>\n",
       "    </tr>\n",
       "  </thead>\n",
       "  <tbody>\n",
       "    <tr>\n",
       "      <th>0</th>\n",
       "      <td>precision</td>\n",
       "      <td>0.796196</td>\n",
       "      <td>lstm</td>\n",
       "    </tr>\n",
       "    <tr>\n",
       "      <th>1</th>\n",
       "      <td>recall</td>\n",
       "      <td>0.596741</td>\n",
       "      <td>lstm</td>\n",
       "    </tr>\n",
       "    <tr>\n",
       "      <th>2</th>\n",
       "      <td>accuracy</td>\n",
       "      <td>0.665236</td>\n",
       "      <td>lstm</td>\n",
       "    </tr>\n",
       "    <tr>\n",
       "      <th>3</th>\n",
       "      <td>f1-score</td>\n",
       "      <td>0.682189</td>\n",
       "      <td>lstm</td>\n",
       "    </tr>\n",
       "    <tr>\n",
       "      <th>0</th>\n",
       "      <td>precision</td>\n",
       "      <td>0.947680</td>\n",
       "      <td>cnn</td>\n",
       "    </tr>\n",
       "    <tr>\n",
       "      <th>1</th>\n",
       "      <td>recall</td>\n",
       "      <td>0.977597</td>\n",
       "      <td>cnn</td>\n",
       "    </tr>\n",
       "    <tr>\n",
       "      <th>2</th>\n",
       "      <td>accuracy</td>\n",
       "      <td>0.954016</td>\n",
       "      <td>cnn</td>\n",
       "    </tr>\n",
       "    <tr>\n",
       "      <th>3</th>\n",
       "      <td>f1-score</td>\n",
       "      <td>0.962406</td>\n",
       "      <td>cnn</td>\n",
       "    </tr>\n",
       "    <tr>\n",
       "      <th>0</th>\n",
       "      <td>precision</td>\n",
       "      <td>0.947680</td>\n",
       "      <td>hybrid</td>\n",
       "    </tr>\n",
       "    <tr>\n",
       "      <th>1</th>\n",
       "      <td>recall</td>\n",
       "      <td>0.977597</td>\n",
       "      <td>hybrid</td>\n",
       "    </tr>\n",
       "    <tr>\n",
       "      <th>2</th>\n",
       "      <td>accuracy</td>\n",
       "      <td>0.954016</td>\n",
       "      <td>hybrid</td>\n",
       "    </tr>\n",
       "    <tr>\n",
       "      <th>3</th>\n",
       "      <td>f1-score</td>\n",
       "      <td>0.962406</td>\n",
       "      <td>hybrid</td>\n",
       "    </tr>\n",
       "  </tbody>\n",
       "</table>\n",
       "</div>"
      ],
      "text/plain": [
       "         cat       val  source\n",
       "0  precision  0.796196    lstm\n",
       "1     recall  0.596741    lstm\n",
       "2   accuracy  0.665236    lstm\n",
       "3   f1-score  0.682189    lstm\n",
       "0  precision  0.947680     cnn\n",
       "1     recall  0.977597     cnn\n",
       "2   accuracy  0.954016     cnn\n",
       "3   f1-score  0.962406     cnn\n",
       "0  precision  0.947680  hybrid\n",
       "1     recall  0.977597  hybrid\n",
       "2   accuracy  0.954016  hybrid\n",
       "3   f1-score  0.962406  hybrid"
      ]
     },
     "execution_count": 70,
     "metadata": {},
     "output_type": "execute_result"
    }
   ],
   "source": [
    "df_tfidf = pd.concat([df_lstm, df_cnn, df_hybrid])\n",
    "df_tfidf"
   ]
  },
  {
   "cell_type": "code",
   "execution_count": 73,
   "metadata": {},
   "outputs": [
    {
     "data": {
      "text/plain": [
       "Text(0.5, 1.0, 'TC_tfidf')"
      ]
     },
     "execution_count": 73,
     "metadata": {},
     "output_type": "execute_result"
    },
    {
     "data": {
      "image/png": "[encoded data removed]",
      "text/plain": [
       "<Figure size 800x500 with 1 Axes>"
      ]
     },
     "metadata": {},
     "output_type": "display_data"
    }
   ],
   "source": [
    "plt.figure(figsize=(8,5))\n",
    "sns.barplot(x ='cat', y = 'val', data=df_tfidf, hue='source')\n",
    "plt.title(\"TC_tfidf\")"
   ]
  }
 ],
 "metadata": {
  "kernelspec": {
   "display_name": "Python 3",
   "language": "python",
   "name": "python3"
  },
  "language_info": {
   "codemirror_mode": {
    "name": "ipython",
    "version": 3
   },
   "file_extension": ".py",
   "mimetype": "text/x-python",
   "name": "python",
   "nbconvert_exporter": "python",
   "pygments_lexer": "ipython3",
   "version": "3.10.1"
  },
  "orig_nbformat": 4
 },
 "nbformat": 4,
 "nbformat_minor": 2
}
