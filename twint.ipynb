{
 "cells": [
  {
   "cell_type": "code",
   "execution_count": 10,
   "metadata": {},
   "outputs": [],
   "source": [
    "import twint"
   ]
  },
  {
   "cell_type": "code",
   "execution_count": 11,
   "metadata": {},
   "outputs": [],
   "source": [
    "c = twint.Config()\n",
    "c.search = \"hate\"\n",
    "c.Limit = 20"
   ]
  },
  {
   "cell_type": "code",
   "execution_count": 12,
   "metadata": {},
   "outputs": [],
   "source": [
    "import nest_asyncio\n",
    "nest_asyncio.apply()"
   ]
  },
  {
   "cell_type": "code",
   "execution_count": 13,
   "metadata": {},
   "outputs": [
    {
     "ename": "RefreshTokenException",
     "evalue": "Could not find the Guest token in HTML",
     "output_type": "error",
     "traceback": [
      "\u001b[0;31m---------------------------------------------------------------------------\u001b[0m",
      "\u001b[0;31mRefreshTokenException\u001b[0m                     Traceback (most recent call last)",
      "Cell \u001b[0;32mIn[13], line 1\u001b[0m\n\u001b[0;32m----> 1\u001b[0m twint\u001b[39m.\u001b[39;49mrun\u001b[39m.\u001b[39;49mSearch(c)\n",
      "File \u001b[0;32m~/Library/Python/3.10/lib/python/site-packages/twint/run.py:410\u001b[0m, in \u001b[0;36mSearch\u001b[0;34m(config, callback)\u001b[0m\n\u001b[1;32m    408\u001b[0m config\u001b[39m.\u001b[39mFollowers \u001b[39m=\u001b[39m \u001b[39mFalse\u001b[39;00m\n\u001b[1;32m    409\u001b[0m config\u001b[39m.\u001b[39mProfile \u001b[39m=\u001b[39m \u001b[39mFalse\u001b[39;00m\n\u001b[0;32m--> 410\u001b[0m run(config, callback)\n\u001b[1;32m    411\u001b[0m \u001b[39mif\u001b[39;00m config\u001b[39m.\u001b[39mPandas_au:\n\u001b[1;32m    412\u001b[0m     storage\u001b[39m.\u001b[39mpanda\u001b[39m.\u001b[39m_autoget(\u001b[39m\"\u001b[39m\u001b[39mtweet\u001b[39m\u001b[39m\"\u001b[39m)\n",
      "File \u001b[0;32m~/Library/Python/3.10/lib/python/site-packages/twint/run.py:329\u001b[0m, in \u001b[0;36mrun\u001b[0;34m(config, callback)\u001b[0m\n\u001b[1;32m    325\u001b[0m     logme\u001b[39m.\u001b[39mexception(\n\u001b[1;32m    326\u001b[0m         \u001b[39m__name__\u001b[39m \u001b[39m+\u001b[39m \u001b[39m'\u001b[39m\u001b[39m:run:Unexpected exception occurred while attempting to get or create a new event loop.\u001b[39m\u001b[39m'\u001b[39m)\n\u001b[1;32m    327\u001b[0m     \u001b[39mraise\u001b[39;00m\n\u001b[0;32m--> 329\u001b[0m get_event_loop()\u001b[39m.\u001b[39mrun_until_complete(Twint(config)\u001b[39m.\u001b[39mmain(callback))\n",
      "File \u001b[0;32m~/Library/Python/3.10/lib/python/site-packages/twint/run.py:36\u001b[0m, in \u001b[0;36mTwint.__init__\u001b[0;34m(self, config)\u001b[0m\n\u001b[1;32m     33\u001b[0m \u001b[39m# TODO might have to make some adjustments for it to work with multi-treading\u001b[39;00m\n\u001b[1;32m     34\u001b[0m \u001b[39m# USAGE : to get a new guest token simply do `self.token.refresh()`\u001b[39;00m\n\u001b[1;32m     35\u001b[0m \u001b[39mself\u001b[39m\u001b[39m.\u001b[39mtoken \u001b[39m=\u001b[39m token\u001b[39m.\u001b[39mToken(config)\n\u001b[0;32m---> 36\u001b[0m \u001b[39mself\u001b[39;49m\u001b[39m.\u001b[39;49mtoken\u001b[39m.\u001b[39;49mrefresh()\n\u001b[1;32m     37\u001b[0m \u001b[39mself\u001b[39m\u001b[39m.\u001b[39mconn \u001b[39m=\u001b[39m db\u001b[39m.\u001b[39mConn(config\u001b[39m.\u001b[39mDatabase)\n\u001b[1;32m     38\u001b[0m \u001b[39mself\u001b[39m\u001b[39m.\u001b[39md \u001b[39m=\u001b[39m datelock\u001b[39m.\u001b[39mSet(\u001b[39mself\u001b[39m\u001b[39m.\u001b[39mconfig\u001b[39m.\u001b[39mUntil, \u001b[39mself\u001b[39m\u001b[39m.\u001b[39mconfig\u001b[39m.\u001b[39mSince)\n",
      "File \u001b[0;32m~/Library/Python/3.10/lib/python/site-packages/twint/token.py:69\u001b[0m, in \u001b[0;36mToken.refresh\u001b[0;34m(self)\u001b[0m\n\u001b[1;32m     67\u001b[0m \u001b[39melse\u001b[39;00m:\n\u001b[1;32m     68\u001b[0m     \u001b[39mself\u001b[39m\u001b[39m.\u001b[39mconfig\u001b[39m.\u001b[39mGuest_token \u001b[39m=\u001b[39m \u001b[39mNone\u001b[39;00m\n\u001b[0;32m---> 69\u001b[0m     \u001b[39mraise\u001b[39;00m RefreshTokenException(\u001b[39m'\u001b[39m\u001b[39mCould not find the Guest token in HTML\u001b[39m\u001b[39m'\u001b[39m)\n",
      "\u001b[0;31mRefreshTokenException\u001b[0m: Could not find the Guest token in HTML"
     ]
    }
   ],
   "source": [
    "twint.run.Search(c)"
   ]
  }
 ],
 "metadata": {
  "kernelspec": {
   "display_name": "Python 3",
   "language": "python",
   "name": "python3"
  },
  "language_info": {
   "codemirror_mode": {
    "name": "ipython",
    "version": 3
   },
   "file_extension": ".py",
   "mimetype": "text/x-python",
   "name": "python",
   "nbconvert_exporter": "python",
   "pygments_lexer": "ipython3",
   "version": "3.10.1"
  },
  "orig_nbformat": 4,
  "vscode": {
   "interpreter": {
    "hash": "aee8b7b246df8f9039afb4144a1f6fd8d2ca17a180786b69acc140d282b71a49"
   }
  }
 },
 "nbformat": 4,
 "nbformat_minor": 2
}
