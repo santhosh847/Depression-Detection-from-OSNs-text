{
 "cells": [
  {
   "attachments": {},
   "cell_type": "markdown",
   "metadata": {},
   "source": [
    "# Import required packages"
   ]
  },
  {
   "cell_type": "code",
   "execution_count": 1,
   "metadata": {},
   "outputs": [],
   "source": [
    "import pandas as pd\n",
    "\n",
    "from sklearn.model_selection import train_test_split\n",
    "from sklearn.preprocessing import LabelEncoder\n",
    "from sklearn.metrics import confusion_matrix, classification_report, accuracy_score\n",
    "from sklearn.manifold import TSNE\n",
    "from sklearn.feature_extraction.text import TfidfVectorizer\n",
    "from sklearn.feature_selection import VarianceThreshold\n",
    "from keras.preprocessing.text import Tokenizer\n",
    "from keras.utils import pad_sequences\n",
    "from keras.models import Sequential\n",
    "from keras.layers import Activation, Dense, Dropout, Embedding, Flatten, Conv1D, MaxPooling1D, LSTM, Convolution1D\n",
    "from keras import utils\n",
    "from keras.callbacks import ReduceLROnPlateau, EarlyStopping\n",
    "from matplotlib import pyplot as plt\n",
    "import nltk\n",
    "from nltk.corpus import stopwords\n",
    "from nltk.stem import SnowballStemmer\n",
    "\n",
    "import seaborn as sns\n",
    "# Word2vec\n",
    "import gensim\n",
    "\n",
    "# Utility\n",
    "import ssl\n",
    "import re\n",
    "import numpy as np\n",
    "import os\n",
    "from collections import Counter\n",
    "import logging\n",
    "import time\n",
    "import pickle\n",
    "import itertools"
   ]
  },
  {
   "cell_type": "code",
   "execution_count": 2,
   "metadata": {},
   "outputs": [
    {
     "name": "stderr",
     "output_type": "stream",
     "text": [
      "[nltk_data] Downloading package stopwords to\n",
      "[nltk_data]     /Users/santhosh/nltk_data...\n",
      "[nltk_data]   Package stopwords is already up-to-date!\n"
     ]
    },
    {
     "data": {
      "text/plain": [
       "True"
      ]
     },
     "execution_count": 2,
     "metadata": {},
     "output_type": "execute_result"
    }
   ],
   "source": [
    "try:\n",
    "    _create_unverified_https_context = ssl._create_unverified_context\n",
    "except AttributeError:\n",
    "    pass\n",
    "else:\n",
    "    ssl._create_default_https_context = _create_unverified_https_context\n",
    "    \n",
    "nltk.download('stopwords')"
   ]
  },
  {
   "cell_type": "code",
   "execution_count": 3,
   "metadata": {},
   "outputs": [],
   "source": [
    "# DATASET\n",
    "DATASET_COLUMNS = [\"message\", \"label\"]\n",
    "DATASET_ENCODING = \"ISO-8859-1\"\n",
    "TRAIN_SIZE = 0.8\n",
    "\n",
    "# TEXT CLEANING\n",
    "TEXT_CLEANING_RE = \"@\\S+|https?:\\S+|http?:\\S|[^A-Za-z0-9]+\"\n",
    "\n",
    "# WORD2VEC\n",
    "W2V_SIZE = 300\n",
    "W2V_WINDOW = 7\n",
    "W2V_EPOCH = 32\n",
    "W2V_MIN_COUNT = 10\n",
    "\n",
    "# KERAS\n",
    "SEQUENCE_LENGTH = 300\n",
    "EPOCHS = 8\n",
    "BATCH_SIZE = 1024\n",
    "\n",
    "# SENTIMENT\n",
    "POSITIVE = \"POSITIVE\"\n",
    "NEGATIVE = \"NEGATIVE\"\n",
    "NEUTRAL = \"NEUTRAL\"\n",
    "SENTIMENT_THRESHOLDS = (0.4, 0.7)\n",
    "\n",
    "# EXPORT\n",
    "KERAS_MODEL = \"model.h5\"\n",
    "WORD2VEC_MODEL = \"model.w2v\"\n",
    "TOKENIZER_MODEL = \"tokenizer.pkl\"\n",
    "ENCODER_MODEL = \"encoder.pkl\""
   ]
  },
  {
   "cell_type": "code",
   "execution_count": 4,
   "metadata": {},
   "outputs": [
    {
     "name": "stdout",
     "output_type": "stream",
     "text": [
      "   Unnamed: 0                                            message  label\n",
      "0           0  The lack of this understanding is a small but ...      1\n",
      "1           1  i just told my parents about my depression and...      1\n",
      "2           2  depression is something i don't speak about ev...      1\n",
      "3           3  Made myself a tortilla filled with pb&j. My de...      1\n",
      "4           4  @WorldofOutlaws I am gonna need depression med...      1\n",
      "5           5  my anxiety and my depression fighting over who...      1\n",
      "6           6  wow she's suddenly cured my depression and gav...      1\n",
      "7           7  I am officially done with @kanyewest. him, the...      1\n",
      "8           8  Me: what's wrong?My girl: *looks up at me with...      1\n",
      "9           9  @AusBorderForce @PeterDutton_MP @shanebazzi Ag...      1\n"
     ]
    }
   ],
   "source": [
    "df = pd.read_csv('d1.csv')\n",
    "print(df.iloc[:10])"
   ]
  },
  {
   "attachments": {},
   "cell_type": "markdown",
   "metadata": {},
   "source": [
    "**Preprocessing**"
   ]
  },
  {
   "cell_type": "code",
   "execution_count": 5,
   "metadata": {},
   "outputs": [],
   "source": [
    "stop_words = stopwords.words(\"english\")\n",
    "stemmer = SnowballStemmer(\"english\")"
   ]
  },
  {
   "cell_type": "code",
   "execution_count": 6,
   "metadata": {},
   "outputs": [],
   "source": [
    "def preprocess(text, stem=True):\n",
    "    # Remove link,user and special characters\n",
    "    text = re.sub(TEXT_CLEANING_RE, ' ', str(text).lower()).strip()\n",
    "    tokens = []\n",
    "    for token in text.split():\n",
    "        if token not in stop_words:\n",
    "            if stem:\n",
    "                tokens.append(stemmer.stem(token))\n",
    "            else:\n",
    "                tokens.append(token)\n",
    "    return \" \".join(tokens)\n"
   ]
  },
  {
   "cell_type": "code",
   "execution_count": 8,
   "metadata": {},
   "outputs": [
    {
     "name": "stdout",
     "output_type": "stream",
     "text": [
      "buse\n"
     ]
    }
   ],
   "source": [
    "print(preprocess(\"buses\", stem = True))"
   ]
  },
  {
   "cell_type": "code",
   "execution_count": 9,
   "metadata": {},
   "outputs": [
    {
     "name": "stdout",
     "output_type": "stream",
     "text": [
      "   Unnamed: 0                                            message  label\n",
      "0           0  The lack of this understanding is a small but ...      1\n",
      "1           1  i just told my parents about my depression and...      1\n",
      "2           2  depression is something i don't speak about ev...      1\n",
      "3           3  Made myself a tortilla filled with pb&j. My de...      1\n",
      "4           4  @WorldofOutlaws I am gonna need depression med...      1\n",
      "after preprocessing\n",
      "   Unnamed: 0                                            message  label\n",
      "0           0  lack understand small signific part caus anxie...      1\n",
      "1           1  told parent depress hard get gen x peopl under...      1\n",
      "2           2  depress someth speak even go also doubl edg sw...      1\n",
      "3           3  made tortilla fill pb j depress cure olivia 1 ...      1\n",
      "4           4  gonna need depress med soon rainout spin equil...      1\n"
     ]
    }
   ],
   "source": [
    "print(df.head())\n",
    "df.message = df.message.apply(lambda x: preprocess(x))\n",
    "\n",
    "print(\"after preprocessing\")\n",
    "print(df.head())\n"
   ]
  },
  {
   "cell_type": "code",
   "execution_count": 10,
   "metadata": {},
   "outputs": [
    {
     "name": "stdout",
     "output_type": "stream",
     "text": [
      "TRAIN size: 6524\n",
      "TEST size: 1631\n"
     ]
    }
   ],
   "source": [
    "df_train, df_test = train_test_split(df, test_size=1-TRAIN_SIZE)\n",
    "print(\"TRAIN size:\", len(df_train))\n",
    "print(\"TEST size:\", len(df_test))"
   ]
  },
  {
   "cell_type": "code",
   "execution_count": 11,
   "metadata": {},
   "outputs": [
    {
     "name": "stdout",
     "output_type": "stream",
     "text": [
      "[['repost', 'britishmuseum', 'repostapp', 'see', 'magnific', '19th', 'centuri', 'sudaneselyr', 'new'], ['icymi', 'research', 'link', 'sens', 'purpos', 'lower', 'level', 'adolesc', 'depress', 'less'], ['look', 'forward', 'amelia', 'smith', 'speak', 'cda', 'innov', 'showcas', 'nationalgalleri', 'birkbecknew', 'cdavalu'], ['honey', 'told', 'listen', 'song', 'often', 'els', 'spiral', 'monsoon', 'depress', 'passion'], ['depress', 'pain', 'hole', 'noth', 'go', 'distinct', 'wrong', 'life', 'still', 'want', 'fuck', 'tall', 'build'], ['everi', 'singl', 'person', 'world', 'everi', 'cultur', 'everi', 'languag', 'everi', 'countri', 'know', 'eat', 'food', 'matter', 'food', 'bodi', 'enough', 'must', 'food', 'soul', 'depress', 'food', 'health', 'organ', 'pic', 'twitter', 'com', 'nlj5b3jki5'], ['woke', 'alreadi', 'think', 'take', 'depress', 'nap'], ['girlfriend', 'dog', 'alway', 'look', 'like', 'suffer', 'sever', 'depress', 'boy', 'relat', 'pic', 'twitter', 'com', 'u6zoe0rgq3'], ['excit', 'see'], ['therapi', 'skype', 'onlin', 'skype', 'therapi', 'effect', 'mind', 'therapi', 'overcom', 'anxieti', 'depress', 'peopl', 'see', 'big', 'improv', 'within', '3', '4', 'week', 'contact', 'learn', 'schedul', 'skype', 'therapi', 'session']]\n"
     ]
    }
   ],
   "source": [
    "documents = [_message.split() for _message in df_train.message]\n",
    "print(documents[:10])"
   ]
  },
  {
   "cell_type": "code",
   "execution_count": 12,
   "metadata": {},
   "outputs": [],
   "source": [
    "w2v_model = gensim.models.Word2Vec(vector_size=W2V_SIZE, window=W2V_WINDOW, min_count=W2V_MIN_COUNT, workers=8)"
   ]
  },
  {
   "cell_type": "code",
   "execution_count": 13,
   "metadata": {},
   "outputs": [],
   "source": [
    "w2v_model.build_vocab(documents)"
   ]
  },
  {
   "cell_type": "code",
   "execution_count": 14,
   "metadata": {},
   "outputs": [
    {
     "name": "stdout",
     "output_type": "stream",
     "text": [
      "Vocab size 1188\n"
     ]
    }
   ],
   "source": [
    "words = w2v_model.wv.key_to_index\n",
    "vocab_size = len(words)\n",
    "print(\"Vocab size\", vocab_size)"
   ]
  },
  {
   "cell_type": "code",
   "execution_count": 16,
   "metadata": {},
   "outputs": [
    {
     "name": "stdout",
     "output_type": "stream",
     "text": [
      "['repost', 'britishmuseum', 'repostapp', 'see', 'magnific', '19th', 'centuri', 'sudaneselyr', 'new']\n"
     ]
    }
   ],
   "source": [
    "\n",
    "w2v_model.train(documents, total_examples=len(documents), epochs=W2V_EPOCH)\n",
    "print(documents[0]);"
   ]
  },
  {
   "cell_type": "code",
   "execution_count": 17,
   "metadata": {},
   "outputs": [
    {
     "data": {
      "text/plain": [
       "[('kind', 0.6193754076957703),\n",
       " ('weight', 0.5618546605110168),\n",
       " ('gain', 0.537340521812439),\n",
       " ('less', 0.5251399278640747),\n",
       " ('smoke', 0.5248550772666931),\n",
       " ('practic', 0.5211370587348938),\n",
       " ('job', 0.5102863311767578),\n",
       " ('rn', 0.5047264099121094),\n",
       " ('turn', 0.5018884539604187),\n",
       " ('carri', 0.49905428290367126)]"
      ]
     },
     "execution_count": 17,
     "metadata": {},
     "output_type": "execute_result"
    }
   ],
   "source": [
    "w2v_model.wv.most_similar(\"hate\")"
   ]
  },
  {
   "cell_type": "code",
   "execution_count": 18,
   "metadata": {},
   "outputs": [
    {
     "name": "stdout",
     "output_type": "stream",
     "text": [
      "Total words 9560\n"
     ]
    }
   ],
   "source": [
    "tokenizer = Tokenizer()\n",
    "tokenizer.fit_on_texts(df_train.message)\n",
    "\n",
    "vocab_size = len(tokenizer.word_index) + 1\n",
    "print(\"Total words\", vocab_size)"
   ]
  },
  {
   "cell_type": "code",
   "execution_count": 19,
   "metadata": {},
   "outputs": [],
   "source": [
    "x_train = pad_sequences(tokenizer.texts_to_sequences(df_train.message), maxlen=SEQUENCE_LENGTH)\n",
    "x_test = pad_sequences(tokenizer.texts_to_sequences(df_test.message), maxlen=SEQUENCE_LENGTH)"
   ]
  },
  {
   "cell_type": "code",
   "execution_count": 20,
   "metadata": {},
   "outputs": [
    {
     "data": {
      "text/plain": [
       "array([[   0,    0,    0, ..., 1302, 2542,   38],\n",
       "       [   0,    0,    0, ...,  756,    1,  548],\n",
       "       [   0,    0,    0, ...,   54, 3123, 3124],\n",
       "       ...,\n",
       "       [   0,    0,    0, ...,    4,    6, 3129],\n",
       "       [   0,    0,    0, ...,    0,  183,   23],\n",
       "       [   0,    0,    0, ...,  799,  207,  759]], dtype=int32)"
      ]
     },
     "execution_count": 20,
     "metadata": {},
     "output_type": "execute_result"
    }
   ],
   "source": [
    "x_train[0:10]"
   ]
  },
  {
   "cell_type": "code",
   "execution_count": 21,
   "metadata": {},
   "outputs": [
    {
     "name": "stdout",
     "output_type": "stream",
     "text": [
      "y_train (6524, 1)\n",
      "y_test (1631, 1)\n"
     ]
    }
   ],
   "source": [
    "encoder = LabelEncoder()\n",
    "encoder.fit(df_train.label.tolist())\n",
    "\n",
    "y_train = encoder.transform(df_train.label.tolist())\n",
    "y_test = encoder.transform(df_test.label.tolist())\n",
    "\n",
    "y_train = y_train.reshape(-1,1)\n",
    "y_test = y_test.reshape(-1,1)\n",
    "\n",
    "print(\"y_train\",y_train.shape)\n",
    "print(\"y_test\",y_test.shape)"
   ]
  },
  {
   "cell_type": "code",
   "execution_count": 22,
   "metadata": {},
   "outputs": [
    {
     "name": "stdout",
     "output_type": "stream",
     "text": [
      "x_train (6524, 300)\n",
      "y_train (6524, 1)\n",
      "\n",
      "x_test (1631, 300)\n",
      "y_test (1631, 1)\n"
     ]
    }
   ],
   "source": [
    "print(\"x_train\", x_train.shape)\n",
    "print(\"y_train\", y_train.shape)\n",
    "print()\n",
    "print(\"x_test\", x_test.shape)\n",
    "print(\"y_test\", y_test.shape)"
   ]
  },
  {
   "cell_type": "code",
   "execution_count": 23,
   "metadata": {},
   "outputs": [
    {
     "data": {
      "text/plain": [
       "array([[0],\n",
       "       [1],\n",
       "       [0],\n",
       "       [0],\n",
       "       [0],\n",
       "       [1],\n",
       "       [1],\n",
       "       [0],\n",
       "       [0],\n",
       "       [1],\n",
       "       [0],\n",
       "       [1],\n",
       "       [1],\n",
       "       [0],\n",
       "       [1],\n",
       "       [0],\n",
       "       [0],\n",
       "       [0],\n",
       "       [1],\n",
       "       [1]])"
      ]
     },
     "execution_count": 23,
     "metadata": {},
     "output_type": "execute_result"
    }
   ],
   "source": [
    "y_train[50:70]"
   ]
  },
  {
   "cell_type": "code",
   "execution_count": 24,
   "metadata": {},
   "outputs": [
    {
     "name": "stdout",
     "output_type": "stream",
     "text": [
      "dict_items([('depress', 1), ('anxieti', 2), ('emoji', 3), ('twitter', 4), ('pic', 5), ('com', 6), ('like', 7), ('go', 8), ('day', 9), ('love', 10), ('get', 11), ('face', 12), ('one', 13), ('good', 14), ('know', 15), ('feel', 16), ('peopl', 17), ('thank', 18), ('britishmuseum', 19), ('time', 20), ('great', 21), ('help', 22), ('see', 23), ('work', 24), ('today', 25), ('think', 26), ('life', 27), ('make', 28), ('realli', 29), ('look', 30), ('thing', 31), ('mental', 32), ('much', 33), ('want', 34), ('back', 35), ('u', 36), ('well', 37), ('new', 38), ('take', 39), ('happi', 40), ('tri', 41), ('got', 42), ('amp', 43), ('year', 44), ('never', 45), ('health', 46), ('need', 47), ('come', 48), ('someon', 49), ('way', 50), ('talk', 51), ('use', 52), ('suicid', 53), ('nationalgalleri', 54), ('would', 55), ('us', 56), ('lol', 57), ('even', 58), ('right', 59), ('say', 60), ('friend', 61), ('suffer', 62), ('heart', 63), ('2', 64), ('caus', 65), ('hope', 66), ('cure', 67), ('cri', 68), ('stress', 69), ('could', 70), ('quot', 71), ('night', 72), ('real', 73), ('post', 74), ('live', 75), ('show', 76), ('let', 77), ('watch', 78), ('person', 79), ('better', 80), ('1', 81), ('im', 82), ('via', 83), ('exhibit', 84), ('mentalhealth', 85), ('still', 86), ('also', 87), ('mom', 88), ('kid', 89), ('start', 90), ('best', 91), ('thought', 92), ('sleep', 93), ('keep', 94), ('sad', 95), ('fuck', 96), ('emot', 97), ('ill', 98), ('bad', 99), ('3', 100), ('may', 101), ('week', 102), ('last', 103), ('lot', 104), ('give', 105), ('eat', 106), ('struggl', 107), ('everi', 108), ('someth', 109), ('world', 110), ('pleas', 111), ('sure', 112), ('smile', 113), ('develop', 114), ('art', 115), ('mani', 116), ('exercis', 117), ('follow', 118), ('hit', 119), ('alway', 120), ('hard', 121), ('studi', 122), ('everyon', 123), ('read', 124), ('beauti', 125), ('stop', 126), ('visit', 127), ('gonna', 128), ('shit', 129), ('enjoy', 130), ('made', 131), ('ever', 132), ('call', 133), ('4', 134), ('home', 135), ('self', 136), ('fight', 137), ('amaz', 138), ('find', 139), ('risk', 140), ('deal', 141), ('first', 142), ('support', 143), ('nap', 144), ('hand', 145), ('nice', 146), ('tweet', 147), ('fun', 148), ('next', 149), ('actual', 150), ('wish', 151), ('morn', 152), ('learn', 153), ('wait', 154), ('oh', 155), ('medic', 156), ('long', 157), ('haha', 158), ('wonder', 159), ('school', 160), ('care', 161), ('god', 162), ('check', 163), ('disord', 164), ('bed', 165), ('tateliverpool', 166), ('noth', 167), ('happen', 168), ('open', 169), ('tell', 170), ('serious', 171), ('mind', 172), ('chang', 173), ('share', 174), ('away', 175), ('loud', 176), ('mother', 177), ('reason', 178), ('tomorrow', 179), ('hate', 180), ('heavi', 181), ('red', 182), ('excit', 183), ('joke', 184), ('man', 185), ('around', 186), ('book', 187), ('10', 188), ('bipolar', 189), ('sinc', 190), ('eye', 191), ('uk', 192), ('music', 193), ('sign', 194), ('yes', 195), ('children', 196), ('mean', 197), ('end', 198), ('done', 199), ('problem', 200), ('cool', 201), ('mayb', 202), ('issu', 203), ('guy', 204), ('place', 205), ('forward', 206), ('therapi', 207), ('big', 208), ('though', 209), ('ur', 210), ('differ', 211), ('everyth', 212), ('anoth', 213), ('head', 214), ('symptom', 215), ('ok', 216), ('experi', 217), ('two', 218), ('said', 219), ('miss', 220), ('tate', 221), ('research', 222), ('hi', 223), ('hey', 224), ('littl', 225), ('relat', 226), ('run', 227), ('addict', 228), ('light', 229), ('anyth', 230), ('final', 231), ('intellectu', 232), ('anyon', 233), ('death', 234), ('tonight', 235), ('hour', 236), ('soon', 237), ('5', 238), ('listen', 239), ('tie', 240), ('stay', 241), ('turn', 242), ('kettlesyard', 243), ('put', 244), ('n', 245), ('job', 246), ('skin', 247), ('understand', 248), ('sever', 249), ('month', 250), ('joy', 251), ('play', 252), ('high', 253), ('old', 254), ('museum', 255), ('free', 256), ('brain', 257), ('20', 258), ('tear', 259), ('pain', 260), ('bitch', 261), ('attack', 262), ('went', 263), ('point', 264), ('drug', 265), ('etc', 266), ('ask', 267), ('posit', 268), ('food', 269), ('alreadi', 270), ('youtub', 271), ('pretti', 272), ('social', 273), ('wow', 274), ('lose', 275), ('write', 276), ('ptsd', 277), ('true', 278), ('london', 279), ('war', 280), ('part', 281), ('earli', 282), ('join', 283), ('tone', 284), ('cut', 285), ('teen', 286), ('treat', 287), ('hear', 288), ('physic', 289), ('without', 290), ('awesom', 291), ('famili', 292), ('sorri', 293), ('song', 294), ('els', 295), ('video', 296), ('dont', 297), ('yeah', 298), ('stuff', 299), ('summer', 300), ('w', 301), ('lead', 302), ('worst', 303), ('game', 304), ('took', 305), ('c', 306), ('link', 307), ('matter', 308), ('girl', 309), ('honest', 310), ('histori', 311), ('weekend', 312), ('wanna', 313), ('suck', 314), ('crippl', 315), ('pollock', 316), ('rt', 317), ('told', 318), ('might', 319), ('battl', 320), ('thewhitechapel', 321), ('ass', 322), ('break', 323), ('almost', 324), ('fitzmuseum', 325), ('age', 326), ('leav', 327), ('cannabi', 328), ('chronic', 329), ('fact', 330), ('found', 331), ('activ', 332), ('parent', 333), ('readi', 334), ('saw', 335), ('blog', 336), ('enough', 337), ('guess', 338), ('seem', 339), ('question', 340), ('deep', 341), ('liter', 342), ('hous', 343), ('eas', 344), ('mood', 345), ('other', 346), ('bring', 347), ('ya', 348), ('close', 349), ('sometim', 350), ('least', 351), ('state', 352), ('bodi', 353), ('room', 354), ('glad', 355), ('win', 356), ('left', 357), ('late', 358), ('dark', 359), ('worth', 360), ('effect', 361), ('daili', 362), ('okay', 363), ('patient', 364), ('name', 365), ('fantast', 366), ('stive', 367), ('lost', 368), ('manag', 369), ('major', 370), ('stori', 371), ('must', 372), ('came', 373), ('far', 374), ('bom', 375), ('bit', 376), ('save', 377), ('definit', 378), ('v', 379), ('rais', 380), ('harm', 381), ('past', 382), ('birthday', 383), ('sound', 384), ('recommend', 385), ('heal', 386), ('gone', 387), ('includ', 388), ('low', 389), ('news', 390), ('event', 391), ('avoid', 392), ('interest', 393), ('speak', 394), ('treatment', 395), ('sun', 396), ('bc', 397), ('paint', 398), ('inspir', 399), ('galleri', 400), ('easi', 401), ('kind', 402), ('plan', 403), ('affect', 404), ('yet', 405), ('rememb', 406), ('alon', 407), ('believ', 408), ('trauma', 409), ('quit', 410), ('favourit', 411), ('definingbeauti', 412), ('regular', 413), ('tire', 414), ('abl', 415), ('30', 416), ('busi', 417), ('fall', 418), ('especi', 419), ('psycholog', 420), ('cambridg', 421), ('worri', 422), ('puff', 423), ('lone', 424), ('deserv', 425), ('fix', 426), ('word', 427), ('clinic', 428), ('kill', 429), ('class', 430), ('later', 431), ('6', 432), ('attent', 433), ('die', 434), ('x', 435), ('beat', 436), ('colleg', 437), ('weather', 438), ('forget', 439), ('whole', 440), ('hello', 441), ('relationship', 442), ('excel', 443), ('babi', 444), ('probabl', 445), ('anger', 446), ('increas', 447), ('lt', 448), ('piec', 449), ('level', 450), ('overcom', 451), ('condit', 452), ('panic', 453), ('12', 454), ('diagnos', 455), ('huge', 456), ('student', 457), ('idea', 458), ('rain', 459), ('blame', 460), ('clear', 461), ('doctor', 462), ('lower', 463), ('wrong', 464), ('funni', 465), ('hurt', 466), ('decid', 467), ('nobodi', 468), ('ago', 469), ('meet', 470), ('total', 471), ('set', 472), ('answer', 473), ('recoveri', 474), ('side', 475), ('sick', 476), ('suggest', 477), ('top', 478), ('cold', 479), ('star', 480), ('human', 481), ('ppl', 482), ('movi', 483), ('wors', 484), ('improv', 485), ('yesterday', 486), ('second', 487), ('shape', 488), ('import', 489), ('kick', 490), ('weight', 491), ('pass', 492), ('truli', 493), ('pray', 494), ('train', 495), ('nation', 496), ('jesus', 497), ('medium', 498), ('ancient', 499), ('money', 500), ('glass', 501), ('rest', 502), ('trigger', 503), ('luck', 504), ('till', 505), ('sunday', 506), ('dog', 507), ('drive', 508), ('fake', 509), ('spend', 510), ('anyway', 511), ('fascin', 512), ('rn', 513), ('pictur', 514), ('minut', 515), ('prevent', 516), ('med', 517), ('women', 518), ('media', 519), ('drink', 520), ('weed', 521), ('cours', 522), ('chanc', 523), ('rammuseum', 524), ('surviv', 525), ('stigma', 526), ('abus', 527), ('finish', 528), ('artist', 529), ('season', 530), ('cant', 531), ('welcom', 532), ('normal', 533), ('awar', 534), ('car', 535), ('half', 536), ('practic', 537), ('discuss', 538), ('coffe', 539), ('yay', 540), ('million', 541), ('felt', 542), ('hair', 543), ('full', 544), ('r', 545), ('16', 546), ('grow', 547), ('less', 548), ('wake', 549), ('sit', 550), ('seen', 551), ('friday', 552), ('ad', 553), ('project', 554), ('sudden', 555), ('gave', 556), ('american', 557), ('togeth', 558), ('possibl', 559), ('fan', 560), ('cancer', 561), ('juli', 562), ('whatev', 563), ('park', 564), ('sex', 565), ('st', 566), ('mouth', 567), ('buy', 568), ('control', 569), ('b', 570), ('that', 571), ('imagin', 572), ('cope', 573), ('podcast', 574), ('weari', 575), ('lmao', 576), ('often', 577), ('realiz', 578), ('mad', 579), ('present', 580), ('gt', 581), ('power', 582), ('super', 583), ('remind', 584), ('fear', 585), ('step', 586), ('complet', 587), ('7', 588), ('incred', 589), ('difficult', 590), ('shop', 591), ('parti', 592), ('monday', 593), ('group', 594), ('creativ', 595), ('breath', 596), ('afternoon', 597), ('pay', 598), ('term', 599), ('insid', 600), ('instead', 601), ('moment', 602), ('constant', 603), ('men', 604), ('continu', 605), ('episod', 606), ('cat', 607), ('singl', 608), ('onlin', 609), ('hot', 610), ('nan', 611), ('account', 612), ('8', 613), ('function', 614), ('strong', 615), ('jackson', 616), ('exact', 617), ('crazi', 618), ('lack', 619), ('mine', 620), ('admit', 621), ('young', 622), ('expert', 623), ('situat', 624), ('brilliant', 625), ('diagnosi', 626), ('0', 627), ('rock', 628), ('bout', 629), ('move', 630), ('wrote', 631), ('promis', 632), ('phone', 633), ('type', 634), ('challeng', 635), ('woman', 636), ('smoke', 637), ('creat', 638), ('perfect', 639), ('stupid', 640), ('concert', 641), ('alcohol', 642), ('mentalhealthawar', 643), ('laugh', 644), ('add', 645), ('child', 646), ('app', 647), ('due', 648), ('loneli', 649), ('thelmahulbert', 650), ('walk', 651), ('draw', 652), ('lunch', 653), ('fine', 654), ('absolut', 655), ('adhd', 656), ('sexual', 657), ('choic', 658), ('healthi', 659), ('purpos', 660), ('cultur', 661), ('everyday', 662), ('lift', 663), ('negat', 664), ('inform', 665), ('memori', 666), ('outsid', 667), ('black', 668), ('sweat', 669), ('connect', 670), ('content', 671), ('overwhelm', 672), ('associ', 673), ('fabul', 674), ('email', 675), ('univers', 676), ('explain', 677), ('album', 678), ('chat', 679), ('thx', 680), ('send', 681), ('short', 682), ('case', 683), ('goodnight', 684), ('taken', 685), ('woke', 686), ('focus', 687), ('relax', 688), ('notic', 689), ('congratul', 690), ('peac', 691), ('anymor', 692), ('terribl', 693), ('middl', 694), ('facebook', 695), ('updat', 696), ('diseas', 697), ('result', 698), ('list', 699), ('tip', 700), ('medicin', 701), ('ruin', 702), ('push', 703), ('postpartum', 704), ('collect', 705), ('spot', 706), ('omg', 707), ('trip', 708), ('white', 709), ('older', 710), ('behind', 711), ('trump', 712), ('damn', 713), ('decreas', 714), ('team', 715), ('teenag', 716), ('internet', 717), ('rate', 718), ('meme', 719), ('attempt', 720), ('mentalil', 721), ('tho', 722), ('film', 723), ('breastfeed', 724), ('choicedepress', 725), ('isol', 726), ('becom', 727), ('plus', 728), ('25', 729), ('disabl', 730), ('act', 731), ('number', 732), ('econom', 733), ('dad', 734), ('date', 735), ('view', 736), ('educ', 737), ('tour', 738), ('pill', 739), ('medit', 740), ('repli', 741), ('main', 742), ('2018', 743), ('societi', 744), ('higher', 745), ('marri', 746), ('interview', 747), ('therapist', 748), ('evid', 749), ('suppos', 750), ('bank', 751), ('except', 752), ('proud', 753), ('individu', 754), ('fit', 755), ('adolesc', 756), ('build', 757), ('countri', 758), ('session', 759), ('accept', 760), ('test', 761), ('fill', 762), ('hug', 763), ('consid', 764), ('wear', 765), ('track', 766), ('compani', 767), ('dream', 768), ('potenti', 769), ('defin', 770), ('hang', 771), ('100', 772), ('rise', 773), ('compar', 774), ('hold', 775), ('favorit', 776), ('whether', 777), ('bless', 778), ('gain', 779), ('process', 780), ('rare', 781), ('hell', 782), ('space', 783), ('heard', 784), ('upsid', 785), ('photo', 786), ('obsess', 787), ('sing', 788), ('abt', 789), ('begin', 790), ('ive', 791), ('entir', 792), ('extrem', 793), ('twice', 794), ('offer', 795), ('pull', 796), ('sens', 797), ('boy', 798), ('skype', 799), ('benefit', 800), ('23', 801), ('profession', 802), ('either', 803), ('tv', 804), ('cuz', 805), ('camunivmuseum', 806), ('doubl', 807), ('impact', 808), ('america', 809), ('cannot', 810), ('reduc', 811), ('disappoint', 812), ('cute', 813), ('fire', 814), ('j', 815), ('third', 816), ('adult', 817), ('stand', 818), ('insomnia', 819), ('frustrat', 820), ('hahaha', 821), ('mentalhealthmatt', 822), ('product', 823), ('sort', 824), ('energi', 825), ('forc', 826), ('pensiv', 827), ('protect', 828), ('mum', 829), ('minor', 830), ('slight', 831), ('spent', 832), ('idk', 833), ('troubl', 834), ('rather', 835), ('citi', 836), ('stun', 837), ('convers', 838), ('yoga', 839), ('awak', 840), ('record', 841), ('postnat', 842), ('anim', 843), ('contact', 844), ('regret', 845), ('11', 846), ('debt', 847), ('folk', 848), ('bore', 849), ('dinner', 850), ('messag', 851), ('articl', 852), ('topic', 853), ('bpd', 854), ('british', 855), ('porn', 856), ('combat', 857), ('dr', 858), ('toward', 859), ('saturday', 860), ('son', 861), ('ignor', 862), ('smell', 863), ('50', 864), ('cost', 865), ('charact', 866), ('certain', 867), ('usual', 868), ('public', 869), ('e', 870), ('holiday', 871), ('carri', 872), ('june', 873), ('grief', 874), ('small', 875), ('agre', 876), ('gotta', 877), ('aliv', 878), ('fulli', 879), ('sweet', 880), ('obama', 881), ('motiv', 882), ('sparkl', 883), ('shower', 884), ('24', 885), ('along', 886), ('pack', 887), ('soul', 888), ('schedul', 889), ('recent', 890), ('lucki', 891), ('advic', 892), ('current', 893), ('xx', 894), ('blend', 895), ('known', 896), ('avail', 897), ('legal', 898), ('forgot', 899), ('model', 900), ('knew', 901), ('lazi', 902), ('cheer', 903), ('poor', 904), ('communiti', 905), ('three', 906), ('despit', 907), ('cross', 908), ('cloud', 909), ('blue', 910), ('p', 911), ('pick', 912), ('area', 913), ('greek', 914), ('met', 915), ('gender', 916), ('celebr', 917), ('1st', 918), ('goal', 919), ('graduat', 920), ('wave', 921), ('pressur', 922), ('resourc', 923), ('anti', 924), ('allow', 925), ('massiv', 926), ('provid', 927), ('rapper', 928), ('slip', 929), ('commit', 930), ('roll', 931), ('cover', 932), ('touch', 933), ('identifi', 934), ('doc', 935), ('pls', 936), ('realis', 937), ('mania', 938), ('opinion', 939), ('enter', 940), ('wall', 941), ('counsel', 942), ('escap', 943), ('none', 944), ('weak', 945), ('encourag', 946), ('goe', 947), ('spiral', 948), ('cycl', 949), ('destroy', 950), ('respons', 951), ('demon', 952), ('non', 953), ('analysi', 954), ('2015', 955), ('ha', 956), ('note', 957), ('prayer', 958), ('near', 959), ('straight', 960), ('la', 961), ('ticket', 962), ('mix', 963), ('finger', 964), ('behavior', 965), ('experienc', 966), ('diet', 967), ('ah', 968), ('esteem', 969), ('site', 970), ('comment', 971), ('diari', 972), ('everybodi', 973), ('common', 974), ('promot', 975), ('millenni', 976), ('chemic', 977), ('pm', 978), ('church', 979), ('involv', 980), ('front', 981), ('800', 982), ('273', 983), ('8255', 984), ('report', 985), ('websit', 986), ('bag', 987), ('diabet', 988), ('failur', 989), ('phrase', 990), ('design', 991), ('recov', 992), ('review', 993), ('ocd', 994), ('longer', 995), ('8mummi', 996), ('daughter', 997), ('forev', 998), ('page', 999), ('cook', 1000), ('clean', 1001), ('2016', 1002), ('futur', 1003), ('display', 1004), ('action', 1005), ('base', 1006), ('member', 1007), ('king', 1008), ('youth', 1009), ('sister', 1010), ('theori', 1011), ('yall', 1012), ('trust', 1013), ('manic', 1014), ('special', 1015), ('journal', 1016), ('gay', 1017), ('natur', 1018), ('subject', 1019), ('drop', 1020), ('water', 1021), ('row', 1022), ('vaastu', 1023), ('hole', 1024), ('wtf', 1025), ('role', 1026), ('shame', 1027), ('engag', 1028), ('playlist', 1029), ('dude', 1030), ('symbol', 1031), ('strength', 1032), ('defeat', 1033), ('drunk', 1034), ('fail', 1035), ('press', 1036), ('financi', 1037), ('dress', 1038), ('bought', 1039), ('comic', 1040), ('fold', 1041), ('wit', 1042), ('imbal', 1043), ('voic', 1044), ('bye', 1045), ('polar', 1046), ('nervous', 1047), ('given', 1048), ('bowl', 1049), ('handl', 1050), ('simpli', 1051), ('meant', 1052), ('de', 1053), ('surpris', 1054), ('wed', 1055), ('prize', 1056), ('wild', 1057), ('wife', 1058), ('ride', 1059), ('figur', 1060), ('choos', 1061), ('reliev', 1062), ('kinda', 1063), ('psychologist', 1064), ('road', 1065), ('sunni', 1066), ('infin', 1067), ('prob', 1068), ('appreci', 1069), ('retweet', 1070), ('system', 1071), ('g', 1072), ('cloth', 1073), ('yrs', 1074), ('hehe', 1075), ('exam', 1076), ('text', 1077), ('bill', 1078), ('thursday', 1079), ('offic', 1080), ('market', 1081), ('dementia', 1082), ('yo', 1083), ('round', 1084), ('kany', 1085), ('period', 1086), ('empti', 1087), ('decis', 1088), ('bare', 1089), ('crap', 1090), ('reject', 1091), ('btw', 1092), ('sleepi', 1093), ('immedi', 1094), ('brush', 1095), ('mild', 1096), ('spring', 1097), ('general', 1098), ('stream', 1099), ('kiss', 1100), ('garden', 1101), ('line', 1102), ('visitor', 1103), ('key', 1104), ('organ', 1105), ('within', 1106), ('silent', 1107), ('f', 1108), ('regard', 1109), ('didnt', 1110), ('brought', 1111), ('recess', 1112), ('journey', 1113), ('success', 1114), ('travel', 1115), ('loss', 1116), ('doubt', 1117), ('www', 1118), ('tool', 1119), ('sent', 1120), ('truth', 1121), ('coupl', 1122), ('followfriday', 1123), ('deepika', 1124), ('comfort', 1125), ('skull', 1126), ('exist', 1127), ('l', 1128), ('gym', 1129), ('teacher', 1130), ('def', 1131), ('teach', 1132), ('refus', 1133), ('rough', 1134), ('truck', 1135), ('treasur', 1136), ('chill', 1137), ('thread', 1138), ('among', 1139), ('fat', 1140), ('remov', 1141), ('maacambridg', 1142), ('spread', 1143), ('warn', 1144), ('factor', 1145), ('belief', 1146), ('9', 1147), ('fam', 1148), ('mention', 1149), ('worthless', 1150), ('dear', 1151), ('there', 1152), ('judg', 1153), ('tea', 1154), ('18', 1155), ('regardless', 1156), ('buddi', 1157), ('intern', 1158), ('generat', 1159), ('curat', 1160), ('sooo', 1161), ('seek', 1162), ('lectur', 1163), ('reflect', 1164), ('et', 1165), ('order', 1166), ('strain', 1167), ('feder', 1168), ('reserv', 1169), ('h', 1170), ('somebodi', 1171), ('dead', 1172), ('turkey', 1173), ('cherri', 1174), ('blossom', 1175), ('search', 1176), ('expect', 1177), ('sa', 1178), ('insight', 1179), ('wednesdaywisdom', 1180), ('myspac', 1181), ('hotline877', 1182), ('count', 1183), ('print', 1184), ('antidepress', 1185), ('dm', 1186), ('teeth', 1187), ('childhood', 1188), ('passion', 1189), ('pop', 1190), ('frequent', 1191), ('mile', 1192), ('option', 1193), ('ship', 1194), ('warm', 1195), ('epidem', 1196), ('revers', 1197), ('indigenousaustralia', 1198), ('excus', 1199), ('husband', 1200), ('weird', 1201), ('closer', 1202), ('rule', 1203), ('beyond', 1204), ('ladi', 1205), ('hill', 1206), ('guitar', 1207), ('reach', 1208), ('greater', 1209), ('perform', 1210), ('catch', 1211), ('gorgeous', 1212), ('per', 1213), ('howev', 1214), ('technolog', 1215), ('dri', 1216), ('etsi', 1217), ('bitter', 1218), ('screen', 1219), ('greatest', 1220), ('england', 1221), ('spoke', 1222), ('ahead', 1223), ('danc', 1224), ('select', 1225), ('modern', 1226), ('psychiatri', 1227), ('schizophrenia', 1228), ('tune', 1229), ('amount', 1230), ('four', 1231), ('hide', 1232), ('safe', 1233), ('irrit', 1234), ('festiv', 1235), ('brother', 1236), ('stone', 1237), ('cos', 1238), ('effort', 1239), ('broke', 1240), ('epic', 1241), ('atlanta', 1242), ('faith', 1243), ('five', 1244), ('tim', 1245), ('insecur', 1246), ('thankyou', 1247), ('tale', 1248), ('mark', 1249), ('secret', 1250), ('revis', 1251), ('21', 1252), ('store', 1253), ('program', 1254), ('uni', 1255), ('sat', 1256), ('shot', 1257), ('liverpool', 1258), ('gut', 1259), ('address', 1260), ('bibl', 1261), ('imag', 1262), ('nimhgov', 1263), ('realiti', 1264), ('marijuana', 1265), ('castlehill15', 1266), ('simpl', 1267), ('ugli', 1268), ('yep', 1269), ('napoleon', 1270), ('paper', 1271), ('servic', 1272), ('aw', 1273), ('respect', 1274), ('specif', 1275), ('armi', 1276), ('genuin', 1277), ('blind', 1278), ('express', 1279), ('bulli', 1280), ('info', 1281), ('neither', 1282), ('vs', 1283), ('divorc', 1284), ('polici', 1285), ('woo', 1286), ('victim', 1287), ('scare', 1288), ('taught', 1289), ('afford', 1290), ('villain', 1291), ('vitamin', 1292), ('seri', 1293), ('fab', 1294), ('femal', 1295), ('grad', 1296), ('slash', 1297), ('pout', 1298), ('fave', 1299), ('nurs', 1300), ('cough', 1301), ('centuri', 1302), ('lil', 1303), ('wednesday', 1304), ('card', 1305), ('innoc', 1306), ('programm', 1307), ('intervent', 1308), ('defend', 1309), ('ff', 1310), ('plymouthmuseum', 1311), ('dig', 1312), ('lesson', 1313), ('difficulti', 1314), ('esp', 1315), ('south', 1316), ('string', 1317), ('random', 1318), ('ex', 1319), ('13', 1320), ('mistak', 1321), ('bigger', 1322), ('sexi', 1323), ('pet', 1324), ('harder', 1325), ('distanc', 1326), ('unless', 1327), ('plz', 1328), ('victori', 1329), ('apolog', 1330), ('index', 1331), ('fast', 1332), ('obtain', 1333), ('sleepless', 1334), ('hock', 1335), ('mr', 1336), ('releas', 1337), ('alot', 1338), ('attract', 1339), ('stage', 1340), ('most', 1341), ('lifetim', 1342), ('price', 1343), ('ate', 1344), ('volunt', 1345), ('hah', 1346), ('delet', 1347), ('profit', 1348), ('em', 1349), ('sculptur', 1350), ('defeatingdepress', 1351), ('tech', 1352), ('impress', 1353), ('pig', 1354), ('understood', 1355), ('tight', 1356), ('leed', 1357), ('vulner', 1358), ('puzzl', 1359), ('soo', 1360), ('speech', 1361), ('co', 1362), ('method', 1363), ('assum', 1364), ('becam', 1365), ('knetz', 1366), ('nighttim', 1367), ('roman', 1368), ('kept', 1369), ('dose', 1370), ('tough', 1371), ('clue', 1372), ('club', 1373), ('mini', 1374), ('crash', 1375), ('fool', 1376), ('steve', 1377), ('colour', 1378), ('raini', 1379), ('anxious', 1380), ('nite', 1381), ('bathroom', 1382), ('nimhchat', 1383), ('breakfast', 1384), ('stuck', 1385), ('flower', 1386), ('timelin', 1387), ('creep', 1388), ('asleep', 1389), ('spiritu', 1390), ('requir', 1391), ('stick', 1392), ('ugh', 1393), ('wise', 1394), ('quick', 1395), ('fli', 1396), ('rude', 1397), ('grade', 1398), ('deeper', 1399), ('pizza', 1400), ('block', 1401), ('produc', 1402), ('pnd', 1403), ('alright', 1404), ('basic', 1405), ('written', 1406), ('asshol', 1407), ('donat', 1408), ('survivor', 1409), ('air', 1410), ('couldnt', 1411), ('hay', 1412), ('2017', 1413), ('sm', 1414), ('swing', 1415), ('fav', 1416), ('australia', 1417), ('label', 1418), ('ketamin', 1419), ('tuesday', 1420), ('2f', 1421), ('highlight', 1422), ('watercolour', 1423), ('behav', 1424), ('concern', 1425), ('reaction', 1426), ('band', 1427), ('green', 1428), ('ist', 1429), ('saddepress', 1430), ('magnific', 1431), ('honey', 1432), ('hmm', 1433), ('ran', 1434), ('sympathi', 1435), ('otherwis', 1436), ('signific', 1437), ('employe', 1438), ('multipl', 1439), ('ilovemuseum', 1440), ('drama', 1441), ('bike', 1442), ('invit', 1443), ('bush', 1444), ('mountain', 1445), ('thrill', 1446), ('delight', 1447), ('acn', 1448), ('congrat', 1449), ('habit', 1450), ('mh', 1451), ('injuri', 1452), ('stronger', 1453), ('direct', 1454), ('yea', 1455), ('worldwid', 1456), ('debat', 1457), ('color', 1458), ('bounc', 1459), ('marriag', 1460), ('99', 1461), ('soundscap', 1462), ('perspect', 1463), ('door', 1464), ('edg', 1465), ('disappear', 1466), ('yr', 1467), ('aww', 1468), ('jame', 1469), ('homework', 1470), ('22', 1471), ('chair', 1472), ('salt', 1473), ('killer', 1474), ('mid', 1475), ('violent', 1476), ('locat', 1477), ('fb', 1478), ('baroqu', 1479), ('bm', 1480), ('ag', 1481), ('artfund', 1482), ('seat', 1483), ('hospit', 1484), ('leg', 1485), ('mode', 1486), ('wine', 1487), ('clock', 1488), ('ligon', 1489), ('226', 1490), ('3111', 1491), ('228', 1492), ('2962', 1493), ('455', 1494), ('0628', 1495), ('640', 1496), ('5174', 1497), ('everywher', 1498), ('obvious', 1499), ('bus', 1500), ('host', 1501), ('calm', 1502), ('apart', 1503), ('bottl', 1504), ('cole', 1505), ('waddesdon', 1506), ('farmer', 1507), ('recogn', 1508), ('meal', 1509), ('tast', 1510), ('bright', 1511), ('curious', 1512), ('supplement', 1513), ('marvel', 1514), ('frame', 1515), ('arriv', 1516), ('iciabath', 1517), ('appoint', 1518), ('junk', 1519), ('trend', 1520), ('sneez', 1521), ('disgust', 1522), ('instagram', 1523), ('threaten', 1524), ('contribut', 1525), ('law', 1526), ('deliv', 1527), ('biggest', 1528), ('lord', 1529), ('amen', 1530), ('object', 1531), ('solut', 1532), ('3rd', 1533), ('yum', 1534), ('breakdown', 1535), ('guardian', 1536), ('helenhillyard', 1537), ('celeb', 1538), ('tax', 1539), ('occur', 1540), ('leedsartgalleri', 1541), ('earlier', 1542), ('equal', 1543), ('workout', 1544), ('fund', 1545), ('nimh', 1546), ('legit', 1547), ('ward', 1548), ('sunshin', 1549), ('proper', 1550), ('qualiti', 1551), ('googl', 1552), ('outta', 1553), ('radio', 1554), ('worker', 1555), ('stroke', 1556), ('refer', 1557), ('miser', 1558), ('slide', 1559), ('progress', 1560), ('floor', 1561), ('soup', 1562), ('aggress', 1563), ('concept', 1564), ('offici', 1565), ('particular', 1566), ('inde', 1567), ('corner', 1568), ('form', 1569), ('homi', 1570), ('growth', 1571), ('solid', 1572), ('copi', 1573), ('tend', 1574), ('up', 1575), ('era', 1576), ('blood', 1577), ('phase', 1578), ('300', 1579), ('60', 1580), ('egypt', 1581), ('bi', 1582), ('convinc', 1583), ('chariti', 1584), ('scienc', 1585), ('burn', 1586), ('swear', 1587), ('tag', 1588), ('prison', 1589), ('1930s', 1590), ('prescrib', 1591), ('dis', 1592), ('lay', 1593), ('elect', 1594), ('valid', 1595), ('brave', 1596), ('sandwich', 1597), ('aye', 1598), ('your', 1599), ('afraid', 1600), ('turner', 1601), ('shine', 1602), ('bottom', 1603), ('distract', 1604), ('devil', 1605), ('2nd', 1606), ('workshop', 1607), ('shed', 1608), ('airplan', 1609), ('vintag', 1610), ('allevi', 1611), ('odd', 1612), ('quiet', 1613), ('smith', 1614), ('innov', 1615), ('girlfriend', 1616), ('slap', 1617), ('meta', 1618), ('led', 1619), ('bay', 1620), ('bubbl', 1621), ('bath', 1622), ('window', 1623), ('david', 1624), ('actor', 1625), ('lie', 1626), ('rap', 1627), ('00', 1628), ('flat', 1629), ('valdoxan', 1630), ('box', 1631), ('punch', 1632), ('purpl', 1633), ('revolv', 1634), ('peep', 1635), ('disney', 1636), ('upset', 1637), ('bleed', 1638), ('mindset', 1639), ('balanc', 1640), ('menopaus', 1641), ('transit', 1642), ('quarter', 1643), ('african', 1644), ('lisa', 1645), ('orang', 1646), ('father', 1647), ('simon', 1648), ('dumb', 1649), ('describ', 1650), ('duck', 1651), ('phd', 1652), ('letsbefriend', 1653), ('squar', 1654), ('shake', 1655), ('sigh', 1656), ('oppress', 1657), ('lake', 1658), ('tension', 1659), ('limit', 1660), ('04', 1661), ('admir', 1662), ('slow', 1663), ('wont', 1664), ('diploma', 1665), ('hunt', 1666), ('cafe', 1667), ('bet', 1668), ('lifestyl', 1669), ('letter', 1670), ('yummi', 1671), ('fell', 1672), ('nutrit', 1673), ('slowli', 1674), ('shut', 1675), ('filipino', 1676), ('annoy', 1677), ('surgeri', 1678), ('affirm', 1679), ('chase', 1680), ('concentr', 1681), ('sin', 1682), ('street', 1683), ('credit', 1684), ('receiv', 1685), ('vision', 1686), ('camp', 1687), ('autism', 1688), ('intens', 1689), ('singer', 1690), ('claim', 1691), ('hopeless', 1692), ('intrigu', 1693), ('moon', 1694), ('how', 1695), ('stock', 1696), ('govt', 1697), ('sir', 1698), ('strike', 1699), ('achiev', 1700), ('dp', 1701), ('overal', 1702), ('settl', 1703), ('padukon', 1704), ('toast', 1705), ('til', 1706), ('exhaust', 1707), ('isnt', 1708), ('discoveri', 1709), ('hungri', 1710), ('manifest', 1711), ('channel', 1712), ('leaf', 1713), ('background', 1714), ('chees', 1715), ('foxnew', 1716), ('selfesteem', 1717), ('familyconflict', 1718), ('followus', 1719), ('decatur', 1720), ('georgia', 1721), ('earth', 1722), ('miley', 1723), ('chris', 1724), ('although', 1725), ('toxic', 1726), ('xoxo', 1727), ('accomplish', 1728), ('2014', 1729), ('architectur', 1730), ('ancientl', 1731), ('demand', 1732), ('replay', 1733), ('nyc', 1734), ('download', 1735), ('pre', 1736), ('republican', 1737), ('tryna', 1738), ('techniqu', 1739), ('silli', 1740), ('keeptalkingmh', 1741), ('amjpsychiatri', 1742), ('pa', 1743), ('sport', 1744), ('polit', 1745), ('hotlin', 1746), ('impair', 1747), ('photographi', 1748), ('publish', 1749), ('giant', 1750), ('pot', 1751), ('richard', 1752), ('global', 1753), ('easier', 1754), ('drag', 1755), ('chose', 1756), ('michael', 1757), ('15', 1758), ('bts', 1759), ('portrait', 1760), ('aim', 1761), ('africa', 1762), ('percent', 1763), ('surround', 1764), ('hidden', 1765), ('shoutout', 1766), ('q', 1767), ('contempl', 1768), ('clap', 1769), ('tms', 1770), ('skill', 1771), ('capit', 1772), ('dramat', 1773), ('woot', 1774), ('inflamm', 1775), ('relief', 1776), ('accord', 1777), ('coach', 1778), ('fdr', 1779), ('rainbow', 1780), ('friendship', 1781), ('gsc', 1782), ('wast', 1783), ('shitti', 1784), ('sky', 1785), ('stranger', 1786), ('partner', 1787), ('ben', 1788), ('banish', 1789), ('propaganda', 1790), ('rid', 1791), ('rwbi', 1792), ('somehow', 1793), ('fabulousfinds1', 1794), ('hepworth', 1795), ('handout', 1796), ('perhap', 1797), ('jacksonpollock', 1798), ('vine', 1799), ('insur', 1800), ('gun', 1801), ('ban', 1802), ('twit', 1803), ('lame', 1804), ('assign', 1805), ('shoe', 1806), ('rape', 1807), ('blow', 1808), ('trek', 1809), ('worm', 1810), ('000', 1811), ('doesnt', 1812), ('vax', 1813), ('boat', 1814), ('languag', 1815), ('kim', 1816), ('wheel', 1817), ('serv', 1818), ('upon', 1819), ('steal', 1820), ('skip', 1821), ('200', 1822), ('consist', 1823), ('vegan', 1824), ('realdonaldtrump', 1825), ('barbara', 1826), ('nick', 1827), ('resid', 1828), ('europ', 1829), ('spain', 1830), ('beer', 1831), ('solo', 1832), ('upload', 1833), ('smh', 1834), ('fever', 1835), ('glorious', 1836), ('footbal', 1837), ('dancer', 1838), ('muscl', 1839), ('bikini', 1840), ('prove', 1841), ('polic', 1842), ('elev', 1843), ('similar', 1844), ('cognit', 1845), ('heat', 1846), ('capabl', 1847), ('mattress', 1848), ('crush', 1849), ('uncl', 1850), ('mar', 1851), ('draft', 1852), ('click', 1853), ('master', 1854), ('chile', 1855), ('materi', 1856), ('fellow', 1857), ('um', 1858), ('nude', 1859), ('cast', 1860), ('oil', 1861), ('offend', 1862), ('shift', 1863), ('castl', 1864), ('bang', 1865), ('speaker', 1866), ('field', 1867), ('eve', 1868), ('competit', 1869), ('scandal', 1870), ('graviti', 1871), ('todd', 1872), ('flight', 1873), ('privileg', 1874), ('highest', 1875), ('log', 1876), ('anchor', 1877), ('pink', 1878), ('sweeti', 1879), ('institut', 1880), ('explor', 1881), ('court', 1882), ('chip', 1883), ('grasp', 1884), ('math', 1885), ('varieti', 1886), ('dick', 1887), ('born', 1888), ('interact', 1889), ('waterloo200', 1890), ('soooo', 1891), ('onion', 1892), ('cancel', 1893), ('sink', 1894), ('thru', 1895), ('selfi', 1896), ('prospect', 1897), ('shadow', 1898), ('danger', 1899), ('un', 1900), ('consequ', 1901), ('bargain', 1902), ('proport', 1903), ('hmmm', 1904), ('havent', 1905), ('lewi', 1906), ('rout', 1907), ('rembrandt', 1908), ('17', 1909), ('mummi', 1910), ('bother', 1911), ('tommi', 1912), ('gem', 1913), ('andrew', 1914), ('yer', 1915), ('abil', 1916), ('trishabshetti', 1917), ('sooner', 1918), ('charg', 1919), ('toni', 1920), ('artefact', 1921), ('sonic', 1922), ('trailer', 1923), ('norway', 1924), ('bateman', 1925), ('kanyewest', 1926), ('atm', 1927), ('duti', 1928), ('philosoph', 1929), ('hint', 1930), ('race', 1931), ('tf', 1932), ('delici', 1933), ('wood', 1934), ('pump', 1935), ('wardrob', 1936), ('rich', 1937), ('shirt', 1938), ('jump', 1939), ('instant', 1940), ('tori', 1941), ('nowher', 1942), ('local', 1943), ('enthusiasm', 1944), ('proof', 1945), ('idol', 1946), ('luv', 1947), ('pr', 1948), ('outlet', 1949), ('featur', 1950), ('monster', 1951), ('homeless', 1952), ('serotonin', 1953), ('career', 1954), ('90', 1955), ('democrat', 1956), ('spirit', 1957), ('west', 1958), ('argument', 1959), ('shrug', 1960), ('ra', 1961), ('confirm', 1962), ('critic', 1963), ('spam', 1964), ('shown', 1965), ('fought', 1966), ('sore', 1967), ('weep', 1968), ('unemploy', 1969), ('discov', 1970), ('knock', 1971), ('trash', 1972), ('aka', 1973), ('presenc', 1974), ('pregnanc', 1975), ('popul', 1976), ('ppd', 1977), ('superb', 1978), ('fuel', 1979), ('electr', 1980), ('technic', 1981), ('forgiv', 1982), ('4th', 1983), ('easili', 1984), ('phil', 1985), ('hella', 1986), ('caregiv', 1987), ('initi', 1988), ('billion', 1989), ('paranoid', 1990), ('particip', 1991), ('unexpect', 1992), ('ebay', 1993), ('thoma', 1994), ('decad', 1995), ('goin', 1996), ('yell', 1997), ('dosag', 1998), ('min', 1999), ('profil', 2000), ('zicutak', 2001), ('plenti', 2002), ('na', 2003), ('af', 2004), ('weapon', 2005), ('hotline844', 2006), ('hotline888', 2007), ('hotlineshar', 2008), ('2day', 2009), ('prioriti', 2010), ('hoo', 2011), ('forgotten', 2012), ('nd', 2013), ('incid', 2014), ('gold', 2015), ('mate', 2016), ('toler', 2017), ('web', 2018), ('indigen', 2019), ('switch', 2020), ('bear', 2021), ('xxx', 2022), ('nose', 2023), ('ground', 2024), ('therefor', 2025), ('airport', 2026), ('ed', 2027), ('kitten', 2028), ('pb', 2029), ('comput', 2030), ('biolog', 2031), ('accid', 2032), ('partum', 2033), ('glow', 2034), ('temper', 2035), ('saint', 2036), ('dedic', 2037), ('guest', 2038), ('broken', 2039), ('endthestigma', 2040), ('gosh', 2041), ('wordpress', 2042), ('wellnesswednesday', 2043), ('william', 2044), ('peter', 2045), ('pride', 2046), ('taboo', 2047), ('smirk', 2048), ('indi', 2049), ('ol', 2050), ('45', 2051), ('nasal', 2052), ('spray', 2053), ('lad', 2054), ('pair', 2055), ('everytim', 2056), ('damag', 2057), ('itali', 2058), ('economi', 2059), ('queen', 2060), ('forum', 2061), ('author', 2062), ('snap', 2063), ('extra', 2064), ('enlighten', 2065), ('ye', 2066), ('persev', 2067), ('bunch', 2068), ('root', 2069), ('advantag', 2070), ('grant', 2071), ('snack', 2072), ('abort', 2073), ('repost', 2074), ('19th', 2075), ('gift', 2076), ('woohoo', 2077), ('fallen', 2078), ('reduct', 2079), ('frown', 2080), ('leadership', 2081), ('intensifi', 2082), ('harri', 2083), ('skincar', 2084), ('macbook', 2085), ('refresh', 2086), ('centr', 2087), ('overlook', 2088), ('shout', 2089), ('overland', 2090), ('award', 2091), ('jcolenc', 2092), ('adrian', 2093), ('irishm', 2094), ('t1', 2095), ('gp', 2096), ('asid', 2097), ('ie', 2098), ('athlet', 2099), ('octob', 2100), ('extend', 2101), ('enchant', 2102), ('sarah', 2103), ('island', 2104), ('stem', 2105), ('julia', 2106), ('lyme', 2107), ('board', 2108), ('heartbreak', 2109), ('detect', 2110), ('aunt', 2111), ('startup', 2112), ('transpar', 2113), ('misconcept', 2114), ('marvin', 2115), ('ako', 2116), ('ng', 2117), ('vent', 2118), ('telegraphsci', 2119), ('steam', 2120), ('entitl', 2121), ('twilight', 2122), ('gala', 2123), ('dragon', 2124), ('ball', 2125), ('fare', 2126), ('paralyz', 2127), ('enemi', 2128), ('alert', 2129), ('harass', 2130), ('hatr', 2131), ('migrain', 2132), ('spellcheck', 2133), ('style', 2134), ('load', 2135), ('trial', 2136), ('incom', 2137), ('zero', 2138), ('unfortun', 2139), ('cambridgenewsuk', 2140), ('kudo', 2141), ('novel', 2142), ('valu', 2143), ('inequ', 2144), ('hallucin', 2145), ('dish', 2146), ('ethic', 2147), ('whisper', 2148), ('rose', 2149), ('marathon', 2150), ('engin', 2151), ('grain', 2152), ('evolv', 2153), ('simonevolv', 2154), ('english', 2155), ('misogynist', 2156), ('deterior', 2157), ('appear', 2158), ('detail', 2159), ('chicago', 2160), ('simultan', 2161), ('wallow', 2162), ('domest', 2163), ('civilian', 2164), ('iraq', 2165), ('silenc', 2166), ('occup', 2167), ('mock', 2168), ('lesser', 2169), ('deepikapadukon', 2170), ('jst', 2171), ('throughout', 2172), ('priest', 2173), ('hrs', 2174), ('gas', 2175), ('reminisc', 2176), ('ko', 2177), ('august', 2178), ('41', 2179), ('14', 2180), ('vast', 2181), ('delus', 2182), ('dwell', 2183), ('descend', 2184), ('chao', 2185), ('depend', 2186), ('mornin', 2187), ('mail', 2188), ('burden', 2189), ('numb', 2190), ('derg', 2191), ('vol', 2192), ('temporari', 2193), ('will', 2194), ('australian', 2195), ('unwil', 2196), ('outlook', 2197), ('presid', 2198), ('thai', 2199), ('curri', 2200), ('dread', 2201), ('dubai', 2202), ('sake', 2203), ('cuddl', 2204), ('mps', 2205), ('er', 2206), ('brian', 2207), ('crimin', 2208), ('prescript', 2209), ('lmaooo', 2210), ('john', 2211), ('latest', 2212), ('bloggerstrib', 2213), ('yahweh', 2214), ('undiagnos', 2215), ('periscop', 2216), ('borderlineperson', 2217), ('classic', 2218), ('receptionist', 2219), ('opportun', 2220), ('explan', 2221), ('el', 2222), ('employ', 2223), ('neurotoxin', 2224), ('access', 2225), ('ani', 2226), ('india', 2227), ('500', 2228), ('mkt', 2229), ('terri', 2230), ('frost', 2231), ('renew', 2232), ('discourag', 2233), ('ahhhh', 2234), ('grate', 2235), ('freedom', 2236), ('nigga', 2237), ('shorti', 2238), ('kalamazoo', 2239), ('submit', 2240), ('tablet', 2241), ('awww', 2242), ('gop', 2243), ('tran', 2244), ('ideat', 2245), ('vile', 2246), ('mall', 2247), ('succumb', 2248), ('ach', 2249), ('outer', 2250), ('histor', 2251), ('sorrow', 2252), ('35', 2253), ('march', 2254), ('cheat', 2255), ('misunderstood', 2256), ('vacat', 2257), ('cupcak', 2258), ('deficit', 2259), ('terrorist', 2260), ('georg', 2261), ('previous', 2262), ('asthma', 2263), ('allergi', 2264), ('injustic', 2265), ('eventu', 2266), ('uncertainti', 2267), ('inner', 2268), ('scream', 2269), ('craft', 2270), ('iphon', 2271), ('telegramsam100', 2272), ('freakin', 2273), ('chocol', 2274), ('ego', 2275), ('knee', 2276), ('adam', 2277), ('size', 2278), ('troll', 2279), ('peer', 2280), ('suicideprevent', 2281), ('illustr', 2282), ('confer', 2283), ('sunset', 2284), ('psychiatr', 2285), ('deepli', 2286), ('tempt', 2287), ('murder', 2288), ('unamus', 2289), ('absorb', 2290), ('ceil', 2291), ('meow', 2292), ('talent', 2293), ('exercisework', 2294), ('kingsioppn', 2295), ('divers', 2296), ('border', 2297), ('confid', 2298), ('justifi', 2299), ('perman', 2300), ('expressionless', 2301), ('grin', 2302), ('accident', 2303), ('pleasur', 2304), ('approach', 2305), ('sieg', 2306), ('passiv', 2307), ('prompt', 2308), ('101', 2309), ('retir', 2310), ('ring', 2311), ('sunflow', 2312), ('spasm', 2313), ('declan', 2314), ('sketch', 2315), ('umassmed', 2316), ('7th', 2317), ('myth', 2318), ('physicalact', 2319), ('tini', 2320), ('archiv', 2321), ('rachel', 2322), ('prior', 2323), ('inconveni', 2324), ('return', 2325), ('fuckin', 2326), ('necessarili', 2327), ('gurl', 2328), ('mo', 2329), ('homicid', 2330), ('tendenc', 2331), ('forth', 2332), ('dave', 2333), ('joint', 2334), ('sluggish', 2335), ('halo', 2336), ('egyptian', 2337), ('cur', 2338), ('brink', 2339), ('lisalooli', 2340), ('drawntodevon', 2341), ('depressionisr', 2342), ('anna', 2343), ('cruel', 2344), ('huh', 2345), ('contain', 2346), ('psychos', 2347), ('gdp', 2348), ('psychiatrist', 2349), ('restaur', 2350), ('denial', 2351), ('ice', 2352), ('digit', 2353), ('curriculum', 2354), ('lincoln', 2355), ('tackl', 2356), ('ii', 2357), ('tix', 2358), ('frostpunk', 2359), ('netflix', 2360), ('mon', 2361), ('mmm', 2362), ('boost', 2363), ('longest', 2364), ('enid', 2365), ('guilt', 2366), ('throw', 2367), ('debilit', 2368), ('wolverin', 2369), ('wouldnt', 2370), ('hundr', 2371), ('reuter', 2372), ('theatr', 2373), ('rip', 2374), ('shoulder', 2375), ('immun', 2376), ('aha', 2377), ('screw', 2378), ('depressionm', 2379), ('novemb', 2380), ('drill', 2381), ('feedback', 2382), ('pub', 2383), ('magic', 2384), ('librari', 2385), ('crime', 2386), ('assault', 2387), ('prefer', 2388), ('semi', 2389), ('seizur', 2390), ('aish', 2391), ('tbh', 2392), ('version', 2393), ('san', 2394), ('mindcharitypleas', 2395), ('democraci', 2396), ('void', 2397), ('largest', 2398), ('bar', 2399), ('occasion', 2400), ('butter', 2401), ('hn', 2402), ('mount', 2403), ('backhand', 2404), ('collaps', 2405), ('canada', 2406), ('https', 2407), ('3a', 2408), ('2fnypost', 2409), ('2f2018', 2410), ('2f04', 2411), ('2f24', 2412), ('2fhow', 2413), ('mooseallain', 2414), ('heh', 2415), ('birth', 2416), ('babe', 2417), ('poison', 2418), ('climat', 2419), ('lit', 2420), ('justic', 2421), ('idiot', 2422), ('degre', 2423), ('cbd', 2424), ('nobel', 2425), ('independ', 2426), ('3am', 2427), ('ravag', 2428), ('nadir', 2429), ('7pm', 2430), ('jonghyun', 2431), ('fraud', 2432), ('70', 2433), ('cap', 2434), ('extraordinari', 2435), ('handmaid', 2436), ('mourn', 2437), ('famous', 2438), ('regist', 2439), ('investig', 2440), ('attend', 2441), ('brick', 2442), ('measur', 2443), ('glanc', 2444), ('nake', 2445), ('labor', 2446), ('tom', 2447), ('alien', 2448), ('alex', 2449), ('wind', 2450), ('sargent', 2451), ('proven', 2452), ('mam', 2453), ('ton', 2454), ('learnt', 2455), ('driver', 2456), ('lovin', 2457), ('rice', 2458), ('dealt', 2459), ('intuit', 2460), ('mtv', 2461), ('fl', 2462), ('ohh', 2463), ('what', 2464), ('strayquiz', 2465), ('straykid', 2466), ('incap', 2467), ('commiss', 2468), ('signal', 2469), ('climb', 2470), ('horribl', 2471), ('prom', 2472), ('region', 2473), ('custom', 2474), ('hors', 2475), ('nine', 2476), ('natali', 2477), ('psa', 2478), ('photograph', 2479), ('leon', 2480), ('twist', 2481), ('discoveryday', 2482), ('psych', 2483), ('grandpar', 2484), ('fanci', 2485), ('beta', 2486), ('french', 2487), ('conscious', 2488), ('flare', 2489), ('bird', 2490), ('woop', 2491), ('pan', 2492), ('lean', 2493), ('q1', 2494), ('ned', 2495), ('dvpit', 2496), ('respond', 2497), ('pun', 2498), ('prais', 2499), ('pathway', 2500), ('entertain', 2501), ('groceri', 2502), ('exampl', 2503), ('compil', 2504), ('crisi', 2505), ('louder', 2506), ('eh', 2507), ('allay', 2508), ('runto', 2509), ('niall', 2510), ('equilibrium', 2511), ('cornwal', 2512), ('beth', 2513), ('triumph', 2514), ('studio', 2515), ('ruben', 2516), ('redevelop', 2517), ('philippin', 2518), ('beaten', 2519), ('essay', 2520), ('fattest', 2521), ('askthegalleri', 2522), ('cocktail', 2523), ('2007', 2524), ('handwritten', 2525), ('hpv', 2526), ('task', 2527), ('sway', 2528), ('goodmorn', 2529), ('sora', 2530), ('onto', 2531), ('jk', 2532), ('arrow', 2533), ('guidelin', 2534), ('grand', 2535), ('subreddit', 2536), ('indic', 2537), ('bisexu', 2538), ('opendemocraci', 2539), ('dokey', 2540), ('sheepi', 2541), ('sudaneselyr', 2542), ('amelia', 2543), ('kardashian', 2544), ('jail', 2545), ('bryan', 2546), ('definat', 2547), ('relaps', 2548), ('consult', 2549), ('vote', 2550), ('desk', 2551), ('depart', 2552), ('princ', 2553), ('routin', 2554), ('yogurt', 2555), ('ws', 2556), ('revenu', 2557), ('struck', 2558), ('imper', 2559), ('motorcycl', 2560), ('instal', 2561), ('addit', 2562), ('sip', 2563), ('boom', 2564), ('neutral', 2565), ('govern', 2566), ('vlog', 2567), ('whoop', 2568), ('zoologymuseum', 2569), ('execut', 2570), ('syndrom', 2571), ('fist', 2572), ('elli', 2573), ('nail', 2574), ('scratch', 2575), ('conveni', 2576), ('committe', 2577), ('data', 2578), ('reveal', 2579), ('fate', 2580), ('cooper', 2581), ('jon', 2582), ('pal', 2583), ('fulfil', 2584), ('poster', 2585), ('bruh', 2586), ('tube', 2587), ('insan', 2588), ('aesthet', 2589), ('lmfao', 2590), ('overdos', 2591), ('scientist', 2592), ('replica', 2593), ('zoo', 2594), ('volleybal', 2595), ('plant', 2596), ('mi', 2597), ('financ', 2598), ('hughfw', 2599), ('jamieoliv', 2600), ('fr', 2601), ('loan', 2602), ('brooch', 2603), ('candi', 2604), ('aveng', 2605), ('hobbi', 2606), ('knive', 2607), ('origin', 2608), ('necessari', 2609), ('center', 2610), ('target', 2611), ('satoranskyisgod', 2612), ('joeybats434', 2613), ('senior', 2614), ('seminar', 2615), ('magnesium', 2616), ('bride', 2617), ('talkfest', 2618), ('itsoktotalk', 2619), ('thursdaythought', 2620), ('starwar', 2621), ('legaci', 2622), ('asian', 2623), ('immigr', 2624), ('succeed', 2625), ('missi', 2626), ('jen', 2627), ('150', 2628), ('inflat', 2629), ('glenn', 2630), ('potato', 2631), ('pound', 2632), ('knowledg', 2633), ('station', 2634), ('mama', 2635), ('aspect', 2636), ('dopamin', 2637), ('mess', 2638), ('warrior', 2639), ('imposs', 2640), ('periscopeco', 2641), ('dj', 2642), ('exploit', 2643), ('rhythm', 2644), ('represent', 2645), ('intimid', 2646), ('ars', 2647), ('pit', 2648), ('sis', 2649), ('vice', 2650), ('merci', 2651), ('unhealthi', 2652), ('ig', 2653), ('ear', 2654), ('wellb', 2655), ('reassur', 2656), ('depth', 2657), ('exet', 2658), ('grey', 2659), ('evolverprize2015', 2660), ('hr', 2661), ('33', 2662), ('unlik', 2663), ('spectrum', 2664), ('shatter', 2665), ('comedi', 2666), ('traumat', 2667), ('politician', 2668), ('paid', 2669), ('ili', 2670), ('premier', 2671), ('thief', 2672), ('mei', 2673), ('boss', 2674), ('rosi', 2675), ('giggl', 2676), ('dysphoria', 2677), ('clever', 2678), ('angri', 2679), ('freshman', 2680), ('mcfli', 2681), ('2morrow', 2682), ('pc', 2683), ('mac', 2684), ('fuckdepress', 2685), ('mighti', 2686), ('endur', 2687), ('neil', 2688), ('leonardo', 2689), ('20th', 2690), ('justin', 2691), ('yg', 2692), ('ne', 2693), ('sooooo', 2694), ('tht', 2695), ('advertis', 2696), ('majest', 2697), ('awe', 2698), ('uniform', 2699), ('exquisit', 2700), ('lifelong', 2701), ('existenti', 2702), ('examin', 2703), ('counsellor', 2704), ('ahh', 2705), ('soooooo', 2706), ('whiz', 2707), ('jonathan', 2708), ('1929', 2709), ('vern', 2710), ('troyer', 2711), ('bro', 2712), ('hahahahaha', 2713), ('repres', 2714), ('avatar', 2715), ('latestnew', 2716), ('destruct', 2717), ('miseri', 2718), ('qualifi', 2719), ('heritag', 2720), ('hearti', 2721), ('honor', 2722), ('kati', 2723), ('winter', 2724), ('slogan', 2725), ('rob', 2726), ('dem', 2727), ('hai', 2728), ('neat', 2729), ('despair', 2730), ('ree', 2731), ('mogg', 2732), ('mutual', 2733), ('sword', 2734), ('grandma', 2735), ('stomach', 2736), ('narciss', 2737), ('clover', 2738), ('ooh', 2739), ('caught', 2740), ('grandpa', 2741), ('feed', 2742), ('momma', 2743), ('gaug', 2744), ('mexican', 2745), ('coz', 2746), ('accus', 2747), ('ab', 2748), ('cudi', 2749), ('cake', 2750), ('communic', 2751), ('belli', 2752), ('elizabeth', 2753), ('cooki', 2754), ('furri', 2755), ('alan', 2756), ('larg', 2757), ('condemn', 2758), ('vibe', 2759), ('64', 2760), ('whos', 2761), ('emerg', 2762), ('preview', 2763), ('complain', 2764), ('capitalist', 2765), ('kh2', 2766), ('mural', 2767), ('worthi', 2768), ('soundcloud', 2769), ('germani', 2770), ('nz', 2771), ('panel', 2772), ('loos', 2773), ('lung', 2774), ('gettin', 2775), ('wisdom', 2776), ('cheeki', 2777), ('al', 2778), ('est', 2779), ('advoc', 2780), ('heaven', 2781), ('male', 2782), ('lbs', 2783), ('wa', 2784), ('kay', 2785), ('seven', 2786), ('ident', 2787), ('threesom', 2788), ('visual', 2789), ('obv', 2790), ('pathet', 2791), ('network', 2792), ('built', 2793), ('prepar', 2794), ('1932', 2795), ('anybodi', 2796), ('healthier', 2797), ('expat', 2798), ('sea', 2799), ('653', 2800), ('1998', 2801), ('yellow', 2802), ('bacon', 2803), ('dot', 2804), ('kendricklamar', 2805), ('duchess', 2806), ('fortnit', 2807), ('hott', 2808), ('mentalhealthtrain', 2809), ('termin', 2810), ('bold', 2811), ('prematur', 2812), ('hat', 2813), ('scari', 2814), ('ho', 2815), ('down', 2816), ('gloom', 2817), ('arnold', 2818), ('inspirationalquot', 2819), ('april', 2820), ('context', 2821), ('tragic', 2822), ('happili', 2823), ('stumbl', 2824), ('fo', 2825), ('bullshit', 2826), ('aswel', 2827), ('bell', 2828), ('wet', 2829), ('wasnt', 2830), ('pant', 2831), ('judgement', 2832), ('whoa', 2833), ('spammer', 2834), ('dan', 2835), ('newmanmpaul', 2836), ('grab', 2837), ('tripadvisor', 2838), ('hilari', 2839), ('energet', 2840), ('core', 2841), ('urself', 2842), ('bbq', 2843), ('tee', 2844), ('souvenir', 2845), ('doll', 2846), ('40', 2847), ('cream', 2848), ('ps', 2849), ('indulg', 2850), ('papa', 2851), ('beliv', 2852), ('choir', 2853), ('descript', 2854), ('avocado', 2855), ('blyton', 2856), ('beast', 2857), ('downtown', 2858), ('legend', 2859), ('medscap', 2860), ('ellen', 2861), ('server', 2862), ('slept', 2863), ('jeff', 2864), ('land', 2865), ('clair', 2866), ('yard', 2867), ('van', 2868), ('texa', 2869), ('ajackielarsen', 2870), ('stuf', 2871), ('laker', 2872), ('vomit', 2873), ('nativ', 2874), ('2013', 2875), ('bmagcur', 2876), ('fleur', 2877), ('dip', 2878), ('poof', 2879), ('hurri', 2880), ('compass', 2881), ('humor', 2882), ('worsen', 2883), ('brandon', 2884), ('grave', 2885), ('pie', 2886), ('berni', 2887), ('consum', 2888), ('treatabl', 2889), ('kettl', 2890), ('semest', 2891), ('overthink', 2892), ('peanut', 2893), ('intend', 2894), ('instamuseum', 2895), ('wreak', 2896), ('havoc', 2897), ('haircut', 2898), ('cup', 2899), ('hubbi', 2900), ('undoubt', 2901), ('grace', 2902), ('neuron', 2903), ('indiefilm', 2904), ('toughest', 2905), ('chop', 2906), ('hooray', 2907), ('greec', 2908), ('matern', 2909), ('bump', 2910), ('maternalhealth', 2911), ('advisor', 2912), ('wizard', 2913), ('central', 2914), ('photoshoot', 2915), ('indian', 2916), ('preserv', 2917), ('ocean', 2918), ('tasti', 2919), ('bulb', 2920), ('basket', 2921), ('heap', 2922), ('german', 2923), ('embarrass', 2924), ('fleet', 2925), ('aint', 2926), ('replac', 2927), ('repress', 2928), ('thee', 2929), ('nah', 2930), ('empir', 2931), ('oxytocin', 2932), ('percept', 2933), ('tote', 2934), ('uplift', 2935), ('brazil', 2936), ('poetri', 2937), ('launch', 2938), ('zone', 2939), ('taco', 2940), ('chicken', 2941), ('denmark', 2942), ('wat', 2943), ('relev', 2944), ('remedi', 2945), ('bite', 2946), ('zann', 2947), ('potter', 2948), ('taekwondo', 2949), ('mockeri', 2950), ('fruit', 2951), ('holist', 2952), ('knight', 2953), ('nightmar', 2954), ('sam', 2955), ('vinyl', 2956), ('rage', 2957), ('chaotic', 2958), ('nois', 2959), ('charm', 2960), ('thousand', 2961), ('correct', 2962), ('5th', 2963), ('boot', 2964), ('cocain', 2965), ('town', 2966), ('hen', 2967), ('logic', 2968), ('vmas', 2969), ('bipolarbrav', 2970), ('bewar', 2971), ('le', 2972), ('amber', 2973), ('charlyjohnson', 2974), ('persist', 2975), ('stray', 2976), ('hun', 2977), ('yyc', 2978), ('bedroom', 2979), ('breez', 2980), ('spectacular', 2981), ('fitzwilliam', 2982), ('endorphin', 2983), ('breathtak', 2984), ('poem', 2985), ('roshvarosha', 2986), ('christoph', 2987), ('ahoy', 2988), ('refug', 2989), ('rooftop', 2990), ('match', 2991), ('lindsay', 2992), ('30th', 2993), ('learningmind1', 2994), ('learningmind', 2995), ('ooo', 2996), ('hush', 2997), ('barbarahepworth', 2998), ('knife', 2999), ('19', 3000), ('statu', 3001), ('tweep', 3002), ('drake', 3003), ('sprinkl', 3004), ('workplac', 3005), ('torr', 3006), ('strait', 3007), ('reward', 3008), ('celib', 3009), ('xd', 3010), ('hop', 3011), ('strategi', 3012), ('makeup', 3013), ('introduc', 3014), ('obscur', 3015), ('sadden', 3016), ('wide', 3017), ('comm', 3018), ('soak', 3019), ('terrif', 3020), ('depriv', 3021), ('tmrw', 3022), ('cd', 3023), ('ashley', 3024), ('maid', 3025), ('liver', 3026), ('romantic', 3027), ('recept', 3028), ('henc', 3029), ('fresh', 3030), ('solv', 3031), ('militari', 3032), ('nuclear', 3033), ('tara', 3034), ('appar', 3035), ('spanish', 3036), ('shelter', 3037), ('neighbour', 3038), ('induc', 3039), ('fame', 3040), ('spin', 3041), ('user', 3042), ('idc', 3043), ('lowest', 3044), ('burst', 3045), ('healthcar', 3046), ('cohort', 3047), ('pure', 3048), ('aur', 3049), ('kya', 3050), ('christopherwilliam', 3051), ('100s', 3052), ('heck', 3053), ('pallavi', 3054), ('principl', 3055), ('autist', 3056), ('urg', 3057), ('corps', 3058), ('genius', 3059), ('inc', 3060), ('mari', 3061), ('infinitywar', 3062), ('flash', 3063), ('sheet', 3064), ('welp', 3065), ('upcom', 3066), ('rant', 3067), ('aug', 3068), ('observ', 3069), ('loath', 3070), ('yak', 3071), ('asia', 3072), ('nathan', 3073), ('anniversari', 3074), ('drove', 3075), ('boo', 3076), ('pud', 3077), ('goign', 3078), ('lid', 3079), ('pour', 3080), ('illeg', 3081), ('sell', 3082), ('tweeti', 3083), ('beach', 3084), ('pete', 3085), ('awwww', 3086), ('mass', 3087), ('acquir', 3088), ('meanwhil', 3089), ('rep', 3090), ('comp', 3091), ('madr', 3092), ('con', 3093), ('hotel', 3094), ('neck', 3095), ('rosetta', 3096), ('iron', 3097), ('fren', 3098), ('york', 3099), ('fade', 3100), ('dirt', 3101), ('jordan', 3102), ('poke', 3103), ('dare', 3104), ('gf', 3105), ('defici', 3106), ('discrimin', 3107), ('oki', 3108), ('fm', 3109), ('bequest', 3110), ('staff', 3111), ('irish', 3112), ('fals', 3113), ('shall', 3114), ('amongst', 3115), ('documentari', 3116), ('gestur', 3117), ('hee', 3118), ('repostapp', 3119), ('icymi', 3120), ('cda', 3121), ('showcas', 3122), ('birkbecknew', 3123), ('cdavalu', 3124), ('monsoon', 3125), ('distinct', 3126), ('tall', 3127), ('nlj5b3jki5', 3128), ('u6zoe0rgq3', 3129), ('drax', 3130), ('besfriend', 3131), ('zacharylevi', 3132), ('curropt', 3133), ('leader', 3134), ('arrest', 3135), ('ke', 3136), ('fela', 3137), ('peerrun', 3138), ('andperform', 3139), ('andsignific', 3140), ('arkowitz', 3141), ('tzknhl1q5i', 3142), ('tropic', 3143), ('mm', 3144), ('nurulnxha', 3145), ('wuah', 3146), ('ummm', 3147), ('pearllamfineart', 3148), ('nyacademyofart', 3149), ('kidsinmuseum', 3150), ('vex', 3151), ('adrift', 3152), ('1ppt01a1ig', 3153), ('granola', 3154), ('mask', 3155), ('assert', 3156), ('blatant', 3157), ('budget', 3158), ('repub', 3159), ('chord', 3160), ('durer', 3161), ('rode', 3162), ('renov', 3163), ('bald', 3164), ('adventuretravel', 3165), ('vobvxdik8v', 3166), ('sadtosportsfan', 3167), ('chainlink', 3168), ('supportmentalhealth', 3169), ('corin', 3170), ('infect', 3171), ('coupon', 3172), ('socltweet', 3173), ('contract', 3174), ('landscap', 3175), ('tower', 3176), ('9s7qgow7x7', 3177), ('discret', 3178), ('mensutra', 3179), ('kapil', 3180), ('sharma', 3181), ('controversi', 3182), ('hockey', 3183), ('martial', 3184), ('pugilist', 3185), ('flex', 3186), ('thus', 3187), ('ham', 3188), ('depressionawar', 3189), ('linkinbio', 3190), ('pleaseit', 3191), ('mjflajocdw', 3192), ('evil', 3193), ('oooo', 3194), ('ufvae5zyvo', 3195), ('ron', 3196), ('sushi', 3197), ('turbul', 3198), ('b7tlz4vuj0', 3199), ('mabel', 3200), ('yhu', 3201), ('ngeke', 3202), ('pregnant', 3203), ('huffpost', 3204), ('prop', 3205), ('thesadag', 3206), ('sunelmusician', 3207), ('fbbpnzlrqm', 3208), ('kenni', 3209), ('noshoesn', 3210), ('triparoundthesuntour', 3211), ('hxsdp20cnr', 3212), ('topper', 3213), ('lowpass', 3214), ('pizzicato', 3215), ('iapt', 3216), ('skinsupport', 3217), ('metrouk', 3218), ('shscft', 3219), ('healthyskin4al', 3220), ('adkinsk', 3221), ('sheffieldpsi', 3222), ('abnorm', 3223), ('ventral', 3224), ('anterior', 3225), ('insula', 3226), ('asthmat', 3227), ('elvisduranshow', 3228), ('skeeryjon', 3229), ('elvisduran', 3230), ('wzqhzej8vi', 3231), ('800bn', 3232), ('rli', 3233), ('sdl2tw5bpw', 3234), ('ambush', 3235), ('sunken', 3236), ('sidelin', 3237), ('awhil', 3238), ('bizarr', 3239), ('substitut', 3240), ('traxiontoken', 3241), ('traxionico', 3242), ('traxion', 3243), ('envis', 3244), ('fxxxking', 3245), ('itsumm', 3246), ('8xsqzsnnat', 3247), ('adul', 3248), ('tempestu', 3249), ('preacher', 3250), ('granblu', 3251), ('haunt', 3252), ('loser', 3253), ('foe', 3254), ('pw89bk0mh5', 3255), ('pammyhammy48', 3256), ('runner', 3257), ('garon', 3258), ('effexor', 3259), ('generous', 3260), ('110', 3261), ('indiaforum', 3262), ('spa', 3263), ('armchair', 3264), ('14th', 3265), ('cardiovascular', 3266), ('nog', 3267), ('tnx', 3268), ('declar', 3269), ('downward', 3270), ('overtir', 3271), ('cranki', 3272), ('tammra', 3273), ('warbi', 3274), ('drtammrawarbi', 3275), ('h7bm0tror4', 3276), ('kekepalm', 3277), ('99vmshcbsv', 3278), ('yearsof', 3279), ('jane', 3280), ('funclickearn', 3281), ('studyphys', 3282), ('ucyapysjsi', 3283), ('gaga', 3284), ('meat', 3285), ('odditi', 3286), ('velociraptor', 3287), ('arthur', 3288), ('insist', 3289), ('velociped', 3290), ('ensur', 3291), ('katiefhurley', 3292), ('aaaaaaaand', 3293), ('bronchodil', 3294), ('palpit', 3295), ('anosulfid', 3296), ('conjunct', 3297), ('bibioxyphospho', 3298), ('sold', 3299), ('sterosron', 3300), ('blurtalert', 3301), ('selfcar', 3302), ('unresolv', 3303), ('sweatpant', 3304), ('derek', 3305), ('nasti', 3306), ('0435xcwpc2', 3307), ('crazypark', 3308), ('depressionpark', 3309), ('escal', 3310), ('ladyferni', 3311), ('marcusalmost', 3312), ('volum', 3313), ('theplacelondon', 3314), ('desir', 3315), ('sns', 3316), ('condamn', 3317), ('massag', 3318), ('mooddisord', 3319), ('801', 3320), ('872', 3321), ('5516', 3322), ('vadyquaksz', 3323), ('derick', 3324), ('circumst', 3325), ('campaign', 3326), ('nhs', 3327), ('selv', 3328), ('goosebump', 3329), ('dwen', 3330), ('anglosaxon', 3331), ('vike', 3332), ('dystopian', 3333), ('autonomi', 3334), ('fragment', 3335), ('ayanatheoracl', 3336), ('opposit', 3337), ('donald', 3338), ('provigil', 3339), ('agit', 3340), ('confus', 3341), ('pattern', 3342), ('vacuum', 3343), ('monksay', 3344), ('lovelif', 3345), ('20s', 3346), ('asham', 3347), ('oj1imktfr7', 3348), ('hooch', 3349), ('boston73bruin', 3350), ('rps', 3351), ('fir', 3352), ('sansabrokendov', 3353), ('sls', 3354), ('cesar', 3355), ('absent', 3356), ('taylor', 3357), ('mushroom', 3358), ('newli', 3359), ('teddi', 3360), ('sale', 3361), ('ba', 3362), ('aahh', 3363), ('warmer', 3364), ('1bq2pavwag', 3365), ('mshapshaycomicbak', 3366), ('crowdfir', 3367), ('carriefish', 3368), ('princessleia', 3369), ('princessleiaforev', 3370), ('sober', 3371), ('sobrieti', 3372), ('rehab', 3373), ('rkptswml62', 3374), ('rofl', 3375), ('psychtoday', 3376), ('walshresearch', 3377), ('mercola', 3378), ('foundmyfit', 3379), ('clevelandclin', 3380), ('amermedicalassn', 3381), ('jzk1haieya', 3382), ('painter', 3383), ('kyledfranklin', 3384), ('cparksafflu', 3385), ('yohannamueller1', 3386), ('yield', 3387), ('drastic', 3388), ('gluten', 3389), ('leaver', 3390), ('myriad', 3391), ('stare', 3392), ('dnt', 3393), ('anak', 3394), ('shldnt', 3395), ('ito', 3396), ('buzz', 3397), ('877', 3398), ('844', 3399), ('disorder877', 3400), ('888', 3401), ('charliz', 3402), ('theron', 3403), ('smallkewlhuman', 3404), ('chasm', 3405), ('priv', 3406), ('jedi', 3407), ('coub', 3408), ('eachoth', 3409), ('meek', 3410), ('tchanmd', 3411), ('sandnsurf', 3412), ('sherbino', 3413), ('srrezai', 3414), ('thesgem', 3415), ('ilgen', 3416), ('bias', 3417), ('13cwwchdsc', 3418), ('gabi', 3419), ('yaaass', 3420), ('superpow', 3421), ('sue', 3422), ('flatshar', 3423), ('bedtim', 3424), ('halfway', 3425), ('sundown', 3426), ('jimmyeatworld', 3427), ('goat', 3428), ('abel', 3429), ('shush', 3430), ('yourrightscamp', 3431), ('amnesti', 3432), ('kaepernick7', 3433), ('florid', 3434), ('agreement', 3435), ('colleagu', 3436), ('thehistoryguy', 3437), ('djs', 3438), ('thexcert', 3439), ('kuwait', 3440), ('sacrif', 3441), ('soldier', 3442), ('isral', 3443), ('infograph', 3444), ('strip', 3445), ('floridian', 3446), ('hassl', 3447), ('perimenopaus', 3448), ('hormon', 3449), ('correl', 3450), ('evan', 3451), ('homosexu', 3452), ('ametur', 3453), ('ybgczbur7z', 3454), ('client', 3455), ('zbkzmmxnfi', 3456), ('quitb', 3457), ('itc', 3458), ('cyber', 3459), ('1jl7a5jvd4', 3460), ('sen', 3461), ('joel', 3462), ('villanueva', 3463), ('romanticis', 3464), ('deppres', 3465), ('underag', 3466), ('thoracotomi', 3467), ('sarcoidosi', 3468), ('mylif', 3469), ('myhealth', 3470), ('rob8wgjooh', 3471), ('hol', 3472), ('watchin', 3473), ('sew', 3474), ('churchil', 3475), ('daft', 3476), ('mutt', 3477), ('oebrrygzvm', 3478), ('nom', 3479), ('deplet', 3480), ('heath', 3481), ('kuh342ppjg', 3482), ('react', 3483), ('someday', 3484), ('xoxoboobl', 3485), ('flag', 3486), ('bangladesh', 3487), ('legitim', 3488), ('piss', 3489), ('scroll', 3490), ('raunchi', 3491), ('crave', 3492), ('jason', 3493), ('thor', 3494), ('afsfh', 3495), ('hypnotherapi', 3496), ('seechang', 3497), ('positivethought', 3498), ('positivethink', 3499), ('solutionfocus', 3500), ('healthylif', 3501), ('influenc', 3502), ('godman', 3503), ('cis', 3504), ('layout', 3505), ('mere', 3506), ('eccentr', 3507), ('strewn', 3508), ('grip', 3509), ('egg', 3510), ('monument', 3511), ('pandora', 3512), ('chime', 3513), ('149', 3514), ('tsuruda', 3515), ('legendsneverdi', 3516), ('wyd', 3517), ('headwworkr', 3518), ('war10', 3519), ('cinematographi', 3520), ('bop', 3521), ('myb', 3522), ('bcs', 3523), ('dflaobzctg', 3524), ('raymartin55', 3525), ('troop', 3526), ('conflict', 3527), ('vet', 3528), ('anzac', 3529), ('9th', 3530), ('thiev', 3531), ('phantom', 3532), ('q5xfylpmjm', 3533), ('looov', 3534), ('ordin', 3535), ('eupd', 3536), ('denial2', 3537), ('anger3', 3538), ('depression5', 3539), ('acceptancei', 3540), ('avengersinfinitywar', 3541), ('compromis', 3542), ('muster', 3543), ('kfjcajk2g6', 3544), ('5ugzrjj8zh', 3545), ('besito', 3546), ('samthegreat', 3547), ('reread', 3548), ('expens', 3549), ('privat', 3550), ('9zidakezjw', 3551), ('piti', 3552), ('yw1qk3ar3r', 3553), ('martin', 3554), ('martinslewi', 3555), ('mmhpi', 3556), ('creditor', 3557), ('hospitalis', 3558), ('whistl', 3559), ('hahahaha', 3560), ('crack', 3561), ('retweetblogg', 3562), ('ukblog', 3563), ('femblogg', 3564), ('ukblogrt', 3565), ('whatasaviour7', 3566), ('alisawoodard6', 3567), ('swantowski', 3568), ('anitalea1', 3569), ('florsunni', 3570), ('redrobin741', 3571), ('1bramant', 3572), ('linsonvarughes', 3573), ('blupony3', 3574), ('bishopdawkin', 3575), ('middlebrookdep', 3576), ('ccangels', 3577), ('sheila', 3578), ('freda', 3579), ('blessttt', 3580), ('jackcouch11', 3581), ('lisaharlow10', 3582), ('ahmedaniy', 3583), ('toddtrotter3', 3584), ('believeallcom', 3585), ('endtimeslif', 3586), ('reeves5150', 3587), ('sharonrenee15', 3588), ('joanneileen', 3589), ('cherami1sherri', 3590), ('gregpetti', 3591), ('trinitysfaith', 3592), ('bramant', 3593), ('bailog', 3594), ('cheriss', 3595), ('flashg', 3596), ('86', 3597), ('smrutimishra7', 3598), ('vinodgnair73', 3599), ('reginahhop', 3600), ('twisty58', 3601), ('doswel', 3602), ('vee', 3603), ('radioshowccc', 3604), ('notjudgin', 3605), ('nhiscare57', 3606), ('nadiaforjesus', 3607), ('wheatsuzann', 3608), ('freebetsyb', 3609), ('elliesangelw', 3610), ('mcinnes003', 3611), ('kieth', 3612), ('captiv', 3613), ('stronghold', 3614), ('2cor', 3615), ('tenderlov', 3616), ('envrion', 3617), ('tgif', 3618), ('havign', 3619), ('10th', 3620), ('pari', 3621), ('these', 3622), ('russian', 3623), ('thur', 3624), ('cfhtkxqqqa', 3625), ('bieber', 3626), ('ray', 3627), ('zekelli', 3628), ('catelyn', 3629), ('ordinari', 3630), ('sape', 3631), ('penah', 3632), ('rasa', 3633), ('je', 3634), ('tahu', 3635), ('sakit', 3636), ('dia', 3637), ('cm', 3638), ('peool', 3639), ('themself', 3640), ('flaw', 3641), ('artwork', 3642), ('artisteboy', 3643), ('sum', 3644), ('dilemma', 3645), ('ajbrzski', 3646), ('angrierthanmost', 3647), ('iq', 3648), ('swine', 3649), ('flu', 3650), ('upfront', 3651), ('birthdayyyyy', 3652), ('unicorn', 3653), ('crown', 3654), ('hautenurs', 3655), ('drolufunmilayo', 3656), ('healthertain', 3657), ('deekachi', 3658), ('md', 3659), ('eminitybaba', 3660), ('lou', 3661), ('nomso', 3662), ('josephineavid', 3663), ('lp', 3664), ('lf', 3665), ('kansa', 3666), ('dypecfx580', 3667), ('skate', 3668), ('imp', 3669), ('49', 3670), ('vernetroy', 3671), ('payment', 3672), ('vari', 3673), ('pinella', 3674), ('repjohnlarson', 3675), ('stevenwaite2', 3676), ('liberti', 3677), ('coolidg', 3678), ('guilti', 3679), ('freight', 3680), ('mentalhealthk', 3681), ('downplay', 3682), ('yeshewil', 3683), ('rejoic', 3684), ('daluckym', 3685), ('luckili', 3686), ('ipad', 3687), ('robot', 3688), ('goddamn', 3689), ('trap', 3690), ('flotus', 3691), ('ramonitasilva7', 3692), ('jeffreyguterman', 3693), ('durnan', 3694), ('steadili', 3695), ('trumpalso', 3696), ('oust', 3697), ('otherh', 3698), ('mueller', 3699), ('himcount', 3700), ('5avcfo1r6r', 3701), ('fella', 3702), ('autobiograph', 3703), ('t8ha8ysx7n', 3704), ('carb', 3705), ('bugl', 3706), ('4am', 3707), ('prolli', 3708), ('grind', 3709), ('handili', 3710), ('monkey', 3711), ('reagan', 3712), ('pretend', 3713), ('smother', 3714), ('18e0c9dycr', 3715), ('renaiss', 3716), ('jewelleri', 3717), ('mermaid', 3718), ('tsb', 3719), ('paulpest', 3720), ('telephon', 3721), ('seurat', 3722), ('bather', 3723), ('asnier', 3724), ('arisenspirit', 3725), ('csa', 3726), ('margin', 3727), ('fring', 3728), ('indecis', 3729), ('alllll', 3730), ('nedastaff', 3731), ('pef3epgvyz', 3732), ('booti', 3733), ('campbellclaret', 3734), ('decent', 3735), ('standardkenya', 3736), ('zo9c1hgs73', 3737), ('ronjkoehl', 3738), ('lisamartino18', 3739), ('layer', 3740), ('champagn', 3741), ('noun', 3742), ('scallop', 3743), ('dent', 3744), ('dimpl', 3745), ('tooth', 3746), ('battlement', 3747), ('forb', 3748), ('treacl', 3749), ('spong', 3750), ('hesit', 3751), ('shitpost', 3752), ('dislik', 3753), ('instructor', 3754), ('z8nmgbvebu', 3755), ('tremend', 3756), ('savour', 3757), ('umbrella', 3758), ('gotten', 3759), ('davidhogg111', 3760), ('tofailsnoopt', 3761), ('hoggster', 3762), ('78jota4fnp', 3763), ('sharp', 3764), ('infantri', 3765), ('gaza', 3766), ('shrapnel', 3767), ('nam', 3768), ('jurrivh', 3769), ('courtesi', 3770), ('realryanwhorton', 3771), ('heritagelotteri', 3772), ('ace', 3773), ('noonecar', 3774), ('hmwncfkefr', 3775), ('kyem74', 3776), ('aaaaayyyyy', 3777), ('trynna', 3778), ('l5rmfiiqqi', 3779), ('mediocr', 3780), ('wellnessblog', 3781), ('vkuntfktb', 3782), ('stalk', 3783), ('theme', 3784), ('ericfolm', 3785), ('b4', 3786), ('vedio', 3787), ('pornstar', 3788), ('uvqwxezy63', 3789), ('therapeut', 3790), ('fckin', 3791), ('bich', 3792), ('hardwick', 3793), ('accompani', 3794), ('tedious', 3795), ('lifesav', 3796), ('recal', 3797), ('televis', 3798), ('mither', 3799), ('shreech', 3800), ('evapor', 3801), ('sualujliwi', 3802), ('frida', 3803), ('34', 3804), ('85', 3805), ('laptop', 3806), ('transgend', 3807), ('sstrain', 3808), ('istg', 3809), ('jihyo', 3810), ('vid', 3811), ('lotta', 3812), ('credibl', 3813), ('tlbevnck99', 3814), ('rear', 3815), ('cyrus', 3816), ('sector', 3817), ('evangelion', 3818), ('sunixr', 3819), ('overdepress', 3820), ('subscrib', 3821), ('fair', 3822), ('roof', 3823), ('pip', 3824), ('aft', 3825), ('happycishappi', 3826), ('churn', 3827), ('islamist', 3828), ('garner', 3829), ('rural', 3830), ('welfar', 3831), ('subsidi', 3832), ('britainsfatfight', 3833), ('fran', 3834), ('uxwjl0wuy2', 3835), ('appl', 3836), ('uajthvozex', 3837), ('o1v7mknpkl', 3838), ('wherea', 3839), ('lethal', 3840), ('moreso', 3841), ('mcintyr', 3842), ('windrush', 3843), ('warehous', 3844), ('amputeeatheist', 3845), ('folx', 3846), ('masturb', 3847), ('dizzi', 3848), ('fucker', 3849), ('socialcar', 3850), ('mhfa', 3851), ('safetalk', 3852), ('mentalhealthawarenessweek', 3853), ('mhaw', 3854), ('pmme1xfthq', 3855), ('mosaic', 3856), ('sneak', 3857), ('sampl', 3858), ('religion', 3859), ('scam', 3860), ('cus', 3861), ('pussi', 3862), ('borderlin', 3863), ('harvardm', 3864), ('apaam18', 3865), ('mhiz', 3866), ('newyork', 3867), ('lcsw', 3868), ('psychotherapi', 3869), ('e6awk2ewcv', 3870), ('statement', 3871), ('prozac', 3872), ('boredom', 3873), ('stsring', 3874), ('igotyou', 3875), ('nzmentalhealth', 3876), ('xxxtentact', 3877), ('edward', 3878), ('toothbrush', 3879), ('blast', 3880), ('frighten', 3881), ('manana', 3882), ('bandwagon', 3883), ('jtm', 3884), ('yva', 3885), ('nelsonpmaainc', 3886), ('alexbwell4', 3887), ('klansmen', 3888), ('supremacist', 3889), ('sufeamono', 3890), ('circuitphf', 3891), ('circuit2015', 3892), ('cwvifkqdub', 3893), ('hero', 3894), ('slope', 3895), ('suicideawar', 3896), ('ma1cvaq4q9', 3897), ('marit', 3898), ('niec', 3899), ('hashtag', 3900), ('erezshek', 3901), ('powerslave1974', 3902), ('7bnijlwgga', 3903), ('mizteefranklin', 3904), ('deliver', 3905), ('baptist', 3906), ('onq2c4ycwm', 3907), ('kitchen', 3908), ('alpha', 3909), ('chelsea', 3910), ('hqs', 3911), ('brew', 3912), ('yaaay', 3913), ('lomaschar', 3914), ('skynew', 3915), ('nihrmaudsleybrc', 3916), ('mindchar', 3917), ('unfold', 3918), ('boi', 3919), ('transform', 3920), ('zentropi', 3921), ('adjust', 3922), ('remain', 3923), ('various', 3924), ('tbt', 3925), ('c1pcxyem51', 3926), ('fvck', 3927), ('noon', 3928), ('reenforc', 3929), ('tae', 3930), ('wrt', 3931), ('blank', 3932), ('anda', 3933), ('archer96danni', 3934), ('catharsi', 3935), ('flashback', 3936), ('predict', 3937), ('smarter', 3938), ('recollect', 3939), ('span', 3940), ('mommi', 3941), ('bootstrapcook', 3942), ('appetit', 3943), ('29', 3944), ('bmi', 3945), ('overweight', 3946), ('catalogu', 3947), ('horn', 3948), ('sole', 3949), ('belittl', 3950), ('kcsuszgbkm', 3951), ('unrealist', 3952), ('yknow', 3953), ('suspect', 3954), ('hornimanmuseum', 3955), ('partnership', 3956), ('repel', 3957), ('moat', 3958), ('archer', 3959), ('attrit', 3960), ('rrqo2p3exx', 3961), ('whing', 3962), ('slump', 3963), ('meto', 3964), ('mindwon', 3965), ('stopworri', 3966), ('depressioncrept', 3967), ('disinterestedto', 3968), ('confusedand', 3969), ('tiredlik', 3970), ('restless', 3971), ('skythat', 3972), ('keepschang', 3973), ('inkmin', 3974), ('antiag', 3975), ('bestantiagingproduct', 3976), ('hairproduct', 3977), ('painrelief', 3978), ('reverseag', 3979), ('reversediseas', 3980), ('reversetheagingprocess', 3981), ('m1qjmncpal', 3982), ('twitt', 3983), ('sprout', 3984), ('duncan', 3985), ('meaningless', 3986), ('dickhead', 3987), ('unjust', 3988), ('preclud', 3989), ('endem', 3990), ('meaning', 3991), ('tca', 3992), ('franci', 3993), ('mf5hoygydz', 3994), ('oper', 3995), ('penni', 3996), ('yojv6jvnk', 3997), ('horni', 3998), ('bead', 3999), ('350', 4000), ('stardom', 4001), ('dna', 4002), ('inherit', 4003), ('silentinherit', 4004), ('dnaday', 4005), ('pulitz', 4006), ('winner', 4007), ('mtvnew', 4008), ('wider', 4009), ('averag', 4010), ('normalisbor', 4011), ('umasscct', 4012), ('headlin', 4013), ('overnight', 4014), ('ia8nyoaq4c', 4015), ('tsm', 4016), ('mailonlin', 4017), ('shameless', 4018), ('communitymentalhealth', 4019), ('mentalhealtheduc', 4020), ('gwg', 4021), ('journey2worthi', 4022), ('13flat', 4023), ('lasagafit', 4024), ('explian', 4025), ('overcam', 4026), ('saxildoibq', 4027), ('knox', 4028), ('objects2015', 4029), ('sexier', 4030), ('infant', 4031), ('colic', 4032), ('digest', 4033), ('drawn', 4034), ('ppqwptbfxm', 4035), ('gm', 4036), ('wrangl', 4037), ('codepend', 4038), ('3qtnmheyhn', 4039), ('erin', 4040), ('seal', 4041), ('orb', 4042), ('devot', 4043), ('voluntarili', 4044), ('agoraphobia', 4045), ('sicknotweaki', 4046), ('pgr4baysix', 4047), ('moor', 4048), ('wrinkl', 4049), ('ac', 4050), ('mccann', 4051), ('sevilla', 4052), ('entri', 4053), ('u16', 4054), ('dissoci', 4055), ('unwel', 4056), ('rapid', 4057), ('bob', 4058), ('kuiperbell', 4059), ('postnataldepress', 4060), ('returningtowork', 4061), ('workingmum', 4062), ('rsrd8a0hrz', 4063), ('broadcast', 4064), ('aaahhhh', 4065), ('hypocrisi', 4066), ('bakit', 4067), ('dinadamay', 4068), ('yang', 4069), ('niyong', 4070), ('dalawa', 4071), ('puke', 4072), ('chemist', 4073), ('kotaku', 4074), ('ign', 4075), ('playstat', 4076), ('klopp', 4077), ('pang', 4078), ('fish', 4079), ('aborigin', 4080), ('funtim', 4081), ('artistri', 4082), ('romant', 4083), ('melancholi', 4084), ('brood', 4085), ('deliber', 4086), ('bennett', 4087), ('inspiredaili', 4088), ('motivateyourself', 4089), ('bfzifrtmf2', 4090), ('pile', 4091), ('goob', 4092), ('deadpool', 4093), ('arthriti', 4094), ('ms', 4095), ('stiff', 4096), ('apathi', 4097), ('3pnruel0v', 4098), ('priceless', 4099), ('arttherapi', 4100), ('informat', 4101), ('lab', 4102), ('construct', 4103), ('ilovecornwalluk', 4104), ('bamconstructuk', 4105), ('lauren', 4106), ('savag', 4107), ('incel', 4108), ('shyness', 4109), ('blueminyoongi', 4110), ('starbuck', 4111), ('reckon', 4112), ('ideolog', 4113), ('mire', 4114), ('audac', 4115), ('obstruct', 4116), ('administr', 4117), ('morningjo', 4118), ('pressview', 4119), ('stagnanc', 4120), ('comesher', 4121), ('depressionrrrrrrrrrrrrrrrrrrrrrrrrev', 4122), ('bust', 4123), ('adamhoward2000', 4124), ('contracept', 4125), ('unwav', 4126), ('kira', 4127), ('davidsmithart', 4128), ('eurovis', 4129), ('l0l', 4130), ('ditch', 4131), ('hittin', 4132), ('adopt', 4133), ('expand', 4134), ('uninterest', 4135), ('intrust', 4136), ('archaeolog', 4137), ('syo', 4138), ('kurusu', 4139), ('dc', 4140), ('mhealth', 4141), ('perinat', 4142), ('penmen06', 4143), ('anthey', 4144), ('spider', 4145), ('agynaathavaasi', 4146), ('daridram', 4147), ('birmingham', 4148), ('streak', 4149), ('gradual', 4150), ('dayi', 4151), ('nesdo', 4152), ('360', 4153), ('jokepleas', 4154), ('recip', 4155), ('jewel', 4156), ('152', 4157), ('2050', 4158), ('sharedfact', 4159), ('foreign', 4160), ('snicker', 4161), ('intrest', 4162), ('desper', 4163), ('gaudier', 4164), ('brzeska', 4165), ('monmouthcoffe', 4166), ('assaulti', 4167), ('murderi', 4168), ('daylight', 4169), ('wsksnw0gho', 4170), ('r232', 4171), ('renata', 4172), ('schoeman', 4173), ('usb', 4174), ('mba', 4175), ('alumnus', 4176), ('reallyyyyi', 4177), ('thro', 4178), ('japantim', 4179), ('autonom', 4180), ('regul', 4181), ('bereav', 4182), ('freak', 4183), ('westwick', 4184), ('foundat', 4185), ('gooood', 4186), ('sunglass', 4187), ('gibson', 4188), ('recruit', 4189), ('takepartinresearch', 4190), ('onhxvqmqvf', 4191), ('summitrdu', 4192), ('g4', 4193), ('ministri', 4194), ('bradhambrick', 4195), ('1920', 4196), ('leisur', 4197), ('uniqu', 4198), ('abroad', 4199), ('arent', 4200), ('lemon', 4201), ('abe', 4202), ('kpag2r87jt', 4203), ('nemosanartist', 4204), ('highwatermark', 4205), ('capac', 4206), ('aquina', 4207), ('38', 4208), ('sleepin', 4209), ('cultiv', 4210), ('dayoff', 4211), ('warfram', 4212), ('utc', 4213), ('supportsmallerstream', 4214), ('nightstream', 4215), ('rang', 4216), ('25mg', 4217), ('v7lyhtoq4u', 4218), ('turnin', 4219), ('jr', 4220), ('jona', 4221), ('smooth', 4222), ('characterist', 4223), ('peterdutton', 4224), ('mp', 4225), ('shanebazzi', 4226), ('fuckingwel', 4227), ('dienobodi', 4228), ('hopesh', 4229), ('indefinit', 4230), ('nauru', 4231), ('sadkatelyn', 4232), ('sooooooo', 4233), ('yayyy', 4234), ('justdon', 4235), ('justgiv', 4236), ('10000', 4237), ('sixteen', 4238), ('earliest', 4239), ('sunris', 4240), ('gatsbi', 4241), ('prequel', 4242), ('neurostar', 4243), ('minseoki', 4244), ('ctto', 4245), ('manilalovesxiumin', 4246), ('elyxioninmanila', 4247), ('weareoneexo', 4248), ('jriuabxx0g', 4249), ('baddiedaywin', 4250), ('schmids333', 4251), ('capt', 4252), ('hominem', 4253), ('discredit', 4254), ('stanc', 4255), ('realm', 4256), ('frankincens', 4257), ('9ivbfcmsid', 4258), ('enhanc', 4259), ('dieddepress', 4260), ('tu7pkvkyvl', 4261), ('prenatalalcoholexposur', 4262), ('behavioralhealth', 4263), ('opioidusedisord', 4264), ('violenc', 4265), ('indig', 4266), ('oklahoma', 4267), ('ty', 4268), ('crappi', 4269), ('plbpbao1wt', 4270), ('stilll', 4271), ('dawg', 4272), ('combo', 4273), ('4qyir3iknt', 4274), ('depressionclass', 4275), ('pawfqcsrum', 4276), ('overanalyz', 4277), ('i9ptgg1ktv', 4278), ('pmbea8df5p', 4279), ('bullcrap', 4280), ('charcter', 4281), ('fite', 4282), ('cupid', 4283), ('supernatur', 4284), ('fault', 4285), ('shortcom', 4286), ('goldblum', 4287), ('optician', 4288), ('6unnm95qoq', 4289), ('length', 4290), ('trucker', 4291), ('alzheim', 4292), ('neurolog', 4293), ('mainstream', 4294), ('d3', 4295), ('mmmmmm', 4296), ('checkmat', 4297), ('entrepreneur', 4298), ('lifelesson', 4299), ('entrepreneurship', 4300), ('selfimprov', 4301), ('invalid', 4302), ('9am', 4303), ('il', 4304), ('bnperry1', 4305), ('embrac', 4306), ('houtz', 4307), ('suttonlacesout', 4308), ('mcglinchey', 4309), ('errand', 4310), ('tk8gyq9v0c', 4311), ('lgbtq', 4312), ('mb', 4313), ('nhm', 4314), ('intak', 4315), ('toy', 4316), ('bo', 4317), ('feet', 4318), ('sunk', 4319), ('stretch', 4320), ('sloop', 4321), ('visitcornwal', 4322), ('visitbritainpr', 4323), ('lilmissthang', 4324), ('derektodorojo', 4325), ('familiar', 4326), ('foxvertebra', 4327), ('hv', 4328), ('knw', 4329), ('lassi', 4330), ('helper', 4331), ('format', 4332), ('hahahah', 4333), ('yess', 4334), ('interweb', 4335), ('twerent', 4336), ('betray', 4337), ('sociopath', 4338), ('pabloayodeji', 4339), ('nigerian', 4340), ('crawl', 4341), ('doyoga', 4342), ('bull', 4343), ('breadth', 4344), ('1000', 4345), ('pvb6ig1fkm', 4346), ('lxeyrwlmlv', 4347), ('molest', 4348), ('hardship', 4349), ('jazz', 4350), ('27', 4351), ('spearhead', 4352), ('eras', 4353), ('duplic', 4354), ('fyguwhvynh', 4355), ('ch', 4356), ('slur', 4357), ('ot9aykfht3', 4358), ('lovelyzband', 4359), ('infinitens97', 4360), ('4gsbpiuaag', 4361), ('snuggl', 4362), ('hartsonforca', 4363), ('howdyhord', 4364), ('gild', 4365), ('wealth', 4366), ('unfett', 4367), ('unregul', 4368), ('dnc', 4369), ('vase', 4370), ('sayin', 4371), ('determin', 4372), ('earn', 4373), ('burnout', 4374), ('depressionlonelinessand', 4375), ('silouhett', 4376), ('cigarett', 4377), ('compress', 4378), ('koltsovo', 4379), ('v5c6hhffkd', 4380), ('3dprint', 4381), ('millionth', 4382), ('plexus', 4383), ('auster', 4384), ('brexit', 4385), ('manslaught', 4386), ('maya', 4387), ('murphi', 4388), ('teenagesuicid', 4389), ('peerpressur', 4390), ('criminaldefens', 4391), ('mayalaw', 4392), ('lawyersinct', 4393), ('vkreuw83jm', 4394), ('amanda', 4395), ('infanc', 4396), ('875', 4397), ('depresssss', 4398), ('58ntkqutir', 4399), ('suit', 4400), ('nityanandam', 4401), ('shree', 4402), ('beingadoptedmean', 4403), ('farter', 4404), ('trace', 4405), ('imprint', 4406), ('stripper', 4407), ('retrospect', 4408), ('ov', 4409), ('depr', 4410), ('loung', 4411), ('cali', 4412), ('dlhampton', 4413), ('b9xzwxofx9', 4414), ('remyvampvuitton', 4415), ('sectioncurb', 4416), ('depressiongo', 4417), ('rehabacknowledg', 4418), ('oncom', 4419), ('societ', 4420), ('wellbeingwednesday', 4421), ('harvard', 4422), ('minimum', 4423), ('invigil', 4424), ('closur', 4425), ('structur', 4426), ('academ', 4427), ('ketamineinfusiontherapi', 4428), ('oaumsbqht', 4429), ('cmts', 4430), ('jami', 4431), ('ztfnnfmj3k', 4432), ('jailer', 4433), ('stfu', 4434), ('astonish', 4435), ('ohhhhhkkkk', 4436), ('nichola', 4437), ('ambassador', 4438), ('defeatdepress', 4439), ('uof', 4440), ('pepper', 4441), ('jp', 4442), ('siteurl', 4443), ('2fcse', 4444), ('2fhome', 4445), ('3fcx', 4446), ('3dpartner', 4447), ('0438138242743153', 4448), ('3avvnwpsw8fe0', 4449), ('tab', 4450), ('michell', 4451), ('dollar', 4452), ('unnot', 4453), ('unappreci', 4454), ('jewelri', 4455), ('darl', 4456), ('expo', 4457), ('birthstori', 4458), ('matexp', 4459), ('birthtraumachat', 4460), ('maternitymatt', 4461), ('pblogger', 4462), ('pnmh', 4463), ('motherhood', 4464), ('royalbabi', 4465), ('otdrhwyl4r', 4466), ('examseason', 4467), ('sadi', 4468), ('diewelcom', 4469), ('cryyyyyy', 4470), ('dani', 4471), ('teendepress', 4472), ('fydqzvco2t', 4473), ('metoprolol', 4474), ('hotlinemi', 4475), ('dms', 4476), ('thot', 4477), ('rachelosiri', 4478), ('gregcool1', 4479), ('deregul', 4480), ('predatori', 4481), ('lender', 4482), ('4trillion', 4483), ('sandi', 4484), ('brighton', 4485), ('fibromyalgia', 4486), ('punish', 4487), ('pipe', 4488), ('collabor', 4489), ('pickl', 4490), ('numbmetomybon', 4491), ('mtstanford', 4492), ('clout', 4493), ('empathet', 4494), ('misconstru', 4495), ('consol', 4496), ('gna', 4497), ('foursom', 4498), ('enliv', 4499), ('stigmat', 4500), ('trisha', 4501), ('input', 4502), ('bearabl', 4503), ('grindr', 4504), ('kuya', 4505), ('kabatch', 4506), ('quirki', 4507), ('puppi', 4508), ('gear', 4509), ('clan', 4510), ('unwant', 4511), ('citizen', 4512), ('persever', 4513), ('curs', 4514), ('440nhcyefr', 4515), ('snxpakbpwm', 4516), ('fraudul', 4517), ('across', 4518), ('jik', 4519), ('yup', 4520), ('seclus', 4521), ('goya', 4522), ('autumn', 4523), ('kq6tjjcpi4', 4524), ('herbo', 4525), ('invok', 4526), ('momz', 4527), ('johannhari101', 4528), ('anew', 4529), ('militaryspous', 4530), ('stressin', 4531), ('chrissi', 4532), ('teigen', 4533), ('spoken', 4534), ('hipkin', 4535), ('ration', 4536), ('8th', 4537), ('pdt', 4538), ('webinar', 4539), ('inland', 4540), ('coalit', 4541), ('lactat', 4542), ('chrismannbbc', 4543), ('confront', 4544), ('paranorm', 4545), ('xytbnutdc4', 4546), ('alexa', 4547), ('icon', 4548), ('nicoledivid', 4549), ('3we', 4550), ('x7qxh7chid', 4551), ('fixi', 4552), ('ina', 4553), ('gemini', 4554), ('lisabowhors', 4555), ('inertia', 4556), ('edit', 4557), ('reader', 4558), ('borrow', 4559), ('preval', 4560), ('stapl', 4561), ('cubicl', 4562), ('script', 4563), ('irk', 4564), ('biennial', 4565), ('vapor', 4566), ('mushi', 4567), ('de3m1xyuq4', 4568), ('unfollowdiddi', 4569), ('tshirt', 4570), ('builder', 4571), ('path', 4572), ('deceiv', 4573), ('dlc', 4574), ('jeremi', 4575), ('leicest', 4576), ('excersis', 4577), ('incl', 4578), ('torontostrong', 4579), ('stolengirl', 4580), ('timesup', 4581), ('thewaramp', 4582), ('just4today', 4583), ('redfriday', 4584), ('ig2018', 4585), ('loveislov', 4586), ('access4al', 4587), ('climatechang', 4588), ('mmiwg', 4589), ('boysmattertoo', 4590), ('beccatoldmeto', 4591), ('z30r41uh5o', 4592), ('vampir', 4593), ('newlynexchang', 4594), ('sugar', 4595), ('ajit9988', 4596), ('probiot', 4597), ('herbal', 4598), ('heartless', 4599), ('anythin', 4600), ('2moro', 4601), ('aboard', 4602), ('funk', 4603), ('koto', 4604), ('union', 4605), ('hala', 4606), ('themedicalmamac', 4607), ('postpartumdepress', 4608), ('newt', 4609), ('twitterindia', 4610), ('twittersupport', 4611), ('yourtimeform', 4612), ('dumbass', 4613), ('oliv', 4614), ('wqqk7iufti', 4615), ('londoncraftweek', 4616), ('3d', 4617), ('guid', 4618), ('gen', 4619), ('giasison', 4620), ('po', 4621), ('charli', 4622), ('themoodcard', 4623), ('letstalk', 4624), ('headstogeth', 4625), ('r0dq3gof6f', 4626), ('wip', 4627), ('grandmer', 4628), ('memer', 4629), ('kk6ruz4h2x', 4630), ('k', 4631), ('amazon', 4632), ('stave', 4633), ('onset', 4634), ('4jyt3wpvvi', 4635), ('kish', 4636), ('nat', 4637), ('brb', 4638), ('inappropri', 4639), ('mario', 4640), ('albani', 4641), ('shizu', 4642), ('healer', 4643), ('enrich', 4644), ('t01rmp4oq0', 4645), ('spous', 4646), ('notebook', 4647), ('torn', 4648), ('xaviermedia', 4649), ('aboutlondon', 4650), ('madametussaud', 4651), ('bateauxlondon', 4652), ('thamesribexp', 4653), ('thamesclipp', 4654), ('neglect', 4655), ('wale', 4656), ('uterus', 4657), ('unmanag', 4658), ('venu', 4659), ('ala', 4660), ('calmest', 4661), ('jinx', 4662), ('tulip', 4663), ('ps4share', 4664), ('qyyb3okbti', 4665), ('fwafa', 4666), ('anytim', 4667), ('fatigu', 4668), ('fluoxetin', 4669), ('hula', 4670), ('hoop', 4671), ('printabl', 4672), ('lgt3kjt7rp', 4673), ('incorpor', 4674), ('aaaaaah', 4675), ('culturegeek', 4676), ('thnx', 4677), ('nourish', 4678), ('bipolarhotlin', 4679), ('diagnost', 4680), ('kaailckxtx', 4681), ('hmmmm', 4682), ('coast', 4683), ('flip', 4684), ('6month', 4685), ('compot', 4686), ('verg', 4687), ('ynzcr2rguv', 4688), ('cantwait', 4689), ('soullessi', 4690), ('humani', 4691), ('inhumani', 4692), ('uncontrollablyit', 4693), ('depressiona', 4694), ('suggestedbecaus', 4695), ('youit', 4696), ('adweek', 4697), ('a6yvb33h2i', 4698), ('massagetherapi', 4699), ('hypertens', 4700), ('massagecalgari', 4701), ('yychealth', 4702), ('yychealthyliv', 4703), ('rmt', 4704), ('jnsrmbdasu', 4705), ('acryl', 4706), ('wsj', 4707), ('advers', 4708), ('mattgrayc64', 4709), ('baronmad79', 4710), ('martinpaterso13', 4711), ('boyceyoh', 4712), ('stake', 4713), ('minimis', 4714), ('secondari', 4715), ('hypnotis', 4716), ('misread', 4717), ('harbour', 4718), ('livartfair', 4719), ('lovenorthernart', 4720), ('stockleyart', 4721), ('bean', 4722), ('wyitollxqi', 4723), ('secur', 4724), ('bruin', 4725), ('sleepov', 4726), ('didgeridoo', 4727), ('sho', 4728), ('degrad', 4729), ('cousin', 4730), ('pmea', 4731), ('travail', 4732), ('hypersensit', 4733), ('superman', 4734), ('2r73iqe4hd', 4735), ('awoken', 4736), ('blindspot', 4737), ('battlefield', 4738), ('captain', 4739), ('moldi', 4740), ('gravur', 4741), ('membersback', 4742), ('unknown', 4743), ('unlimit', 4744), ('rington', 4745), ('withdraw', 4746), ('whateva', 4747), ('elvi', 4748), ('burger', 4749), ('mysteri', 4750), ('activelinc', 4751), ('bikeabl', 4752), ('eight', 4753), ('fyi', 4754), ('feb', 4755), ('hulsey', 4756), ('boudreau', 4757), ('mystic', 4758), ('hipp', 4759), ('sync', 4760), ('bmp', 4761), ('jpeg', 4762), ('depressiongood', 4763), ('debbi', 4764), ('redfolio', 4765), ('mindart', 4766), ('blake', 4767), ('judgejudi', 4768), ('bondirescu', 4769), ('cbsrealityeu', 4770), ('daytimetv', 4771), ('jus', 4772), ('jxfgcxyjxr', 4773), ('primari', 4774), ('si', 4775), ('the100', 4776), ('1r1z4hriw8', 4777), ('luna', 4778), ('jone', 4779), ('kurdishwhitebean', 4780), ('expressli', 4781), ('andi', 4782), ('bodili', 4783), ('fledg', 4784), ('artseduc', 4785), ('dishwash', 4786), ('shoestr', 4787), ('unimpress', 4788), ('flamin', 4789), ('grvtyuk', 4790), ('blcklistddd', 4791), ('footi', 4792), ('cafeteria', 4793), ('bestdayev', 4794), ('complex', 4795), ('stargat', 4796), ('samuel', 4797), ('samael', 4798), ('harbing', 4799), ('endlonelinessuk', 4800), ('libbypagewrit', 4801), ('erad', 4802), ('agenc', 4803), ('shakespear', 4804), ('scrumptious', 4805), ('suppress', 4806), ('preach', 4807), ('swiss', 4808), ('ebnjc', 4809), ('appropri', 4810), ('rigour', 4811), ('nervousbut', 4812), ('janin', 4813), ('hahah', 4814), ('depressioninsg', 4815), ('recoveringfromdepress', 4816), ('depresseddavecom', 4817), ('depdavecom', 4818), ('jpltyoyzeu', 4819), ('spurt', 4820), ('oftentim', 4821), ('somewher', 4822), ('antigopactivist', 4823), ('enriquemflores3', 4824), ('otepoffici', 4825), ('sassymsviolet', 4826), ('mamarose2017', 4827), ('kalelvx', 4828), ('dawnresist', 4829), ('sagarch', 4830), ('kalenaanna', 4831), ('kalena', 4832), ('tia', 4833), ('oviwc', 4834), ('lexapro', 4835), ('proplanolol', 4836), ('herk360cyg', 4837), ('webcast', 4838), ('marcasmil', 4839), ('employershealth', 4840), ('ifebpl', 4841), ('neebc', 4842), ('fqqiszuabl', 4843), ('bratescu', 4844), ('stimul', 4845), ('ysjq5cxjxs', 4846), ('pl', 4847), ('championship', 4848), ('2005', 4849), ('ecstasi', 4850), ('utv', 4851), ('genr', 4852), ('goofin', 4853), ('smite', 4854), ('tn', 4855), ('vodka', 4856), ('kayla', 4857), ('shelf', 4858), ('audio', 4859), ('x0ivohpcix', 4860), ('distant', 4861), ('dunno', 4862), ('sinus', 4863), ('twin', 4864), ('tapi', 4865), ('belum', 4866), ('sama', 4867), ('lagi', 4868), ('resembl', 4869), ('classarch', 4870), ('bori', 4871), ('gentlegi', 4872), ('hopecharityproject', 4873), ('splay', 4874), ('holdonpainend', 4875), ('andquot', 4876), ('pastor', 4877), ('toolkit', 4878), ('tinyhabit', 4879), ('obes', 4880), ('ghey', 4881), ('leftist', 4882), ('showin', 4883), ('itll', 4884), ('lush', 4885), ('vibrant', 4886), ('peak', 4887), ('abandon', 4888), ('heartbroken', 4889), ('terrifi', 4890), ('survivebut', 4891), ('circl', 4892), ('istrugglewith', 4893), ('depressionsuck', 4894), ('strongertogeth', 4895), ('speakout', 4896), ('depressedbutnotdef', 4897), ('eg', 4898), ('senexchang', 4899), ('dreamt', 4900), ('cell', 4901), ('mutat', 4902), ('gif', 4903), ('platypus', 4904), ('z5ed35eitb', 4905), ('z185urghu9', 4906), ('fleabag', 4907), ('selfish', 4908), ('crocwhen', 4909), ('shire', 4910), ('injur', 4911), ('slaughterhous', 4912), ('samba', 4913), ('redraw', 4914), ('altho', 4915), ('textil', 4916), ('shane', 4917), ('mothman', 4918), ('seattl', 4919), ('departur', 4920), ('wergisislam', 4921), ('hyjidwnkm', 4922), ('dwayn', 4923), ('johnson', 4924), ('yahoolifestyl', 4925), ('contemporari', 4926), ('hearingloss', 4927), ('xriqdhcsd', 4928), ('genom', 4929), ('phenotyp', 4930), ('biobank', 4931), ('variant', 4932), ('excitatori', 4933), ('synapt', 4934), ('apr', 4935), ('ahja', 4936), ('lieb', 4937), ('friendz', 4938), ('wieder', 4939), ('mal', 4940), ('nich', 4941), ('plr', 4942), ('fkfnj7xdoh', 4943), ('ps4', 4944), ('hack', 4945), ('yugioh', 4946), ('mmds', 4947), ('glee', 4948), ('p4', 4949), ('usyky6yxai', 4950), ('trendi', 4951), ('phelp', 4952), ('blunt', 4953), ('killari', 4954), ('soar', 4955), ('envi', 4956), ('jahannam', 4957), ('fanwar', 4958), ('unfair', 4959), ('nonexist', 4960), ('skwunt', 4961), ('kxbw40vztd', 4962), ('witch', 4963), ('materialhistori', 4964), ('oregon', 4965), ('swap', 4966), ('dvd', 4967), ('havimg', 4968), ('itsashleybb', 4969), ('geeez', 4970), ('gpa', 4971), ('shoot', 4972), ('shawn', 4973), ('sleev', 4974), ('dug', 4975), ('alochol', 4976), ('isdepress', 4977), ('amadeus', 4978), ('shaffer', 4979), ('gh', 4980), ('sudburi', 4981), ('stoke', 4982), ('gentl', 4983), ('glennligon', 4984), ('xyz', 4985), ('pad', 4986), ('mismanag', 4987), ('undertr', 4988), ('amssm18', 4989), ('theamssm', 4990), ('zvyfuo1ayo', 4991), ('realmissanxieti', 4992), ('tenni', 4993), ('ceram', 4994), ('raykk', 4995), ('hectic', 4996), ('achiv', 4997), ('catastroph', 4998), ('medicationreadmor', 4999), ('buyonlin', 5000), ('n76ofv5rs0', 5001), ('recognit', 5002), ('health24com', 5003), ('empow', 5004), ('bbrfoundat', 5005), ('esljdighjf', 5006), ('5pm', 5007), ('issa', 5008), ('rae', 5009), ('presentsit', 5010), ('intim', 5011), ('inquiri', 5012), ('bake', 5013), ('stabl', 5014), ('viewer', 5015), ('superstar', 5016), ('reshap', 5017), ('emphasi', 5018), ('malais', 5019), ('quartz', 5020), ('cw', 5021), ('transphob', 5022), ('mikhaila', 5023), ('peterson', 5024), ('palai', 5025), ('dans', 5026), ('reni', 5027), ('merch', 5028), ('barrier', 5029), ('livestream', 5030), ('wifito', 5031), ('queue', 5032), ('bpdchat', 5033), ('mentalillnessmisconcept', 5034), ('lcg9pg0uua', 5035), ('ziyatong', 5036), ('china', 5037), ('coal', 5038), ('expir', 5039), ('sutton', 5040), ('d2o1ebun7g', 5041), ('jeannett', 5042), ('platter', 5043), ('rpdri', 5044), ('katya', 5045), ('awfuli', 5046), ('bulim', 5047), ('ribbon', 5048), ('rainout', 5049), ('nausea', 5050), ('backward', 5051), ('owl', 5052), ('creek', 5053), ('griev', 5054), ('dsm', 5055), ('robert', 5056), ('stack', 5057), ('havet', 5058), ('screengrab', 5059), ('wethu', 5060), ('sogqiba', 5061), ('azimel', 5062), ('nge', 5063), ('unmention', 5064), ('navig', 5065), ('christ', 5066), ('z0uma4rrpc', 5067), ('kickin', 5068), ('seqgnrljkz', 5069), ('w0w75igalj', 5070), ('socialmedia', 5071), ('joeldaw', 5072), ('orioni', 5073), ('wherev', 5074), ('consider', 5075), ('electroconvuls', 5076), ('miracl', 5077), ('krimpel', 5078), ('beyonc', 5079), ('aaaaaand', 5080), ('own', 5081), ('mc', 5082), ('interconnect', 5083), ('chloe', 5084), ('brotheridg', 5085), ('calmer', 5086), ('allah', 5087), ('sierra', 5088), ('hostileenviron', 5089), ('legalaid', 5090), ('independentreview', 5091), ('migrantvoic', 5092), ('wyyyuuuuut', 5093), ('tweetdeck', 5094), ('shawol', 5095), ('onew', 5096), ('minho', 5097), ('taemin', 5098), ('durczpqonf', 5099), ('separ', 5100), ('blot', 5101), ('tabl', 5102), ('kris', 5103), ('alkerm', 5104), ('fda', 5105), ('misunderstand', 5106), ('statnew', 5107), ('67', 5108), ('kgs', 5109), ('unrel', 5110), ('aaa', 5111), ('shooter', 5112), ('gx', 5113), ('whateverbut', 5114), ('uncontrol', 5115), ('bbi', 5116), ('johnmu', 5117), ('jab', 5118), ('bohat', 5119), ('ziada', 5120), ('honay', 5121), ('liay', 5122), ('karna', 5123), ('chaiay', 5124), ('gteen', 5125), ('hmcwffkyu7', 5126), ('carrel', 5127), ('gru', 5128), ('risen', 5129), ('nonsens', 5130), ('fieldssoci', 5131), ('anxietytens', 5132), ('disposit', 5133), ('everlast', 5134), ('depressionmajor', 5135), ('tank', 5136), ('bbc4', 5137), ('leggo', 5138), ('hyper', 5139), ('fixat', 5140), ('janell', 5141), ('lane', 5142), ('brendon', 5143), ('stubb', 5144), ('geograph', 5145), ('kingscollegelon', 5146), ('telegraph', 5147), ('therapyonlin', 5148), ('solitud', 5149), ('6ejoawqtnk', 5150), ('bend', 5151), ('seduct', 5152), ('ka1jh3ttdj', 5153), ('wrxnicka', 5154), ('obvi', 5155), ('expiri', 5156), ('outright', 5157), ('fascism', 5158), ('weedwatch', 5159), ('acb', 5160), ('aph', 5161), ('blo', 5162), ('choo', 5163), ('cmed', 5164), ('cron', 5165), ('emc', 5166), ('emh', 5167), ('gwph', 5168), ('hiku', 5169), ('mym', 5170), ('ogi', 5171), ('rqb', 5172), ('snn', 5173), ('ter', 5174), ('thcx', 5175), ('acmpr', 5176), ('kenyon', 5177), ('isabell', 5178), ('2in', 5179), ('mega', 5180), ('stylistmagazin', 5181), ('kf8krzpf2t', 5182), ('genesi', 5183), ('ounvazorh', 5184), ('ami', 5185), ('matthaig', 5186), ('limb', 5187), ('heroin', 5188), ('screed', 5189), ('spree', 5190), ('wrap', 5191), ('namjin', 5192), ('namjoon', 5193), ('centric', 5194), ('6k', 5195), ('tw', 5196), ('6fqddxe5bi', 5197), ('persuas', 5198), ('diddi', 5199), ('bloodi', 5200), ('messpleas', 5201), ('1m', 5202), ('scheme', 5203), ('combin', 5204), ('comradeship', 5205), ('agebettersheffield', 5206), ('quiz', 5207), ('antsi', 5208), ('unmotiv', 5209), ('ion', 5210), ('lkz3kzqcw9', 5211), ('angel', 5212), ('humpday', 5213), ('unclear', 5214), ('wander', 5215), ('hostil', 5216), ('4hjlzvzmgw', 5217), ('canaletto', 5218), ('dreddiemurphi', 5219), ('depressioni', 5220), ('amput', 5221), ('spine', 5222), ('kin', 5223), ('gloomi', 5224), ('xujrvb32hp', 5225), ('famacupunctur', 5226), ('functionalmedicin', 5227), ('q2f1xund8b', 5228), ('bqv4tji67i', 5229), ('puf', 5230), ('hydrat', 5231), ('irregular', 5232), ('doobi', 5233), ('sank', 5234), ('emmarose10', 5235), ('ahold', 5236), ('feck', 5237), ('phat', 5238), ('throat', 5239), ('halaloya', 5240), ('mv', 5241), ('item', 5242), ('docnerdington', 5243), ('shouti', 5244), ('cwb', 5245), ('tortur', 5246), ('amychozick', 5247), ('miloventimiglia', 5248), ('hoffman', 5249), ('lamanna', 5250), ('rlcsw', 5251), ('psychotherapist', 5252), ('hqicyy7mpc', 5253), ('8mkp8apsrf', 5254), ('hottest', 5255), ('ethiopia', 5256), ('danakil', 5257), ('environn', 5258), ('titan', 5259), ('astrobiolog', 5260), ('tourism', 5261), ('owtrevn1vi', 5262), ('jac', 5263), ('antidepressantoftheday', 5264), ('yyweoaaua', 5265), ('restraint', 5266), ('inabl', 5267), ('tasnimaktast', 5268), ('bison', 5269), ('breast', 5270), ('yumm', 5271), ('italian', 5272), ('pamper', 5273), ('blackjack', 5274), ('publix', 5275), ('mtg', 5276), ('depressionnot', 5277), ('fantasi', 5278), ('pres', 5279), ('kuuku', 5280), ('robynforzen', 5281), ('hearten', 5282), ('righteous', 5283), ('insult', 5284), ('rumor', 5285), ('intth', 5286), ('slightest', 5287), ('blip', 5288), ('bread', 5289), ('abokssignatur', 5290), ('donut', 5291), ('compliment', 5292), ('mewho', 5293), ('thumb', 5294), ('archuleta', 5295), ('lagladi', 5296), ('jbuchana', 5297), ('mentalhealh', 5298), ('parfait', 5299), ('blair', 5300), ('brown', 5301), ('g20', 5302), ('shambl', 5303), ('cameron', 5304), ('appli', 5305), ('eu', 5306), ('wanima', 5307), ('hall', 5308), ('squat', 5309), ('heartach', 5310), ('breakup', 5311), ('esgbroknjt', 5312), ('ffslukaaku', 5313), ('sharon', 5314), ('fc', 5315), ('tupelo', 5316), ('demo', 5317), ('rsd', 5318), ('oz6nlwok4x', 5319), ('guidanc', 5320), ('clinician', 5321), ('alter', 5322), ('cnifii0mgc', 5323), ('annual', 5324), ('zav', 5325), ('ten', 5326), ('razor', 5327), ('firenoob', 5328), ('sackless', 5329), ('doughi', 5330), ('kevvi', 5331), ('offlin', 5332), ('tongu', 5333), ('douchey', 5334), ('sousa', 5335), ('hayleykiyoko', 5336), ('netizen', 5337), ('larsens', 5338), ('frontal', 5339), ('lobe', 5340), ('transmiss', 5341), ('comorbid', 5342), ('placenta', 5343), ('capsul', 5344), ('pregnancyproblem', 5345), ('childbirth', 5346), ('r06lbhr1wg', 5347), ('childish', 5348), ('complic', 5349), ('crescent', 5350), ('moder', 5351), ('paradox', 5352), ('wash', 5353), ('etvpod', 5354), ('thoughtspctrum', 5355), ('expos', 5356), ('unnecessari', 5357), ('nuanc', 5358), ('convey', 5359), ('xkad37qe7o', 5360), ('herstori', 5361), ('director', 5362), ('cohes', 5363), ('aspir', 5364), ('amplifi', 5365), ('rumin', 5366), ('f4qde3lvs4', 5367), ('knowthesign', 5368), ('kirk', 5369), ('vancouv', 5370), ('inquisit', 5371), ('patholog', 5372), ('foreshadow', 5373), ('carljung', 5374), ('ballin', 5375), ('basketbal', 5376), ('92', 5377), ('coursework', 5378), ('ap', 5379), ('thrive', 5380), ('cowboy', 5381), ('derekcav', 5382), ('senexhang', 5383), ('churro', 5384), ('bribearxoxo', 5385), ('hobojebus', 5386), ('socialist', 5387), ('dust', 5388), ('unit', 5389), ('slaughter', 5390), ('starvat', 5391), ('hut', 5392), ('jog', 5393), ('linger', 5394), ('dkegel', 5395), ('inflam', 5396), ('mening', 5397), ('cliff', 5398), ('acut', 5399), ('hypocrit', 5400), ('bigdata', 5401), ('compens', 5402), ('anorexia', 5403), ('inbetween', 5404), ('bs', 5405), ('brake', 5406), ('adm', 5407), ('gwb', 5408), ('demolish', 5409), ('realnew', 5410), ('healthnew', 5411), ('subsid', 5412), ('bojack', 5413), ('horseman', 5414), ('hm', 5415), ('soft', 5416), ('generalis', 5417), ('stressstudi', 5418), ('psychoact', 5419), ('compound', 5420), ('audrey', 5421), ('behaviour', 5422), ('restor', 5423), ('naman', 5424), ('laughter', 5425), ('regain', 5426), ('forthcom', 5427), ('wireless', 5428), ('acct', 5429), ('1am', 5430), ('retribut', 5431), ('itsliverpool', 5432), ('6vpm63ypzi', 5433), ('presssec', 5434), ('mnt', 5435), ('propos', 5436), ('psycho', 5437), ('hereditari', 5438), ('evolutionari', 5439), ('stockleyacademi', 5440), ('ks3', 5441), ('bb', 5442), ('followthisguid', 5443), ('hxasdjg5mm', 5444), ('senderosp', 5445), ('darkest', 5446), ('profound', 5447), ('44', 5448), ('apnea', 5449), ('kanatungaa', 5450), ('theskindoctor13', 5451), ('minimathur', 5452), ('themystic19', 5453), ('rebelliousragg', 5454), ('sethshruti', 5455), ('bie', 5456), ('bharat', 5457), ('provok', 5458), ('gnna', 5459), ('nct', 5460), ('wonwoo', 5461), ('dome', 5462), ('amphetamin', 5463), ('sciencedaili', 5464), ('asamorg', 5465), ('commerci', 5466), ('li', 5467), ('easter', 5468), ('destin', 5469), ('hiv', 5470), ('oupojdcmyd', 5471), ('jurass', 5472), ('trilog', 5473), ('nostalg', 5474), ('optimist', 5475), ('abraham', 5476), ('creas', 5477), ('wrist', 5478), ('au', 5479), ('les', 5480), ('da', 5481), ('pd', 5482), ('nthabi', 5483), ('mokak', 5484), ('deniernyc', 5485), ('abat', 5486), ('asap', 5487), ('snow', 5488), ('bitchywolfhard', 5489), ('scholarofsong', 5490), ('sob', 5491), ('kitti', 5492), ('chaoslilkat', 5493), ('proclaim', 5494), ('disenfranchis', 5495), ('tl', 5496), ('essenti', 5497), ('panelist', 5498), ('artnew', 5499), ('fonder', 5500), ('riku', 5501), ('afloat', 5502), ('fffssss', 5503), ('szn', 5504), ('rowl', 5505), ('rosen', 5506), ('veil', 5507), ('morrow', 5508), ('hkm67dbys0', 5509), ('msn', 5510), ('spooker', 5511), ('zzz', 5512), ('insuffici', 5513), ('candlewick', 5514), ('candl', 5515), ('holder', 5516), ('imperi', 5517), ('mentalhealthawarenessmonth', 5518), ('thyroid', 5519), ('vit', 5520), ('tidi', 5521), ('zoolog', 5522), ('remix', 5523), ('cav', 5524), ('camh', 5525), ('tynnyri500', 5526), ('callmekorv', 5527), ('samaritan', 5528), ('papyrus', 5529), ('lowensteinhous', 5530), ('coolbrainfact', 5531), ('wecar', 5532), ('wn9qhnld4e', 5533), ('camera', 5534), ('xglw9pkxgl', 5535), ('campfir', 5536), ('lowkey', 5537), ('vxjklynldv', 5538), ('momlif', 5539), ('gymlif', 5540), ('lifego', 5541), ('florida', 5542), ('strang', 5543), ('tortilla', 5544), ('olivia', 5545), ('consecut', 5546), ('idnt', 5547), ('chester', 5548), ('upmc', 5549), ('proceed', 5550), ('dreambuild', 5551), ('virginiamason', 5552), ('companion', 5553), ('donor', 5554), ('onslaught', 5555), ('umm', 5556), ('littlemissmoo', 5557), ('peni', 5558), ('adderal', 5559), ('leftov', 5560), ('delay', 5561), ('electron', 5562), ('kit', 5563), ('ucla', 5564), ('qvxstw5eus', 5565), ('modul', 5566), ('gsk', 5567), ('catenin', 5568), ('rat', 5569), ('notsmilingoninsid', 5570), ('2gh0h6avix', 5571), ('scar', 5572), ('selfharm', 5573), ('stampoutstigma', 5574), ('2020', 5575), ('elimin', 5576), ('mumbai', 5577), ('steven', 5578), ('hwsheffield', 5579), ('davidluck13', 5580), ('oughtibridg', 5581), ('kms', 5582), ('electro', 5583), ('cmon', 5584), ('weepi', 5585), ('28', 5586), ('chronicallysick', 5587), ('chronicpain', 5588), ('chronicil', 5589), ('north', 5590), ('braintech', 5591), ('pk11195', 5592), ('marker', 5593), ('nihrbrainm', 5594), ('helenswrit', 5595), ('livingwithdepress', 5596), ('it8zj8uio4', 5597), ('placesin', 5598), ('plagu', 5599), ('canyon', 5600), ('lls', 5601), ('tree', 5602), ('analyz', 5603), ('reddit', 5604), ('util', 5605), ('static', 5606), ('goldunveil', 5607), ('museiincomun', 5608), ('museo', 5609), ('awaken', 5610), ('pv', 5611), ('sope', 5612), ('aumin', 5613), ('yoongi', 5614), ('jung', 5615), ('hoseok', 5616), ('dbeshh6cia', 5617), ('mysuperpow', 5618), ('hokkien', 5619), ('younger', 5620), ('ftw', 5621), ('heroic', 5622), ('highway', 5623), ('bridg', 5624), ('bam', 5625), ('ggd7wpulrq', 5626), ('robin', 5627), ('gr8', 5628), ('rjcc', 5629), ('freeyourmindkid', 5630), ('sanen85', 5631), ('notch', 5632), ('daykeep', 5633), ('awayweh', 5634), ('biscuit', 5635), ('bonus', 5636), ('instruct', 5637), ('jkf4qga4hw', 5638), ('code', 5639), ('steak', 5640), ('slice', 5641), ('heb', 5642), ('lest', 5643), ('therebi', 5644), ('defil', 5645), ('corrupt', 5646), ('igtduaojpm', 5647), ('spotifi', 5648), ('feelsi', 5649), ('samcurtisart', 5650), ('15th', 5651), ('tan', 5652), ('sht', 5653), ('twittervers', 5654), ('b12', 5655), ('matthew', 5656), ('britain', 5657), ('stair', 5658), ('sksksksksk', 5659), ('kanskadkckxkdk', 5660), ('j2uf7ula0r', 5661), ('castlehil', 5662), ('brass', 5663), ('luke5so', 5664), ('wound', 5665), ('ungrat', 5666), ('multi', 5667), ('80k', 5668), ('40k', 5669), ('collegedecisions2k18', 5670), ('vape', 5671), ('sativa', 5672), ('yqyng3wtiz', 5673), ('polarmuseum', 5674), ('accur', 5675), ('superior', 5676), ('talkingtherapi', 5677), ('peopledepress', 5678), ('sleepdepress', 5679), ('insidedepress', 5680), ('goingdepress', 5681), ('net', 5682), ('doingg', 5683), ('fandom', 5684), ('bday', 5685), ('tiernan', 5686), ('plastic', 5687), ('tt7spj7qmg', 5688), ('substanc', 5689), ('sequela', 5690), ('se', 5691), ('pmcmtwbryd', 5692), ('lyric', 5693), ('mmmm', 5694), ('fi2jx3zzda', 5695), ('imma', 5696), ('mike', 5697), ('fw', 5698), ('headphon', 5699), ('andrewnairn', 5700), ('09', 5701), ('vx4ih11we9', 5702), ('ascent', 5703), ('akp', 5704), ('burak', 5705), ('rel', 5706), ('theerpi', 5707), ('stepscentr', 5708), ('oxley', 5709), ('frazzl', 5710), ('peel', 5711), ('hip', 5712), ('ireland', 5713), ('subtweet', 5714), ('okeydok', 5715), ('doki', 5716), ('hokey', 5717), ('okey', 5718), ('okledockl', 5719), ('slang', 5720), ('oklahoman', 5721), ('ddlovato', 5722), ('gunna', 5723), ('hellish', 5724), ('acim', 5725), ('w33', 5726), ('salvat', 5727), ('id', 5728), ('w70', 5729), ('rewir', 5730), ('bliss', 5731), ('dessert', 5732), ('cabinet', 5733), ('curio', 5734), ('seansaid', 5735), ('t2', 5736), ('camila', 5737), ('cabello', 5738), ('bazzi', 5739), ('unreal', 5740), ('lesbian', 5741), ('orient', 5742), ('heterosexu', 5743), ('counterpart', 5744), ('beckymgonzalez', 5745), ('camryn', 5746), ('jessleal7', 5747), ('yourdragmoth', 5748), ('bradin', 5749), ('walker', 5750), ('carlosdaddylara', 5751), ('bumptime247', 5752), ('mxriah', 5753), ('rensbbi', 5754), ('dobrikskopf', 5755), ('sine', 5756), ('mn', 5757), ('obizniz', 5758), ('babimare', 5759), ('thomas123', 5760), ('urib1184', 5761), ('shafayahya', 5762), ('shafa', 5763), ('bein', 5764), ('insensit', 5765), ('shd', 5766), ('bt', 5767), ('monetari', 5768), ('chairman', 5769), ('bernank', 5770), ('economist', 5771), ('milton', 5772), ('friedman', 5773), ('wednesdaythought', 5774), ('25april', 5775), ('bayern', 5776), ('ronaldo', 5777), ('fanboy', 5778), ('incorrect', 5779), ('mentalheath', 5780), ('daisyretreat', 5781), ('boxwood', 5782), ('latent', 5783), ('wnfpugcb7n', 5784), ('pineappl', 5785), ('jb', 5786), ('bio', 5787), ('introvert', 5788), ('dash', 5789), ('extrovert', 5790), ('arena', 5791), ('emapth', 5792), ('taster', 5793), ('gene', 5794), ('dank', 5795), ('hes', 5796), ('blackish', 5797), ('silk', 5798), ('nanci', 5799), ('famil', 5800), ('chest', 5801), ('pluto', 5802), ('pweas', 5803), ('explorewellcom', 5804), ('ashmoleanmuseum', 5805), ('bassetlawmuseum', 5806), ('poolemuseum', 5807), ('4yrstoday', 5808), ('scottila1459', 5809), ('dubya', 5810), ('tril', 5811), ('2tril', 5812), ('unfund', 5813), ('mandat', 5814), ('declin', 5815), ('countercycl', 5816), ('animalplanet', 5817), ('askspikeonlin', 5818), ('albrecht', 5819), ('gloria', 5820), ('pool', 5821), ('missouri', 5822), ('faulconbridg', 5823), ('penrith', 5824), ('00pm', 5825), ('10pm', 5826), ('riden', 5827), ('felin', 5828), ('hitchhink', 5829), ('brianwilliamson', 5830), ('flirt', 5831), ('kalm', 5832), ('corpor', 5833), ('hc', 5834), ('sworn', 5835), ('acdc', 5836), ('flickr', 5837), ('ofc', 5838), ('sour', 5839), ('sop', 5840), ('healthbenefit', 5841), ('save10', 5842), ('checkout', 5843), ('jlmcaleer', 5844), ('grass', 5845), ('greensun', 5846), ('shininglowest', 5847), ('score', 5848), ('droppeddepress', 5849), ('lovesss', 5850), ('volatil', 5851), ('bullish', 5852), ('bearish', 5853), ('expans', 5854), ('rbi', 5855), ('hawkish', 5856), ('dovish', 5857), ('nda', 5858), ('upa', 5859), ('sipkaromastraho', 5860), ('mutualfund', 5861), ('courtauldsummerparti', 5862), ('courtauld', 5863), ('letthegoodtimesrol', 5864), ('eiffel', 5865), ('followart', 5866), ('leeann', 5867), ('2018goal', 5868), ('53lbs', 5869), ('cardio', 5870), ('bicep', 5871), ('5k', 5872), ('stepford', 5873), ('ish', 5874), ('sausag', 5875), ('2gether', 5876), ('gloss', 5877), ('coloni', 5878), ('topi', 5879), ('holllllla', 5880), ('rio', 5881), ('summ', 5882), ('foood', 5883), ('oppos', 5884), ('forsur', 5885), ('pitboard', 5886), ('tourcrush', 5887), ('mindontleavem', 5888), ('psyblog', 5889), ('bjuajju4vx', 5890), ('fuuuucckedd', 5891), ('hjdjjsiurjhjfhoipwplkjdhjdhhjhjdxdhueuhrjjjjjaaayyyyyyyyyyyi', 5892), ('eek', 5893), ('planet', 5894), ('revel', 5895), ('sneakpeek', 5896), ('rediscov', 5897), ('precolumbian', 5898), ('jago', 5899), ('inca', 5900), ('gumawa', 5901), ('tula', 5902), ('bellowhead', 5903), ('boden', 5904), ('vichallsaltair', 5905), ('saltair', 5906), ('heginbotham', 5907), ('weareallremnantk', 5908), ('markybt', 5909), ('kimshutl', 5910), ('hawarunsaund', 5911), ('ptkesrjxkh', 5912), ('stereotyp', 5913), ('lonelyplanet', 5914), ('notsosunni', 5915), ('elocio', 5916), ('joker', 5917), ('bestest', 5918), ('usa', 5919), ('impressionist', 5920), ('ovguid', 5921), ('celbriti', 5922), ('bulma', 5923), ('d72grmzblk', 5924), ('colin', 5925), ('macaulay', 5926), ('di', 5927), ('duncansalkeld', 5928), ('heather1576', 5929), ('nottarchaeolog', 5930), ('honour', 5931), ('babyyyyi', 5932), ('mcavoy', 5933), ('irresist', 5934), ('hawwttt', 5935), ('glitteri', 5936), ('wore', 5937), ('map', 5938), ('anxietythem', 5939), ('sheppard', 5940), ('lahp', 5941), ('dtp', 5942), ('summerschool', 5943), ('uknatarch', 5944), ('britishlibrari', 5945), ('gameplay', 5946), ('footag', 5947), ('screenshot', 5948), ('ps3', 5949), ('donottouch', 5950), ('assarish', 5951), ('creativeag', 5952), ('ammm', 5953), ('girll', 5954), ('burpe', 5955), ('y719kobw91', 5956), ('methodist', 5957), ('lorenphoto', 5958), ('wc', 5959), ('hype', 5960), ('serial', 5961), ('manhattan', 5962), ('relish', 5963), ('rib', 5964), ('1930', 5965), ('anticip', 5966), ('princess', 5967), ('shuri', 5968), ('kevin', 5969), ('mummifi', 5970), ('croc', 5971), ('eavesdrop', 5972), ('ha7ej77muv', 5973), ('workhard', 5974), ('beautifullif', 5975), ('keepontri', 5976), ('summeriscom', 5977), ('courtyard', 5978), ('delft', 5979), ('atlanti', 5980), ('hubbl', 5981), ('indonesia', 5982), ('millan', 5983), ('cesarmillan', 5984), ('ollow', 5985), ('swift', 5986), ('havenward', 5987), ('tux', 5988), ('deker', 5989), ('abeautyhealthi', 5990), ('hung', 5991), ('bouquet', 5992), ('groom', 5993), ('helmi', 5994), ('cuddi', 5995), ('besid', 5996), ('menudo', 5997), ('vanessagounden', 5998), ('wearableart', 5999), ('artiv', 6000), ('alfr', 6001), ('walli', 6002), ('cornish', 6003), ('primit', 6004), ('stivessocieti', 6005), ('einstein', 6006), ('pedagoofriday', 6007), ('wingit', 6008), ('ldn', 6009), ('peytonandbyrn', 6010), ('oliverpeyton', 6011), ('chapmangl', 6012), ('grasslakec', 6013), ('adobespark', 6014), ('geographi', 6015), ('ipt', 6016), ('moree', 6017), ('ove', 6018), ('maen', 6019), ('loveeeyi', 6020), ('eatin', 6021), ('cacl', 6022), ('badg', 6023), ('biz', 6024), ('owner', 6025), ('feast', 6026), ('16th', 6027), ('crochet', 6028), ('craftsmanship', 6029), ('onthisday', 6030), ('katymontgomeri', 6031), ('owe', 6032), ('glamor', 6033), ('minion', 6034), ('cinemat', 6035), ('skyfal', 6036), ('minichocol', 6037), ('liquor', 6038), ('liqour', 6039), ('maxxi', 6040), ('whippet', 6041), ('littlest', 6042), ('houseguest', 6043), ('atmospher', 6044), ('authorisedsabbat', 6045), ('awesomest', 6046), ('jaim', 6047), ('nurseri', 6048), ('messi', 6049), ('uoe', 6050), ('medhist', 6051), ('thunder', 6052), ('louisvill', 6053), ('derbi', 6054), ('versa', 6055), ('jay', 6056), ('vie', 6057), ('angi', 6058), ('rove', 6059), ('badgerbadgerbadg', 6060), ('sourc', 6061), ('cfontainebleau', 6062), ('ph', 6063), ('nal', 6064), ('coverag', 6065), ('strainprint', 6066), ('medicalmarijuana', 6067), ('medicalcannabi', 6068), ('emosh', 6069), ('mmmmmmmmmmmmmmmmmmm', 6070), ('davidchoimus', 6071), ('mraz', 6072), ('colbi', 6073), ('caillat', 6074), ('capcom', 6075), ('zangief', 6076), ('bulk', 6077), ('fighter', 6078), ('ndtv', 6079), ('ndtvlivestream', 6080), ('discipl', 6081), ('devote', 6082), ('mirandastearn', 6083), ('fitalbott', 6084), ('joreilly00', 6085), ('wendi', 6086), ('triathlon', 6087), ('paramed', 6088), ('pitch', 6089), ('buck', 6090), ('toll', 6091), ('cds', 6092), ('breakfastofk', 6093), ('kung', 6094), ('pano', 6095), ('nalabanan', 6096), ('yung', 6097), ('tent', 6098), ('mcmuffin', 6099), ('58', 6100), ('campicturehous', 6101), ('tabcambridg', 6102), ('3ft', 6103), ('supper', 6104), ('rave', 6105), ('laterr', 6106), ('probli', 6107), ('seak', 6108), ('dunya', 6109), ('ignit', 6110), ('naiv', 6111), ('heavili', 6112), ('rab', 6113), ('feather', 6114), ('yiygubqasa', 6115), ('abroadbrush', 6116), ('7sf', 6117), ('vega', 6118), ('6th', 6119), ('dirai', 6120), ('notr', 6121), ('dame', 6122), ('day36', 6123), ('365daysofselfcar', 6124), ('stresscontrol', 6125), ('stresscontrol1', 6126), ('iwishicoulddoiteveryday', 6127), ('somethingform', 6128), ('deplurk', 6129), ('buhbyee', 6130), ('interrupt', 6131), ('chapter', 6132), ('36', 6133), ('parthenon', 6134), ('kboyceq', 6135), ('zada', 6136), ('beda', 6137), ('thepoldarkian', 6138), ('wth', 6139), ('vermeer', 6140), ('inarttour', 6141), ('masterpiec', 6142), ('nath', 6143), ('angl', 6144), ('feeter', 6145), ('chick', 6146), ('gag', 6147), ('ahahaha', 6148), ('jacket', 6149), ('buddha', 6150), ('moodcard', 6151), ('k5khydrkvj', 6152), ('luhhh', 6153), ('ttyt', 6154), ('solac', 6155), ('paramount', 6156), ('myhemophiliateam', 6157), ('ashdown', 6158), ('carl', 6159), ('tippett', 6160), ('tonn', 6161), ('macg', 6162), ('faeri', 6163), ('bonjour', 6164), ('twitterett', 6165), ('vangogh', 6166), ('bottecelli', 6167), ('eclips', 6168), ('cooler', 6169), ('jt', 6170), ('ohkay', 6171), ('obbess', 6172), ('handshak', 6173), ('alrit', 6174), ('thanxx', 6175), ('22nd', 6176), ('danni', 6177), ('aztec', 6178), ('arseni', 6179), ('zhilyaev', 6180), ('biennal', 6181), ('billi', 6182), ('cyrusim', 6183), ('mysha', 6184), ('myreen', 6185), ('igersexet', 6186), ('shar', 6187), ('yjech', 6188), ('thei', 6189), ('stell', 6190), ('deazi', 6191), ('traine', 6192), ('redisplay', 6193), ('arthistorydegre', 6194), ('wellworthit', 6195), ('natgalleryaus', 6196), ('annamacphail', 6197), ('sacc', 6198), ('quarterlif', 6199), ('column', 6200), ('impos', 6201), ('unpack', 6202), ('cactus', 6203), ('v4', 6204), ('lightnightlpool', 6205), ('loi', 6206), ('familar', 6207), ('lyk', 6208), ('wut', 6209), ('steakandhonour', 6210), ('hygien', 6211), ('rent', 6212), ('richard51185877', 6213), ('eccl', 6214), ('hardwork', 6215), ('ethnographi', 6216), ('dousch', 6217), ('hahahahah', 6218), ('2500', 6219), ('savagebeauti', 6220), ('nm', 6221), ('xxxxxxxx', 6222), ('blackburn', 6223), ('logo', 6224), ('imm', 6225), ('l8terz', 6226), ('panick', 6227), ('sacrific', 6228), ('yahoo', 6229), ('2006', 6230), ('unhappi', 6231), ('pendem', 6232), ('z3vzigseaa', 6233), ('nihilist', 6234), ('inclin', 6235), ('qotd', 6236), ('yawnerddn', 6237), ('fairytal', 6238), ('craaaaazzyy', 6239), ('alexand', 6240), ('rybak', 6241), ('kisha', 6242), ('cnt', 6243), ('frm', 6244), ('guatemala', 6245), ('firecrack', 6246), ('manga', 6247), ('fifth', 6248), ('crossroad', 6249), ('braid', 6250), ('clumsi', 6251), ('condom', 6252), ('sexxxi', 6253), ('43', 6254), ('maga', 6255), ('treasuri', 6256), ('soc', 6257), ('sec', 6258), ('trickl', 6259), ('trillion', 6260), ('poker', 6261), ('lalala', 6262), ('euhh', 6263), ('medusa', 6264), ('thxsoooomuch', 6265), ('madrid', 6266), ('mytholog', 6267), ('seahors', 6268), ('forealz', 6269), ('uffizidotcom', 6270), ('nokla', 6271), ('plymlibrari', 6272), ('cece', 6273), ('fifi', 6274), ('beau', 6275), ('stall', 6276), ('deaf', 6277), ('quak', 6278), ('policeman', 6279), ('oo', 6280), ('fairi', 6281), ('denni', 6282), ('yonishtrash', 6283), ('hicer', 6284), ('bobbarclay', 6285), ('snookie007', 6286), ('amiti', 6287), ('uscrudeoil', 6288), ('millenniumart', 6289), ('tremenheer', 6290), ('wooh', 6291), ('fmm', 6292), ('craze', 6293), ('roflrofl', 6294), ('daylerobyn', 6295), ('tbimag', 6296), ('camcitco', 6297), ('durhamrderbi', 6298), ('seifertova', 6299), ('anthropologytip', 6300), ('bonzo', 6301), ('190lb', 6302), ('parines', 6303), ('sp', 6304), ('bark', 6305), ('fierc', 6306), ('pussycat', 6307), ('shang', 6308), ('spatter', 6309), ('penn', 6310), ('shctravel', 6311), ('nia', 6312), ('gilesbennet', 6313), ('strangelov', 6314), ('meth', 6315), ('erm', 6316), ('ericsson', 6317), ('hoax', 6318), ('bofh', 6319), ('cmuellertweet', 6320), ('avicii', 6321), ('ca', 6322), ('2943', 6323), ('counti', 6324), ('vocat', 6325), ('royal', 6326), ('snyc', 6327), ('unbirthday', 6328), ('thigh', 6329), ('xo', 6330), ('napier', 6331), ('han', 6332), ('humour', 6333), ('venki', 6334), ('pachad', 6335), ('randolphstproduct', 6336), ('mypodcast', 6337), ('britney', 6338), ('spear', 6339), ('desktop', 6340), ('tosh', 6341), ('paulkeat', 6342), ('1992', 6343), ('jink', 6344), ('classicis', 6345), ('graffito', 6346), ('senecarul', 6347), ('qz', 6348), ('regal', 6349), ('hal', 6350), ('pea', 6351), ('butterscotch', 6352), ('specifi', 6353), ('beaut', 6354), ('fruiti', 6355), ('cotton', 6356), ('hempleman', 6357), ('hairgild', 6358), ('upstair', 6359), ('3speeder', 6360), ('sweeni', 6361), ('deadset', 6362), ('emmahiggcn', 6363), ('townsend', 6364), ('midst', 6365), ('timeless', 6366), ('wgydnjv2dx', 6367), ('andersenemili', 6368), ('darkroom', 6369), ('alia', 6370), ('ailsa', 6371), ('amazin', 6372), ('morrissey', 6373), ('deleg', 6374), ('swfed', 6375), ('devonportguildhal', 6376), ('theplumlineg', 6377), ('ps2', 6378), ('ddgs', 6379), ('dsps', 6380), ('pillow', 6381), ('jello', 6382), ('mud', 6383), ('espresso', 6384), ('mous', 6385), ('approv', 6386), ('podiobook', 6387), ('jackass', 6388), ('detach', 6389), ('transgress', 6390), ('provoc', 6391), ('baileyc333', 6392), ('deadliest', 6393), ('selena', 6394), ('gomez', 6395), ('teruel', 6396), ('oopssss', 6397), ('ypur', 6398), ('scissorhand', 6399), ('girllll', 6400), ('gang', 6401), ('wolv', 6402), ('howl', 6403), ('tweetup', 6404), ('afterparti', 6405), ('genji', 6406), ('ruralart', 6407), ('comicstrip', 6408), ('tatecollect', 6409), ('default', 6410), ('attn', 6411), ('cannon', 6412), ('dour', 6413), ('parry2shawn', 6414), ('izzi', 6415), ('chubb', 6416), ('typic', 6417), ('magat', 6418), ('remark', 6419), ('likemind', 6420), ('tweepl', 6421), ('nooo', 6422), ('9m', 6423), ('scent', 6424), ('anywho', 6425), ('loner', 6426), ('6lbs', 6427), ('rush', 6428), ('ewww', 6429), ('wateri', 6430), ('18yr', 6431), ('wing', 6432), ('ultrasound', 6433), ('jeremyrjenkin', 6434), ('marknutt', 6435), ('buhat', 6436), ('multipli', 6437), ('ang', 6438), ('choova', 6439), ('goodlifegrspc', 6440), ('props4wah', 6441), ('ravensu', 6442), ('andykarela', 6443), ('knittingnew', 6444), ('susancosmo', 6445), ('glub', 6446), ('slowdown', 6447), ('bipolardisord', 6448), ('oooh', 6449), ('immens', 6450), ('itt', 6451), ('lager', 6452), ('meantimebrew', 6453), ('establish', 6454), ('tumor', 6455), ('uhbsxsept7', 6456), ('strokeassocldn', 6457), ('twittervill', 6458), ('ciao', 6459), ('hrer', 6460), ('quantiti', 6461), ('250', 6462), ('mg', 6463), ('oxid', 6464), ('madald', 6465), ('mga', 6466), ('ganon', 6467), ('brighter', 6468), ('eya', 6469), ('gbu', 6470), ('loooong', 6471), ('chug', 6472), ('iiiiit', 6473), ('lifter', 6474), ('strengththerapi', 6475), ('spinal', 6476), ('rod', 6477), ('insert', 6478), ('possess', 6479), ('sheldon', 6480), ('misskeribabi', 6481), ('80s', 6482), ('elif', 6483), ('nsal', 6484), ('avdal', 6485), ('junip', 6486), ('jojc', 6487), ('7ckbu54qpb', 6488), ('ont', 6489), ('jumanji', 6490), ('mannn', 6491), ('banga', 6492), ('ballad', 6493), ('gon', 6494), ('930', 6495), ('mlg', 6496), ('laconicphoto', 6497), ('hoylandh', 6498), ('cappi', 6499), ('jack', 6500), ('keynot', 6501), ('decor', 6502), ('bobstaah', 6503), ('bobbi', 6504), ('elc', 6505), ('quad', 6506), ('mocha', 6507), ('archiveshub', 6508), ('pencil', 6509), ('amo', 6510), ('lite', 6511), ('bicycl', 6512), ('biiiik', 6513), ('rpi6zq43uo', 6514), ('caffein', 6515), ('transmut', 6516), ('museumarch', 6517), ('arobert', 6518), ('bartend', 6519), ('kandic', 6520), ('sailor', 6521), ('casey', 6522), ('comet', 6523), ('24hrs', 6524), ('periscopetv', 6525), ('byte', 6526), ('oponopono', 6527), ('lunchtim', 6528), ('hoppusday', 6529), ('touchin', 6530), ('suckin', 6531), ('hahhah', 6532), ('entic', 6533), ('sideway', 6534), ('browser', 6535), ('lisajewelluk', 6536), ('mus', 6537), ('cera', 6538), ('baramundi', 6539), ('olympiaantiqu', 6540), ('clive', 6541), ('loveless', 6542), ('fray', 6543), ('usg', 6544), ('demonstr', 6545), ('profjoecain', 6546), ('coolest', 6547), ('cart', 6548), ('fiction', 6549), ('thin', 6550), ('twitterland', 6551), ('metoffic', 6552), ('niallhrobinson', 6553), ('metolab', 6554), ('rachelprudden', 6555), ('hogben', 6556), ('threw', 6557), ('hardest', 6558), ('daigl', 6559), ('c6jssmcffx', 6560), ('moreliverpool', 6561), ('maryborough', 6562), ('rsl', 6563), ('alabama', 6564), ('cuba', 6565), ('wage', 6566), ('conciqu', 6567), ('rom', 6568), ('furhermor', 6569), ('sucid', 6570), ('wrexhammuseum', 6571), ('wrexham', 6572), ('formal', 6573), ('emnuttal', 6574), ('curltasticgurl', 6575), ('asmr', 6576), ('scotland', 6577), ('merg', 6578), ('collag', 6579), ('mixtap', 6580), ('toddtheengin', 6581), ('listentoivan', 6582), ('gross', 6583), ('pooch', 6584), ('industri', 6585), ('fiest', 6586), ('espectacular', 6587), ('sunbeam', 6588), ('shite', 6589), ('beguil', 6590), ('andrea', 6591), ('del', 6592), ('sarto', 6593), ('membership', 6594), ('jacquelin', 6595), ('disast', 6596), ('fiddl', 6597), ('d6worjzka3', 6598), ('piero', 6599), ('della', 6600), ('francesca', 6601), ('sheff', 6602), ('monet', 6603), ('whatif', 6604), ('yqbaba', 6605), ('yqquot', 6606), ('yourquot', 6607), ('yourquoteapp', 6608), ('6a6zft61s', 6609), ('daddi', 6610), ('kidscrazi', 6611), ('rockin', 6612), ('marley', 6613), ('mommaa', 6614), ('minter', 6615), ('7up', 6616), ('lithium', 6617), ('stabil', 6618), ('tudorhistori', 6619), ('rex', 6620), ('resort', 6621), ('suburban', 6622), ('lgbt', 6623), ('parkinsson', 6624), ('oatmeal', 6625), ('bloom', 6626), ('wisteria', 6627), ('alyssa', 6628), ('favour', 6629), ('barbi', 6630), ('menstrual', 6631), ('vagin', 6632), ('ghost', 6633), ('dublin', 6634), ('berlin', 6635), ('pursebuzz', 6636), ('tito', 6637), ('flickbook', 6638), ('aacura', 6639), ('clip', 6640), ('mrs', 6641), ('clarin', 6642), ('wednesdaymotiv', 6643), ('nope', 6644), ('sumit', 6645), ('sum1', 6646), ('portraitur', 6647), ('roar', 6648), ('2010', 6649), ('excess', 6650), ('contributor', 6651), ('chit', 6652), ('dosent', 6653), ('plane', 6654), ('monitor', 6655), ('dunde', 6656), ('flicker', 6657), ('ughh', 6658), ('lc', 6659), ('pratt', 6660), ('collector', 6661), ('goodnit', 6662), ('liontedprid', 6663), ('bohl', 6664), ('euthanasia', 6665), ('belgium', 6666), ('euthan', 6667), ('w6ej1bv7i7', 6668), ('brogan', 6669), ('fleamarket', 6670), ('punta', 6671), ('cana', 6672), ('ingrid', 6673), ('frakk', 6674), ('heyi', 6675), ('fatter', 6676), ('enforc', 6677), ('postur', 6678), ('fg5rlnggrb', 6679), ('tharadbrad', 6680), ('dayz', 6681), ('loveourpast', 6682), ('happpppppi', 6683), ('camilll', 6684), ('cuti', 6685), ('jam', 6686), ('hafto', 6687), ('26', 6688), ('bmx', 6689), ('bwubstnjh8', 6690), ('nj', 6691), ('twitbotnew', 6692), ('gmoney52', 6693), ('folfriday', 6694), ('gmoney', 6695), ('museumsassoc', 6696), ('virtual', 6697), ('junora', 6698), ('wap', 6699), ('lang', 6700), ('noh', 6701), ('derunkah', 6702), ('woooooooo', 6703), ('opi', 6704), ('ds', 6705), ('updatee', 6706), ('nottobemiss', 6707), ('correspond', 6708), ('cosmo', 6709), ('meltdown', 6710), ('csi', 6711), ('miami', 6712), ('vivstylz', 6713), ('gerryma', 6714), ('178', 6715), ('steev', 6716), ('yeow', 6717), ('folowerssss', 6718), ('mesmeris', 6719), ('matthia', 6720), ('stom', 6721), ('vc9nmx376b', 6722), ('comparison', 6723), ('gucci', 6724), ('kyle', 6725), ('xy', 6726), ('yarinhochman', 6727), ('alltop', 6728), ('14554550', 6729), ('hummingbbakeri', 6730), ('lifeisgood', 6731), ('fridayfeel', 6732), ('cyberstalk', 6733), ('api', 6734), ('oauth', 6735), ('button', 6736), ('nosham', 6737), ('notalon', 6738), ('sicknotweak', 6739), ('fox6tedperri', 6740), ('6sntlj17m4', 6741), ('nothin', 6742), ('artheal', 6743), ('neuro', 6744), ('aerob', 6745), ('strengthen', 6746), ('systemrevers', 6747), ('etcprev', 6748), ('ow3x5ndmaf', 6749), ('rothschild', 6750), ('problemyou', 6751), ('danlewisnet', 6752), ('gogh', 6753), ('thame', 6754), ('bes', 6755), ('punk', 6756), ('ednacz', 6757), ('pat', 6758), ('tweetlat', 6759), ('terrel', 6760), ('district', 6761), ('council', 6762), ('mazemb', 6763), ('offenc', 6764), ('fond', 6765), ('hellerrr', 6766), ('followerss', 6767), ('tricina', 6768), ('uhhm', 6769), ('threeter', 6770), ('hatchard', 6771), ('squad', 6772), ('battalion', 6773), ('lookthund', 6774), ('osx', 6775), ('jash', 6776), ('cheerdanc', 6777), ('oldest', 6778), ('europa', 6779), ('abduct', 6780), ('zeus', 6781), ('abatevintag', 6782), ('fleurchipbowl', 6783), ('downhil', 6784), ('mynameiskaraaaa', 6785), ('calif', 6786), ('earthquak', 6787), ('adventureswithtuck', 6788), ('bhandl', 6789), ('gtrooprha', 6790), ('sinonevero', 6791), ('suzilov', 6792), ('lansonloyalti', 6793), ('antiquemag', 6794), ('bhl', 6795), ('valuer', 6796), ('trueyanke', 6797), ('forthright', 6798), ('request', 6799), ('aunti', 6800), ('mixtur', 6801), ('player', 6802), ('malley', 6803), ('ky', 6804), ('geffry', 6805), ('ruskinwalk', 6806), ('fenc', 6807), ('chi', 6808), ('nay', 6809), ('tr', 6810), ('hem', 6811), ('lindsey', 6812), ('gainer', 6813), ('basi', 6814), ('attackpeopl', 6815), ('itm', 6816), ('thispeopl', 6817), ('uit', 6818), ('bvrxuhwkp6', 6819), ('hater', 6820), ('socrat', 6821), ('voyeur', 6822), ('gov', 6823), ('gamblin', 6824), ('element', 6825), ('gambl', 6826), ('flo', 6827), ('craig', 6828), ('pacino', 6829), ('schriftart', 6830), ('assess', 6831), ('vinegar', 6832), ('linocut', 6833), ('cadburi', 6834), ('mug', 6835), ('vicki', 6836), ('2000', 6837), ('coin', 6838), ('rsi', 6839), ('theyr', 6840), ('happier', 6841), ('oneplexus', 6842), ('guthealth', 6843), ('healthandhappi', 6844), ('i6wihsxaew', 6845), ('halsey', 6846), ('kehlani', 6847), ('through', 6848), ('kewgarden', 6849), ('eeri', 6850), ('imsoak', 6851), ('ahaha', 6852), ('zimmer', 6853), ('jyv5io1vy5', 6854), ('wellcom', 6855), ('reclaim', 6856), ('depressionfre', 6857), ('curedepress', 6858), ('lisaj2108', 6859), ('foodi', 6860), ('omj', 6861), ('nbn', 6862), ('fiber', 6863), ('cannt', 6864), ('fromm', 6865), ('youu', 6866), ('hammer', 6867), ('legion', 6868), ('maitreya', 6869), ('albino', 6870), ('gentlemen', 6871), ('soundcheck', 6872), ('delishhhh', 6873), ('robust', 6874), ('icbt', 6875), ('osalto', 6876), ('critiqu', 6877), ('rethink', 6878), ('contextualis', 6879), ('ob', 6880), ('holbein', 6881), ('mt', 6882), ('alihaggett', 6883), ('soundtrack', 6884), ('bandcamp', 6885), ('indiefilmmak', 6886), ('q3enmbbqpa', 6887), ('groundbreak', 6888), ('sceneri', 6889), ('poblano', 6890), ('oaxaca', 6891), ('lovee', 6892), ('sb', 6893), ('racewayreport', 6894), ('doin', 6895), ('tourney', 6896), ('arggh', 6897), ('howdi', 6898), ('2night', 6899), ('spectacl', 6900), ('handmad', 6901), ('norf', 6902), ('inkheart', 6903), ('selegilin', 6904), ('emsam', 6905), ('iloveyou', 6906), ('waver', 6907), ('sweeeeet', 6908), ('cach', 6909), ('tobermori', 6910), ('curios', 6911), ('unaccept', 6912), ('tofu', 6913), ('tutu', 6914), ('sane', 6915), ('mp3s', 6916), ('pathogenesi', 6917), ('peripher', 6918), ('neuropath', 6919), ('parkinson', 6920), ('sclerosi', 6921), ('motor', 6922), ('ischemia', 6923), ('clay', 6924), ('potteri', 6925), ('exuber', 6926), ('sansovino', 6927), ('ilyc', 6928), ('2012', 6929), ('tokyo', 6930), ('swellybutton', 6931), ('jbdhlxyogi', 6932), ('lill', 6933), ('museum140', 6934), ('daybut', 6935), ('dayon', 6936), ('disdainand', 6937), ('submerg', 6938), ('mindsmith', 6939), ('personalis', 6940), ('confidenti', 6941), ('introduct', 6942), ('1900', 6943), ('european', 6944), ('ssn', 6945), ('inn', 6946), ('newark', 6947), ('rayray', 6948), ('louiejameskeen', 6949), ('happysuday', 6950), ('watt', 6951), ('j6gkrdhsxe', 6952), ('chemburstudio', 6953), ('dalrymplewil', 6954), ('gril', 6955), ('lure', 6956), ('quicksilv', 6957), ('mughal', 6958), ('clandestin', 6959), ('armillari', 6960), ('sphere', 6961), ('17thc', 6962), ('worn', 6963), ('banana', 6964), ('tommmmmmmmmm', 6965), ('tamara', 6966), ('raraact', 6967), ('girlllll', 6968), ('sack', 6969), ('pro', 6970), ('paypal', 6971), ('smelli', 6972), ('dhol', 6973), ('haii', 6974), ('austin', 6975), ('hardcor', 6976), ('unmiss', 6977), ('thecassart', 6978), ('en', 6979), ('cvhistoryfest', 6980), ('xbray', 6981), ('emptyng', 6982), ('londonlivindol', 6983), ('hayfestiv', 6984), ('relaxx', 6985), ('procrastin', 6986), ('artpreneur', 6987), ('agora', 6988), ('zar', 6989), ('ceremoni', 6990), ('smart', 6991), ('bensoir', 6992), ('blackradioisback', 6993), ('noodl', 6994), ('sequel', 6995), ('peg', 6996), ('pilgrim', 6997), ('agoni', 6998), ('dhl', 6999), ('templat', 7000), ('plurk', 7001), ('gue', 7002), ('skrg', 7003), ('gimana', 7004), ('diy', 7005), ('booklaunch', 7006), ('sutzkev', 7007), ('nalin', 7008), ('baylor', 7009), ('espn', 7010), ('crowd', 7011), ('carravagio', 7012), ('thebluecoat', 7013), ('antoni', 7014), ('gormley', 7015), ('intent', 7016), ('devel', 7017), ('sensit', 7018), ('courag', 7019), ('locki', 7020), ('rub', 7021), ('dang', 7022), ('donniewahlberg', 7023), ('ck', 7024), ('lifes', 7025), ('yoda', 7026), ('leicestersquar', 7027), ('poverti', 7028), ('illiteraci', 7029), ('carson', 7030), ('magictwackl', 7031), ('megan', 7032), ('suleikhasnyd', 7033), ('fri', 7034), ('parko', 7035), ('civilis', 7036), ('bmimag', 7037), ('londonprid', 7038), ('wahaca', 7039), ('paddl', 7040), ('hyde', 7041), ('religon', 7042), ('leah', 7043), ('evacu', 7044), ('st2idyeig9', 7045), ('sweetpea', 7046), ('rejuvin', 7047), ('ecinc', 7048), ('petermansbridg', 7049), ('mtaalumni', 7050), ('colvill', 7051), ('ap6j1plfxb', 7052), ('calendar', 7053), ('gilmor', 7054), ('hhmm', 7055), ('jpn', 7056), ('taiko', 7057), ('automata', 7058), ('glasgow', 7059), ('opticalmeg', 7060), ('wellcometrust', 7061), ('makeov', 7062), ('bipolarbattl', 7063), ('movin', 7064), ('eileen', 7065), ('hahahahahaha', 7066), ('klimt', 7067), ('palla', 7068), ('athen', 7069), ('dannymcfli', 7070), ('whooo', 7071), ('bucket', 7072), ('bryantma', 7073), ('yesssssssss', 7074), ('uwwtus1kv4', 7075), ('composit', 7076), ('render', 7077), ('howitz', 7078), ('howi', 7079), ('y7s', 7080), ('gladiat', 7081), ('y7', 7082), ('frank', 7083), ('uccello', 7084), ('romano', 7085), ('gall', 7086), ('ml42', 7087), ('foyl', 7088), ('foppcov', 7089), ('dishoom', 7090), ('curzonbburi', 7091), ('l8ter', 7092), ('brag', 7093), ('dive', 7094), ('irregularcircl', 7095), ('yeaaa', 7096), ('antimuseum', 7097), ('archivist', 7098), ('explorearch', 7099), ('southampton', 7100), ('ptexp', 7101), ('bcuz', 7102), ('regimen', 7103), ('jeanni', 7104), ('thetattershal', 7105), ('oxo', 7106), ('youuuuu', 7107), ('jeje', 7108), ('meh', 7109), ('lng', 7110), ('bikerid', 7111), ('fen', 7112), ('morton', 7113), ('plain', 7114), ('shakespeareantc', 7115), ('wk', 7116), ('brea', 7117), ('stubhub', 7118), ('3x', 7119), ('salari', 7120), ('rcxoc5g0kx', 7121), ('compassiom', 7122), ('magtuxq3p', 7123), ('aid', 7124), ('zzzzzzzzzzzzzzzzzzzzzzzzzzzzzzzzzzz', 7125), ('wowzer', 7126), ('funilli', 7127), ('wthdrawal', 7128), ('yee', 7129), ('elder', 7130), ('annnd', 7131), ('goooooodnight', 7132), ('giveaway', 7133), ('laaa', 7134), ('chr1sm1chael', 7135), ('diggin', 7136), ('mah', 7137), ('sweater', 7138), ('lololol', 7139), ('xddd', 7140), ('pace', 7141), ('realal', 7142), ('tottenhamsoho', 7143), ('1826', 7144), ('prof', 7145), ('hellogoodby', 7146), ('groan', 7147), ('criteria', 7148), ('justughughuuuughhhhhhhhhhhuuuuuuuughuuuuuuuuuuuuuuuuuuugh', 7149), ('hypnotyst', 7150), ('infront', 7151), ('drum', 7152), ('bahaha', 7153), ('ohhhh', 7154), ('orlando', 7155), ('youuu', 7156), ('marlatt', 7157), ('chew', 7158), ('gum', 7159), ('smoker', 7160), ('startin', 7161), ('mandi', 7162), ('paycheck', 7163), ('nicholson', 7164), ('emo', 7165), ('dsds', 7166), ('xxxx', 7167), ('ox', 7168), ('monk', 7169), ('reinvent', 7170), ('treehousebkshop', 7171), ('gust', 7172), ('lds', 7173), ('selfhelp', 7174), ('43kjwsn0dr', 7175), ('cambridgeshir', 7176), ('demi', 7177), ('slapper', 7178), ('oc2015', 7179), ('exhal', 7180), ('namast', 7181), ('cottag', 7182), ('sail', 7183), ('kaci', 7184), ('ronalda', 7185), ('pwadey', 7186), ('alexandra', 7187), ('guard', 7188), ('bingethink', 7189), ('twas', 7190), ('ciara', 7191), ('bish', 7192), ('booth', 7193), ('corona', 7194), ('nottingham', 7195), ('dreamtim', 7196), ('refurbish', 7197), ('pcjbfan', 7198), ('seein', 7199), ('tampa', 7200), ('assur', 7201), ('picardonhealth', 7202), ('energeticeft', 7203), ('quizz', 7204), ('cheerlead', 7205), ('jacki', 7206), ('berkley', 7207), ('u2d1ozaomz', 7208), ('metro', 7209), ('perri', 7210), ('under18', 7211), ('barcelona', 7212), ('lai', 7213), ('patt', 7214), ('needwithin', 7215), ('youarenotalon', 7216), ('acl7zpbbwf', 7217), ('kendel', 7218), ('badass', 7219), ('sfuqetzsbh', 7220), ('hmmmmmmm', 7221), ('graphit', 7222), ('guarante', 7223), ('usag', 7224), ('fabcbd', 7225), ('fabfam', 7226), ('fablif', 7227), ('hemp', 7228), ('cannabiscommun', 7229), ('sqad', 7230), ('ggbptcfyk', 7231), ('navi', 7232), ('newslett', 7233), ('ahhah', 7234), ('toooo', 7235), ('artlov', 7236), ('playin', 7237), ('kickbal', 7238), ('tournament', 7239), ('tile', 7240), ('noli', 7241), ('tangerin', 7242), ('psyd', 7243), ('kimberland', 7244), ('refinery29', 7245), ('funniest', 7246), ('khlo', 7247), ('iloveloveloveyou', 7248), ('hurra', 7249), ('mai', 7250), ('boiler', 7251), ('stivesbreweri', 7252), ('paulaboardman', 7253), ('checker', 7254), ('denis', 7255), ('ozzi', 7256), ('ryan', 7257), ('wondrous', 7258), ('razzl', 7259), ('dazzl', 7260), ('ferri', 7261), ('4rm', 7262), ('twittz', 7263), ('allerg', 7264), ('ew', 7265), ('hurrah', 7266), ('weigh', 7267), ('53kg', 7268), ('aus', 7269), ('ot', 7270), ('cathart', 7271), ('summertim', 7272), ('museumselfi', 7273), ('whilst', 7274), ('maustinp', 7275), ('socialfabr', 7276), ('profess', 7277), ('kayle', 7278), ('rosco', 7279), ('sustain', 7280), ('agefriendlymuseum', 7281), ('vatti', 7282), ('dev', 7283), ('beij', 7284), ('raider', 7285), ('crazydjbazarro', 7286), ('uofl', 7287), ('ladybird', 7288), ('swell', 7289), ('exposur', 7290), ('longitudin', 7291), ('segedunumfort', 7292), ('allason', 7293), ('tk', 7294), ('greaaat', 7295), ('geopolit', 7296), ('shes', 7297), ('ador', 7298), ('lantern', 7299), ('nephew', 7300), ('kelseybl4ck', 7301), ('allthesedoubt', 7302), ('dormant', 7303), ('nowthisnew', 7304), ('tai', 7305), ('ji', 7306), ('quan', 7307), ('wudang', 7308), ('larissa', 7309), ('sansour', 7310), ('beatric', 7311), ('thirsti', 7312), ('greatdaneuj', 7313), ('joshua', 7314), ('9pour100', 7315), ('personifi', 7316), ('bff', 7317), ('bacchus', 7318), ('offspr', 7319), ('canap', 7320), ('recep', 7321), ('hrp', 7322), ('banquet', 7323), ('wabbey', 7324), ('diordan', 7325), ('hepworthgalleri', 7326), ('stornowayband', 7327), ('reccollmag', 7328), ('plume', 7329), ('birdsong', 7330), ('stornoway', 7331), ('martinpribbl', 7332), ('engrav', 7333), ('spqr', 7334), ('nebula', 7335), ('struth', 7336), ('ahhaha', 7337), ('gee', 7338), ('friendsss', 7339), ('pow', 7340), ('simoncald', 7341), ('walsop', 7342), ('hodderpriba', 7343), ('reliquari', 7344), ('eustac', 7345), ('alleg', 7346), ('anfield', 7347), ('geeche', 7348), ('babstoxyn', 7349), ('bimmyana', 7350), ('hayteehay', 7351), ('mefloquin', 7352), ('arrhythmia', 7353), ('readytobeatmalaria', 7354), ('worldmalariaday', 7355), ('crasher', 7356), ('potent', 7357), ('alli', 7358), ('baer', 7359), ('southbankcentr', 7360), ('hotfoot', 7361), ('holla', 7362), ('mapl', 7363), ('syrup', 7364), ('snore', 7365), ('couch', 7366), ('rulz', 7367), ('wheelbarrow', 7368), ('mister', 7369), ('stamp', 7370), ('bound', 7371), ('punt', 7372), ('penis', 7373), ('tought', 7374), ('prezzi', 7375), ('lara', 7376), ('ladypn', 7377), ('obox', 7378), ('0beck', 7379), ('elliewoo', 7380), ('barberinstitut', 7381), ('herakl', 7382), ('nowplay', 7383), ('biblic', 7384), ('joe', 7385), ('marquez', 7386), ('06', 7387), ('prone', 7388), ('lasbest', 7389), ('lasbestgam', 7390), ('sayig', 7391), ('meen', 7392), ('fresno', 7393), ('explooos', 7394), ('7am', 7395), ('deed', 7396), ('genet', 7397), ('underpin', 7398), ('rocket', 7399), ('honitontown', 7400), ('1815project', 7401), ('caro', 7402), ('tribut', 7403), ('duccio', 7404), ('wax', 7405), ('kurt', 7406), ('kbuech', 7407), ('hinder', 7408), ('sweetheart', 7409), ('xoxoxo', 7410), ('houseee', 7411), ('dillonschmidt', 7412), ('murphey', 7413), ('taloon', 7414), ('illusen', 7415), ('pooki', 7416), ('pewter', 7417), ('tomtom', 7418), ('freya', 7419), ('rambo', 7420), ('kiki', 7421), ('unappropri', 7422), ('illus', 7423), ('trick', 7424), ('arttm', 7425), ('ff5', 7426), ('30h', 7427), ('artinlondon', 7428), ('nicki', 7429), ('url', 7430), ('error', 7431), ('cranleigh', 7432), ('shindig', 7433), ('kerri', 7434), ('yong', 7435), ('beatricegibson', 7436), ('evnt', 7437), ('chessmen', 7438), ('diario', 7439), ('profecaro', 7440), ('digitaltext', 7441), ('portalgeekep', 7442), ('sublimin', 7443), ('kellan', 7444), ('lutz', 7445), ('140m', 7446), ('flesh', 7447), ('aestheticamag', 7448), ('vlhavrtfuj', 7449), ('syllabl', 7450), ('whore', 7451), ('andjustbeingm', 7452), ('chalant', 7453), ('montana', 7454), ('grantsimonrog', 7455), ('dailyguidedtour', 7456), ('kristen', 7457), ('organis', 7458), ('sleepdepriv', 7459), ('heartdiseas', 7460), ('f6q3d1mq5l', 7461), ('theanin', 7462), ('yorrlwkkuz', 7463), ('bolster', 7464), ('crumpl', 7465), ('gelato', 7466), ('affogato', 7467), ('glinda', 7468), ('cheri', 7469), ('madd', 7470), ('tis', 7471), ('yesjim', 7472), ('asda', 7473), ('wen', 7474), ('boxx', 7475), ('inm', 7476), ('hump', 7477), ('gheez', 7478), ('thumper', 7479), ('txg', 7480), ('compressopn', 7481), ('sock', 7482), ('exrtcis', 7483), ('waight', 7484), ('albam', 7485), ('manx', 7486), ('cub', 7487), ('fathom', 7488), ('pinterest', 7489), ('prehistor', 7490), ('bone', 7491), ('flute', 7492), ('paleolith', 7493), ('peelport', 7494), ('magazin', 7495), ('patronmagazin', 7496), ('aydsma', 7497), ('afneil', 7498), ('98', 7499), ('venezuela', 7500), ('eventprof', 7501), ('mute', 7502), ('int', 7503), ('univeres', 7504), ('180', 7505), ('gn', 7506), ('mmhm', 7507), ('masculin', 7508), ('variat', 7509), ('purg', 7510), ('waterston', 7511), ('gur', 7512), ('wll', 7513), ('mindless', 7514), ('inabit', 7515), ('stylish', 7516), ('anthonytheakston', 7517), ('pelicanjug', 7518), ('nycdcc', 7519), ('4pm', 7520), ('evolut', 7521), ('yeg', 7522), ('yvr', 7523), ('pleasee', 7524), ('cozi', 7525), ('ltr', 7526), ('clich', 7527), ('sunburn', 7528), ('owwww', 7529), ('12pm', 7530), ('jan', 7531), ('sofia', 7532), ('youll', 7533), ('here', 7534), ('goodby', 7535), ('hellooooo', 7536), ('africanrockart', 7537), ('soz', 7538), ('opp', 7539), ('invest', 7540), ('devic', 7541), ('tmi', 7542), ('imo', 7543), ('btub', 7544), ('southbank', 7545), ('nataliecarter80', 7546), ('goliv', 7547), ('culmin', 7548), ('m47jakeman', 7549), ('vijayshadean', 7550), ('bernard', 7551), ('berenson', 7552), ('disparag', 7553), ('jfosterriba', 7554), ('1926', 7555), ('corpus', 7556), ('vasorum', 7557), ('antiquorum', 7558), ('antiqu', 7559), ('viz', 7560), ('netti', 7561), ('seth', 7562), ('mcfarlen', 7563), ('veteran', 7564), ('whip', 7565), ('themuseumofliz', 7566), ('susi', 7567), ('mulligrub', 7568), ('unusualword', 7569), ('bsjxroomoq', 7570), ('resolv', 7571), ('resent', 7572), ('murray', 7573), ('adork', 7574), ('elementari', 7575), ('golden', 7576), ('scum', 7577), ('horrif', 7578), ('xpress', 7579), ('delong', 7580), ('freepeep', 7581), ('rocki', 7582), ('hemispher', 7583), ('germ', 7584), ('definitelli', 7585), ('laterz', 7586), ('heret', 7587), ('black2thbon', 7588), ('chrisvega25', 7589), ('kurtis4mari', 7590), ('waltmum', 7591), ('scaryhomeschool', 7592), ('dam7978', 7593), ('anishia420', 7594), ('nobot', 7595), ('ldlmead', 7596), ('rubinsr', 7597), ('passthesalti', 7598), ('newsjunkie60', 7599), ('twmentality1', 7600), ('kellmas06', 7601), ('lynnwolf', 7602), ('whythisfuckeri', 7603), ('rosethewolf', 7604), ('buffster76', 7605), ('bruce79038687', 7606), ('snobyrd', 7607), ('juliet', 7608), ('benoit', 7609), ('woofwoofblak', 7610), ('randallpink17', 7611), ('drkittykatz', 7612), ('meemawresist', 7613), ('feraltwin', 7614), ('lisalbarjas1', 7615), ('ajsgmajc', 7616), ('donnawithrow2', 7617), ('pissedoffwhtgrl', 7618), ('dgc9274', 7619), ('conservativesti', 7620), ('musiklpn', 7621), ('grumpycham', 7622), ('tomdurkin1', 7623), ('steve03343829', 7624), ('mmdesoer', 7625), ('pixmichell', 7626), ('crystaljon', 7627), ('nhojhpesoj', 7628), ('britin17k', 7629), ('kerrazycanuck', 7630), ('briztoljeff', 7631), ('domdalom', 7632), ('hollywooddebi', 7633), ('kokomothegreat', 7634), ('rhyme', 7635), ('diego', 7636), ('weightlosswiththefabulousfatti', 7637), ('ahhhhhh', 7638), ('plug', 7639), ('ranger', 7640), ('career150', 7641), ('sex5', 7642), ('snapchat', 7643), ('help4', 7644), ('help200', 7645), ('mansion', 7646), ('theiaward', 7647), ('kiana', 7648), ('masha', 7649), ('breakk', 7650), ('headach', 7651), ('707', 7652), ('623', 7653), ('9803', 7654), ('jdvtdmc7fp', 7655), ('realtek', 7656), ('8111', 7657), ('8169', 7658), ('ubuntu', 7659), ('lts', 7660), ('luve', 7661), ('euromillion', 7662), ('v3qcymdhat', 7663), ('thirti', 7664), ('ct', 7665), ('cornflak', 7666), ('buudi', 7667), ('zoot', 7668), ('credenti', 7669), ('nissenrichard', 7670), ('d2zen', 7671), ('temp', 7672), ('craycray', 7673), ('carisamarie11', 7674), ('cheeseland', 7675), ('shepherd', 7676), ('vip', 7677), ('tks', 7678), ('stoner', 7679), ('artandperfum', 7680), ('mcrartgalleri', 7681), ('magwellb', 7682), ('harnevo', 7683), ('bbctwo', 7684), ('tape', 7685), ('fallin', 7686), ('bencod', 7687), ('buhahaha', 7688), ('dudee', 7689), ('mmmmm', 7690), ('coy', 7691), ('creativedebut', 7692), ('funkyartgalleri', 7693), ('globalartag', 7694), ('shoreditchhyp', 7695), ('assist', 7696), ('taker', 7697), ('kannadiga', 7698), ('doggi', 7699), ('deconstruct', 7700), ('demystifi', 7701), ('ridicul', 7702), ('cage', 7703), ('uhh', 7704), ('yah', 7705), ('indianapoli', 7706), ('veggi', 7707), ('lasagna', 7708), ('boston', 7709), ('exqusit', 7710), ('perk', 7711), ('commut', 7712), ('dynam', 7713), ('milpita', 7714), ('waterloo', 7715), ('phillip', 7716), ('schofield', 7717), ('schofe', 7718), ('lana', 7719), ('splendid', 7720), ('muddi', 7721), ('lucyyyy', 7722), ('goi', 7723), ('reedbox', 7724), ('movii', 7725), ('redund', 7726), ('sarahjanebrown5', 7727), ('ow', 7728), ('wooo', 7729), ('twosteppin', 7730), ('gassingabout', 7731), ('tripl', 7732), ('threat', 7733), ('4m8qzputqi', 7734), ('los', 7735), ('swim', 7736), ('holdontoyourvoic', 7737), ('homagi', 7738), ('wellcaregiverwednesday', 7739), ('homag', 7740), ('east', 7741), ('imtgalleri', 7742), ('maureenpaley', 7743), ('approachgalleri', 7744), ('vein', 7745), ('cfcreativ', 7746), ('woohooooo', 7747), ('carol', 7748), ('ambitioverumest', 7749), ('biom', 7750), ('loveyourbiom', 7751), ('nypost', 7752), ('citymov', 7753), ('alkmaar', 7754), ('heartmileycyrus', 7755), ('suggestsit', 7756), ('0bqk7k3z5i', 7757), ('cindi', 7758), ('franco', 7759), ('strawberri', 7760), ('heidinimhurchu', 7761), ('vital', 7762), ('gutbrainlink', 7763), ('wufoojieu', 7764), ('cruiselpool', 7765), ('livechonew', 7766), ('scousescen', 7767), ('popcorn', 7768), ('livechat', 7769), ('robshepherd', 7770), ('tubecosix', 7771), ('longtim', 7772), ('samson', 7773), ('delilah', 7774), ('sexiest', 7775), ('draperi', 7776), ('lookout', 7777), ('exma', 7778), ('dwn', 7779), ('in', 7780), ('fetal', 7781), ('afflic', 7782), ('ufc', 7783), ('auth', 7784), ('steppenwolf', 7785), ('carpet', 7786), ('maby', 7787), ('sugg', 7788), ('hitch', 7789), ('rack', 7790), ('worldhad', 7791), ('ultra', 7792), ('circul', 7793), ('pastonian', 7794), ('yeaj', 7795), ('nu', 7796), ('mein', 7797), ('auch', 7798), ('applecar', 7799), ('protecion', 7800), ('resist', 7801), ('movement', 7802), ('immeris', 7803), ('1in', 7804), ('shock', 7805), ('sd', 7806), ('hooter', 7807), ('600', 7808), ('1200', 7809), ('merri', 7810), ('shell', 7811), ('thrown', 7812), ('fountain', 7813), ('poupe', 7814), ('nana', 7815), ('bigthang', 7816), ('dorset', 7817), ('crab', 7818), ('gazpacho', 7819), ('eventconcept', 7820), ('gailsmithflow', 7821), ('uhhh', 7822), ('advanc', 7823), ('irl', 7824), ('milwauke', 7825), ('excellnt', 7826), ('benedict', 7827), ('rubbra', 7828), ('devon', 7829), ('airhorn', 7830), ('rc', 7831), ('unreleas', 7832), ('bronz', 7833), ('metalwork', 7834), ('fest', 7835), ('okeechobe', 7836), ('temporarili', 7837), ('septemb', 7838), ('momo', 7839), ('new2trip', 7840), ('mastectomi', 7841), ('conserv', 7842), ('reconstruct', 7843), ('systemat', 7844), ('deck', 7845), ('holden', 7846), ('gsp', 7847), ('atl', 7848), ('florenc', 7849), ('carolina', 7850), ('muse', 7851), ('poken', 7852), ('conspir', 7853), ('evangelist', 7854), ('fed', 7855), ('plot', 7856), ('ventur', 7857), ('mflowers1965', 7858), ('wick', 7859), ('holi', 7860), ('vestryhous', 7861), ('wmgalleri', 7862), ('walthamforestrr', 7863), ('walthamforestco', 7864), ('outstand', 7865), ('northpoint', 7866), ('c3g', 7867), ('crabappl', 7868), ('tornado', 7869), ('leather', 7870), ('atmo', 7871), ('stigmatis', 7872), ('skillssssss', 7873), ('13th', 7874), ('nhl', 7875), ('playoff', 7876), ('colorblind', 7877), ('wineholt', 7878), ('augmentedmentalhealth', 7879), ('unmatch', 7880), ('fluid', 7881), ('insurtech', 7882), ('mentalhealthprogram', 7883), ('0ssnsdl0nh', 7884), ('kong', 7885), ('jw', 7886), ('melli', 7887), ('ohhh', 7888), ('crop', 7889), ('sicken', 7890), ('astound', 7891), ('driven', 7892), ('smedian', 7893), ('creditcard', 7894), ('restart', 7895), ('tucker', 7896), ('chillin', 7897), ('madisonwild', 7898), ('ilybff4l', 7899), ('curatedjenni', 7900), ('riverstarsreind', 7901), ('veg', 7902), ('crusti', 7903), ('liveatlica', 7904), ('richardsmith79', 7905), ('ogeduc', 7906), ('sculthorp', 7907), ('lisamaythoma', 7908), ('bathdanc', 7909), ('theatrebristol', 7910), ('madz', 7911), ('gabgabesp', 7912), ('londi', 7913), ('mikael', 7914), ('marbl', 7915), ('ltparentlif', 7916), ('ali', 7917), ('larter', 7918), ('kanga', 7919), ('tehstalk', 7920), ('cantabridgia', 7921), ('catz', 7922), ('pembroke1347', 7923), ('dwanb', 7924), ('filet', 7925), ('mobil', 7926), ('mayfair', 7927), ('jar', 7928), ('drip', 7929), ('iplay', 7930), ('purifi', 7931), ('greatestcapit', 7932), ('riasarantaridou', 7933), ('ar', 7934), ('outing', 7935), ('lotsa', 7936), ('spark', 7937), ('jealousi', 7938), ('jealous', 7939), ('plung', 7940), ('catalyst', 7941), ('rebuild', 7942), ('polymath', 7943), ('snatch', 7944), ('fxw7ygnmwi', 7945), ('ovkpcgjj6v', 7946), ('320changedirect', 7947), ('linkinpark', 7948), ('thermomet', 7949), ('forgiven', 7950), ('milow', 7951), ('ayo', 7952), ('schooooool', 7953), ('clubbin', 7954), ('dammit', 7955), ('sk', 7956), ('humili', 7957), ('unabl', 7958), ('jessicaclair', 7959), ('jsnorwood', 7960), ('wqovf9diil', 7961), ('bri', 7962), ('enriqu', 7963), ('iglesia', 7964), ('woooaw', 7965), ('coool', 7966), ('sewingcircus', 7967), ('sewbloominhappi', 7968), ('larksvintag', 7969), ('richardsproject', 7970), ('loveart', 7971), ('nyela', 7972), ('oop', 7973), ('nairn', 7974), ('micropast', 7975), ('alwayss', 7976), ('dhatbadyellobch', 7977), ('barrow', 7978), ('sarahdawnscott', 7979), ('forehead', 7980), ('throb', 7981), ('paula', 7982), ('wakefield', 7983), ('boulevard', 7984), ('montmartr', 7985), ('camill', 7986), ('pisarro', 7987), ('favouritepaintingfriday', 7988), ('trekki', 7989), ('lmbo', 7990), ('wsu', 7991), ('healthbeat', 7992), ('cashmqmymg', 7993), ('naptim', 7994), ('thanx', 7995), ('richmond', 7996), ('bracelet', 7997), ('eloqu', 7998), ('rdi', 7999), ('tequila', 8000), ('choya', 8001), ('brut', 8002), ('fanklin', 8003), ('homophobia', 8004), ('againn', 8005), ('gooddd', 8006), ('nh', 8007), ('cqs', 8008), ('daab', 8009), ('v2', 8010), ('chilli', 8011), ('dud', 8012), ('cartoon', 8013), ('hoot', 8014), ('utang', 8015), ('nang', 8016), ('loob', 8017), ('appendixjourn', 8018), ('ephemera07', 8019), ('51', 8020), ('crosshatch', 8021), ('hendrik', 8022), ('goltzius', 8023), ('silverpoint', 8024), ('ngadc', 8025), ('mangobwoy', 8026), ('saniti', 8027), ('pancak', 8028), ('megaredpacket', 8029), ('crunch', 8030), ('pushup', 8031), ('hlfsupport', 8032), ('handbag', 8033), ('xox', 8034), ('tragedi', 8035), ('diggg', 8036), ('smellyvis', 8037), ('britishgarden', 8038), ('tricki', 8039), ('oro2ytklqg', 8040), ('marieantoynett', 8041), ('logi', 8042), ('pj', 8043), ('muppet', 8044), ('desert', 8045), ('kaya', 8046), ('buffalo', 8047), ('bbc', 8048), ('craziest', 8049), ('costco', 8050), ('ruskin', 8051), ('cont', 8052), ('ancestor', 8053), ('cod', 8054), ('armor', 8055), ('gray', 8056), ('myselfm', 8057), ('haphazard', 8058), ('shove', 8059), ('drawer', 8060), ('korea', 8061), ('protectparkbom1115', 8062), ('q4qxklakn7', 8063), ('hotrod', 8064), ('acenterpris', 8065), ('whoo', 8066), ('crazaaay', 8067), ('bundl', 8068), ('magna', 8069), ('carta', 8070), ('hancock', 8071), ('kathi', 8072), ('crew', 8073), ('extract', 8074), ('w3c', 8075), ('lock', 8076), ('chalkboard', 8077), ('pourhousecaf', 8078), ('helio', 8079), ('castellani', 8080), ('1860s', 8081), ('smallvill', 8082), ('trivia', 8083), ('yesssssssssss', 8084), ('hepburn', 8085), ('npg', 8086), ('tatebritain', 8087), ('raa', 8088), ('msg', 8089), ('shi', 8090), ('333333333', 8091), ('daze', 8092), ('selfcarea', 8093), ('duvet', 8094), ('compassion', 8095), ('itsoknottobeok', 8096), ('3tuas1jb5g', 8097), ('patti', 8098), ('storag', 8099), ('oblig', 8100), ('hahahahha', 8101), ('awh', 8102), ('bahahah', 8103), ('oooooh', 8104), ('nako', 8105), ('umuulan', 8106), ('terryfrost', 8107), ('speed', 8108), ('jetblu', 8109), ('ankl', 8110), ('yousn', 8111), ('kynk', 8112), ('sprint', 8113), ('gb', 8114), ('milleni', 8115), ('cambridgecor', 8116), ('sr7dwurdo4', 8117), ('throug', 8118), ('tryout', 8119), ('woow', 8120), ('rorieboreali', 8121), ('positiveacademi', 8122), ('tomvmorri', 8123), ('producergirl', 8124), ('segment', 8125), ('writer', 8126), ('carolin', 8127), ('campbel', 8128), ('sanfrancisco', 8129), ('fakeout', 8130), ('edinburgh', 8131), ('edinburghac', 8132), ('org', 8133), ('didyouknow', 8134), ('qvxglxuqrn', 8135), ('susiewilson', 8136), ('melbourn', 8137), ('hotweath', 8138), ('awalkonthewildsid', 8139), ('admiss', 8140), ('visitk', 8141), ('pose', 8142), ('novelti', 8143), ('nugget', 8144), ('sother', 8145), ('bunni', 8146), ('carrot', 8147), ('escher', 8148), ('gadjo', 8149), ('calom', 8150), ('simethibg', 8151), ('sheraton', 8152), ('radisson', 8153), ('yey', 8154), ('hieroglyph', 8155), ('deciph', 8156), ('utd', 8157), ('ketaki', 8158), ('sheth', 8159), ('sidi', 8160), ('whippleword', 8161), ('attitud', 8162), ('technician', 8163), ('boulder', 8164), ('gram', 8165), ('itun', 8166), ('cya', 8167), ('973', 8168), ('765', 8169), ('9050', 8170), ('vg5vzqfscj', 8171), ('roxanna', 8172), ('fomcic', 8173), ('gc6yndttb', 8174), ('knowfren', 8175), ('kowarikirsti', 8176), ('hurray', 8177), ('8pnykwpjqa', 8178), ('disprov', 8179), ('snolen', 8180), ('cameronmarion', 8181), ('songwrit', 8182), ('overslept', 8183), ('comfi', 8184), ('charl', 8185), ('xii', 8186), ('dentur', 8187), ('cboyleimag', 8188), ('arm', 8189), ('belgravest', 8190), ('stivesartschool', 8191), ('storifi', 8192), ('palmyr', 8193), ('piano', 8194), ('kath', 8195), ('yorkshir', 8196), ('pyrocyn', 8197), ('section', 8198), ('stroll', 8199), ('brit', 8200), ('manchu', 8201), ('stink', 8202), ('helenwanglondon', 8203), ('checkup', 8204), ('virus', 8205), ('spaceman', 8206), ('ginoandfran', 8207), ('marykatrantzou', 8208), ('claridg', 8209), ('columbia', 8210), ('highgatecemet', 8211), ('libertylondon', 8212), ('wkend', 8213), ('ballist', 8214), ('vlbiz', 8215), ('visitliverpool', 8216), ('liverpoollep', 8217), ('bisnorthwest', 8218), ('religi', 8219), ('leaflet', 8220), ('cashier', 8221), ('fastfood', 8222), ('discount', 8223), ('para', 8224), ('zg', 8225), ('lking', 8226), ('wildstarb', 8227), ('rezday', 8228), ('enthusiast', 8229), ('macgregor', 8230), ('sponsor', 8231), ('bailliegifford', 8232), ('rehears', 8233), ('3hotword', 8234), ('nsfw', 8235), ('southern', 8236), ('rm', 8237), ('73', 8238), ('15pm', 8239), ('gravina', 8240), ('chai', 8241), ('latt', 8242), ('gaudierbrzeska', 8243), ('lamp', 8244), ('darn', 8245), ('ecnttdiarv', 8246), ('risingdarkstar', 8247), ('wherami', 8248), ('garnicl', 8249), ('thefreerifleman', 8250), ('plight', 8251), ('palaisdetokyo', 8252), ('finit', 8253), ('sc', 8254), ('goat21', 8255), ('lgbqt', 8256), ('whathaveyoudonetoday', 8257), ('iduqnr305t', 8258), ('yipeeee', 8259), ('winsorandnewton', 8260), ('hamiltonkerrinstitut', 8261), ('newscomb', 8262), ('francesbark', 8263), ('deem', 8264), ('mindfram', 8265), ('exil', 8266), ('trafalgarsquar', 8267), ('londonvac', 8268), ('artgoestotheheart', 8269), ('9pm', 8270), ('moonbootica', 8271), ('32', 8272), ('groggi', 8273), ('rabid', 8274), ('zombi', 8275), ('perinsarosh', 8276), ('camden', 8277), ('roam', 8278), ('waterfal', 8279), ('inprogress', 8280), ('gerarddavid', 8281), ('yaaaaay', 8282), ('sorcer', 8283), ('pwn', 8284), ('cpdickenson', 8285), ('portug', 8286), ('uhm', 8287), ('ddla0fj27g', 8288), ('yasmin', 8289), ('drown', 8290), ('mentor', 8291), ('p17nyfizxk', 8292), ('dcmuseum', 8293), ('teaser', 8294), ('scorpio', 8295), ('lysm', 8296), ('queenxxlarray', 8297), ('ilysm', 8298), ('baddi', 8299), ('skipe', 8300), ('maintain', 8301), ('senat', 8302), ('jim', 8303), ('foxandfriend', 8304), ('euqfkuoxv9', 8305), ('cisthene1', 8306), ('gabjamom1', 8307), ('rental', 8308), ('eufaula', 8309), ('kz4vsd4cnr', 8310), ('jamjam', 8311), ('tisdal', 8312), ('ddd', 8313), ('bhodichaya', 8314), ('propens', 8315), ('cheesecak', 8316), ('factori', 8317), ('foto', 8318), ('diff', 8319), ('certif', 8320), ('tiredmum', 8321), ('no1cathedr', 8322), ('emir', 8323), ('cbcidea', 8324), ('thegetti', 8325), ('haidaheritag', 8326), ('newcdnmedia', 8327), ('morethanadodo', 8328), ('haida', 8329), ('gwaii', 8330), ('acropolismuseum', 8331), ('greekreport', 8332), ('spi', 8333), ('toutluniv', 8334), ('hiyaaa', 8335), ('bud', 8336), ('clariti', 8337), ('tangl', 8338), ('justttt', 8339), ('styl', 8340), ('ivanalepojev', 8341), ('cloister', 8342), ('marbella', 8343), ('ooc', 8344), ('ruskinturn', 8345), ('aaroo4', 8346), ('conservationist', 8347), ('merit', 8348), ('ohhhhhhhhhhhh', 8349), ('mikeeeeeeeeeee', 8350), ('tandemcopd', 8351), ('updatesoptimis', 8352), ('pulmonaryrehab', 8353), ('zac', 8354), ('awesomee', 8355), ('swept', 8356), ('ooooo', 8357), ('1pm', 8358), ('karen', 8359), ('robertalai', 8360), ('lustborn', 8361), ('kenya', 8362), ('coupla', 8363), ('scott', 8364), ('feigelsonmia', 8365), ('titian', 8366), ('08', 8367), ('showtek', 8368), ('smallest', 8369), ('franc', 8370), ('uogfineart', 8371), ('trumanbreweri', 8372), ('freerangeshow', 8373), ('degreeshow', 8374), ('atlanit', 8375), ('aloud', 8376), ('holdin', 8377), ('sf', 8378), ('equival', 8379), ('bond', 8380), ('m0ment', 8381), ('kahapon', 8382), ('quack', 8383), ('nanna', 8384), ('30pm', 8385), ('mayday', 8386), ('cheapest', 8387), ('permiss', 8388), ('badfeel', 8389), ('1994', 8390), ('sokor', 8391), ('intellect', 8392), ('druggi', 8393), ('supa', 8394), ('maccabe', 8395), ('g0d', 8396), ('brunch', 8397), ('hayyyyy', 8398), ('lmfaoo', 8399), ('steppin', 8400), ('puter', 8401), ('rightward', 8402), ('qggbqpzumr', 8403), ('dietpatch', 8404), ('pjforguk', 8405), ('junkfood', 8406), ('heighten', 8407), ('fatin', 8408), ('silver', 8409), ('instln', 8410), ('obliqu', 8411), ('interpret', 8412), ('staffrm', 8413), ('lovingit', 8414), ('exeterliv', 8415), ('bombard', 8416), ('catseri', 8417), ('unintent', 8418), ('eval', 8419), ('dd', 8420), ('dh', 8421), ('hangov', 8422), ('swagga', 8423), ('333', 8424), ('2l', 8425), ('kekekek', 8426), ('hajim', 8427), ('hinata', 8428), ('500th', 8429), ('statementpiec', 8430), ('northcamacademi', 8431), ('exhib', 8432), ('liya', 8433), ('nik', 8434), ('glade', 8435), ('laundrey', 8436), ('statist', 8437), ('heycassade', 8438), ('twitterroo', 8439), ('selenagomez', 8440), ('peerless', 8441), ('roadtrip', 8442), ('tulliehous', 8443), ('jewish', 8444), ('templ', 8445), ('carlisl', 8446), ('krisi', 8447), ('kreme', 8448), ('dijon', 8449), ('frittata', 8450), ('raina', 8451), ('jsut', 8452), ('precis', 8453), ('gossip', 8454), ('gg', 8455), ('refurb', 8456), ('dalesi', 8457), ('timeeeeeeeeeeeee', 8458), ('browni', 8459), ('unobtrus', 8460), ('revamp', 8461), ('waddestonbequest', 8462), ('palmer', 8463), ('deena', 8464), ('curatori', 8465), ('kittygod', 8466), ('sekhmet', 8467), ('bastet', 8468), ('maria', 8469), ('lj', 8470), ('devendra', 8471), ('fadnavi', 8472), ('abdulla', 8473), ('shaikh', 8474), ('hasham', 8475), ('qureshi', 8476), ('posses', 8477), ('jj', 8478), ('marg', 8479), ('yayyyi', 8480), ('strauss', 8481), ('isten', 8482), ('nutti', 8483), ('loveeee', 8484), ('northant', 8485), ('motley', 8486), ('moot', 8487), ('beltain', 8488), ('picnic', 8489), ('sff', 8490), ('protagonist', 8491), ('sub', 8492), ('bassweight', 8493), ('dbpoint', 8494), ('contrib', 8495), ('lizlulu', 8496), ('daniellemariemu', 8497), ('snuggi', 8498), ('doria', 8499), ('tichit', 8500), ('bagrifound', 8501), ('facin', 8502), ('cbarlowmarr', 8503), ('neacdrawschool', 8504), ('wksp', 8505), ('meeeeeeeeeee', 8506), ('gangnamstyl', 8507), ('thetim', 8508), ('thedaythat', 8509), ('stivesurfschool', 8510), ('alison', 8511), ('wiseproduct', 8512), ('bestinshow', 8513), ('swir', 8514), ('makapu', 8515), ('captur', 8516), ('bellingham', 8517), ('waaaaaay', 8518), ('northwest', 8519), ('soviet', 8520), ('ussa', 8521), ('chuf', 8522), ('flynnmiest', 8523), ('balloon', 8524), ('behalf', 8525), ('mfa', 8526), ('2nite', 8527), ('yessir', 8528), ('luc', 8529), ('barca', 8530), ('villarr', 8531), ('brighten', 8532), ('teapot', 8533), ('sansovinofram', 8534), ('beautifulth', 8535), ('liverbuild', 8536), ('goodmenproject', 8537), ('sammi', 8538), ('musicmonday', 8539), ('luci', 8540), ('feelin', 8541), ('juan', 8542), ('boooooy', 8543), ('imogen', 8544), ('marco', 8545), ('polo', 8546), ('blown', 8547), ('pin', 8548), ('norr', 8549), ('hilllllll', 8550), ('bafta', 8551), ('nomin', 8552), ('kajakimovi', 8553), ('irwinmitchel', 8554), ('craigham79', 8555), ('armedforcesday', 8556), ('mgmt', 8557), ('ano', 8558), ('tong', 8559), ('ritual', 8560), ('storytel', 8561), ('goldquot', 8562), ('ppmad', 8563), ('ss', 8564), ('tokikodasa', 8565), ('museelouvr', 8566), ('museecarnavalet', 8567), ('museumweek', 8568), ('tptgener', 8569), ('turquois', 8570), ('5am', 8571), ('newdesign', 8572), ('wallacemuseum', 8573), ('obligatori', 8574), ('physician', 8575), ('pharmaceut', 8576), ('rite', 8577), ('passag', 8578), ('destini', 8579), ('1msvhk5anu', 8580), ('lipstick', 8581), ('signorella', 8582), ('herbert', 8583), ('farrah', 8584), ('confound', 8585), ('distress', 8586), ('duh', 8587), ('keit', 8588), ('cognac', 8589), ('underway', 8590), ('cladglob', 8591), ('emphas', 8592), ('blogout09', 8593), ('unattract', 8594), ('techno', 8595), ('juno', 8596), ('uncov', 8597), ('mooi', 8598), ('jamspher', 8599), ('kenrosatoabc7', 8600), ('japanes', 8601), ('ncis', 8602), ('harmon', 8603), ('juri', 8604), ('downstair', 8605), ('on', 8606), ('meghanmf', 8607), ('jobrich', 8608), ('dameunit', 8609), ('avmast', 8610), ('faster', 8611), ('cougar', 8612), ('submerc', 8613), ('akcounsellor', 8614), ('ehiiiiiiii', 8615), ('tuk', 8616), ('dandruff', 8617), ('slick', 8618), ('caress', 8619), ('melania', 8620), ('avenu', 8621), ('stomp', 8622), ('nt', 8623), ('manuscript', 8624), ('museumofcamb', 8625), ('shuck', 8626), ('miladi', 8627), ('outdoor', 8628), ('zftdxskbb9', 8629), ('nag', 8630), ('ratzingeriana', 8631), ('lb2s', 8632), ('proverb', 8633), ('farha', 8634), ('np', 8635), ('quinten', 8636), ('massi', 8637), ('egyptmcr', 8638), ('animalmummi', 8639), ('ea', 8640), ('6773', 8641), ('11134', 8642), ('6752', 8643), ('26847', 8644), ('giftsforthegod', 8645), ('29th', 8646), ('plymouthherald', 8647), ('devonday', 8648), ('omgood', 8649), ('alotta', 8650), ('whyyi', 8651), ('leavvvinng', 8652), ('mii', 8653), ('rubbi', 8654), ('ducki', 8655), ('kk', 8656), ('muffin', 8657), ('bug', 8658), ('bestartgalleri', 8659), ('bringonpollock', 8660), ('sophia', 8661), ('colt', 8662), ('napoconf09', 8663), ('antiquiet', 8664), ('nevermind', 8665), ('jacksonsarttalk', 8666), ('mediev', 8667), ('cosmograph', 8668), ('dazzleferri', 8669), ('1418now', 8670), ('livcathedr', 8671), ('greatservic', 8672), ('packag', 8673), ('hotelindigo', 8674), ('travelbird', 8675), ('boyfi', 8676), ('sofaa', 8677), ('zugub', 8678), ('pegg', 8679), ('anton', 8680), ('yelchin', 8681), ('maddi', 8682), ('afterward', 8683), ('flutter', 8684), ('dyk', 8685), ('harvest', 8686), ('microb', 8687), ('soil', 8688), ('ed2ng7dkll', 8689), ('minauderi', 8690), ('verifi', 8691), ('truthtweet', 8692), ('impostor', 8693), ('guido', 8694), ('pupil', 8695), ('cagnacci', 8696), ('cleopatra', 8697), ('sidekcik', 8698), ('lx', 8699), ('rockstar', 8700), ('oiqlygpwbw', 8701), ('bagel', 8702), ('merrili', 8703), ('420weedin', 8704), ('angst', 8705), ('devour', 8706), ('fiasco', 8707), ('pinot', 8708), ('vinci', 8709), ('pro7', 8710), ('otr', 8711), ('rhus', 8712), ('juici', 8713), ('blindboy', 8714), ('alt', 8715), ('reconnect', 8716), ('krakow', 8717), ('verizon', 8718), ('tristram', 8719), ('pride2015', 8720), ('prideinlondon', 8721), ('inch', 8722), ('yellowcab', 8723), ('bookstor', 8724), ('whyyyyyyi', 8725), ('serbian', 8726), ('libbi', 8727), ('keen', 8728), ('alll', 8729), ('h0me', 8730), ('humbl', 8731), ('bonfir', 8732), ('seanjohn', 8733), ('dentist', 8734), ('polish', 8735), ('wep', 8736), ('horrend', 8737), ('stafford', 8738), ('saviour', 8739), ('readin', 8740), ('sotm', 8741), ('columbus', 8742), ('ohio', 8743), ('loriblue4508', 8744), ('nevershoutnev', 8745), ('holidayparad', 8746), ('waitrewindthat', 8747), ('ihop', 8748), ('tweetdom', 8749), ('kmhyland', 8750), ('susanwoodford', 8751), ('bangor', 8752), ('norepinehrin', 8753), ('receptor', 8754), ('sympathet', 8755), ('uterin', 8756), ('labour', 8757), ('traffic', 8758), ('siginutz', 8759), ('skydiv', 8760), ('countless', 8761), ('mmh', 8762), ('ut', 8763), ('crank', 8764), ('cantus', 8765), ('squirrel', 8766), ('upick', 8767), ('darkartist', 8768), ('bbccamb', 8769), ('melt', 8770), ('tweepletuesday', 8771), ('shopkeep', 8772), ('bradi', 8773), ('samurai', 8774), ('brinton83', 8775), ('crazybird001', 8776), ('cheap', 8777), ('spunk', 8778), ('liv', 8779), ('straw', 8780), ('aemtrt94vp', 8781), ('visitcamb', 8782), ('bueno', 8783), ('nearbi', 8784), ('camtechmuseum', 8785), ('sheer', 8786), ('monopolar', 8787), ('gnar', 8788), ('applaud', 8789), ('mckee', 8790), ('shaker', 8791), ('delphit', 8792), ('aluminum', 8793), ('stevenhylando', 8794), ('saidin', 8795), ('saidar', 8796), ('emussj', 8797), ('whistler', 8798), ('nereid', 8799), ('lycia', 8800), ('pinch', 8801), ('tourist', 8802), ('bunker', 8803), ('camb', 8804), ('historyneedsyou', 8805), ('passport', 8806), ('wena', 8807), ('shiver', 8808), ('allan', 8809), ('headgames66', 8810), ('facet', 8811), ('gete', 8812), ('eeee', 8813), ('wd', 8814), ('freez', 8815), ('fundament', 8816), ('courtauldgal', 8817), ('diner', 8818), ('affair', 8819), ('southwestern', 8820), ('behold', 8821), ('v4v', 8822), ('moodi', 8823), ('wretch', 8824), ('diva', 8825), ('archetyp', 8826), ('hor', 8827), ('renais', 8828), ('rara', 8829), ('benn', 8830), ('fret', 8831), ('beg', 8832), ('weiner', 8833), ('chipotl', 8834), ('miked2345', 8835), ('aldridtl', 8836), ('ovama', 8837), ('miriam', 8838), ('disput', 8839), ('kibbo', 8840), ('kift', 8841), ('kindr', 8842), ('oct', 8843), ('quesadilla', 8844), ('wallpap', 8845), ('tooo', 8846), ('2c', 8847), ('laceycontemp', 8848), ('hoxtongalleri', 8849), ('jfreemangalleri', 8850), ('backgammon', 8851), ('tokin', 8852), ('mic', 8853), ('boreddddd', 8854), ('workingg', 8855), ('enrout', 8856), ('nighttrain', 8857), ('artistnetwork', 8858), ('foreal', 8859), ('disagre', 8860), ('remblanc', 8861), ('fourth', 8862), ('stephani', 8863), ('talkin', 8864), ('kpop', 8865), ('fcking', 8866), ('fuckeddddd', 8867), ('disconnect', 8868), ('awwwwww', 8869), ('realllyy', 8870), ('blushin', 8871), ('tacrain', 8872), ('kylielanejona', 8873), ('mission', 8874), ('raspberri', 8875), ('ravioli', 8876), ('polyvoringg', 8877), ('heyhey', 8878), ('yha', 8879), ('victoria', 8880), ('oxford', 8881), ('haiku', 8882), ('popular', 8883), ('goddess', 8884), ('beautyboutiqu', 8885), ('sergeant', 8886), ('flick', 8887), ('beetch', 8888), ('brueck', 8889), ('kristi', 8890), ('bart', 8891), ('whine', 8892), ('meri', 8893), ('hota', 8894), ('becoz', 8895), ('quran', 8896), ('pak', 8897), ('ayat', 8898), ('hade', 8899), ('wanttel', 8900), ('openu', 8901), ('muslimi', 8902), ('muslim', 8903), ('muslimin', 8904), ('sha', 8905), ('memphi', 8906), ('tha', 8907), ('transfer', 8908), ('summeri', 8909), ('piqu', 8910), ('johnmcdonnellmp', 8911), ('pcs', 8912), ('dian', 8913), ('striker', 8914), ('60s', 8915), ('hippi', 8916), ('extrins', 8917), ('western', 8918), ('ingest', 8919), ('abund', 8920), ('alarm', 8921), ('employmentlaw', 8922), ('v9qh2zacvf', 8923), ('schooltrip', 8924), ('8am', 8925), ('10am', 8926), ('bis', 8927), ('kaput', 8928), ('bbm', 8929), ('tween', 8930), ('yearofpercuss', 8931), ('persepoli', 8932), ('sadbyier', 8933), ('bylertrash', 8934), ('gaybyl', 8935), ('hipwillby', 8936), ('blithevigor', 8937), ('wllliambyer', 8938), ('gldfinch', 8939), ('noahsfool', 8940), ('blushyby', 8941), ('goodbyerichi', 8942), ('fic', 8943), ('byler', 8944), ('portfolio', 8945), ('nifti', 8946), ('jqueri', 8947), ('slider', 8948), ('themeforest', 8949), ('unveil', 8950), ('corporatesupport', 8951), ('streeton', 8952), ('1889', 8953), ('cigar', 8954), ('artgalleryofnsw', 8955), ('joselechiguero', 8956), ('raphael', 8957), ('saadiq', 8958), ('adamsilvera', 8959), ('montacut', 8960), ('pearl', 8961), ('afleck', 8962), ('whoever', 8963), ('anth', 8964), ('w2d', 8965), ('mizhall', 8966), ('hook', 8967), ('wii', 8968), ('wifi', 8969), ('eeet', 8970), ('sirajdatoo', 8971), ('140', 8972), ('char', 8973), ('laast', 8974), ('hyolyn', 8975), ('djembech', 8976), ('mrskennyd', 8977), ('undo', 8978), ('oof', 8979), ('expedit', 8980), ('nowaday', 8981), ('command', 8982), ('brochur', 8983), ('mscaseycart', 8984), ('blogspot', 8985), ('chorus', 8986), ('catchi', 8987), ('gud', 8988), ('cakeri', 8989), ('aightindiaaaaaa', 8990), ('omnipres', 8991), ('permeat', 8992), ('filthi', 8993), ('subtl', 8994), ('inescap', 8995), ('bloor', 8996), ('nov', 8997), ('cornucopia', 8998), ('yyuumm', 8999), ('spesh', 9000), ('rhank', 9001), ('brief', 9002), ('celiac', 9003), ('gi', 9004), ('metal', 9005), ('sissi', 9006), ('jennyism', 9007), ('cupi', 9008), ('collar', 9009), ('slender', 9010), ('waterhous', 9011), ('jhi', 9012), ('betti', 9013), ('gad', 9014), ('cognitive2018', 9015), ('iqto', 9016), ('neurocognitivedisord', 9017), ('cdcp', 9018), ('xxhdyuai09', 9019), ('chicjwelcoutur', 9020), ('midnight', 9021), ('timetochang', 9022), ('longgg', 9023), ('celtic', 9024), ('tomm', 9025), ('gonnna', 9026), ('bestt', 9027), ('digitalpreserv', 9028), ('wallyworld', 9029), ('kewl', 9030), ('nitelit', 9031), ('bing', 9032), ('clutter', 9033), ('caricatur', 9034), ('notesonprotest', 9035), ('jungl', 9036), ('snake', 9037), ('cherubim', 9038), ('seraphim', 9039), ('lambert', 9040), ('gibba', 9041), ('gabba', 9042), ('chekk', 9043), ('doubg', 9044), ('exploreyoursubject', 9045), ('applic', 9046), ('fmla', 9047), ('sight', 9048), ('nireyna', 9049), ('toodl', 9050), ('tweeter', 9051), ('viva', 9052), ('vida', 9053), ('coldplay', 9054), ('cracker', 9055), ('barrel', 9056), ('lovewin', 9057), ('classroom', 9058), ('geass', 9059), ('bebop', 9060), ('enuf', 9061), ('linkedin', 9062), ('profiel', 9063), ('barack', 9064), ('francisco', 9065), ('jole', 9066), ('erwin', 9067), ('blom', 9068), ('aranjan2012', 9069), ('kshitishsc', 9070), ('sanghiwalk', 9071), ('gaganjass141', 9072), ('gagan', 9073), ('2024', 9074), ('modi', 9075), ('biggi', 9076), ('shrink', 9077), ('classiccottag', 9078), ('elisabethclark', 9079), ('pros', 9080), ('chemistri', 9081), ('thuli', 9082), ('madonsela', 9083), ('heartfelt', 9084), ('jyr9eommcm', 9085), ('portray', 9086), ('bohanrob', 9087), ('myrea', 9088), ('blup', 9089), ('sighhh', 9090), ('anglo', 9091), ('saxon', 9092), ('hoard', 9093), ('helmet', 9094), ('presentfilm', 9095), ('amxo4eebn', 9096), ('privateview', 9097), ('whistlejacket', 9098), ('1997', 9099), ('currenlti', 9100), ('tellin', 9101), ('davidsandum', 9102), ('gcse', 9103), ('northbankinbloom', 9104), ('lifespan', 9105), ('jze6yfy2uj', 9106), ('brows', 9107), ('jacob', 9108), ('theresa', 9109), ('ukhomeopathyreg', 9110), ('wire', 9111), ('prolong', 9112), ('homeopathi', 9113), ('westjet', 9114), ('nonetheless', 9115), ('l6', 9116), ('dept', 9117), ('selfportrait', 9118), ('3k', 9119), ('nomadicmatt', 9120), ('eeeehhh', 9121), ('scoop', 9122), ('rm4', 9123), ('atchya', 9124), ('herebeforeoprah', 9125), ('twenti', 9126), ('comptonverney', 9127), ('bloke', 9128), ('feeeeel', 9129), ('arrang', 9130), ('vh1', 9131), ('uptight', 9132), ('handsom', 9133), ('xoxoxoxoxoxoxox', 9134), ('sup', 9135), ('cliocloth', 9136), ('synaesthesia', 9137), ('shld', 9138), ('iw', 9139), ('squash', 9140), ('pierodellafrancesca', 9141), ('tous', 9142), ('visiteur', 9143), ('homemad', 9144), ('enchilada', 9145), ('spontan', 9146), ('ipod', 9147), ('fox', 9148), ('lolla', 9149), ('museumgeek', 9150), ('canarywharf', 9151), ('invent', 9152), ('twentea', 9153), ('eyesight', 9154), ('bomberg', 9155), ('jujitsu', 9156), ('ann', 9157), ('donnelli', 9158), ('momentum', 9159), ('bn', 9160), ('bouillabais', 9161), ('lucystein', 9162), ('shoppin', 9163), ('npglondon', 9164), ('feliz', 9165), ('cumplea', 9166), ('os', 9167), ('worryi', 9168), ('backstag', 9169), ('caterpillar', 9170), ('prerna', 9171), ('rivan', 9172), ('neuenschwand', 9173), ('upep0v9fwa', 9174), ('flew', 9175), ('buffi', 9176), ('newcastl', 9177), ('rubbish', 9178), ('onlineanalyt', 9179), ('whup', 9180), ('clog', 9181), ('plunger', 9182), ('giirl', 9183), ('helen', 9184), ('openhous', 9185), ('davidkefford', 9186), ('excelent', 9187), ('colecci', 9188), ('spaniard', 9189), ('galician', 9190), ('accent', 9191), ('supercool', 9192), ('lulu', 9193), ('firstrecord', 9194), ('beatl', 9195), ('addam', 9196), ('sporad', 9197), ('sxdiowjzup', 9198), ('doke', 9199), ('kelli', 9200), ('clarkson', 9201), ('odin', 9202), ('revrichardcol', 9203), ('rickygervai', 9204), ('xeni', 9205), ('gspellcheck', 9206), ('talesofbritain', 9207), ('chuckwendig', 9208), ('winningr', 9209), ('aura', 9210), ('bootleg', 9211), ('depressionk', 9212), ('startrek', 9213), ('tlkg', 9214), ('carehomeopenday', 9215), ('17th', 9216), ('baroquessn', 9217), ('neilson', 9218), ('whitechapel', 9219), ('stephen', 9220), ('lmaaao', 9221), ('alik', 9222), ('tomorow', 9223), ('tenur', 9224), ('environment', 9225), ('carbon', 9226), ('standard', 9227), ('thang', 9228), ('stolen', 9229), ('atticren', 9230), ('glitter', 9231), ('carv', 9232), ('aherman2006', 9233), ('ambienc', 9234), ('unityvill', 9235), ('gramma', 9236), ('ccconf2015', 9237), ('ferrero', 9238), ('rocher', 9239), ('uncool01', 9240), ('idek', 9241), ('ik', 9242), ('loooooool', 9243), ('pertin', 9244), ('esperanto', 9245), ('k8', 9246), ('addyx21', 9247), ('asset', 9248), ('roch', 9249), ('sibl', 9250), ('g2l5l2utjc', 9251), ('cow', 9252), ('grasland', 9253), ('twink', 9254), ('pinkberri', 9255), ('homegirl', 9256), ('40821', 9257), ('reli', 9258), ('mae', 9259), ('zog4ztbm2', 9260), ('microscop', 9261), ('nano', 9262), ('shuffl', 9263), ('3n', 9264), ('r33nhins8x', 9265), ('tastic', 9266), ('nextt0g5vz', 9267), ('sameperson', 9268), ('clasp', 9269), ('audienc', 9270), ('endless', 9271), ('dismiss', 9272), ('cite', 9273), ('mercuri', 9274), ('retrograd', 9275), ('sentenc', 9276), ('ai', 9277), ('batteri', 9278), ('tu', 9279), ('cherrylolita', 9280), ('luff', 9281), ('musketer', 9282), ('dyeded', 9283), ('soda', 9284), ('critter', 9285), ('daamnn', 9286), ('hk', 9287), ('firefli', 9288), ('plaridel', 9289), ('atb', 9290), ('yippiie', 9291), ('cdc', 9292), ('lyn', 9293), ('alexpeterss', 9294), ('fahac', 9295), ('assumpt', 9296), ('moyai', 9297), ('hooki', 9298), ('museumhour', 9299), ('tuck', 9300), ('barley', 9301), ('gurtenfestiv', 9302), ('oasi', 9303), ('franz', 9304), ('ferdinand', 9305), ('lizard', 9306), ('twitpic', 9307), ('pen', 9308), ('wilki', 9309), ('belong', 9310), ('countrylifemag', 9311), ('tempeh', 9312), ('hayley', 9313), ('iht', 9314), ('pnaayshorddi', 9315), ('roflmao', 9316), ('anhedon', 9317), ('worthwhil', 9318), ('amwrit', 9319), ('ownvoic', 9320), ('hawkfal', 9321), ('februari', 9322), ('pelajar', 9323), ('cemerlang', 9324), ('thnk', 9325), ('munirah', 9326), ('drinki', 9327), ('dranki', 9328), ('kaskad', 9329), ('gnight', 9330), ('suckahz', 9331), ('cab', 9332), ('fiddler', 9333), ('panther', 9334), ('vocabulari', 9335), ('smc', 9336), ('tutor', 9337), ('flashmob', 9338), ('wilton', 9339), ('diptych', 9340), ('willowi', 9341), ('seren', 9342), ('portabl', 9343), ('balm', 9344), ('genechat', 9345), ('mdd1', 9346), ('mdd2', 9347), ('ns', 9348), ('keepingthefaith', 9349), ('washin', 9350), ('redneck', 9351), ('breed', 9352), ('funfunfun', 9353), ('freu', 9354), ('pacquiao', 9355), ('warbler', 9356), ('gnatcatch', 9357), ('faulti', 9358), ('muss', 9359), ('awwh', 9360), ('possum', 9361), ('gogol', 9362), ('bordello', 9363), ('caseytreat', 9364), ('chronicl', 9365), ('fennwick', 9366), ('allen', 9367), ('moron', 9368), ('brudder', 9369), ('aec', 9370), ('adreanainlb', 9371), ('mairinmurphi', 9372), ('aa', 9373), ('poc', 9374), ('blk', 9375), ('ibiza', 9376), ('yihaaaaa', 9377), ('marlin', 9378), ('jockey', 9379), ('pacha', 9380), ('bustl', 9381), ('amz', 9382), ('slboval', 9383), ('wknd', 9384), ('labbytherat', 9385), ('spinach', 9386), ('chickpea', 9387), ('vengeanc', 9388), ('cookbook', 9389), ('peachi', 9390), ('uh', 9391), ('bw', 9392), ('126', 9393), ('scene', 9394), ('camdentalk', 9395), ('hrv', 9396), ('differenti', 9397), ('r726xud64w', 9398), ('dai', 9399), ('flyladi', 9400), ('brisk', 9401), ('milk', 9402), ('brutal', 9403), ('hamthrax', 9404), ('birfday', 9405), ('lalafashionista', 9406), ('ama', 9407), ('ht', 9408), ('hoover', 9409), ('deluis', 9410), ('vielen', 9411), ('wayn', 9412), ('ken', 9413), ('guar', 9414), ('aux', 9415), ('oc', 9416), ('fayelizabethxo', 9417), ('absenc', 9418), ('cedar', 9419), ('momentus', 9420), ('3pm', 9421), ('2pm', 9422), ('ook', 9423), ('onlyinliverpool', 9424), ('noisi', 9425), ('mccain', 9426), ('frozen', 9427), ('deliveri', 9428), ('palm', 9429), ('disclaim', 9430), ('pwn3d', 9431), ('utrecht', 9432), ('singstar', 9433), ('trekaroo', 9434), ('vment', 9435), ('peaceful', 9436), ('peersupport', 9437), ('timestwo', 9438), ('meeteveri', 9439), ('prestonwhen', 9440), ('fmylif', 9441), ('checkk', 9442), ('ayi', 9443), ('superduperkyl', 9444), ('medal', 9445), ('fog', 9446), ('irrat', 9447), ('terror', 9448), ('cmo', 9449), ('dreviangordon', 9450), ('concret', 9451), ('mentalwel', 9452), ('brainhealth', 9453), ('mindmatt', 9454), ('whatyoudontse', 9455), ('amyzellm', 9456), ('mf', 9457), ('jimmi', 9458), ('rosin', 9459), ('honiton', 9460), ('magicianseven', 9461), ('pentaclesnin', 9462), ('alexanderthegreat', 9463), ('petosin', 9464), ('artifact', 9465), ('civil', 9466), ('geolog', 9467), ('pale', 9468), ('tigger', 9469), ('neuter', 9470), ('1011', 9471), ('ure', 9472), ('needforcaffein', 9473), ('haka', 9474), ('spoilt', 9475), ('whipplemuseum', 9476), ('sedgwickmuseum', 9477), ('naraaz', 9478), ('houn', 9479), ('wo', 9480), ('khana', 9481), ('chor', 9482), ('phire', 9483), ('chli', 9484), ('jae', 9485), ('kr', 9486), ('lovegreatbritain', 9487), ('peek', 9488), ('portobello', 9489), ('evok', 9490), ('nona', 9491), ('hendryx', 9492), ('labell', 9493), ('kerepakupai', 9494), ('vena', 9495), ('swedish', 9496), ('surveypir', 9497), ('camdencoffe', 9498), ('emiratesairldn', 9499), ('yehey', 9500), ('insta', 9501), ('dandipiero', 9502), ('400', 9503), ('supremist', 9504), ('abhor', 9505), ('racist', 9506), ('mrjayv', 9507), ('intellig', 9508), ('rhetor', 9509), ('ginger', 9510), ('cash', 9511), ('promin', 9512), ('inuit', 9513), ('narcissist', 9514), ('patent', 9515), ('inkheist', 9516), ('guestpost', 9517), ('writerslif', 9518), ('kiesl', 9519), ('horrorbookshelf', 9520), ('shanedkeen', 9521), ('horror', 9522), ('pb9m9nvotb', 9523), ('microcontrol', 9524), ('prep', 9525), ('xam', 9526), ('patron', 9527), ('sim', 9528), ('warcraft', 9529), ('mikequad', 9530), ('thinkin', 9531), ('kylekashuv', 9532), ('snowflak', 9533), ('wwii', 9534), ('ypbltfqyg', 9535), ('dinosaur', 9536), ('lovemuseum', 9537), ('niceee', 9538), ('lorenzo', 9539), ('leagu', 9540), ('amid', 9541), ('happybirthdaytom', 9542), ('ilovelondon', 9543), ('lecmn', 9544), ('mardixon', 9545), ('h8', 9546), ('bf', 9547), ('rcb', 9548), ('rcbian', 9549), ('ahahahaha', 9550), ('pierc', 9551), ('2hour', 9552), ('jmkis91', 9553), ('4ward', 9554), ('saythat', 9555), ('316', 9556), ('r20ajg01mf', 9557), ('emmet', 9558), ('visionari', 9559)])\n"
     ]
    }
   ],
   "source": [
    "print(tokenizer.word_index.items())"
   ]
  },
  {
   "cell_type": "code",
   "execution_count": 25,
   "metadata": {},
   "outputs": [
    {
     "data": {
      "text/plain": [
       "array([ 7.87526276e-03, -3.85458499e-01,  1.84414044e-01,  2.74373531e-01,\n",
       "       -2.69774884e-01,  3.24491709e-01,  3.09029762e-02, -3.92794251e-01,\n",
       "       -8.20265058e-03, -2.00350523e-01,  1.99668124e-01,  1.85033843e-01,\n",
       "       -4.56319481e-01,  2.13175610e-01, -1.65542662e-01, -1.21345669e-01,\n",
       "       -4.52602059e-01, -1.56882137e-01,  4.18859363e-01,  1.24310870e-02,\n",
       "        3.83397996e-01, -8.39689630e-04, -3.84247661e-01, -1.68948188e-01,\n",
       "       -2.58572791e-02, -6.93642914e-01,  5.10567129e-01,  2.27456182e-01,\n",
       "       -1.75679311e-01,  2.01925233e-01, -1.02075636e-01,  2.29704514e-01,\n",
       "       -1.10979214e-01, -1.03579842e-01, -1.61952600e-01, -3.41527343e-01,\n",
       "       -1.53274998e-01,  3.68724577e-02, -3.29231799e-01, -1.70102254e-01,\n",
       "       -1.43959835e-01,  1.22976936e-02, -2.68152148e-01,  1.56316012e-01,\n",
       "       -2.53796518e-01, -9.91434380e-02, -3.60850990e-01,  1.14081196e-01,\n",
       "        1.53221274e-02, -7.44309068e-01, -6.90887868e-01,  2.10404024e-01,\n",
       "        3.62755847e-04,  2.19802827e-01,  1.28229156e-01, -8.57950866e-01,\n",
       "        4.85882349e-02, -4.51857150e-01,  1.08901255e-01, -3.13588500e-01,\n",
       "       -6.17329895e-01,  1.79577842e-01,  1.97137922e-01, -1.33287221e-01,\n",
       "        8.66084620e-02, -4.00800467e-01, -5.18919118e-02, -1.84510380e-01,\n",
       "       -2.46000260e-01,  1.81268707e-01,  6.91456646e-02,  3.62556577e-01,\n",
       "       -1.10784441e-01, -5.27476311e-01,  1.72462642e-01,  1.69041783e-01,\n",
       "        5.31835735e-01, -3.32134008e-01,  4.96195167e-01, -6.64312601e-01,\n",
       "       -9.17848349e-02, -2.51354367e-01,  3.57697040e-01,  1.12610400e-01,\n",
       "       -5.30557930e-01,  1.48639947e-01,  2.03807175e-01, -2.86968619e-01,\n",
       "       -4.56192285e-01,  5.23775339e-01, -3.53904106e-02,  7.75527731e-02,\n",
       "        3.85344364e-02,  3.20106387e-01, -4.36047874e-02,  1.93394929e-01,\n",
       "       -1.15167908e-01, -7.09790662e-02,  6.08547151e-01,  9.78154838e-02,\n",
       "       -1.91876680e-01, -1.24999642e-01,  2.51100566e-02,  2.82153130e-01,\n",
       "       -3.08091361e-02, -1.75307512e-01, -3.40801403e-02,  5.78718901e-01,\n",
       "        5.29039800e-01, -5.47792733e-01,  5.04474342e-01, -2.29251385e-01,\n",
       "       -2.55897641e-01,  4.65240330e-01,  1.74168855e-01,  2.94975042e-01,\n",
       "        3.35680544e-01,  1.66869268e-01, -1.82957742e-02,  2.85545170e-01,\n",
       "        1.43061772e-01, -1.21866979e-01,  7.85280347e-01, -2.22306430e-01,\n",
       "        1.16201891e-02, -2.04628870e-01, -7.01912522e-01,  7.34626204e-02,\n",
       "       -1.48046717e-01,  5.14171958e-01,  3.88590068e-01,  1.74264133e-01,\n",
       "       -4.80168283e-01, -1.57864943e-01,  2.83752412e-01, -7.59143308e-02,\n",
       "       -2.50562876e-01,  1.86089188e-01,  1.81468487e-01,  4.56598997e-01,\n",
       "        3.56457114e-01, -5.11902869e-01, -8.00215185e-01,  1.85147509e-01,\n",
       "       -1.60512507e-01,  5.66521049e-01, -2.46935934e-01, -2.33804762e-01,\n",
       "       -5.29685803e-02,  4.36054617e-02,  4.22543228e-01, -4.28924292e-01,\n",
       "       -1.57545820e-01,  2.18494646e-02, -2.83675581e-01,  1.23545870e-01,\n",
       "        7.26579204e-02,  1.24781586e-01,  9.53544453e-02,  4.25325185e-02,\n",
       "       -1.60072744e-01,  1.84483945e-01,  2.25598048e-02, -2.44561777e-01,\n",
       "        4.56619300e-02,  4.65418309e-01, -2.03557555e-02,  1.25221923e-01,\n",
       "        7.83592314e-02,  3.39507371e-01, -4.78270024e-01, -1.15441807e-01,\n",
       "       -6.54847696e-02, -2.11198777e-01, -4.35929567e-01,  7.20114782e-02,\n",
       "       -1.75604727e-02,  3.71014420e-03, -2.67734919e-02,  3.03418964e-01,\n",
       "       -3.38638037e-01,  2.06772350e-02, -1.60311908e-02,  9.03064758e-02,\n",
       "        5.29007852e-01,  1.03357762e-01,  2.17800319e-01,  3.51434857e-01,\n",
       "        3.21613163e-01, -1.81325898e-01,  3.20916504e-01, -3.32637995e-01,\n",
       "       -1.73458204e-01, -2.75943398e-01, -2.70189315e-01,  4.35854763e-01,\n",
       "        1.35845887e-02,  1.09447338e-01, -2.23447010e-02,  1.61779866e-01,\n",
       "        1.01677582e-01,  2.37587422e-01,  3.69541273e-02, -9.70325619e-02,\n",
       "       -1.48568302e-01,  1.57580137e-01, -7.48059973e-02, -1.23977497e-01,\n",
       "       -3.36129367e-01,  1.90615281e-01, -1.97211523e-02,  3.74657735e-02,\n",
       "        3.49867254e-01, -2.85236895e-01,  3.90501320e-01,  1.34099692e-01,\n",
       "        2.66213328e-01, -1.80438850e-02, -8.27782393e-01, -1.03528070e+00,\n",
       "        1.53686747e-01, -9.59270447e-02, -3.15977395e-01, -3.35445166e-01,\n",
       "        4.97263163e-01, -2.11576134e-01,  4.34919327e-01, -3.73126864e-02,\n",
       "        3.50235440e-02, -1.97486162e-01, -1.71682730e-01,  1.82073206e-01,\n",
       "       -1.63779855e-01, -2.01798558e-01,  1.42317964e-02,  5.99854439e-02,\n",
       "       -2.63468295e-01,  5.81739962e-01,  3.77849042e-02,  1.58829585e-01,\n",
       "       -2.04107258e-02,  3.92005686e-03, -1.90051854e-01,  3.65165859e-01,\n",
       "        3.36379297e-02, -3.30600403e-02,  3.85516077e-01, -2.28748411e-01,\n",
       "        5.51253222e-02,  2.79886991e-01,  2.33424827e-01, -2.60879189e-01,\n",
       "       -1.66794077e-01, -4.98123676e-01, -4.89496768e-01, -2.90207565e-01,\n",
       "        6.07248425e-01,  1.83970064e-01, -7.02350438e-01, -2.14574620e-01,\n",
       "        6.90018460e-02, -9.88079011e-02,  5.76518774e-01,  2.53434658e-01,\n",
       "       -6.50365472e-01,  5.92370510e-01,  4.00413394e-01,  9.61920545e-02,\n",
       "       -3.44049335e-01,  3.21035571e-02, -4.64060217e-01, -6.08230196e-02,\n",
       "        1.17218178e-02, -2.20571700e-02,  2.71481127e-01,  2.60586351e-01,\n",
       "        2.98081428e-01,  1.26098499e-01, -1.95800066e-01,  1.42316604e-02,\n",
       "       -4.80540879e-02, -6.47139728e-01, -2.62302756e-01, -5.74012026e-02,\n",
       "        3.10905874e-01, -3.99612516e-01, -1.90173909e-01, -2.49657989e-01,\n",
       "        6.89048767e-01,  6.44746900e-01, -3.29386979e-01,  2.17916772e-01,\n",
       "        5.93122363e-01, -2.33273700e-01,  4.49404389e-01, -1.47671685e-01,\n",
       "       -1.05355985e-01, -4.30956125e-01,  3.29276383e-01, -6.53329670e-01],\n",
       "      dtype=float32)"
      ]
     },
     "execution_count": 25,
     "metadata": {},
     "output_type": "execute_result"
    }
   ],
   "source": [
    "w2v_model.wv['depress']"
   ]
  },
  {
   "cell_type": "code",
   "execution_count": 26,
   "metadata": {},
   "outputs": [
    {
     "name": "stdout",
     "output_type": "stream",
     "text": [
      "(9560, 300)\n"
     ]
    }
   ],
   "source": [
    "embedding_matrix = np.zeros((vocab_size, W2V_SIZE))\n",
    "for word, i in tokenizer.word_index.items():\n",
    "  if word in w2v_model.wv:\n",
    "    embedding_matrix[i] = w2v_model.wv[word]\n",
    "print(embedding_matrix.shape)"
   ]
  },
  {
   "cell_type": "code",
   "execution_count": 27,
   "metadata": {},
   "outputs": [],
   "source": [
    "embedding_layer = Embedding(vocab_size, W2V_SIZE, weights=[embedding_matrix], input_length=SEQUENCE_LENGTH, trainable=False)"
   ]
  },
  {
   "attachments": {},
   "cell_type": "markdown",
   "metadata": {},
   "source": [
    "**LSTM Model**"
   ]
  },
  {
   "cell_type": "code",
   "execution_count": 28,
   "metadata": {},
   "outputs": [
    {
     "name": "stdout",
     "output_type": "stream",
     "text": [
      "Model: \"sequential\"\n",
      "_________________________________________________________________\n",
      " Layer (type)                Output Shape              Param #   \n",
      "=================================================================\n",
      " embedding (Embedding)       (None, 300, 300)          2868000   \n",
      "                                                                 \n",
      " lstm (LSTM)                 (None, 128)               219648    \n",
      "                                                                 \n",
      " dense (Dense)               (None, 1)                 129       \n",
      "                                                                 \n",
      "=================================================================\n",
      "Total params: 3,087,777\n",
      "Trainable params: 219,777\n",
      "Non-trainable params: 2,868,000\n",
      "_________________________________________________________________\n"
     ]
    }
   ],
   "source": [
    "model = Sequential()\n",
    "model.add(embedding_layer)\n",
    "model.add(LSTM(128, dropout=0.2, recurrent_dropout=0.2))\n",
    "model.add(Dense(1, activation='sigmoid'))\n",
    "\n",
    "model.summary()"
   ]
  },
  {
   "cell_type": "code",
   "execution_count": 29,
   "metadata": {},
   "outputs": [],
   "source": [
    "model.compile(loss='binary_crossentropy',\n",
    "              optimizer=\"adam\",\n",
    "              metrics=['accuracy'])"
   ]
  },
  {
   "cell_type": "code",
   "execution_count": 30,
   "metadata": {},
   "outputs": [],
   "source": [
    "callbacks = [ ReduceLROnPlateau(monitor='val_loss', patience=5, cooldown=0),\n",
    "              EarlyStopping(monitor='val_accuracy', min_delta=1e-4, patience=5)]"
   ]
  },
  {
   "cell_type": "code",
   "execution_count": 31,
   "metadata": {},
   "outputs": [
    {
     "name": "stdout",
     "output_type": "stream",
     "text": [
      "Epoch 1/8\n"
     ]
    },
    {
     "name": "stderr",
     "output_type": "stream",
     "text": [
      "2023-05-19 10:20:49.921789: W tensorflow/tsl/platform/profile_utils/cpu_utils.cc:128] Failed to get CPU frequency: 0 Hz\n"
     ]
    },
    {
     "name": "stdout",
     "output_type": "stream",
     "text": [
      "6/6 [==============================] - 33s 5s/step - loss: 0.5222 - accuracy: 0.7559 - val_loss: 0.3678 - val_accuracy: 0.8652 - lr: 0.0010\n",
      "Epoch 2/8\n",
      "6/6 [==============================] - 30s 5s/step - loss: 0.2518 - accuracy: 0.9118 - val_loss: 0.2221 - val_accuracy: 0.9051 - lr: 0.0010\n",
      "Epoch 3/8\n",
      "6/6 [==============================] - 30s 5s/step - loss: 0.1513 - accuracy: 0.9492 - val_loss: 0.1247 - val_accuracy: 0.9663 - lr: 0.0010\n",
      "Epoch 4/8\n",
      "6/6 [==============================] - 38s 7s/step - loss: 0.1072 - accuracy: 0.9685 - val_loss: 0.0774 - val_accuracy: 0.9755 - lr: 0.0010\n",
      "Epoch 5/8\n",
      "6/6 [==============================] - 31s 5s/step - loss: 0.0720 - accuracy: 0.9808 - val_loss: 0.0478 - val_accuracy: 0.9877 - lr: 0.0010\n",
      "Epoch 6/8\n",
      "6/6 [==============================] - 27s 4s/step - loss: 0.0500 - accuracy: 0.9865 - val_loss: 0.0343 - val_accuracy: 0.9923 - lr: 0.0010\n",
      "Epoch 7/8\n",
      "6/6 [==============================] - 27s 5s/step - loss: 0.0410 - accuracy: 0.9886 - val_loss: 0.0303 - val_accuracy: 0.9923 - lr: 0.0010\n",
      "Epoch 8/8\n",
      "6/6 [==============================] - 26s 4s/step - loss: 0.0371 - accuracy: 0.9906 - val_loss: 0.0292 - val_accuracy: 0.9923 - lr: 0.0010\n"
     ]
    }
   ],
   "source": [
    "history = model.fit(x_train, y_train,\n",
    "                    batch_size=BATCH_SIZE,\n",
    "                    epochs=EPOCHS,\n",
    "                    validation_split=0.1,\n",
    "                    verbose=1,\n",
    "                    callbacks=callbacks)"
   ]
  },
  {
   "cell_type": "code",
   "execution_count": 343,
   "metadata": {},
   "outputs": [
    {
     "data": {
      "image/png": "[encoded data removed]",
      "text/plain": [
       "<Figure size 640x480 with 1 Axes>"
      ]
     },
     "metadata": {},
     "output_type": "display_data"
    },
    {
     "data": {
      "image/png": "[encoded data removed]",
      "text/plain": [
       "<Figure size 640x480 with 1 Axes>"
      ]
     },
     "metadata": {},
     "output_type": "display_data"
    }
   ],
   "source": [
    "acc = history.history['accuracy']\n",
    "val_acc = history.history['val_accuracy']\n",
    "loss = history.history['loss']\n",
    "val_loss = history.history['val_loss']\n",
    "epochs = range(1, len(acc) + 1)\n",
    "plt.plot(epochs, acc, 'b', label='Training acc')\n",
    "plt.plot(epochs, val_acc, 'r', label='Validation acc')\n",
    "plt.title('Training and validation accuracy')\n",
    "plt.legend()\n",
    "plt.figure()\n",
    "plt.plot(epochs, loss, 'b', label='Training loss')\n",
    "plt.plot(epochs, val_loss, 'r', label='Validation loss')\n",
    "plt.title('Training and validation loss')\n",
    "plt.legend()\n",
    "plt.show()"
   ]
  },
  {
   "cell_type": "code",
   "execution_count": 32,
   "metadata": {},
   "outputs": [
    {
     "name": "stdout",
     "output_type": "stream",
     "text": [
      "2/2 [==============================] - 2s 920ms/step - loss: 0.0476 - accuracy: 0.9877\n",
      "[0.047641951590776443, 0.9877375960350037]\n",
      "LSTM\n",
      "ACCURACY: 0.9877375960350037\n",
      "LOSS: 0.047641951590776443\n"
     ]
    }
   ],
   "source": [
    "score = model.evaluate(x_test, y_test, batch_size=BATCH_SIZE)\n",
    "print(score)\n",
    "print(\"LSTM\\nACCURACY:\",score[1])\n",
    "print(\"LOSS:\",score[0])"
   ]
  },
  {
   "cell_type": "code",
   "execution_count": 33,
   "metadata": {},
   "outputs": [
    {
     "name": "stdout",
     "output_type": "stream",
     "text": [
      "51/51 [==============================] - 13s 253ms/step\n",
      "Accuracy: 98.77%\n"
     ]
    }
   ],
   "source": [
    "labels_pred = model.predict(x_test)\n",
    "labels_pred = np.round(labels_pred.flatten())\n",
    "accuracy = accuracy_score(y_test, labels_pred)\n",
    "print(\"Accuracy: %.2f%%\" % (accuracy*100))"
   ]
  },
  {
   "cell_type": "code",
   "execution_count": 34,
   "metadata": {},
   "outputs": [
    {
     "name": "stdout",
     "output_type": "stream",
     "text": [
      "{'0': {'precision': 0.9731903485254692, 'recall': 1.0, 'f1-score': 0.9864130434782609, 'support': 726}, '1': {'precision': 1.0, 'recall': 0.9779005524861878, 'f1-score': 0.988826815642458, 'support': 905}, 'accuracy': 0.987737584304108, 'macro avg': {'precision': 0.9865951742627346, 'recall': 0.988950276243094, 'f1-score': 0.9876199295603594, 'support': 1631}, 'weighted avg': {'precision': 0.9880663353951507, 'recall': 0.987737584304108, 'f1-score': 0.9877523836429442, 'support': 1631}}\n"
     ]
    }
   ],
   "source": [
    "report = classification_report(y_test, labels_pred, output_dict=True)\n",
    "print(report)"
   ]
  },
  {
   "cell_type": "code",
   "execution_count": 35,
   "metadata": {},
   "outputs": [
    {
     "data": {
      "text/html": [
       "<div>\n",
       "<style scoped>\n",
       "    .dataframe tbody tr th:only-of-type {\n",
       "        vertical-align: middle;\n",
       "    }\n",
       "\n",
       "    .dataframe tbody tr th {\n",
       "        vertical-align: top;\n",
       "    }\n",
       "\n",
       "    .dataframe thead th {\n",
       "        text-align: right;\n",
       "    }\n",
       "</style>\n",
       "<table border=\"1\" class=\"dataframe\">\n",
       "  <thead>\n",
       "    <tr style=\"text-align: right;\">\n",
       "      <th></th>\n",
       "      <th>cat</th>\n",
       "      <th>val</th>\n",
       "      <th>source</th>\n",
       "    </tr>\n",
       "  </thead>\n",
       "  <tbody>\n",
       "    <tr>\n",
       "      <th>0</th>\n",
       "      <td>precision</td>\n",
       "      <td>1.000000</td>\n",
       "      <td>lstm</td>\n",
       "    </tr>\n",
       "    <tr>\n",
       "      <th>1</th>\n",
       "      <td>recall</td>\n",
       "      <td>0.977901</td>\n",
       "      <td>lstm</td>\n",
       "    </tr>\n",
       "    <tr>\n",
       "      <th>2</th>\n",
       "      <td>accuracy</td>\n",
       "      <td>0.987738</td>\n",
       "      <td>lstm</td>\n",
       "    </tr>\n",
       "    <tr>\n",
       "      <th>3</th>\n",
       "      <td>f1-score</td>\n",
       "      <td>0.988827</td>\n",
       "      <td>lstm</td>\n",
       "    </tr>\n",
       "  </tbody>\n",
       "</table>\n",
       "</div>"
      ],
      "text/plain": [
       "         cat       val source\n",
       "0  precision  1.000000   lstm\n",
       "1     recall  0.977901   lstm\n",
       "2   accuracy  0.987738   lstm\n",
       "3   f1-score  0.988827   lstm"
      ]
     },
     "execution_count": 35,
     "metadata": {},
     "output_type": "execute_result"
    }
   ],
   "source": [
    "data = [['precision', report['1']['precision']], ['recall', report['1']['recall']], ['accuracy', report['accuracy']], ['f1-score', report['1']['f1-score']]]\n",
    "df_lstm = pd.DataFrame(data, columns=['cat', 'val'])\n",
    "df_lstm['source'] = 'lstm'\n",
    "df_lstm.head()"
   ]
  },
  {
   "cell_type": "code",
   "execution_count": 51,
   "metadata": {},
   "outputs": [],
   "source": [
    "def decode_sentiment(score):\n",
    "    return NEGATIVE if score < 0.4 else POSITIVE"
   ]
  },
  {
   "cell_type": "code",
   "execution_count": 52,
   "metadata": {},
   "outputs": [],
   "source": [
    "def predict(text):\n",
    "    text = re.sub(TEXT_CLEANING_RE, ' ', str(text).lower()).strip()\n",
    "    tokens = []\n",
    "    for token in text.split():\n",
    "        if token not in stop_words:\n",
    "            tokens.append(stemmer.stem(token))\n",
    "    text = \" \".join(tokens)\n",
    "    start_at = time.time()\n",
    "    # Tokenize text\n",
    "    x_test = pad_sequences(tokenizer.texts_to_sequences([text]), maxlen=300)\n",
    "    # Predict\n",
    "    score = model.predict(x_test)[0]\n",
    "    # Decode sentiment\n",
    "    label = decode_sentiment(score)\n",
    "\n",
    "    return {\"label\": label, \"score\": float(score),\n",
    "       \"elapsed_time\": time.time()-start_at}  "
   ]
  },
  {
   "cell_type": "code",
   "execution_count": 53,
   "metadata": {},
   "outputs": [
    {
     "name": "stdout",
     "output_type": "stream",
     "text": [
      "1/1 [==============================] - 0s 54ms/step\n"
     ]
    },
    {
     "data": {
      "text/plain": [
       "{'label': 'POSITIVE',\n",
       " 'score': 0.4678723216056824,\n",
       " 'elapsed_time': 0.08474373817443848}"
      ]
     },
     "execution_count": 53,
     "metadata": {},
     "output_type": "execute_result"
    }
   ],
   "source": [
    "predict(\"i hate my life, suicide is the only option\")"
   ]
  },
  {
   "cell_type": "code",
   "execution_count": 54,
   "metadata": {},
   "outputs": [
    {
     "name": "stdout",
     "output_type": "stream",
     "text": [
      "1/1 [==============================] - 0s 50ms/step\n"
     ]
    },
    {
     "data": {
      "text/plain": [
       "{'label': 'NEGATIVE',\n",
       " 'score': 0.0026495163328945637,\n",
       " 'elapsed_time': 0.07707405090332031}"
      ]
     },
     "execution_count": 54,
     "metadata": {},
     "output_type": "execute_result"
    }
   ],
   "source": [
    "predict(\"I enjoyed the vacations, it was so enjoyable\")"
   ]
  },
  {
   "cell_type": "code",
   "execution_count": 55,
   "metadata": {},
   "outputs": [
    {
     "name": "stdout",
     "output_type": "stream",
     "text": [
      "1/1 [==============================] - 0s 51ms/step\n"
     ]
    },
    {
     "data": {
      "text/plain": [
       "{'label': 'POSITIVE',\n",
       " 'score': 0.8396480083465576,\n",
       " 'elapsed_time': 0.07980918884277344}"
      ]
     },
     "execution_count": 55,
     "metadata": {},
     "output_type": "execute_result"
    }
   ],
   "source": [
    "predict(\"i think i diagnose mental ilness and disorders\")"
   ]
  },
  {
   "cell_type": "code",
   "execution_count": 56,
   "metadata": {},
   "outputs": [
    {
     "name": "stdout",
     "output_type": "stream",
     "text": [
      "1/1 [==============================] - 0s 51ms/step\n"
     ]
    },
    {
     "data": {
      "text/plain": [
       "{'label': 'POSITIVE',\n",
       " 'score': 0.8483155369758606,\n",
       " 'elapsed_time': 0.07765007019042969}"
      ]
     },
     "execution_count": 56,
     "metadata": {},
     "output_type": "execute_result"
    }
   ],
   "source": [
    "predict(\"i failed my exams, i am mentally so stressed right now\")"
   ]
  },
  {
   "cell_type": "code",
   "execution_count": 57,
   "metadata": {},
   "outputs": [
    {
     "name": "stdout",
     "output_type": "stream",
     "text": [
      "1/1 [==============================] - 0s 73ms/step\n"
     ]
    },
    {
     "data": {
      "text/plain": [
       "{'label': 'NEGATIVE',\n",
       " 'score': 0.0021864280570298433,\n",
       " 'elapsed_time': 0.12343597412109375}"
      ]
     },
     "execution_count": 57,
     "metadata": {},
     "output_type": "execute_result"
    }
   ],
   "source": [
    "predict(\"last week was so nice, had fun with friends\")"
   ]
  },
  {
   "cell_type": "code",
   "execution_count": 58,
   "metadata": {},
   "outputs": [
    {
     "name": "stdout",
     "output_type": "stream",
     "text": [
      "1/1 [==============================] - 0s 68ms/step\n"
     ]
    },
    {
     "data": {
      "text/plain": [
       "{'label': 'NEGATIVE',\n",
       " 'score': 0.0013472730061039329,\n",
       " 'elapsed_time': 0.10190200805664062}"
      ]
     },
     "execution_count": 58,
     "metadata": {},
     "output_type": "execute_result"
    }
   ],
   "source": [
    "predict(\"last week birthday celebration party was so enjoyable, i was so happy, memorable day ever\")"
   ]
  },
  {
   "attachments": {},
   "cell_type": "markdown",
   "metadata": {},
   "source": [
    "**CNN**"
   ]
  },
  {
   "cell_type": "code",
   "execution_count": 59,
   "metadata": {},
   "outputs": [],
   "source": [
    "model = Sequential()\n",
    "model.add(embedding_layer)\n",
    "model.add(Convolution1D(32, 3, activation='relu'))\n",
    "model.add(MaxPooling1D(pool_size=2))\n",
    "model.add(Convolution1D(64, 3, activation='relu'))\n",
    "model.add(MaxPooling1D(pool_size=2))\n",
    "model.add(Convolution1D(64, 3, activation='relu'))\n",
    "model.add(MaxPooling1D(pool_size=2))\n",
    "model.add(Flatten())\n",
    "model.add(Dense(32, activation='relu'))\n",
    "model.add(Dense(16, activation='relu'))\n",
    "model.add(Dense(8, activation='relu'))\n",
    "model.add(Dense(1, activation='sigmoid'))"
   ]
  },
  {
   "cell_type": "code",
   "execution_count": 60,
   "metadata": {},
   "outputs": [
    {
     "name": "stdout",
     "output_type": "stream",
     "text": [
      "Model: \"sequential_1\"\n",
      "_________________________________________________________________\n",
      " Layer (type)                Output Shape              Param #   \n",
      "=================================================================\n",
      " embedding (Embedding)       (None, 300, 300)          2868000   \n",
      "                                                                 \n",
      " conv1d (Conv1D)             (None, 298, 32)           28832     \n",
      "                                                                 \n",
      " max_pooling1d (MaxPooling1D  (None, 149, 32)          0         \n",
      " )                                                               \n",
      "                                                                 \n",
      " conv1d_1 (Conv1D)           (None, 147, 64)           6208      \n",
      "                                                                 \n",
      " max_pooling1d_1 (MaxPooling  (None, 73, 64)           0         \n",
      " 1D)                                                             \n",
      "                                                                 \n",
      " conv1d_2 (Conv1D)           (None, 71, 64)            12352     \n",
      "                                                                 \n",
      " max_pooling1d_2 (MaxPooling  (None, 35, 64)           0         \n",
      " 1D)                                                             \n",
      "                                                                 \n",
      " flatten (Flatten)           (None, 2240)              0         \n",
      "                                                                 \n",
      " dense_1 (Dense)             (None, 32)                71712     \n",
      "                                                                 \n",
      " dense_2 (Dense)             (None, 16)                528       \n",
      "                                                                 \n",
      " dense_3 (Dense)             (None, 8)                 136       \n",
      "                                                                 \n",
      " dense_4 (Dense)             (None, 1)                 9         \n",
      "                                                                 \n",
      "=================================================================\n",
      "Total params: 2,987,777\n",
      "Trainable params: 119,777\n",
      "Non-trainable params: 2,868,000\n",
      "_________________________________________________________________\n"
     ]
    }
   ],
   "source": [
    "model.compile(optimizer='adam', loss='binary_crossentropy', metrics=[\"accuracy\"])\n",
    "model.summary()"
   ]
  },
  {
   "cell_type": "code",
   "execution_count": 61,
   "metadata": {},
   "outputs": [
    {
     "name": "stdout",
     "output_type": "stream",
     "text": [
      "Epoch 1/12\n",
      "6/6 [==============================] - 5s 678ms/step - loss: 0.6204 - accuracy: 0.5898 - val_loss: 0.5751 - val_accuracy: 0.5360 - lr: 0.0010\n",
      "Epoch 2/12\n",
      "6/6 [==============================] - 4s 642ms/step - loss: 0.5451 - accuracy: 0.5868 - val_loss: 0.5254 - val_accuracy: 0.6891 - lr: 0.0010\n",
      "Epoch 3/12\n",
      "6/6 [==============================] - 4s 646ms/step - loss: 0.5122 - accuracy: 0.7130 - val_loss: 0.5031 - val_accuracy: 0.7749 - lr: 0.0010\n",
      "Epoch 4/12\n",
      "6/6 [==============================] - 4s 687ms/step - loss: 0.4896 - accuracy: 0.7483 - val_loss: 0.4885 - val_accuracy: 0.7841 - lr: 0.0010\n",
      "Epoch 5/12\n",
      "6/6 [==============================] - 4s 674ms/step - loss: 0.4761 - accuracy: 0.7602 - val_loss: 0.4835 - val_accuracy: 0.7841 - lr: 0.0010\n",
      "Epoch 6/12\n",
      "6/6 [==============================] - 4s 705ms/step - loss: 0.4690 - accuracy: 0.7658 - val_loss: 0.4763 - val_accuracy: 0.7841 - lr: 0.0010\n",
      "Epoch 7/12\n",
      "6/6 [==============================] - 4s 659ms/step - loss: 0.4622 - accuracy: 0.7695 - val_loss: 0.4714 - val_accuracy: 0.7871 - lr: 0.0010\n",
      "Epoch 8/12\n",
      "6/6 [==============================] - 4s 645ms/step - loss: 0.4559 - accuracy: 0.7740 - val_loss: 0.4662 - val_accuracy: 0.7841 - lr: 0.0010\n",
      "Epoch 9/12\n",
      "6/6 [==============================] - 4s 688ms/step - loss: 0.4491 - accuracy: 0.7745 - val_loss: 0.4605 - val_accuracy: 0.7902 - lr: 0.0010\n",
      "Epoch 10/12\n",
      "6/6 [==============================] - 4s 664ms/step - loss: 0.4407 - accuracy: 0.7799 - val_loss: 0.4537 - val_accuracy: 0.7948 - lr: 0.0010\n",
      "Epoch 11/12\n",
      "6/6 [==============================] - 4s 660ms/step - loss: 0.4309 - accuracy: 0.7852 - val_loss: 0.4406 - val_accuracy: 0.7963 - lr: 0.0010\n",
      "Epoch 12/12\n",
      "6/6 [==============================] - 4s 645ms/step - loss: 0.4159 - accuracy: 0.7907 - val_loss: 0.4227 - val_accuracy: 0.7917 - lr: 0.0010\n"
     ]
    }
   ],
   "source": [
    "history = model.fit(x_train, y_train,\n",
    "                    batch_size=BATCH_SIZE,epochs=12,\n",
    "                    validation_split=0.1,verbose=1,callbacks=callbacks)"
   ]
  },
  {
   "cell_type": "code",
   "execution_count": 62,
   "metadata": {},
   "outputs": [
    {
     "name": "stdout",
     "output_type": "stream",
     "text": [
      "2/2 [==============================] - 0s 225ms/step - loss: 0.4620 - accuracy: 0.7646\n",
      "\n",
      "CNN\n",
      "ACCURACY: 0.7645615935325623\n",
      "LOSS: 0.4619642198085785\n"
     ]
    }
   ],
   "source": [
    "score = model.evaluate(x_test, y_test, batch_size=BATCH_SIZE)\n",
    "print()\n",
    "print(\"CNN\\nACCURACY:\",score[1])\n",
    "print(\"LOSS:\",score[0])"
   ]
  },
  {
   "cell_type": "code",
   "execution_count": 63,
   "metadata": {},
   "outputs": [
    {
     "name": "stdout",
     "output_type": "stream",
     "text": [
      "51/51 [==============================] - 1s 12ms/step\n",
      "Accuracy: 76.46%\n"
     ]
    }
   ],
   "source": [
    "labels_pred = model.predict(x_test)\n",
    "labels_pred = np.round(labels_pred.flatten())\n",
    "accuracy = accuracy_score(y_test, labels_pred)\n",
    "print(\"Accuracy: %.2f%%\" % (accuracy*100))"
   ]
  },
  {
   "cell_type": "code",
   "execution_count": 64,
   "metadata": {},
   "outputs": [
    {
     "data": {
      "text/plain": [
       "{'0': {'precision': 0.6734279918864098,\n",
       "  'recall': 0.9146005509641874,\n",
       "  'f1-score': 0.7757009345794392,\n",
       "  'support': 726},\n",
       " '1': {'precision': 0.9038759689922481,\n",
       "  'recall': 0.6441988950276243,\n",
       "  'f1-score': 0.7522580645161291,\n",
       "  'support': 905},\n",
       " 'accuracy': 0.7645616186388718,\n",
       " 'macro avg': {'precision': 0.7886519804393289,\n",
       "  'recall': 0.7793997229959058,\n",
       "  'f1-score': 0.7639794995477842,\n",
       "  'support': 1631},\n",
       " 'weighted avg': {'precision': 0.8012976542290117,\n",
       "  'recall': 0.7645616186388718,\n",
       "  'f1-score': 0.7626930882230348,\n",
       "  'support': 1631}}"
      ]
     },
     "execution_count": 64,
     "metadata": {},
     "output_type": "execute_result"
    }
   ],
   "source": [
    "report = classification_report(y_test, labels_pred, output_dict=True)\n",
    "report"
   ]
  },
  {
   "cell_type": "code",
   "execution_count": 65,
   "metadata": {},
   "outputs": [
    {
     "data": {
      "text/html": [
       "<div>\n",
       "<style scoped>\n",
       "    .dataframe tbody tr th:only-of-type {\n",
       "        vertical-align: middle;\n",
       "    }\n",
       "\n",
       "    .dataframe tbody tr th {\n",
       "        vertical-align: top;\n",
       "    }\n",
       "\n",
       "    .dataframe thead th {\n",
       "        text-align: right;\n",
       "    }\n",
       "</style>\n",
       "<table border=\"1\" class=\"dataframe\">\n",
       "  <thead>\n",
       "    <tr style=\"text-align: right;\">\n",
       "      <th></th>\n",
       "      <th>cat</th>\n",
       "      <th>val</th>\n",
       "      <th>source</th>\n",
       "    </tr>\n",
       "  </thead>\n",
       "  <tbody>\n",
       "    <tr>\n",
       "      <th>0</th>\n",
       "      <td>precision</td>\n",
       "      <td>0.801298</td>\n",
       "      <td>cnn</td>\n",
       "    </tr>\n",
       "    <tr>\n",
       "      <th>1</th>\n",
       "      <td>recall</td>\n",
       "      <td>0.764562</td>\n",
       "      <td>cnn</td>\n",
       "    </tr>\n",
       "    <tr>\n",
       "      <th>2</th>\n",
       "      <td>accuracy</td>\n",
       "      <td>0.764562</td>\n",
       "      <td>cnn</td>\n",
       "    </tr>\n",
       "    <tr>\n",
       "      <th>3</th>\n",
       "      <td>f1-score</td>\n",
       "      <td>0.762693</td>\n",
       "      <td>cnn</td>\n",
       "    </tr>\n",
       "  </tbody>\n",
       "</table>\n",
       "</div>"
      ],
      "text/plain": [
       "         cat       val source\n",
       "0  precision  0.801298    cnn\n",
       "1     recall  0.764562    cnn\n",
       "2   accuracy  0.764562    cnn\n",
       "3   f1-score  0.762693    cnn"
      ]
     },
     "execution_count": 65,
     "metadata": {},
     "output_type": "execute_result"
    }
   ],
   "source": [
    "data = [['precision', report['weighted avg']['precision']], ['recall', report['weighted avg']['recall']], ['accuracy', report['accuracy']], ['f1-score', report['weighted avg']['f1-score']]]\n",
    "df_cnn = pd.DataFrame(data, columns=['cat', 'val'])\n",
    "df_cnn['source'] = 'cnn'\n",
    "df_cnn.head()"
   ]
  },
  {
   "attachments": {},
   "cell_type": "markdown",
   "metadata": {},
   "source": [
    "**LSTM+CNN**"
   ]
  },
  {
   "cell_type": "code",
   "execution_count": 66,
   "metadata": {},
   "outputs": [],
   "source": [
    "model = Sequential()\n",
    "model.add(embedding_layer)\n",
    "model.add(LSTM(128, return_sequences=True))\n",
    "\n",
    "model.add(Convolution1D(32, 3, activation='relu'))\n",
    "model.add(MaxPooling1D(pool_size=2))\n",
    "model.add(Dropout(0.2))\n",
    "model.add(Convolution1D(64, 3, activation='relu'))\n",
    "model.add(MaxPooling1D(pool_size=2))\n",
    "model.add(Flatten())\n",
    "model.add(Dense(32, activation='relu'))\n",
    "model.add(Dense(16, activation='relu'))\n",
    "model.add(Dense(8, activation='relu'))\n",
    "model.add(Dense(1, activation='sigmoid'))\n"
   ]
  },
  {
   "cell_type": "code",
   "execution_count": 67,
   "metadata": {},
   "outputs": [
    {
     "name": "stdout",
     "output_type": "stream",
     "text": [
      "Model: \"sequential_2\"\n",
      "_________________________________________________________________\n",
      " Layer (type)                Output Shape              Param #   \n",
      "=================================================================\n",
      " embedding (Embedding)       (None, 300, 300)          2868000   \n",
      "                                                                 \n",
      " lstm_1 (LSTM)               (None, 300, 128)          219648    \n",
      "                                                                 \n",
      " conv1d_3 (Conv1D)           (None, 298, 32)           12320     \n",
      "                                                                 \n",
      " max_pooling1d_3 (MaxPooling  (None, 149, 32)          0         \n",
      " 1D)                                                             \n",
      "                                                                 \n",
      " dropout (Dropout)           (None, 149, 32)           0         \n",
      "                                                                 \n",
      " conv1d_4 (Conv1D)           (None, 147, 64)           6208      \n",
      "                                                                 \n",
      " max_pooling1d_4 (MaxPooling  (None, 73, 64)           0         \n",
      " 1D)                                                             \n",
      "                                                                 \n",
      " flatten_1 (Flatten)         (None, 4672)              0         \n",
      "                                                                 \n",
      " dense_5 (Dense)             (None, 32)                149536    \n",
      "                                                                 \n",
      " dense_6 (Dense)             (None, 16)                528       \n",
      "                                                                 \n",
      " dense_7 (Dense)             (None, 8)                 136       \n",
      "                                                                 \n",
      " dense_8 (Dense)             (None, 1)                 9         \n",
      "                                                                 \n",
      "=================================================================\n",
      "Total params: 3,256,385\n",
      "Trainable params: 388,385\n",
      "Non-trainable params: 2,868,000\n",
      "_________________________________________________________________\n"
     ]
    }
   ],
   "source": [
    "model.compile(optimizer='adam', loss='binary_crossentropy', metrics=[\"acc\"])\n",
    "model.summary()"
   ]
  },
  {
   "cell_type": "code",
   "execution_count": 68,
   "metadata": {},
   "outputs": [
    {
     "name": "stdout",
     "output_type": "stream",
     "text": [
      "Epoch 1/8\n",
      "6/6 [==============================] - ETA: 0s - loss: 0.6809 - acc: 0.5418WARNING:tensorflow:Early stopping conditioned on metric `val_accuracy` which is not available. Available metrics are: loss,acc,val_loss,val_acc,lr\n",
      "6/6 [==============================] - 23s 4s/step - loss: 0.6809 - acc: 0.5418 - val_loss: 0.6425 - val_acc: 0.5406 - lr: 0.0010\n",
      "Epoch 2/8\n",
      "6/6 [==============================] - ETA: 0s - loss: 0.5607 - acc: 0.6702WARNING:tensorflow:Early stopping conditioned on metric `val_accuracy` which is not available. Available metrics are: loss,acc,val_loss,val_acc,lr\n",
      "6/6 [==============================] - 20s 3s/step - loss: 0.5607 - acc: 0.6702 - val_loss: 0.4628 - val_acc: 0.8178 - lr: 0.0010\n",
      "Epoch 3/8\n",
      "6/6 [==============================] - ETA: 0s - loss: 0.4273 - acc: 0.7975WARNING:tensorflow:Early stopping conditioned on metric `val_accuracy` which is not available. Available metrics are: loss,acc,val_loss,val_acc,lr\n",
      "6/6 [==============================] - 20s 3s/step - loss: 0.4273 - acc: 0.7975 - val_loss: 0.3362 - val_acc: 0.8622 - lr: 0.0010\n",
      "Epoch 4/8\n",
      "6/6 [==============================] - ETA: 0s - loss: 0.3406 - acc: 0.8520WARNING:tensorflow:Early stopping conditioned on metric `val_accuracy` which is not available. Available metrics are: loss,acc,val_loss,val_acc,lr\n",
      "6/6 [==============================] - 21s 4s/step - loss: 0.3406 - acc: 0.8520 - val_loss: 0.2934 - val_acc: 0.8928 - lr: 0.0010\n",
      "Epoch 5/8\n",
      "6/6 [==============================] - ETA: 0s - loss: 0.2890 - acc: 0.8760WARNING:tensorflow:Early stopping conditioned on metric `val_accuracy` which is not available. Available metrics are: loss,acc,val_loss,val_acc,lr\n",
      "6/6 [==============================] - 20s 3s/step - loss: 0.2890 - acc: 0.8760 - val_loss: 0.2422 - val_acc: 0.9158 - lr: 0.0010\n",
      "Epoch 6/8\n",
      "6/6 [==============================] - ETA: 0s - loss: 0.2528 - acc: 0.8901WARNING:tensorflow:Early stopping conditioned on metric `val_accuracy` which is not available. Available metrics are: loss,acc,val_loss,val_acc,lr\n",
      "6/6 [==============================] - 20s 3s/step - loss: 0.2528 - acc: 0.8901 - val_loss: 0.2119 - val_acc: 0.9234 - lr: 0.0010\n",
      "Epoch 7/8\n",
      "6/6 [==============================] - ETA: 0s - loss: 0.2331 - acc: 0.8968WARNING:tensorflow:Early stopping conditioned on metric `val_accuracy` which is not available. Available metrics are: loss,acc,val_loss,val_acc,lr\n",
      "6/6 [==============================] - 19s 3s/step - loss: 0.2331 - acc: 0.8968 - val_loss: 0.2035 - val_acc: 0.9234 - lr: 0.0010\n",
      "Epoch 8/8\n",
      "6/6 [==============================] - ETA: 0s - loss: 0.2193 - acc: 0.8998WARNING:tensorflow:Early stopping conditioned on metric `val_accuracy` which is not available. Available metrics are: loss,acc,val_loss,val_acc,lr\n",
      "6/6 [==============================] - 20s 3s/step - loss: 0.2193 - acc: 0.8998 - val_loss: 0.2033 - val_acc: 0.9250 - lr: 0.0010\n"
     ]
    }
   ],
   "source": [
    "history = model.fit(x_train, y_train,\n",
    "                    batch_size=BATCH_SIZE,epochs=EPOCHS,\n",
    "                    validation_split=0.1,verbose=1,callbacks=callbacks)"
   ]
  },
  {
   "cell_type": "code",
   "execution_count": 69,
   "metadata": {},
   "outputs": [
    {
     "name": "stdout",
     "output_type": "stream",
     "text": [
      "2/2 [==============================] - 3s 998ms/step - loss: 0.2453 - acc: 0.8915\n",
      "\n",
      "Hybrid(CNN+LSTM)\n",
      "ACCURACY: 0.891477644443512\n",
      "LOSS: 0.24527543783187866\n"
     ]
    }
   ],
   "source": [
    "score = model.evaluate(x_test, y_test, batch_size=BATCH_SIZE)\n",
    "print()\n",
    "print(\"Hybrid(CNN+LSTM)\\nACCURACY:\",score[1])\n",
    "print(\"LOSS:\",score[0])"
   ]
  },
  {
   "cell_type": "code",
   "execution_count": 70,
   "metadata": {},
   "outputs": [
    {
     "name": "stdout",
     "output_type": "stream",
     "text": [
      "2/2 [==============================] - 3s 1s/step - loss: 0.2453 - acc: 0.8915\n",
      "\n",
      "CNN\n",
      "ACCURACY: 0.891477644443512\n",
      "LOSS: 0.24527543783187866\n"
     ]
    }
   ],
   "source": [
    "score = model.evaluate(x_test, y_test, batch_size=BATCH_SIZE)\n",
    "print()\n",
    "print(\"CNN\\nACCURACY:\",score[1])\n",
    "print(\"LOSS:\",score[0])"
   ]
  },
  {
   "cell_type": "code",
   "execution_count": 71,
   "metadata": {},
   "outputs": [],
   "source": [
    "report = classification_report(y_test, labels_pred, output_dict=True)"
   ]
  },
  {
   "cell_type": "code",
   "execution_count": 76,
   "metadata": {},
   "outputs": [
    {
     "data": {
      "text/html": [
       "<div>\n",
       "<style scoped>\n",
       "    .dataframe tbody tr th:only-of-type {\n",
       "        vertical-align: middle;\n",
       "    }\n",
       "\n",
       "    .dataframe tbody tr th {\n",
       "        vertical-align: top;\n",
       "    }\n",
       "\n",
       "    .dataframe thead th {\n",
       "        text-align: right;\n",
       "    }\n",
       "</style>\n",
       "<table border=\"1\" class=\"dataframe\">\n",
       "  <thead>\n",
       "    <tr style=\"text-align: right;\">\n",
       "      <th></th>\n",
       "      <th>cat</th>\n",
       "      <th>val</th>\n",
       "      <th>source</th>\n",
       "    </tr>\n",
       "  </thead>\n",
       "  <tbody>\n",
       "    <tr>\n",
       "      <th>0</th>\n",
       "      <td>precision</td>\n",
       "      <td>0.801298</td>\n",
       "      <td>hybrid</td>\n",
       "    </tr>\n",
       "    <tr>\n",
       "      <th>1</th>\n",
       "      <td>recall</td>\n",
       "      <td>0.764562</td>\n",
       "      <td>hybrid</td>\n",
       "    </tr>\n",
       "    <tr>\n",
       "      <th>2</th>\n",
       "      <td>weighted avg</td>\n",
       "      <td>0.764562</td>\n",
       "      <td>hybrid</td>\n",
       "    </tr>\n",
       "    <tr>\n",
       "      <th>3</th>\n",
       "      <td>f1-score</td>\n",
       "      <td>0.762693</td>\n",
       "      <td>hybrid</td>\n",
       "    </tr>\n",
       "  </tbody>\n",
       "</table>\n",
       "</div>"
      ],
      "text/plain": [
       "            cat       val  source\n",
       "0     precision  0.801298  hybrid\n",
       "1        recall  0.764562  hybrid\n",
       "2  weighted avg  0.764562  hybrid\n",
       "3      f1-score  0.762693  hybrid"
      ]
     },
     "execution_count": 76,
     "metadata": {},
     "output_type": "execute_result"
    }
   ],
   "source": [
    "data = [['precision', report['weighted avg']['precision']], ['recall', report['weighted avg']['recall']], ['weighted avg', report['accuracy']], ['f1-score', report['weighted avg']['f1-score']]]\n",
    "df_hybrid = pd.DataFrame(data, columns=['cat', 'val'])\n",
    "df_hybrid['source'] = 'hybrid'\n",
    "df_hybrid.head()"
   ]
  },
  {
   "cell_type": "code",
   "execution_count": 79,
   "metadata": {},
   "outputs": [
    {
     "data": {
      "text/html": [
       "<div>\n",
       "<style scoped>\n",
       "    .dataframe tbody tr th:only-of-type {\n",
       "        vertical-align: middle;\n",
       "    }\n",
       "\n",
       "    .dataframe tbody tr th {\n",
       "        vertical-align: top;\n",
       "    }\n",
       "\n",
       "    .dataframe thead th {\n",
       "        text-align: right;\n",
       "    }\n",
       "</style>\n",
       "<table border=\"1\" class=\"dataframe\">\n",
       "  <thead>\n",
       "    <tr style=\"text-align: right;\">\n",
       "      <th></th>\n",
       "      <th>cat</th>\n",
       "      <th>val</th>\n",
       "      <th>source</th>\n",
       "    </tr>\n",
       "  </thead>\n",
       "  <tbody>\n",
       "    <tr>\n",
       "      <th>0</th>\n",
       "      <td>precision</td>\n",
       "      <td>1.000000</td>\n",
       "      <td>lstm</td>\n",
       "    </tr>\n",
       "    <tr>\n",
       "      <th>1</th>\n",
       "      <td>recall</td>\n",
       "      <td>0.977901</td>\n",
       "      <td>lstm</td>\n",
       "    </tr>\n",
       "    <tr>\n",
       "      <th>2</th>\n",
       "      <td>accuracy</td>\n",
       "      <td>0.987738</td>\n",
       "      <td>lstm</td>\n",
       "    </tr>\n",
       "    <tr>\n",
       "      <th>3</th>\n",
       "      <td>f1-score</td>\n",
       "      <td>0.988827</td>\n",
       "      <td>lstm</td>\n",
       "    </tr>\n",
       "    <tr>\n",
       "      <th>0</th>\n",
       "      <td>precision</td>\n",
       "      <td>0.801298</td>\n",
       "      <td>cnn</td>\n",
       "    </tr>\n",
       "    <tr>\n",
       "      <th>1</th>\n",
       "      <td>recall</td>\n",
       "      <td>0.764562</td>\n",
       "      <td>cnn</td>\n",
       "    </tr>\n",
       "    <tr>\n",
       "      <th>2</th>\n",
       "      <td>accuracy</td>\n",
       "      <td>0.764562</td>\n",
       "      <td>cnn</td>\n",
       "    </tr>\n",
       "    <tr>\n",
       "      <th>3</th>\n",
       "      <td>f1-score</td>\n",
       "      <td>0.762693</td>\n",
       "      <td>cnn</td>\n",
       "    </tr>\n",
       "    <tr>\n",
       "      <th>0</th>\n",
       "      <td>precision</td>\n",
       "      <td>0.801298</td>\n",
       "      <td>hybrid</td>\n",
       "    </tr>\n",
       "    <tr>\n",
       "      <th>1</th>\n",
       "      <td>recall</td>\n",
       "      <td>0.764562</td>\n",
       "      <td>hybrid</td>\n",
       "    </tr>\n",
       "    <tr>\n",
       "      <th>2</th>\n",
       "      <td>weighted avg</td>\n",
       "      <td>0.764562</td>\n",
       "      <td>hybrid</td>\n",
       "    </tr>\n",
       "    <tr>\n",
       "      <th>3</th>\n",
       "      <td>f1-score</td>\n",
       "      <td>0.762693</td>\n",
       "      <td>hybrid</td>\n",
       "    </tr>\n",
       "  </tbody>\n",
       "</table>\n",
       "</div>"
      ],
      "text/plain": [
       "            cat       val  source\n",
       "0     precision  1.000000    lstm\n",
       "1        recall  0.977901    lstm\n",
       "2      accuracy  0.987738    lstm\n",
       "3      f1-score  0.988827    lstm\n",
       "0     precision  0.801298     cnn\n",
       "1        recall  0.764562     cnn\n",
       "2      accuracy  0.764562     cnn\n",
       "3      f1-score  0.762693     cnn\n",
       "0     precision  0.801298  hybrid\n",
       "1        recall  0.764562  hybrid\n",
       "2  weighted avg  0.764562  hybrid\n",
       "3      f1-score  0.762693  hybrid"
      ]
     },
     "execution_count": 79,
     "metadata": {},
     "output_type": "execute_result"
    }
   ],
   "source": [
    "df_w2v = pd.concat([df_lstm, df_cnn, df_hybrid])\n",
    "df_w2v"
   ]
  },
  {
   "cell_type": "code",
   "execution_count": 80,
   "metadata": {},
   "outputs": [
    {
     "data": {
      "text/plain": [
       "Text(0.5, 1.0, 'plot')"
      ]
     },
     "execution_count": 80,
     "metadata": {},
     "output_type": "execute_result"
    },
    {
     "data": {
      "image/png": "[encoded data removed]",
      "text/plain": [
       "<Figure size 800x500 with 1 Axes>"
      ]
     },
     "metadata": {},
     "output_type": "display_data"
    }
   ],
   "source": [
    "plt.figure(figsize=(8,5))\n",
    "sns.barplot(x ='cat', y = 'val', data=df_w2v, hue='source')\n",
    "plt.title(\"plot\")"
   ]
  }
 ],
 "metadata": {
  "kernelspec": {
   "display_name": "Python 3",
   "language": "python",
   "name": "python3"
  },
  "language_info": {
   "codemirror_mode": {
    "name": "ipython",
    "version": 3
   },
   "file_extension": ".py",
   "mimetype": "text/x-python",
   "name": "python",
   "nbconvert_exporter": "python",
   "pygments_lexer": "ipython3",
   "version": "3.10.1"
  },
  "orig_nbformat": 4,
  "vscode": {
   "interpreter": {
    "hash": "aee8b7b246df8f9039afb4144a1f6fd8d2ca17a180786b69acc140d282b71a49"
   }
  }
 },
 "nbformat": 4,
 "nbformat_minor": 2
}
