{
 "cells": [
  {
   "attachments": {},
   "cell_type": "markdown",
   "metadata": {},
   "source": [
    "# Import required packages"
   ]
  },
  {
   "cell_type": "code",
   "execution_count": 302,
   "metadata": {},
   "outputs": [],
   "source": [
    "import pandas as pd\n",
    "\n",
    "from sklearn.model_selection import train_test_split\n",
    "from sklearn.preprocessing import LabelEncoder\n",
    "from sklearn.metrics import confusion_matrix, classification_report, accuracy_score\n",
    "from sklearn.manifold import TSNE\n",
    "from sklearn.feature_extraction.text import TfidfVectorizer\n",
    "from sklearn.feature_selection import VarianceThreshold\n",
    "from keras.preprocessing.text import Tokenizer\n",
    "from keras.utils import pad_sequences\n",
    "from keras.models import Sequential\n",
    "from keras.layers import Activation, Dense, Dropout, Embedding, Flatten, Conv1D, MaxPooling1D, LSTM, Convolution1D\n",
    "from keras import utils\n",
    "from keras.callbacks import ReduceLROnPlateau, EarlyStopping\n",
    "from matplotlib import pyplot as plt\n",
    "import nltk\n",
    "from nltk.corpus import stopwords\n",
    "from nltk.stem import SnowballStemmer\n",
    "\n",
    "import seaborn as sns\n",
    "# Word2vec\n",
    "import gensim\n",
    "\n",
    "# Utility\n",
    "import ssl\n",
    "import re\n",
    "import numpy as np\n",
    "import os\n",
    "from collections import Counter\n",
    "import logging\n",
    "import time\n",
    "import pickle\n",
    "import itertools"
   ]
  },
  {
   "cell_type": "code",
   "execution_count": 303,
   "metadata": {},
   "outputs": [
    {
     "name": "stderr",
     "output_type": "stream",
     "text": [
      "[nltk_data] Downloading package stopwords to\n",
      "[nltk_data]     /Users/santhosh/nltk_data...\n",
      "[nltk_data]   Package stopwords is already up-to-date!\n"
     ]
    },
    {
     "data": {
      "text/plain": [
       "True"
      ]
     },
     "execution_count": 303,
     "metadata": {},
     "output_type": "execute_result"
    }
   ],
   "source": [
    "try:\n",
    "    _create_unverified_https_context = ssl._create_unverified_context\n",
    "except AttributeError:\n",
    "    pass\n",
    "else:\n",
    "    ssl._create_default_https_context = _create_unverified_https_context\n",
    "    \n",
    "nltk.download('stopwords')"
   ]
  },
  {
   "cell_type": "code",
   "execution_count": 304,
   "metadata": {},
   "outputs": [],
   "source": [
    "# DATASET\n",
    "DATASET_COLUMNS = [\"message\", \"label\"]\n",
    "DATASET_ENCODING = \"ISO-8859-1\"\n",
    "TRAIN_SIZE = 0.8\n",
    "\n",
    "# TEXT CLEANING\n",
    "TEXT_CLEANING_RE = \"@\\S+|https?:\\S+|http?:\\S|[^A-Za-z0-9]+\"\n",
    "\n",
    "# WORD2VEC\n",
    "W2V_SIZE = 300\n",
    "W2V_WINDOW = 7\n",
    "W2V_EPOCH = 32\n",
    "W2V_MIN_COUNT = 10\n",
    "\n",
    "# KERAS\n",
    "SEQUENCE_LENGTH = 300\n",
    "EPOCHS = 8\n",
    "BATCH_SIZE = 1024\n",
    "\n",
    "# SENTIMENT\n",
    "POSITIVE = \"POSITIVE\"\n",
    "NEGATIVE = \"NEGATIVE\"\n",
    "NEUTRAL = \"NEUTRAL\"\n",
    "SENTIMENT_THRESHOLDS = (0.4, 0.7)\n",
    "\n",
    "# EXPORT\n",
    "KERAS_MODEL = \"model.h5\"\n",
    "WORD2VEC_MODEL = \"model.w2v\"\n",
    "TOKENIZER_MODEL = \"tokenizer.pkl\"\n",
    "ENCODER_MODEL = \"encoder.pkl\""
   ]
  },
  {
   "cell_type": "code",
   "execution_count": 305,
   "metadata": {},
   "outputs": [
    {
     "name": "stdout",
     "output_type": "stream",
     "text": [
      "   Unnamed: 0                                            message  label\n",
      "0           0  The lack of this understanding is a small but ...      1\n",
      "1           1  i just told my parents about my depression and...      1\n",
      "2           2  depression is something i don't speak about ev...      1\n",
      "3           3  Made myself a tortilla filled with pb&j. My de...      1\n",
      "4           4  @WorldofOutlaws I am gonna need depression med...      1\n",
      "5           5  my anxiety and my depression fighting over who...      1\n",
      "6           6  wow she's suddenly cured my depression and gav...      1\n",
      "7           7  I am officially done with @kanyewest. him, the...      1\n",
      "8           8  Me: what's wrong?My girl: *looks up at me with...      1\n",
      "9           9  @AusBorderForce @PeterDutton_MP @shanebazzi Ag...      1\n"
     ]
    }
   ],
   "source": [
    "df = pd.read_csv('d1.csv')\n",
    "print(df.iloc[:10])"
   ]
  },
  {
   "attachments": {},
   "cell_type": "markdown",
   "metadata": {},
   "source": [
    "**Preprocessing**"
   ]
  },
  {
   "cell_type": "code",
   "execution_count": 306,
   "metadata": {},
   "outputs": [],
   "source": [
    "stop_words = stopwords.words(\"english\")\n",
    "stemmer = SnowballStemmer(\"english\")"
   ]
  },
  {
   "cell_type": "code",
   "execution_count": 307,
   "metadata": {},
   "outputs": [],
   "source": [
    "def preprocess(text, stem=True):\n",
    "    # Remove link,user and special characters\n",
    "    text = re.sub(TEXT_CLEANING_RE, ' ', str(text).lower()).strip()\n",
    "    tokens = []\n",
    "    for token in text.split():\n",
    "        if token not in stop_words:\n",
    "            if stem:\n",
    "                tokens.append(stemmer.stem(token))\n",
    "            else:\n",
    "                tokens.append(token)\n",
    "    return \" \".join(tokens)\n"
   ]
  },
  {
   "cell_type": "code",
   "execution_count": 308,
   "metadata": {},
   "outputs": [
    {
     "name": "stdout",
     "output_type": "stream",
     "text": [
      "buses\n"
     ]
    }
   ],
   "source": [
    "print(preprocess(\"buses\", stem = False))"
   ]
  },
  {
   "cell_type": "code",
   "execution_count": 309,
   "metadata": {},
   "outputs": [
    {
     "name": "stdout",
     "output_type": "stream",
     "text": [
      "   Unnamed: 0                                            message  label\n",
      "0           0  The lack of this understanding is a small but ...      1\n",
      "1           1  i just told my parents about my depression and...      1\n",
      "2           2  depression is something i don't speak about ev...      1\n",
      "3           3  Made myself a tortilla filled with pb&j. My de...      1\n",
      "4           4  @WorldofOutlaws I am gonna need depression med...      1\n",
      "after preprocessing\n",
      "   Unnamed: 0                                            message  label\n",
      "0           0  lack understand small signific part caus anxie...      1\n",
      "1           1  told parent depress hard get gen x peopl under...      1\n",
      "2           2  depress someth speak even go also doubl edg sw...      1\n",
      "3           3  made tortilla fill pb j depress cure olivia 1 ...      1\n",
      "4           4  gonna need depress med soon rainout spin equil...      1\n"
     ]
    }
   ],
   "source": [
    "print(df.head())\n",
    "df.message = df.message.apply(lambda x: preprocess(x))\n",
    "\n",
    "print(\"after preprocessing\")\n",
    "print(df.head())\n"
   ]
  },
  {
   "cell_type": "code",
   "execution_count": 310,
   "metadata": {},
   "outputs": [
    {
     "name": "stdout",
     "output_type": "stream",
     "text": [
      "TRAIN size: 6524\n",
      "TEST size: 1631\n"
     ]
    }
   ],
   "source": [
    "df_train, df_test = train_test_split(df, test_size=1-TRAIN_SIZE)\n",
    "print(\"TRAIN size:\", len(df_train))\n",
    "print(\"TEST size:\", len(df_test))"
   ]
  },
  {
   "cell_type": "code",
   "execution_count": 311,
   "metadata": {},
   "outputs": [
    {
     "name": "stdout",
     "output_type": "stream",
     "text": [
      "[['hide', 'depress', 'success'], ['way', 'marbella', 'spain', 'see', 'u', 'guy', 'later'], ['close', 'refurbish', 'sunday', 'definit', 'worth', 'visit', 'cambridg', 'weekend'], ['yeah', 'right'], ['normal', 'feel', 'like', 'postpartum', 'depress', 'jst', 'emosh', 'emoji', 'slight', 'frown', 'face', 'emoji', 'disappoint', 'reliev', 'face', 'feel', 'worri'], ['kilwa', 'potteri', 'sherd', 'one', 'best', 'bbc', 'britishmuseum', 'historyoftheworldin100object', 'episod'], ['journey2worthi', 'podcast', 'episod', '13flat', 'fit', 'listen', 'lasagafit', 'explian', 'overcam', 'sever', 'depress', 'start', 'fit', 'compani', 'tune', 'pic', 'twitter', 'com', 'saxildoibq'], ['stereotyp', 'think', 'complet', 'live', 'um', 'probabl', 'millenni', 'lazi', 'entitl', 'etc', 'total', 'oh', 'whole', 'depress'], ['eek', 'need', 'put', 'date', 'diari', 'amp', 'get', 'nationalgalleri', 'love', 'soundscap', 'art', 'music', 'life'], ['u', 'spend', 'ur', 'whole', 'life', 'think', 'deal', 'thing', 'way', 'u', 'deem', 'right', '33', 'realis', 'thing', 'r', 'done', 'live', 'life', 'hard', 'tri', 'snap', 'mindfram', 'depress', 'anxieti', 'cope', 'mentalhealthmatt']]\n"
     ]
    }
   ],
   "source": [
    "documents = [_message.split() for _message in df_train.message]\n",
    "print(documents[:10])"
   ]
  },
  {
   "cell_type": "code",
   "execution_count": 312,
   "metadata": {},
   "outputs": [],
   "source": [
    "w2v_model = gensim.models.Word2Vec(vector_size=W2V_SIZE, window=W2V_WINDOW, min_count=W2V_MIN_COUNT, workers=8)"
   ]
  },
  {
   "cell_type": "code",
   "execution_count": 315,
   "metadata": {},
   "outputs": [],
   "source": [
    "w2v_model.build_vocab(documents)"
   ]
  },
  {
   "cell_type": "code",
   "execution_count": 316,
   "metadata": {},
   "outputs": [
    {
     "name": "stdout",
     "output_type": "stream",
     "text": [
      "Vocab size 1166\n"
     ]
    }
   ],
   "source": [
    "words = w2v_model.wv.key_to_index\n",
    "vocab_size = len(words)\n",
    "print(\"Vocab size\", vocab_size)"
   ]
  },
  {
   "cell_type": "code",
   "execution_count": 317,
   "metadata": {},
   "outputs": [
    {
     "name": "stdout",
     "output_type": "stream",
     "text": [
      "['hide', 'depress', 'success']\n"
     ]
    }
   ],
   "source": [
    "\n",
    "w2v_model.train(documents, total_examples=len(documents), epochs=W2V_EPOCH)\n",
    "print(documents[0]);"
   ]
  },
  {
   "cell_type": "code",
   "execution_count": 327,
   "metadata": {},
   "outputs": [
    {
     "data": {
      "text/plain": [
       "[('turn', 0.7014253735542297),\n",
       " ('carri', 0.6596567034721375),\n",
       " ('weight', 0.6484444737434387),\n",
       " ('wors', 0.6143853068351746),\n",
       " ('honest', 0.6102281212806702),\n",
       " ('empti', 0.5964606404304504),\n",
       " ('push', 0.5853158235549927),\n",
       " ('lose', 0.564375638961792),\n",
       " ('smoke', 0.562004804611206),\n",
       " ('shit', 0.5583406090736389)]"
      ]
     },
     "execution_count": 327,
     "metadata": {},
     "output_type": "execute_result"
    }
   ],
   "source": [
    "w2v_model.wv.most_similar(\"hate\")"
   ]
  },
  {
   "cell_type": "code",
   "execution_count": 328,
   "metadata": {},
   "outputs": [
    {
     "name": "stdout",
     "output_type": "stream",
     "text": [
      "Total words 9570\n"
     ]
    }
   ],
   "source": [
    "tokenizer = Tokenizer()\n",
    "tokenizer.fit_on_texts(df_train.message)\n",
    "\n",
    "vocab_size = len(tokenizer.word_index) + 1\n",
    "print(\"Total words\", vocab_size)"
   ]
  },
  {
   "cell_type": "code",
   "execution_count": 329,
   "metadata": {},
   "outputs": [],
   "source": [
    "x_train = pad_sequences(tokenizer.texts_to_sequences(df_train.message), maxlen=SEQUENCE_LENGTH)\n",
    "x_test = pad_sequences(tokenizer.texts_to_sequences(df_test.message), maxlen=SEQUENCE_LENGTH)"
   ]
  },
  {
   "cell_type": "code",
   "execution_count": 330,
   "metadata": {},
   "outputs": [
    {
     "data": {
      "text/plain": [
       "array([[   0,    0,    0, ..., 1070,    1, 1268],\n",
       "       [   0,    0,    0, ...,   34,  273,  424],\n",
       "       [   0,    0,    0, ...,  111,  452,  224],\n",
       "       ...,\n",
       "       [   0,    0,    0, ...,  135,  437,    1],\n",
       "       [   0,    0,    0, ...,  115,  163,   26],\n",
       "       [   0,    0,    0, ...,    2,  694,  797]], dtype=int32)"
      ]
     },
     "execution_count": 330,
     "metadata": {},
     "output_type": "execute_result"
    }
   ],
   "source": [
    "x_train[0:10]"
   ]
  },
  {
   "cell_type": "code",
   "execution_count": 331,
   "metadata": {},
   "outputs": [
    {
     "name": "stdout",
     "output_type": "stream",
     "text": [
      "y_train (6524, 1)\n",
      "y_test (1631, 1)\n"
     ]
    }
   ],
   "source": [
    "encoder = LabelEncoder()\n",
    "encoder.fit(df_train.label.tolist())\n",
    "\n",
    "y_train = encoder.transform(df_train.label.tolist())\n",
    "y_test = encoder.transform(df_test.label.tolist())\n",
    "\n",
    "y_train = y_train.reshape(-1,1)\n",
    "y_test = y_test.reshape(-1,1)\n",
    "\n",
    "print(\"y_train\",y_train.shape)\n",
    "print(\"y_test\",y_test.shape)"
   ]
  },
  {
   "cell_type": "code",
   "execution_count": 332,
   "metadata": {},
   "outputs": [
    {
     "name": "stdout",
     "output_type": "stream",
     "text": [
      "x_train (6524, 300)\n",
      "y_train (6524, 1)\n",
      "\n",
      "x_test (1631, 300)\n",
      "y_test (1631, 1)\n"
     ]
    }
   ],
   "source": [
    "print(\"x_train\", x_train.shape)\n",
    "print(\"y_train\", y_train.shape)\n",
    "print()\n",
    "print(\"x_test\", x_test.shape)\n",
    "print(\"y_test\", y_test.shape)"
   ]
  },
  {
   "cell_type": "code",
   "execution_count": 333,
   "metadata": {},
   "outputs": [
    {
     "data": {
      "text/plain": [
       "array([[1],\n",
       "       [0],\n",
       "       [0],\n",
       "       [1],\n",
       "       [1],\n",
       "       [1],\n",
       "       [1],\n",
       "       [1],\n",
       "       [1],\n",
       "       [1],\n",
       "       [0],\n",
       "       [0],\n",
       "       [1],\n",
       "       [0],\n",
       "       [1],\n",
       "       [1],\n",
       "       [0],\n",
       "       [1],\n",
       "       [1],\n",
       "       [0]])"
      ]
     },
     "execution_count": 333,
     "metadata": {},
     "output_type": "execute_result"
    }
   ],
   "source": [
    "y_train[50:70]"
   ]
  },
  {
   "cell_type": "code",
   "execution_count": 334,
   "metadata": {},
   "outputs": [
    {
     "name": "stdout",
     "output_type": "stream",
     "text": [
      "dict_items([('depress', 1), ('anxieti', 2), ('emoji', 3), ('twitter', 4), ('like', 5), ('pic', 6), ('com', 7), ('go', 8), ('day', 9), ('get', 10), ('love', 11), ('face', 12), ('good', 13), ('one', 14), ('feel', 15), ('know', 16), ('thank', 17), ('britishmuseum', 18), ('peopl', 19), ('time', 20), ('great', 21), ('help', 22), ('see', 23), ('work', 24), ('today', 25), ('life', 26), ('make', 27), ('think', 28), ('look', 29), ('realli', 30), ('thing', 31), ('mental', 32), ('want', 33), ('u', 34), ('much', 35), ('well', 36), ('take', 37), ('new', 38), ('back', 39), ('got', 40), ('happi', 41), ('need', 42), ('year', 43), ('amp', 44), ('tri', 45), ('health', 46), ('use', 47), ('would', 48), ('come', 49), ('someon', 50), ('talk', 51), ('never', 52), ('way', 53), ('say', 54), ('suicid', 55), ('2', 56), ('nationalgalleri', 57), ('right', 58), ('us', 59), ('cure', 60), ('heart', 61), ('even', 62), ('friend', 63), ('could', 64), ('lol', 65), ('caus', 66), ('suffer', 67), ('night', 68), ('live', 69), ('cri', 70), ('hope', 71), ('stress', 72), ('show', 73), ('start', 74), ('im', 75), ('better', 76), ('let', 77), ('real', 78), ('post', 79), ('1', 80), ('mom', 81), ('also', 82), ('via', 83), ('emot', 84), ('quot', 85), ('thought', 86), ('exhibit', 87), ('give', 88), ('sleep', 89), ('watch', 90), ('kid', 91), ('still', 92), ('best', 93), ('eat', 94), ('last', 95), ('ill', 96), ('3', 97), ('bad', 98), ('person', 99), ('lot', 100), ('may', 101), ('keep', 102), ('week', 103), ('pleas', 104), ('sad', 105), ('fuck', 106), ('hit', 107), ('someth', 108), ('everi', 109), ('develop', 110), ('visit', 111), ('mentalhealth', 112), ('gonna', 113), ('follow', 114), ('art', 115), ('studi', 116), ('struggl', 117), ('exercis', 118), ('read', 119), ('enjoy', 120), ('alway', 121), ('mani', 122), ('everyon', 123), ('amaz', 124), ('world', 125), ('smile', 126), ('hard', 127), ('shit', 128), ('beauti', 129), ('first', 130), ('morn', 131), ('fun', 132), ('ever', 133), ('hand', 134), ('oh', 135), ('4', 136), ('next', 137), ('stop', 138), ('home', 139), ('tateliverpool', 140), ('sure', 141), ('find', 142), ('long', 143), ('school', 144), ('care', 145), ('risk', 146), ('made', 147), ('deal', 148), ('medic', 149), ('support', 150), ('self', 151), ('sign', 152), ('wait', 153), ('nap', 154), ('wish', 155), ('fight', 156), ('actual', 157), ('done', 158), ('disord', 159), ('nice', 160), ('noth', 161), ('tweet', 162), ('music', 163), ('learn', 164), ('run', 165), ('10', 166), ('haha', 167), ('open', 168), ('issu', 169), ('wonder', 170), ('man', 171), ('god', 172), ('end', 173), ('call', 174), ('bed', 175), ('chang', 176), ('mind', 177), ('miss', 178), ('excit', 179), ('serious', 180), ('problem', 181), ('away', 182), ('mayb', 183), ('ur', 184), ('book', 185), ('bipolar', 186), ('happen', 187), ('littl', 188), ('check', 189), ('final', 190), ('children', 191), ('therapi', 192), ('sinc', 193), ('yes', 194), ('two', 195), ('tell', 196), ('light', 197), ('reason', 198), ('hate', 199), ('symptom', 200), ('mother', 201), ('skin', 202), ('share', 203), ('tate', 204), ('hour', 205), ('forward', 206), ('kettlesyard', 207), ('differ', 208), ('tomorrow', 209), ('tie', 210), ('cool', 211), ('research', 212), ('joke', 213), ('eye', 214), ('loud', 215), ('joy', 216), ('intellectu', 217), ('listen', 218), ('5', 219), ('lose', 220), ('uk', 221), ('anyth', 222), ('job', 223), ('weekend', 224), ('n', 225), ('anoth', 226), ('tear', 227), ('heavi', 228), ('month', 229), ('big', 230), ('place', 231), ('youtub', 232), ('sorri', 233), ('brain', 234), ('around', 235), ('experi', 236), ('red', 237), ('head', 238), ('understand', 239), ('famili', 240), ('said', 241), ('hi', 242), ('tone', 243), ('sever', 244), ('anyon', 245), ('relat', 246), ('mean', 247), ('drug', 248), ('point', 249), ('video', 250), ('soon', 251), ('turn', 252), ('bitch', 253), ('cannabi', 254), ('hey', 255), ('teen', 256), ('social', 257), ('part', 258), ('pain', 259), ('awesom', 260), ('tonight', 261), ('ok', 262), ('museum', 263), ('alreadi', 264), ('play', 265), ('els', 266), ('20', 267), ('though', 268), ('song', 269), ('wanna', 270), ('pollock', 271), ('write', 272), ('guy', 273), ('went', 274), ('free', 275), ('without', 276), ('wow', 277), ('everyth', 278), ('cut', 279), ('hear', 280), ('food', 281), ('put', 282), ('posit', 283), ('etc', 284), ('glad', 285), ('interest', 286), ('ask', 287), ('war', 288), ('late', 289), ('enough', 290), ('stay', 291), ('old', 292), ('stuff', 293), ('took', 294), ('treat', 295), ('summer', 296), ('death', 297), ('rt', 298), ('addict', 299), ('true', 300), ('pretti', 301), ('might', 302), ('london', 303), ('room', 304), ('high', 305), ('other', 306), ('thewhitechapel', 307), ('join', 308), ('leav', 309), ('stive', 310), ('lead', 311), ('eas', 312), ('chronic', 313), ('sound', 314), ('guess', 315), ('dont', 316), ('worth', 317), ('least', 318), ('mood', 319), ('girl', 320), ('fantast', 321), ('attack', 322), ('suck', 323), ('left', 324), ('state', 325), ('major', 326), ('ass', 327), ('fitzmuseum', 328), ('physic', 329), ('fact', 330), ('ya', 331), ('definit', 332), ('yeah', 333), ('worst', 334), ('bodi', 335), ('v', 336), ('c', 337), ('histori', 338), ('win', 339), ('w', 340), ('earli', 341), ('hous', 342), ('activ', 343), ('told', 344), ('battl', 345), ('effect', 346), ('easi', 347), ('found', 348), ('readi', 349), ('liter', 350), ('sun', 351), ('link', 352), ('ptsd', 353), ('okay', 354), ('close', 355), ('yet', 356), ('far', 357), ('puff', 358), ('bring', 359), ('parent', 360), ('busi', 361), ('honest', 362), ('treatment', 363), ('crippl', 364), ('relationship', 365), ('tire', 366), ('deep', 367), ('alon', 368), ('break', 369), ('attent', 370), ('side', 371), ('stori', 372), ('seem', 373), ('fall', 374), ('abl', 375), ('affect', 376), ('almost', 377), ('saw', 378), ('meet', 379), ('matter', 380), ('recommend', 381), ('came', 382), ('patient', 383), ('dark', 384), ('gone', 385), ('set', 386), ('inspir', 387), ('train', 388), ('sometim', 389), ('class', 390), ('kill', 391), ('blog', 392), ('beat', 393), ('weight', 394), ('bit', 395), ('decid', 396), ('news', 397), ('bom', 398), ('must', 399), ('age', 400), ('diagnos', 401), ('30', 402), ('includ', 403), ('game', 404), ('paint', 405), ('definingbeauti', 406), ('believ', 407), ('quit', 408), ('question', 409), ('kind', 410), ('artist', 411), ('yesterday', 412), ('media', 413), ('galleri', 414), ('lt', 415), ('name', 416), ('daili', 417), ('bc', 418), ('lost', 419), ('word', 420), ('avoid', 421), ('clear', 422), ('low', 423), ('later', 424), ('worri', 425), ('forget', 426), ('wors', 427), ('clinic', 428), ('wrong', 429), ('movi', 430), ('increas', 431), ('rais', 432), ('6', 433), ('especi', 434), ('babi', 435), ('harm', 436), ('whole', 437), ('rememb', 438), ('speak', 439), ('rammuseum', 440), ('favourit', 441), ('x', 442), ('finish', 443), ('welcom', 444), ('chanc', 445), ('panic', 446), ('cold', 447), ('weather', 448), ('past', 449), ('regular', 450), ('plan', 451), ('cambridg', 452), ('normal', 453), ('piec', 454), ('overcom', 455), ('nation', 456), ('ppl', 457), ('medium', 458), ('suggest', 459), ('season', 460), ('anger', 461), ('pictur', 462), ('excel', 463), ('condit', 464), ('improv', 465), ('lmao', 466), ('event', 467), ('term', 468), ('creat', 469), ('nan', 470), ('hello', 471), ('birthday', 472), ('kick', 473), ('rain', 474), ('funni', 475), ('jackson', 476), ('fix', 477), ('doctor', 478), ('sunday', 479), ('episod', 480), ('probabl', 481), ('spend', 482), ('lower', 483), ('level', 484), ('luck', 485), ('med', 486), ('trauma', 487), ('import', 488), ('gt', 489), ('recoveri', 490), ('top', 491), ('deserv', 492), ('minut', 493), ('men', 494), ('discuss', 495), ('sick', 496), ('huge', 497), ('16', 498), ('glass', 499), ('lone', 500), ('continu', 501), ('heal', 502), ('b', 503), ('r', 504), ('7', 505), ('die', 506), ('psycholog', 507), ('shape', 508), ('juli', 509), ('dog', 510), ('save', 511), ('women', 512), ('strong', 513), ('yay', 514), ('drink', 515), ('surviv', 516), ('rock', 517), ('ad', 518), ('abus', 519), ('that', 520), ('prevent', 521), ('move', 522), ('associ', 523), ('idea', 524), ('coffe', 525), ('drive', 526), ('control', 527), ('tour', 528), ('fake', 529), ('ago', 530), ('colleg', 531), ('add', 532), ('blame', 533), ('bout', 534), ('less', 535), ('anyway', 536), ('togeth', 537), ('human', 538), ('car', 539), ('fascin', 540), ('st', 541), ('cours', 542), ('step', 543), ('money', 544), ('ancient', 545), ('fan', 546), ('rest', 547), ('weed', 548), ('second', 549), ('pay', 550), ('send', 551), ('parti', 552), ('constant', 553), ('manag', 554), ('perfect', 555), ('till', 556), ('mouth', 557), ('remind', 558), ('pass', 559), ('park', 560), ('gave', 561), ('stigma', 562), ('laugh', 563), ('crazi', 564), ('full', 565), ('answer', 566), ('cant', 567), ('young', 568), ('seen', 569), ('taken', 570), ('lack', 571), ('possibl', 572), ('afternoon', 573), ('wake', 574), ('truli', 575), ('shop', 576), ('thelmahulbert', 577), ('sit', 578), ('grow', 579), ('group', 580), ('omg', 581), ('meme', 582), ('healthi', 583), ('type', 584), ('cat', 585), ('pray', 586), ('power', 587), ('half', 588), ('wave', 589), ('sex', 590), ('awar', 591), ('cancer', 592), ('8', 593), ('anymor', 594), ('jesus', 595), ('challeng', 596), ('million', 597), ('medit', 598), ('total', 599), ('nobodi', 600), ('chat', 601), ('lunch', 602), ('walk', 603), ('inform', 604), ('case', 605), ('sweat', 606), ('monday', 607), ('project', 608), ('alcohol', 609), ('collect', 610), ('cultur', 611), ('star', 612), ('situat', 613), ('content', 614), ('25', 615), ('list', 616), ('push', 617), ('rn', 618), ('overwhelm', 619), ('imagin', 620), ('concert', 621), ('film', 622), ('app', 623), ('becom', 624), ('singl', 625), ('trip', 626), ('postpartum', 627), ('complet', 628), ('trump', 629), ('student', 630), ('draw', 631), ('therapist', 632), ('child', 633), ('function', 634), ('onlin', 635), ('insid', 636), ('idk', 637), ('diseas', 638), ('woman', 639), ('difficult', 640), ('account', 641), ('fine', 642), ('trigger', 643), ('whatev', 644), ('100', 645), ('hair', 646), ('promis', 647), ('due', 648), ('sudden', 649), ('decreas', 650), ('mad', 651), ('podcast', 652), ('felt', 653), ('incred', 654), ('compar', 655), ('sing', 656), ('countri', 657), ('attempt', 658), ('shower', 659), ('rise', 660), ('congratul', 661), ('abt', 662), ('reduc', 663), ('process', 664), ('spot', 665), ('often', 666), ('present', 667), ('short', 668), ('cover', 669), ('exact', 670), ('heard', 671), ('tip', 672), ('cook', 673), ('moment', 674), ('terribl', 675), ('fear', 676), ('team', 677), ('expert', 678), ('behind', 679), ('hot', 680), ('hurt', 681), ('potenti', 682), ('adhd', 683), ('peac', 684), ('realiz', 685), ('isol', 686), ('photo', 687), ('smoke', 688), ('result', 689), ('12', 690), ('practic', 691), ('negat', 692), ('woke', 693), ('cope', 694), ('breath', 695), ('offer', 696), ('outsid', 697), ('2018', 698), ('friday', 699), ('weari', 700), ('thx', 701), ('black', 702), ('mine', 703), ('fabul', 704), ('number', 705), ('super', 706), ('phone', 707), ('dream', 708), ('facebook', 709), ('creativ', 710), ('view', 711), ('troubl', 712), ('loneli', 713), ('sort', 714), ('album', 715), ('0', 716), ('main', 717), ('individu', 718), ('middl', 719), ('connect', 720), ('frustrat', 721), ('purpos', 722), ('instead', 723), ('agre', 724), ('notic', 725), ('blue', 726), ('articl', 727), ('ive', 728), ('date', 729), ('stun', 730), ('hang', 731), ('mentalil', 732), ('evid', 733), ('contact', 734), ('damn', 735), ('choic', 736), ('longer', 737), ('entir', 738), ('consid', 739), ('medicin', 740), ('stand', 741), ('goodnight', 742), ('act', 743), ('energi', 744), ('buy', 745), ('econom', 746), ('insomnia', 747), ('educ', 748), ('profession', 749), ('memori', 750), ('american', 751), ('sexual', 752), ('pick', 753), ('slight', 754), ('compani', 755), ('cannot', 756), ('poor', 757), ('forc', 758), ('design', 759), ('internet', 760), ('schedul', 761), ('doubl', 762), ('session', 763), ('mentalhealthawar', 764), ('relax', 765), ('repli', 766), ('updat', 767), ('product', 768), ('hug', 769), ('gain', 770), ('current', 771), ('rare', 772), ('diagnosi', 773), ('teenag', 774), ('messag', 775), ('plus', 776), ('awak', 777), ('cuz', 778), ('recent', 779), ('minor', 780), ('certain', 781), ('june', 782), ('suppos', 783), ('except', 784), ('accept', 785), ('boy', 786), ('absolut', 787), ('dinner', 788), ('test', 789), ('saturday', 790), ('adolesc', 791), ('lift', 792), ('pensiv', 793), ('email', 794), ('obsess', 795), ('clean', 796), ('mentalhealthmatt', 797), ('small', 798), ('provid', 799), ('pill', 800), ('everyday', 801), ('brilliant', 802), ('experienc', 803), ('23', 804), ('promot', 805), ('admit', 806), ('whether', 807), ('camunivmuseum', 808), ('sweet', 809), ('comment', 810), ('11', 811), ('third', 812), ('extrem', 813), ('sens', 814), ('kinda', 815), ('hell', 816), ('exist', 817), ('rate', 818), ('wrote', 819), ('bless', 820), ('proud', 821), ('e', 822), ('seek', 823), ('usual', 824), ('base', 825), ('anim', 826), ('sparkl', 827), ('mania', 828), ('hold', 829), ('spent', 830), ('breastfeed', 831), ('stupid', 832), ('disappoint', 833), ('fit', 834), ('space', 835), ('twice', 836), ('record', 837), ('impact', 838), ('round', 839), ('24', 840), ('p', 841), ('goe', 842), ('citi', 843), ('phrase', 844), ('defin', 845), ('ignor', 846), ('societi', 847), ('higher', 848), ('trust', 849), ('ocd', 850), ('benefit', 851), ('note', 852), ('disabl', 853), ('rather', 854), ('bank', 855), ('handl', 856), ('figur', 857), ('subject', 858), ('journal', 859), ('grief', 860), ('america', 861), ('natur', 862), ('aliv', 863), ('g', 864), ('ruin', 865), ('gender', 866), ('model', 867), ('doc', 868), ('communiti', 869), ('fill', 870), ('lucki', 871), ('combat', 872), ('mum', 873), ('j', 874), ('skype', 875), ('myspac', 876), ('failur', 877), ('regret', 878), ('tough', 879), ('warn', 880), ('wear', 881), ('thread', 882), ('weird', 883), ('recov', 884), ('marri', 885), ('interview', 886), ('favorit', 887), ('white', 888), ('websit', 889), ('along', 890), ('public', 891), ('chill', 892), ('wtf', 893), ('gotta', 894), ('british', 895), ('ticket', 896), ('focus', 897), ('yall', 898), ('la', 899), ('goal', 900), ('infin', 901), ('upsid', 902), ('ah', 903), ('dad', 904), ('toward', 905), ('univers', 906), ('18', 907), ('smell', 908), ('wall', 909), ('cheer', 910), ('tho', 911), ('either', 912), ('begin', 913), ('forgot', 914), ('charact', 915), ('gut', 916), ('lazi', 917), ('celebr', 918), ('garden', 919), ('pressur', 920), ('straight', 921), ('travel', 922), ('fire', 923), ('identifi', 924), ('2016', 925), ('maacambridg', 926), ('doubt', 927), ('dementia', 928), ('met', 929), ('voic', 930), ('everybodi', 931), ('dm', 932), ('prize', 933), ('convers', 934), ('uni', 935), ('display', 936), ('encourag', 937), ('wild', 938), ('marijuana', 939), ('xx', 940), ('bowl', 941), ('tv', 942), ('index', 943), ('weak', 944), ('refus', 945), ('cloth', 946), ('spiral', 947), ('soul', 948), ('taught', 949), ('porn', 950), ('escap', 951), ('counsel', 952), ('daughter', 953), ('exam', 954), ('bore', 955), ('finger', 956), ('diet', 957), ('known', 958), ('five', 959), ('teeth', 960), ('dress', 961), ('blend', 962), ('debt', 963), ('carri', 964), ('hole', 965), ('motiv', 966), ('touch', 967), ('opinion', 968), ('ladi', 969), ('ff', 970), ('analysi', 971), ('ride', 972), ('enter', 973), ('son', 974), ('9', 975), ('adult', 976), ('forev', 977), ('curat', 978), ('yo', 979), ('irrit', 980), ('vaastu', 981), ('millenni', 982), ('realis', 983), ('empti', 984), ('symbol', 985), ('greek', 986), ('slip', 987), ('scare', 988), ('knew', 989), ('common', 990), ('futur', 991), ('page', 992), ('folk', 993), ('fat', 994), ('destroy', 995), ('avail', 996), ('meant', 997), ('50', 998), ('resourc', 999), ('paper', 1000), ('fulli', 1001), ('congrat', 1002), ('teacher', 1003), ('crash', 1004), ('market', 1005), ('amount', 1006), ('bpd', 1007), ('drop', 1008), ('l', 1009), ('roll', 1010), ('mention', 1011), ('holiday', 1012), ('special', 1013), ('water', 1014), ('theori', 1015), ('pull', 1016), ('yoga', 1017), ('anti', 1018), ('teach', 1019), ('build', 1020), ('cycl', 1021), ('line', 1022), ('action', 1023), ('bought', 1024), ('femal', 1025), ('involv', 1026), ('general', 1027), ('protect', 1028), ('pop', 1029), ('de', 1030), ('father', 1031), ('youth', 1032), ('sunni', 1033), ('prob', 1034), ('playlist', 1035), ('topic', 1036), ('mix', 1037), ('kany', 1038), ('older', 1039), ('psychologist', 1040), ('cute', 1041), ('releas', 1042), ('800', 1043), ('273', 1044), ('8255', 1045), ('lectur', 1046), ('despit', 1047), ('wed', 1048), ('revers', 1049), ('key', 1050), ('dude', 1051), ('somebodi', 1052), ('area', 1053), ('dr', 1054), ('servic', 1055), ('chemic', 1056), ('explain', 1057), ('remov', 1058), ('reject', 1059), ('yrs', 1060), ('three', 1061), ('feder', 1062), ('reserv', 1063), ('fail', 1064), ('fever', 1065), ('hock', 1066), ('site', 1067), ('fam', 1068), ('text', 1069), ('hide', 1070), ('diari', 1071), ('truck', 1072), ('manic', 1073), ('marvel', 1074), ('perform', 1075), ('danc', 1076), ('option', 1077), ('8mummi', 1078), ('diabet', 1079), ('lie', 1080), ('shine', 1081), ('respons', 1082), ('within', 1083), ('difficulti', 1084), ('2015', 1085), ('salt', 1086), ('indigenousaustralia', 1087), ('offic', 1088), ('genuin', 1089), ('nervous', 1090), ('system', 1091), ('drunk', 1092), ('www', 1093), ('buddi', 1094), ('bag', 1095), ('dead', 1096), ('allow', 1097), ('btw', 1098), ('track', 1099), ('massiv', 1100), ('none', 1101), ('demon', 1102), ('bill', 1103), ('rapper', 1104), ('plymouthmuseum', 1105), ('spring', 1106), ('regardless', 1107), ('cross', 1108), ('worthless', 1109), ('shame', 1110), ('obama', 1111), ('spread', 1112), ('brother', 1113), ('strain', 1114), ('fold', 1115), ('concern', 1116), ('steve', 1117), ('engag', 1118), ('shot', 1119), ('safe', 1120), ('pm', 1121), ('dose', 1122), ('antidepress', 1123), ('hospit', 1124), ('given', 1125), ('sister', 1126), ('direct', 1127), ('road', 1128), ('centuri', 1129), ('truth', 1130), ('broke', 1131), ('screen', 1132), ('hehe', 1133), ('elect', 1134), ('choos', 1135), ('warm', 1136), ('press', 1137), ('silent', 1138), ('reach', 1139), ('ugh', 1140), ('alright', 1141), ('1st', 1142), ('21', 1143), ('ugli', 1144), ('appreci', 1145), ('member', 1146), ('deeper', 1147), ('sent', 1148), ('stream', 1149), ('near', 1150), ('kiss', 1151), ('asleep', 1152), ('defeat', 1153), ('review', 1154), ('graduat', 1155), ('swing', 1156), ('esteem', 1157), ('role', 1158), ('beyond', 1159), ('comfort', 1160), ('cost', 1161), ('gorgeous', 1162), ('wit', 1163), ('psychiatri', 1164), ('skull', 1165), ('aw', 1166), ('reliev', 1167), ('store', 1168), ('recess', 1169), ('prove', 1170), ('hahaha', 1171), ('solid', 1172), ('cloud', 1173), ('advic', 1174), ('born', 1175), ('south', 1176), ('recogn', 1177), ('childhood', 1178), ('visitor', 1179), ('armi', 1180), ('fave', 1181), ('lesson', 1182), ('appoint', 1183), ('epidem', 1184), ('guardian', 1185), ('ex', 1186), ('specif', 1187), ('distanc', 1188), ('simpli', 1189), ('castlehill15', 1190), ('chair', 1191), ('per', 1192), ('block', 1193), ('spoke', 1194), ('pls', 1195), ('villain', 1196), ('insight', 1197), ('thursday', 1198), ('stick', 1199), ('written', 1200), ('cough', 1201), ('defeatingdepress', 1202), ('form', 1203), ('upset', 1204), ('arriv', 1205), ('stuck', 1206), ('ward', 1207), ('moon', 1208), ('four', 1209), ('quiet', 1210), ('strength', 1211), ('modern', 1212), ('anxious', 1213), ('crap', 1214), ('mild', 1215), ('curious', 1216), ('hah', 1217), ('among', 1218), ('nimhgov', 1219), ('church', 1220), ('door', 1221), ('prayer', 1222), ('f', 1223), ('regard', 1224), ('imag', 1225), ('breakfast', 1226), ('stronger', 1227), ('deepika', 1228), ('imbal', 1229), ('price', 1230), ('stage', 1231), ('phase', 1232), ('england', 1233), ('dri', 1234), ('print', 1235), ('nurs', 1236), ('turkey', 1237), ('progress', 1238), ('address', 1239), ('expect', 1240), ('king', 1241), ('achiev', 1242), ('there', 1243), ('tool', 1244), ('intern', 1245), ('sexi', 1246), ('flower', 1247), ('sir', 1248), ('gym', 1249), ('def', 1250), ('legal', 1251), ('greatest', 1252), ('04', 1253), ('insecur', 1254), ('leg', 1255), ('bare', 1256), ('wednesdaywisdom', 1257), ('express', 1258), ('count', 1259), ('bye', 1260), ('behav', 1261), ('behavior', 1262), ('particular', 1263), ('postnat', 1264), ('bitter', 1265), ('sleepi', 1266), ('choicedepress', 1267), ('success', 1268), ('tune', 1269), ('card', 1270), ('polici', 1271), ('tale', 1272), ('basic', 1273), ('retweet', 1274), ('frame', 1275), ('woo', 1276), ('brought', 1277), ('coupl', 1278), ('fab', 1279), ('bts', 1280), ('generat', 1281), ('catch', 1282), ('til', 1283), ('ate', 1284), ('frequent', 1285), ('grad', 1286), ('kanyewest', 1287), ('tension', 1288), ('shed', 1289), ('ligon', 1290), ('revolv', 1291), ('followfriday', 1292), ('k', 1293), ('ahead', 1294), ('proper', 1295), ('stock', 1296), ('vine', 1297), ('revis', 1298), ('non', 1299), ('pig', 1300), ('netflix', 1301), ('tim', 1302), ('air', 1303), ('govern', 1304), ('obvious', 1305), ('sky', 1306), ('marriag', 1307), ('passion', 1308), ('search', 1309), ('slow', 1310), ('local', 1311), ('esp', 1312), ('killer', 1313), ('disgust', 1314), ('fav', 1315), ('delet', 1316), ('yep', 1317), ('decis', 1318), ('pa', 1319), ('hay', 1320), ('vitamin', 1321), ('order', 1322), ('liverpool', 1323), ('polit', 1324), ('mark', 1325), ('cos', 1326), ('clue', 1327), ('speech', 1328), ('atlanta', 1329), ('mh', 1330), ('delight', 1331), ('afford', 1332), ('rough', 1333), ('tms', 1334), ('et', 1335), ('blood', 1336), ('tuesday', 1337), ('vulner', 1338), ('co', 1339), ('loss', 1340), ('front', 1341), ('nighttim', 1342), ('row', 1343), ('creep', 1344), ('helenhillyard', 1345), ('artfund', 1346), ('puzzl', 1347), ('workshop', 1348), ('effort', 1349), ('fb', 1350), ('yea', 1351), ('wont', 1352), ('journey', 1353), ('hotline877', 1354), ('period', 1355), ('vs', 1356), ('sooo', 1357), ('guitar', 1358), ('hill', 1359), ('surpris', 1360), ('xoxo', 1361), ('hopeless', 1362), ('realiti', 1363), ('howev', 1364), ('highlight', 1365), ('respect', 1366), ('acn', 1367), ('judg', 1368), ('color', 1369), ('dig', 1370), ('padukon', 1371), ('soup', 1372), ('commit', 1373), ('survivor', 1374), ('yr', 1375), ('epic', 1376), ('rude', 1377), ('300', 1378), ('tea', 1379), ('leedsartgalleri', 1380), ('quick', 1381), ('h', 1382), ('goin', 1383), ('mistak', 1384), ('blind', 1385), ('pizza', 1386), ('polar', 1387), ('meal', 1388), ('tight', 1389), ('smirk', 1390), ('organ', 1391), ('accord', 1392), ('tag', 1393), ('ketamin', 1394), ('2017', 1395), ('apolog', 1396), ('pout', 1397), ('distract', 1398), ('understood', 1399), ('lifetim', 1400), ('outta', 1401), ('sculptur', 1402), ('defend', 1403), ('percent', 1404), ('rule', 1405), ('ist', 1406), ('saddepress', 1407), ('mode', 1408), ('swear', 1409), ('couldnt', 1410), ('object', 1411), ('thrill', 1412), ('court', 1413), ('accomplish', 1414), ('victori', 1415), ('method', 1416), ('worker', 1417), ('somehow', 1418), ('immedi', 1419), ('toxic', 1420), ('ilovemuseum', 1421), ('receiv', 1422), ('report', 1423), ('multipl', 1424), ('stranger', 1425), ('em', 1426), ('offici', 1427), ('closer', 1428), ('up', 1429), ('chip', 1430), ('everywher', 1431), ('inflamm', 1432), ('autism', 1433), ('ben', 1434), ('pack', 1435), ('lmaooo', 1436), ('obtain', 1437), ('wednesday', 1438), ('lil', 1439), ('tryna', 1440), ('profil', 1441), ('sigh', 1442), ('unless', 1443), ('flat', 1444), ('raini', 1445), ('husband', 1446), ('soo', 1447), ('dick', 1448), ('floor', 1449), ('download', 1450), ('honey', 1451), ('didnt', 1452), ('intens', 1453), ('peep', 1454), ('3rd', 1455), ('channel', 1456), ('lord', 1457), ('22', 1458), ('locat', 1459), ('bathroom', 1460), ('equal', 1461), ('exhaust', 1462), ('mini', 1463), ('qualiti', 1464), ('asshol', 1465), ('greater', 1466), ('faith', 1467), ('fli', 1468), ('nite', 1469), ('sleepless', 1470), ('havent', 1471), ('ko', 1472), ('afraid', 1473), ('debat', 1474), ('colour', 1475), ('australia', 1476), ('bottom', 1477), ('prison', 1478), ('dancer', 1479), ('cherri', 1480), ('blossom', 1481), ('amen', 1482), ('eh', 1483), ('random', 1484), ('nimh', 1485), ('nimhchat', 1486), ('studio', 1487), ('tend', 1488), ('jacksonpollock', 1489), ('thankyou', 1490), ('timelin', 1491), ('manifest', 1492), ('corner', 1493), ('bright', 1494), ('bm', 1495), ('ag', 1496), ('access', 1497), ('purpl', 1498), ('habit', 1499), ('perspect', 1500), ('assum', 1501), ('slide', 1502), ('mile', 1503), ('turner', 1504), ('yum', 1505), ('bush', 1506), ('aye', 1507), ('vision', 1508), ('divorc', 1509), ('similar', 1510), ('plz', 1511), ('offend', 1512), ('giant', 1513), ('belief', 1514), ('homi', 1515), ('factor', 1516), ('dramat', 1517), ('halo', 1518), ('produc', 1519), ('treasur', 1520), ('allevi', 1521), ('woot', 1522), ('volunt', 1523), ('stroke', 1524), ('sport', 1525), ('sin', 1526), ('donat', 1527), ('bibl', 1528), ('spiritu', 1529), ('camp', 1530), ('profit', 1531), ('00', 1532), ('hotlin', 1533), ('seri', 1534), ('shake', 1535), ('reaction', 1536), ('impress', 1537), ('fool', 1538), ('although', 1539), ('muscl', 1540), ('mr', 1541), ('claim', 1542), ('concentr', 1543), ('annoy', 1544), ('prescrib', 1545), ('devil', 1546), ('etsi', 1547), ('watercolour', 1548), ('beach', 1549), ('band', 1550), ('schizophrenia', 1551), ('govt', 1552), ('burn', 1553), ('duck', 1554), ('meta', 1555), ('sm', 1556), ('relief', 1557), ('4th', 1558), ('balanc', 1559), ('scienc', 1560), ('program', 1561), ('murder', 1562), ('thru', 1563), ('homework', 1564), ('grade', 1565), ('backhand', 1566), ('portrait', 1567), ('spain', 1568), ('um', 1569), ('33', 1570), ('snap', 1571), ('sneez', 1572), ('opportun', 1573), ('law', 1574), ('jame', 1575), ('hoo', 1576), ('leaf', 1577), ('bikini', 1578), ('impair', 1579), ('bigger', 1580), ('era', 1581), ('pot', 1582), ('technolog', 1583), ('migrain', 1584), ('bother', 1585), ('particip', 1586), ('glow', 1587), ('resid', 1588), ('15', 1589), ('zero', 1590), ('heat', 1591), ('lake', 1592), ('most', 1593), ('af', 1594), ('contribut', 1595), ('unfortun', 1596), ('roman', 1597), ('seizur', 1598), ('letter', 1599), ('friendship', 1600), ('uncl', 1601), ('measur', 1602), ('comic', 1603), ('scandal', 1604), ('attract', 1605), ('sandwich', 1606), ('xxx', 1607), ('ocean', 1608), ('forum', 1609), ('requir', 1610), ('disappear', 1611), ('stone', 1612), ('plenti', 1613), ('classic', 1614), ('string', 1615), ('info', 1616), ('festiv', 1617), ('sarah', 1618), ('na', 1619), ('cole', 1620), ('workout', 1621), ('pump', 1622), ('gay', 1623), ('award', 1624), ('brave', 1625), ('99', 1626), ('aka', 1627), ('octob', 1628), ('materi', 1629), ('credit', 1630), ('otherwis', 1631), ('bleed', 1632), ('mountain', 1633), ('nude', 1634), ('girlfriend', 1635), ('financi', 1636), ('reflect', 1637), ('sa', 1638), ('charg', 1639), ('intrigu', 1640), ('intervent', 1641), ('asid', 1642), ('indigen', 1643), ('magnesium', 1644), ('solut', 1645), ('comput', 1646), ('isnt', 1647), ('toler', 1648), ('waddesdon', 1649), ('gold', 1650), ('threaten', 1651), ('recognit', 1652), ('dosag', 1653), ('bulli', 1654), ('simpl', 1655), ('contempl', 1656), ('trash', 1657), ('boss', 1658), ('mindset', 1659), ('knetz', 1660), ('footbal', 1661), ('discoveri', 1662), ('street', 1663), ('everytim', 1664), ('baroqu', 1665), ('fast', 1666), ('host', 1667), ('wast', 1668), ('draft', 1669), ('aww', 1670), ('confer', 1671), ('226', 1672), ('3111', 1673), ('228', 1674), ('2962', 1675), ('455', 1676), ('0628', 1677), ('640', 1678), ('5174', 1679), ('blow', 1680), ('troll', 1681), ('doesnt', 1682), ('instagram', 1683), ('bus', 1684), ('boat', 1685), ('hunt', 1686), ('extend', 1687), ('legit', 1688), ('dis', 1689), ('sympathi', 1690), ('alot', 1691), ('odd', 1692), ('shown', 1693), ('quarter', 1694), ('african', 1695), ('detect', 1696), ('crush', 1697), ('delici', 1698), ('mummi', 1699), ('philosoph', 1700), ('outlet', 1701), ('breakdown', 1702), ('handout', 1703), ('worldwid', 1704), ('chose', 1705), ('programm', 1706), ('germani', 1707), ('shitti', 1708), ('excus', 1709), ('periscop', 1710), ('richard', 1711), ('ship', 1712), ('000', 1713), ('publish', 1714), ('drag', 1715), ('shrug', 1716), ('kendricklamar', 1717), ('crisi', 1718), ('rainbow', 1719), ('chees', 1720), ('vacat', 1721), ('miley', 1722), ('trend', 1723), ('silenc', 1724), ('min', 1725), ('skill', 1726), ('wife', 1727), ('john', 1728), ('magnific', 1729), ('hint', 1730), ('guilt', 1731), ('burden', 1732), ('tax', 1733), ('polic', 1734), ('harder', 1735), ('replay', 1736), ('temper', 1737), ('secret', 1738), ('switch', 1739), ('violent', 1740), ('cornwal', 1741), ('hepworth', 1742), ('earlier', 1743), ('solo', 1744), ('clap', 1745), ('kept', 1746), ('twit', 1747), ('lmfao', 1748), ('sooner', 1749), ('googl', 1750), ('todd', 1751), ('persev', 1752), ('junk', 1753), ('overal', 1754), ('bubbl', 1755), ('celeb', 1756), ('dumb', 1757), ('13', 1758), ('menopaus', 1759), ('psych', 1760), ('serv', 1761), ('strike', 1762), ('artefact', 1763), ('miser', 1764), ('sip', 1765), ('bunch', 1766), ('cognit', 1767), ('bateman', 1768), ('mkt', 1769), ('affirm', 1770), ('radio', 1771), ('select', 1772), ('phd', 1773), ('signific', 1774), ('perhap', 1775), ('fleur', 1776), ('solv', 1777), ('smith', 1778), ('pet', 1779), ('letsbefriend', 1780), ('banish', 1781), ('log', 1782), ('michael', 1783), ('aggress', 1784), ('coach', 1785), ('fren', 1786), ('prospect', 1787), ('partner', 1788), ('worm', 1789), ('entitl', 1790), ('soundscap', 1791), ('hmm', 1792), ('gift', 1793), ('ra', 1794), ('el', 1795), ('asian', 1796), ('weep', 1797), ('respond', 1798), ('birth', 1799), ('rhythm', 1800), ('lewi', 1801), ('askthegalleri', 1802), ('mar', 1803), ('orang', 1804), ('beer', 1805), ('demand', 1806), ('sorrow', 1807), ('ed', 1808), ('bottl', 1809), ('rap', 1810), ('justin', 1811), ('graviti', 1812), ('limit', 1813), ('tackl', 1814), ('injuri', 1815), ('earth', 1816), ('hella', 1817), ('damag', 1818), ('chile', 1819), ('mate', 1820), ('divers', 1821), ('onion', 1822), ('uniform', 1823), ('fattest', 1824), ('thrive', 1825), ('consist', 1826), ('custom', 1827), ('breez', 1828), ('tech', 1829), ('egypt', 1830), ('peer', 1831), ('decad', 1832), ('wood', 1833), ('spasm', 1834), ('heartbreak', 1835), ('drove', 1836), ('chase', 1837), ('tripadvisor', 1838), ('2day', 1839), ('hahah', 1840), ('invit', 1841), ('forgotten', 1842), ('dedic', 1843), ('slowli', 1844), ('prior', 1845), ('hahahahaha', 1846), ('fdr', 1847), ('steal', 1848), ('seat', 1849), ('flight', 1850), ('fought', 1851), ('termin', 1852), ('task', 1853), ('extra', 1854), ('partum', 1855), ('glanc', 1856), ('institut', 1857), ('accident', 1858), ('photograph', 1859), ('fanci', 1860), ('hun', 1861), ('wordpress', 1862), ('bike', 1863), ('master', 1864), ('stem', 1865), ('valid', 1866), ('arrow', 1867), ('neil', 1868), ('cancel', 1869), ('background', 1870), ('queen', 1871), ('dan', 1872), ('telegramsam100', 1873), ('selfesteem', 1874), ('familyconflict', 1875), ('followus', 1876), ('decatur', 1877), ('georgia', 1878), ('spirit', 1879), ('winter', 1880), ('neutral', 1881), ('supplement', 1882), ('andrew', 1883), ('45', 1884), ('photographi', 1885), ('philippin', 1886), ('phil', 1887), ('previous', 1888), ('wardrob', 1889), ('bath', 1890), ('initi', 1891), ('fallen', 1892), ('wheel', 1893), ('ran', 1894), ('highest', 1895), ('french', 1896), ('toast', 1897), ('sink', 1898), ('wine', 1899), ('pair', 1900), ('throughout', 1901), ('rape', 1902), ('sunshin', 1903), ('ng', 1904), ('fund', 1905), ('david', 1906), ('sonic', 1907), ('grasp', 1908), ('concept', 1909), ('shift', 1910), ('evolv', 1911), ('trial', 1912), ('tabl', 1913), ('hen', 1914), ('punch', 1915), ('skip', 1916), ('priest', 1917), ('west', 1918), ('famous', 1919), ('scream', 1920), ('indi', 1921), ('peter', 1922), ('explor', 1923), ('san', 1924), ('feed', 1925), ('lay', 1926), ('valdoxan', 1927), ('refer', 1928), ('sell', 1929), ('ethic', 1930), ('uniqu', 1931), ('bounc', 1932), ('yell', 1933), ('weapon', 1934), ('glorious', 1935), ('digit', 1936), ('wise', 1937), ('assign', 1938), ('castl', 1939), ('domest', 1940), ('ha', 1941), ('squar', 1942), ('insur', 1943), ('label', 1944), ('cupcak', 1945), ('grant', 1946), ('pleasur', 1947), ('elev', 1948), ('shoulder', 1949), ('contain', 1950), ('ppd', 1951), ('bargain', 1952), ('club', 1953), ('nd', 1954), ('cambridgenewsuk', 1955), ('forth', 1956), ('biggest', 1957), ('snack', 1958), ('itali', 1959), ('propaganda', 1960), ('proport', 1961), ('popul', 1962), ('tast', 1963), ('lad', 1964), ('billion', 1965), ('60', 1966), ('biolog', 1967), ('strengthen', 1968), ('immun', 1969), ('nose', 1970), ('redevelop', 1971), ('farmer', 1972), ('elizabeth', 1973), ('da', 1974), ('nyc', 1975), ('freedom', 1976), ('chariti', 1977), ('slap', 1978), ('fuel', 1979), ('amjpsychiatri', 1980), ('lisa', 1981), ('shoe', 1982), ('semest', 1983), ('vice', 1984), ('nutrit', 1985), ('land', 1986), ('thoma', 1987), ('varieti', 1988), ('latest', 1989), ('justic', 1990), ('illeg', 1991), ('shoutout', 1992), ('illustr', 1993), ('rip', 1994), ('wellnesswednesday', 1995), ('luv', 1996), ('cafe', 1997), ('judgement', 1998), ('depressionm', 1999), ('un', 2000), ('boost', 2001), ('smh', 2002), ('essay', 2003), ('eventu', 2004), ('discov', 2005), ('argument', 2006), ('serotonin', 2007), ('spray', 2008), ('root', 2009), ('unemploy', 2010), ('surgeri', 2011), ('terri', 2012), ('frost', 2013), ('clock', 2014), ('shirt', 2015), ('outer', 2016), ('caregiv', 2017), ('ol', 2018), ('200', 2019), ('calm', 2020), ('longest', 2021), ('incid', 2022), ('fuckin', 2023), ('17', 2024), ('er', 2025), ('mount', 2026), ('brush', 2027), ('brick', 2028), ('enid', 2029), ('2nd', 2030), ('pink', 2031), ('dish', 2032), ('2014', 2033), ('rout', 2034), ('steam', 2035), ('web', 2036), ('languag', 2037), ('ooh', 2038), ('jealous', 2039), ('innoc', 2040), ('vintag', 2041), ('math', 2042), ('eve', 2043), ('nick', 2044), ('idol', 2045), ('replac', 2046), ('rid', 2047), ('selfi', 2048), ('pnd', 2049), ('bday', 2050), ('growth', 2051), ('your', 2052), ('bay', 2053), ('oppress', 2054), ('bear', 2055), ('enlighten', 2056), ('mid', 2057), ('valu', 2058), ('director', 2059), ('fellow', 2060), ('william', 2061), ('architectur', 2062), ('dread', 2063), ('staff', 2064), ('dirt', 2065), ('crime', 2066), ('africa', 2067), ('convinc', 2068), ('cruel', 2069), ('nowher', 2070), ('hiv', 2071), ('norway', 2072), ('ceil', 2073), ('independ', 2074), ('fist', 2075), ('techniqu', 2076), ('mam', 2077), ('mps', 2078), ('myth', 2079), ('shut', 2080), ('jst', 2081), ('frown', 2082), ('surround', 2083), ('wouldnt', 2084), ('humor', 2085), ('repres', 2086), ('tommi', 2087), ('natali', 2088), ('immigr', 2089), ('tablet', 2090), ('sat', 2091), ('vote', 2092), ('taboo', 2093), ('nine', 2094), ('upcom', 2095), ('archaeolog', 2096), ('cocktail', 2097), ('upon', 2098), ('cudi', 2099), ('taco', 2100), ('35', 2101), ('drill', 2102), ('500', 2103), ('jk', 2104), ('iciabath', 2105), ('jon', 2106), ('simon', 2107), ('poof', 2108), ('simonevolv', 2109), ('aesthet', 2110), ('pineappl', 2111), ('plant', 2112), ('bmagcur', 2113), ('butter', 2114), ('cuddl', 2115), ('learnt', 2116), ('beg', 2117), ('theme', 2118), ('relev', 2119), ('repost', 2120), ('career', 2121), ('appear', 2122), ('hr', 2123), ('aunt', 2124), ('1929', 2125), ('version', 2126), ('learningmind1', 2127), ('learningmind', 2128), ('investig', 2129), ('explan', 2130), ('fraud', 2131), ('irishm', 2132), ('chicken', 2133), ('meow', 2134), ('ton', 2135), ('ap', 2136), ('aint', 2137), ('superman', 2138), ('thief', 2139), ('entertain', 2140), ('henc', 2141), ('void', 2142), ('consum', 2143), ('absorb', 2144), ('largest', 2145), ('upload', 2146), ('meaning', 2147), ('periscopeco', 2148), ('bang', 2149), ('2013', 2150), ('bayern', 2151), ('ronaldo', 2152), ('fanboy', 2153), ('therefor', 2154), ('august', 2155), ('shatter', 2156), ('advertis', 2157), ('hidden', 2158), ('tran', 2159), ('ideat', 2160), ('shadow', 2161), ('degre', 2162), ('anchor', 2163), ('copi', 2164), ('disagre', 2165), ('cup', 2166), ('approach', 2167), ('sieg', 2168), ('load', 2169), ('yahweh', 2170), ('airport', 2171), ('board', 2172), ('undiagnos', 2173), ('trek', 2174), ('republican', 2175), ('rembrandt', 2176), ('lowest', 2177), ('cap', 2178), ('author', 2179), ('oil', 2180), ('remedi', 2181), ('lean', 2182), ('makeup', 2183), ('standardkenya', 2184), ('drama', 2185), ('reminisc', 2186), ('broken', 2187), ('ako', 2188), ('ie', 2189), ('julia', 2190), ('lyme', 2191), ('satoranskyisgod', 2192), ('joeybats434', 2193), ('churro', 2194), ('andquot', 2195), ('torr', 2196), ('strait', 2197), ('madr', 2198), ('appar', 2199), ('stabl', 2200), ('startup', 2201), ('simultan', 2202), ('occup', 2203), ('interact', 2204), ('client', 2205), ('angri', 2206), ('curri', 2207), ('race', 2208), ('fade', 2209), ('greec', 2210), ('uncertainti', 2211), ('technic', 2212), ('beta', 2213), ('zone', 2214), ('pride', 2215), ('ego', 2216), ('gas', 2217), ('liver', 2218), ('hooray', 2219), ('mooseallain', 2220), ('pour', 2221), ('boot', 2222), ('theatr', 2223), ('endthestigma', 2224), ('box', 2225), ('consult', 2226), ('shout', 2227), ('spin', 2228), ('jen', 2229), ('guest', 2230), ('transpar', 2231), ('conscious', 2232), ('click', 2233), ('capabl', 2234), ('ws', 2235), ('hrs', 2236), ('gala', 2237), ('origin', 2238), ('hotline844', 2239), ('hotline888', 2240), ('hotlineshar', 2241), ('jcolenc', 2242), ('gun', 2243), ('ban', 2244), ('depriv', 2245), ('deliv', 2246), ('hashtag', 2247), ('warrior', 2248), ('umm', 2249), ('cardiovascular', 2250), ('whos', 2251), ('intuit', 2252), ('loan', 2253), ('heaven', 2254), ('novemb', 2255), ('hatr', 2256), ('prais', 2257), ('louder', 2258), ('what', 2259), ('male', 2260), ('unexpect', 2261), ('q1', 2262), ('poke', 2263), ('denial', 2264), ('gloom', 2265), ('screw', 2266), ('tht', 2267), ('ach', 2268), ('mutual', 2269), ('cell', 2270), ('mall', 2271), ('privileg', 2272), ('napoleon', 2273), ('easili', 2274), ('craft', 2275), ('idiot', 2276), ('engin', 2277), ('global', 2278), ('neither', 2279), ('opendemocraci', 2280), ('vegan', 2281), ('gettin', 2282), ('wind', 2283), ('neurolog', 2284), ('centr', 2285), ('strayquiz', 2286), ('straykid', 2287), ('aspect', 2288), ('deterior', 2289), ('reuter', 2290), ('guid', 2291), ('senior', 2292), ('slash', 2293), ('tempt', 2294), ('borderlineperson', 2295), ('sweeti', 2296), ('discoveryday', 2297), ('wolverin', 2298), ('gf', 2299), ('grand', 2300), ('freakin', 2301), ('realdonaldtrump', 2302), ('nobel', 2303), ('pulitz', 2304), ('winner', 2305), ('mtvnew', 2306), ('canada', 2307), ('xd', 2308), ('outlook', 2309), ('dragon', 2310), ('describ', 2311), ('joint', 2312), ('exercisework', 2313), ('gop', 2314), ('speaker', 2315), ('jacki', 2316), ('freak', 2317), ('overdos', 2318), ('mexican', 2319), ('occasion', 2320), ('huh', 2321), ('settl', 2322), ('dwell', 2323), ('numb', 2324), ('exploit', 2325), ('wide', 2326), ('bloggerstrib', 2327), ('bi', 2328), ('worsen', 2329), ('keeptalkingmh', 2330), ('suicideprevent', 2331), ('endur', 2332), ('taekwondo', 2333), ('retir', 2334), ('field', 2335), ('depth', 2336), ('depressionisr', 2337), ('unlik', 2338), ('danger', 2339), ('sketch', 2340), ('europ', 2341), ('dysphoria', 2342), ('overlook', 2343), ('mentalhealthtrain', 2344), ('counsellor', 2345), ('gunna', 2346), ('electr', 2347), ('apart', 2348), ('diagnost', 2349), ('climat', 2350), ('innov', 2351), ('nasal', 2352), ('vari', 2353), ('competit', 2354), ('horribl', 2355), ('hungri', 2356), ('mockeri', 2357), ('how', 2358), ('soooooo', 2359), ('bernank', 2360), ('telegraphsci', 2361), ('librari', 2362), ('actor', 2363), ('thai', 2364), ('150', 2365), ('grain', 2366), ('lid', 2367), ('tori', 2368), ('ye', 2369), ('island', 2370), ('oviwc', 2371), ('inner', 2372), ('larg', 2373), ('size', 2374), ('mtv', 2375), ('lifestyl', 2376), ('dp', 2377), ('1930s', 2378), ('advers', 2379), ('selfhelp', 2380), ('sunset', 2381), ('jail', 2382), ('mmm', 2383), ('reassur', 2384), ('godman', 2385), ('monster', 2386), ('atm', 2387), ('capit', 2388), ('loath', 2389), ('blyton', 2390), ('ned', 2391), ('hors', 2392), ('pb', 2393), ('dvpit', 2394), ('enchant', 2395), ('transit', 2396), ('bend', 2397), ('seduct', 2398), ('nadir', 2399), ('chicago', 2400), ('ajackielarsen', 2401), ('ps', 2402), ('refresh', 2403), ('indulg', 2404), ('2007', 2405), ('handwritten', 2406), ('ebay', 2407), ('hai', 2408), ('throw', 2409), ('overthink', 2410), ('occur', 2411), ('iphon', 2412), ('flex', 2413), ('glee', 2414), ('opioid', 2415), ('instal', 2416), ('prefer', 2417), ('window', 2418), ('advantag', 2419), ('knowledg', 2420), ('zicutak', 2421), ('rose', 2422), ('deepli', 2423), ('boom', 2424), ('feedback', 2425), ('tini', 2426), ('egg', 2427), ('indiefilm', 2428), ('consequ', 2429), ('trishabshetti', 2430), ('ravag', 2431), ('semi', 2432), ('gosh', 2433), ('marvin', 2434), ('edg', 2435), ('tbh', 2436), ('spam', 2437), ('rich', 2438), ('slept', 2439), ('aveng', 2440), ('comedi', 2441), ('temporari', 2442), ('context', 2443), ('green', 2444), ('curriculum', 2445), ('leed', 2446), ('victim', 2447), ('becam', 2448), ('strang', 2449), ('silli', 2450), ('employe', 2451), ('adrian', 2452), ('fortnit', 2453), ('pure', 2454), ('duti', 2455), ('wisdom', 2456), ('cd', 2457), ('preview', 2458), ('marathon', 2459), ('cake', 2460), ('chest', 2461), ('woop', 2462), ('pit', 2463), ('frostpunk', 2464), ('dip', 2465), ('scientist', 2466), ('spellcheck', 2467), ('magic', 2468), ('overland', 2469), ('101', 2470), ('lovin', 2471), ('harass', 2472), ('labor', 2473), ('fresh', 2474), ('prioriti', 2475), ('collaps', 2476), ('plexus', 2477), ('happier', 2478), ('7pm', 2479), ('gurl', 2480), ('ahhhh', 2481), ('dome', 2482), ('suspect', 2483), ('ident', 2484), ('confirm', 2485), ('singer', 2486), ('treatabl', 2487), ('border', 2488), ('meat', 2489), ('subreddit', 2490), ('cohort', 2491), ('vol', 2492), ('paranoid', 2493), ('appl', 2494), ('sora', 2495), ('tragic', 2496), ('clever', 2497), ('misogynist', 2498), ('inde', 2499), ('woohoo', 2500), ('critic', 2501), ('kim', 2502), ('proven', 2503), ('saint', 2504), ('restaur', 2505), ('return', 2506), ('admir', 2507), ('mutat', 2508), ('drown', 2509), ('gene', 2510), ('neurotoxin', 2511), ('babe', 2512), ('despair', 2513), ('proof', 2514), ('sheepi', 2515), ('derg', 2516), ('nigga', 2517), ('unhealthi', 2518), ('shorti', 2519), ('ab', 2520), ('hundr', 2521), ('provok', 2522), ('refug', 2523), ('succeed', 2524), ('prompt', 2525), ('east', 2526), ('ohh', 2527), ('leonardo', 2528), ('bizarr', 2529), ('substitut', 2530), ('unamus', 2531), ('princ', 2532), ('justifi', 2533), ('bedroom', 2534), ('stumbl', 2535), ('debilit', 2536), ('goign', 2537), ('idc', 2538), ('induc', 2539), ('bell', 2540), ('pound', 2541), ('flash', 2542), ('tendenc', 2543), ('ice', 2544), ('cream', 2545), ('laker', 2546), ('younger', 2547), ('hn', 2548), ('flo', 2549), ('down', 2550), ('digest', 2551), ('mushroom', 2552), ('pud', 2553), ('sis', 2554), ('hush', 2555), ('compil', 2556), ('fibromyalgia', 2557), ('alzheim', 2558), ('neuron', 2559), ('traumat', 2560), ('bratescu', 2561), ('vacuum', 2562), ('bruh', 2563), ('advisor', 2564), ('whisper', 2565), ('trailer', 2566), ('hardest', 2567), ('gaudier', 2568), ('brzeska', 2569), ('legaci', 2570), ('poison', 2571), ('influenc', 2572), ('awww', 2573), ('absenc', 2574), ('multi', 2575), ('tastic', 2576), ('jonghyun', 2577), ('merci', 2578), ('momma', 2579), ('fleet', 2580), ('perman', 2581), ('cowboy', 2582), ('hat', 2583), ('irish', 2584), ('intend', 2585), ('cbd', 2586), ('sunflow', 2587), ('yellow', 2588), ('match', 2589), ('mi', 2590), ('sadden', 2591), ('airplan', 2592), ('descript', 2593), ('preserv', 2594), ('lyric', 2595), ('waterloo200', 2596), ('observ', 2597), ('panel', 2598), ('inconveni', 2599), ('subscrib', 2600), ('discrimin', 2601), ('pari', 2602), ('sooooo', 2603), ('threesom', 2604), ('con', 2605), ('toni', 2606), ('archiv', 2607), ('1920', 2608), ('1932', 2609), ('coz', 2610), ('tweep', 2611), ('piss', 2612), ('tweeti', 2613), ('kati', 2614), ('pre', 2615), ('insult', 2616), ('foreign', 2617), ('driver', 2618), ('rage', 2619), ('histor', 2620), ('bird', 2621), ('april', 2622), ('exampl', 2623), ('bryan', 2624), ('physicalact', 2625), ('inequ', 2626), ('berni', 2627), ('15th', 2628), ('sale', 2629), ('fare', 2630), ('presenc', 2631), ('doin', 2632), ('ili', 2633), ('brink', 2634), ('anybodi', 2635), ('fals', 2636), ('dunno', 2637), ('diploma', 2638), ('privat', 2639), ('audio', 2640), ('pan', 2641), ('mentalhealthk', 2642), ('whoop', 2643), ('t1', 2644), ('gp', 2645), ('mon', 2646), ('kya', 2647), ('stockleyacademi', 2648), ('cur', 2649), ('pastor', 2650), ('mama', 2651), ('scari', 2652), ('museiincomun', 2653), ('mardixon', 2654), ('museo', 2655), ('exquisit', 2656), ('ring', 2657), ('german', 2658), ('viewer', 2659), ('entrepreneur', 2660), ('clair', 2661), ('belli', 2662), ('camera', 2663), ('peel', 2664), ('chaotic', 2665), ('gna', 2666), ('nat', 2667), ('prepar', 2668), ('umbrella', 2669), ('incom', 2670), ('vile', 2671), ('ree', 2672), ('mogg', 2673), ('athlet', 2674), ('relaps', 2675), ('laptop', 2676), ('gestur', 2677), ('escal', 2678), ('healthcar', 2679), ('lesser', 2680), ('mcfli', 2681), ('fate', 2682), ('psychos', 2683), ('psychiatrist', 2684), ('2morrow', 2685), ('knife', 2686), ('dopamin', 2687), ('march', 2688), ('lowkey', 2689), ('fl', 2690), ('unknown', 2691), ('amelia', 2692), ('newmanmpaul', 2693), ('drawntodevon', 2694), ('evolverprize2015', 2695), ('lung', 2696), ('dear', 2697), ('cheeki', 2698), ('groceri', 2699), ('robot', 2700), ('economi', 2701), ('twilight', 2702), ('14', 2703), ('instamuseum', 2704), ('30th', 2705), ('bride', 2706), ('anniversari', 2707), ('acquir', 2708), ('psychiatr', 2709), ('whistl', 2710), ('network', 2711), ('kitten', 2712), ('militari', 2713), ('nope', 2714), ('starbuck', 2715), ('snuggl', 2716), ('maternalhealth', 2717), ('cabinet', 2718), ('sea', 2719), ('data', 2720), ('reveal', 2721), ('sheet', 2722), ('stomach', 2723), ('narciss', 2724), ('twist', 2725), ('dvd', 2726), ('bro', 2727), ('sprinkl', 2728), ('brooch', 2729), ('dare', 2730), ('melbourn', 2731), ('armchair', 2732), ('holist', 2733), ('ruben', 2734), ('ashley', 2735), ('macbook', 2736), ('spammer', 2737), ('samcurtisart', 2738), ('ani', 2739), ('helper', 2740), ('yyc', 2741), ('rooftop', 2742), ('discredit', 2743), ('zoo', 2744), ('cooper', 2745), ('beaten', 2746), ('legend', 2747), ('rob', 2748), ('fitzwilliam', 2749), ('hubbi', 2750), ('rosi', 2751), ('advoc', 2752), ('embarrass', 2753), ('thus', 2754), ('20s', 2755), ('trap', 2756), ('neat', 2757), ('fuckdepress', 2758), ('barbarahepworth', 2759), ('cultiv', 2760), ('slogan', 2761), ('suit', 2762), ('ch', 2763), ('trilog', 2764), ('mass', 2765), ('onto', 2766), ('furri', 2767), ('shelter', 2768), ('mnt', 2769), ('stretch', 2770), ('format', 2771), ('ms', 2772), ('kingsioppn', 2773), ('chop', 2774), ('jordan', 2775), ('guilti', 2776), ('mari', 2777), ('denmark', 2778), ('sstrain', 2779), ('enthusiasm', 2780), ('depend', 2781), ('homeless', 2782), ('cocain', 2783), ('reward', 2784), ('infinitywar', 2785), ('faster', 2786), ('sake', 2787), ('giggl', 2788), ('heh', 2789), ('enhanc', 2790), ('bbq', 2791), ('tee', 2792), ('tix', 2793), ('fo', 2794), ('41', 2795), ('miseri', 2796), ('majest', 2797), ('arent', 2798), ('rwbi', 2799), ('station', 2800), ('ig', 2801), ('feet', 2802), ('amazon', 2803), ('kettl', 2804), ('percept', 2805), ('macgregor', 2806), ('foxnew', 2807), ('pathway', 2808), ('christ', 2809), ('indic', 2810), ('signal', 2811), ('vast', 2812), ('delus', 2813), ('yorkshir', 2814), ('rent', 2815), ('behaviour', 2816), ('structur', 2817), ('deepikapadukon', 2818), ('examin', 2819), ('breathtak', 2820), ('mock', 2821), ('compass', 2822), ('hott', 2823), ('instant', 2824), ('mommi', 2825), ('vodka', 2826), ('twittervers', 2827), ('skincar', 2828), ('routin', 2829), ('yogurt', 2830), ('paralyz', 2831), ('2moro', 2832), ('soundtrack', 2833), ('hammer', 2834), ('fruit', 2835), ('pal', 2836), ('aha', 2837), ('shush', 2838), ('ancientl', 2839), ('pun', 2840), ('tf', 2841), ('cast', 2842), ('nake', 2843), ('accid', 2844), ('encount', 2845), ('doll', 2846), ('pipe', 2847), ('lit', 2848), ('fatigu', 2849), ('missi', 2850), ('inflat', 2851), ('shall', 2852), ('buzz', 2853), ('q', 2854), ('attend', 2855), ('elli', 2856), ('rear', 2857), ('hughfw', 2858), ('jamieoliv', 2859), ('aim', 2860), ('handmaid', 2861), ('offlin', 2862), ('imposs', 2863), ('yummi', 2864), ('tube', 2865), ('town', 2866), ('leon', 2867), ('meek', 2868), ('bite', 2869), ('grace', 2870), ('brazil', 2871), ('spi', 2872), ('smooth', 2873), ('struck', 2874), ('ooo', 2875), ('vomit', 2876), ('fiction', 2877), ('pepper', 2878), ('condemn', 2879), ('fell', 2880), ('nightmar', 2881), ('asthma', 2882), ('stuf', 2883), ('toy', 2884), ('discourag', 2885), ('button', 2886), ('hoppusday', 2887), ('al', 2888), ('90', 2889), ('cheat', 2890), ('stylistmagazin', 2891), ('leisur', 2892), ('disney', 2893), ('barbara', 2894), ('se', 2895), ('allah', 2896), ('mango', 2897), ('royal', 2898), ('logic', 2899), ('vmas', 2900), ('bipolarbrav', 2901), ('candi', 2902), ('texa', 2903), ('consol', 2904), ('mattress', 2905), ('rant', 2906), ('sargent', 2907), ('icon', 2908), ('gem', 2909), ('hurri', 2910), ('passiv', 2911), ('climb', 2912), ('tank', 2913), ('vern', 2914), ('troyer', 2915), ('transgend', 2916), ('septemb', 2917), ('york', 2918), ('contract', 2919), ('submit', 2920), ('sword', 2921), ('emerg', 2922), ('dj', 2923), ('tom', 2924), ('matern', 2925), ('injustic', 2926), ('mike', 2927), ('terrif', 2928), ('replica', 2929), ('australian', 2930), ('adam', 2931), ('repjohnlarson', 2932), ('stevenwaite2', 2933), ('liberti', 2934), ('coolidg', 2935), ('sansovino', 2936), ('alert', 2937), ('charlyjohnson', 2938), ('erm', 2939), ('easier', 2940), ('3am', 2941), ('lbs', 2942), ('sam', 2943), ('tremend', 2944), ('clover', 2945), ('silk', 2946), ('recept', 2947), ('yer', 2948), ('pregnanc', 2949), ('mo', 2950), ('qualifi', 2951), ('sayin', 2952), ('horror', 2953), ('tan', 2954), ('fm', 2955), ('hotel', 2956), ('vent', 2957), ('led', 2958), ('detail', 2959), ('chao', 2960), ('photoshoot', 2961), ('wizard', 2962), ('thur', 2963), ('seminar', 2964), ('gaga', 2965), ('fr', 2966), ('653', 2967), ('tenni', 2968), ('server', 2969), ('accus', 2970), ('beast', 2971), ('novel', 2972), ('expir', 2973), ('unfold', 2974), ('boi', 2975), ('prescript', 2976), ('ipod', 2977), ('workplac', 2978), ('sampl', 2979), ('awe', 2980), ('fabulousfinds1', 2981), ('medscap', 2982), ('taylor', 2983), ('harri', 2984), ('potter', 2985), ('determin', 2986), ('19th', 2987), ('sudaneselyr', 2988), ('flare', 2989), ('healthier', 2990), ('goodmorn', 2991), ('tasti', 2992), ('basket', 2993), ('invent', 2994), ('romantic', 2995), ('descend', 2996), ('haircut', 2997), ('crawl', 2998), ('recip', 2999), ('forgiv', 3000), ('own', 3001), ('ummm', 3002), ('kudo', 3003), ('grate', 3004), ('avocado', 3005), ('soundcloud', 3006), ('mourn', 3007), ('van', 3008), ('pallavi', 3009), ('principl', 3010), ('robert', 3011), ('region', 3012), ('40', 3013), ('ars', 3014), ('depart', 3015), ('ball', 3016), ('ground', 3017), ('imo', 3018), ('jr', 3019), ('talkfest', 3020), ('itsoktotalk', 3021), ('thursdaythought', 3022), ('lindsay', 3023), ('brian', 3024), ('english', 3025), ('soooo', 3026), ('hypocrit', 3027), ('helen', 3028), ('chocol', 3029), ('gaug', 3030), ('intensifi', 3031), ('djs', 3032), ('kh2', 3033), ('arena', 3034), ('nasti', 3035), ('execut', 3036), ('pv', 3037), ('boo', 3038), ('lane', 3039), ('5k', 3040), ('cda', 3041), ('27', 3042), ('hallucin', 3043), ('caught', 3044), ('5th', 3045), ('beth', 3046), ('sugar', 3047), ('obes', 3048), ('fulfil', 3049), ('mornin', 3050), ('unwil', 3051), ('tara', 3052), ('succumb', 3053), ('abort', 3054), ('genet', 3055), ('princess', 3056), ('dna', 3057), ('dot', 3058), ('christoph', 3059), ('whoa', 3060), ('tnx', 3061), ('hilari', 3062), ('india', 3063), ('warmer', 3064), ('wat', 3065), ('hm', 3066), ('rice', 3067), ('spectrum', 3068), ('prom', 3069), ('primari', 3070), ('nonexist', 3071), ('seven', 3072), ('vax', 3073), ('vinyl', 3074), ('iron', 3075), ('neck', 3076), ('comm', 3077), ('nois', 3078), ('allergi', 3079), ('celib', 3080), ('familiar', 3081), ('bedtim', 3082), ('nah', 3083), ('tgif', 3084), ('knee', 3085), ('statement', 3086), ('lame', 3087), ('aug', 3088), ('refurbish', 3089), ('potteri', 3090), ('bbc', 3091), ('journey2worthi', 3092), ('13flat', 3093), ('lasagafit', 3094), ('explian', 3095), ('overcam', 3096), ('saxildoibq', 3097), ('stereotyp', 3098), ('deem', 3099), ('mindfram', 3100), ('kanatungaa', 3101), ('theskindoctor13', 3102), ('minimathur', 3103), ('themystic19', 3104), ('rebelliousragg', 3105), ('sethshruti', 3106), ('bie', 3107), ('bharat', 3108), ('honor', 3109), ('lilmissthang', 3110), ('derektodorojo', 3111), ('mystic', 3112), ('apnea', 3113), ('satisfact', 3114), ('exhib', 3115), ('ahh', 3116), ('visitlondon', 3117), ('egyptian', 3118), ('textil', 3119), ('nhm', 3120), ('hearingloss', 3121), ('xriqdhcsd', 3122), ('weedwatch', 3123), ('acb', 3124), ('aph', 3125), ('blo', 3126), ('choo', 3127), ('cmed', 3128), ('cron', 3129), ('emc', 3130), ('emh', 3131), ('gwph', 3132), ('hiku', 3133), ('mym', 3134), ('ogi', 3135), ('rqb', 3136), ('snn', 3137), ('ter', 3138), ('thcx', 3139), ('acmpr', 3140), ('cartoon', 3141), ('seattl', 3142), ('vancouv', 3143), ('9zidakezjw', 3144), ('stfu', 3145), ('elvi', 3146), ('budget', 3147), ('zog4ztbm2', 3148), ('klopp', 3149), ('pang', 3150), ('chaoslilkat', 3151), ('proclaim', 3152), ('disenfranchis', 3153), ('thyroid', 3154), ('vit', 3155), ('tidi', 3156), ('comp', 3157), ('anhedon', 3158), ('millionth', 3159), ('exet', 3160), ('blueminyoongi', 3161), ('indig', 3162), ('oklahoma', 3163), ('bipolarbattl', 3164), ('hes', 3165), ('gen', 3166), ('screengrab', 3167), ('wethu', 3168), ('sogqiba', 3169), ('azimel', 3170), ('nge', 3171), ('andrewnairn', 3172), ('castlehil', 3173), ('stoner', 3174), ('est', 3175), ('headach', 3176), ('707', 3177), ('623', 3178), ('9803', 3179), ('jdvtdmc7fp', 3180), ('itsliverpool', 3181), ('bellowhead', 3182), ('boden', 3183), ('vichallsaltair', 3184), ('saltair', 3185), ('heginbotham', 3186), ('weareallremnantk', 3187), ('markybt', 3188), ('kimshutl', 3189), ('hawarunsaund', 3190), ('ptkesrjxkh', 3191), ('hqs', 3192), ('bearabl', 3193), ('grindr', 3194), ('kuya', 3195), ('choir', 3196), ('kabatch', 3197), ('homicid', 3198), ('honiton', 3199), ('jurrivh', 3200), ('jump', 3201), ('neptun', 3202), ('timberlak', 3203), ('timbaland', 3204), ('heritagelotteri', 3205), ('ace', 3206), ('massag', 3207), ('mooddisord', 3208), ('801', 3209), ('872', 3210), ('5516', 3211), ('vadyquaksz', 3212), ('rps', 3213), ('fir', 3214), ('sansabrokendov', 3215), ('sls', 3216), ('paid', 3217), ('whoever', 3218), ('mushi', 3219), ('potato', 3220), ('frank', 3221), ('thigh', 3222), ('split', 3223), ('suppress', 3224), ('central', 3225), ('yess', 3226), ('fxxxking', 3227), ('poverti', 3228), ('illiteraci', 3229), ('carson', 3230), ('cesar', 3231), ('mb', 3232), ('pat', 3233), ('steak', 3234), ('spotifi', 3235), ('feelsi', 3236), ('gabi', 3237), ('hittin', 3238), ('maid', 3239), ('cyrus', 3240), ('coachella', 3241), ('tragedi', 3242), ('mshapshaycomicbak', 3243), ('crowdfir', 3244), ('carriefish', 3245), ('princessleia', 3246), ('princessleiaforev', 3247), ('starwar', 3248), ('sober', 3249), ('sobrieti', 3250), ('rehab', 3251), ('rkptswml62', 3252), ('nausea', 3253), ('backward', 3254), ('artnew', 3255), ('tiredmum', 3256), ('carreno', 3257), ('mirandastearn', 3258), ('stripper', 3259), ('famacupunctur', 3260), ('functionalmedicin', 3261), ('q2f1xund8b', 3262), ('catalogu', 3263), ('pip', 3264), ('fayelizabethxo', 3265), ('cedar', 3266), ('elvisduranshow', 3267), ('skeeryjon', 3268), ('elvisduran', 3269), ('wzqhzej8vi', 3270), ('houtz', 3271), ('suttonlacesout', 3272), ('mcglinchey', 3273), ('nextt0g5vz', 3274), ('nowthisnew', 3275), ('tshirt', 3276), ('cfontainebleau', 3277), ('dave', 3278), ('hut', 3279), ('fraudul', 3280), ('across', 3281), ('jik', 3282), ('seansaid', 3283), ('t2', 3284), ('amongst', 3285), ('expressionless', 3286), ('grin', 3287), ('suleikhasnyd', 3288), ('fri', 3289), ('manuscript', 3290), ('9ak2f5ryoo', 3291), ('heyi', 3292), ('bean', 3293), ('pickl', 3294), ('amanda', 3295), ('infant', 3296), ('colic', 3297), ('aaaaaand', 3298), ('cw', 3299), ('transphob', 3300), ('guarante', 3301), ('usag', 3302), ('fabcbd', 3303), ('fabfam', 3304), ('fablif', 3305), ('hemp', 3306), ('cannabiscommun', 3307), ('sqad', 3308), ('ggbptcfyk', 3309), ('intimid', 3310), ('intrest', 3311), ('risingdarkstar', 3312), ('wherami', 3313), ('garnicl', 3314), ('thefreerifleman', 3315), ('idnt', 3316), ('ten', 3317), ('rang', 3318), ('larsens', 3319), ('frontal', 3320), ('lobe', 3321), ('transmiss', 3322), ('comorbid', 3323), ('committe', 3324), ('grandpar', 3325), ('iammcjin', 3326), ('korean', 3327), ('broaden', 3328), ('twt', 3329), ('monet', 3330), ('thehistoryguy', 3331), ('mentalhealthawarenessmonth', 3332), ('athen', 3333), ('ahja', 3334), ('lieb', 3335), ('friendz', 3336), ('wieder', 3337), ('mal', 3338), ('tharadbrad', 3339), ('dayz', 3340), ('oldest', 3341), ('hwsheffield', 3342), ('davidluck13', 3343), ('oughtibridg', 3344), ('aunti', 3345), ('winningr', 3346), ('ps4share', 3347), ('qyyb3okbti', 3348), ('10th', 3349), ('gcse', 3350), ('bootstrapcook', 3351), ('appetit', 3352), ('29', 3353), ('bmi', 3354), ('overweight', 3355), ('rcb', 3356), ('rcbian', 3357), ('center', 3358), ('mewho', 3359), ('eight', 3360), ('arisenspirit', 3361), ('csa', 3362), ('margin', 3363), ('fring', 3364), ('jane', 3365), ('preclud', 3366), ('endem', 3367), ('monsoon', 3368), ('ppqwptbfxm', 3369), ('13th', 3370), ('rumor', 3371), ('desper', 3372), ('poem', 3373), ('helenswrit', 3374), ('poetri', 3375), ('livingwithdepress', 3376), ('it8zj8uio4', 3377), ('dissoci', 3378), ('unwel', 3379), ('rapid', 3380), ('resort', 3381), ('suburban', 3382), ('uplift', 3383), ('bold', 3384), ('resent', 3385), ('groom', 3386), ('democraci', 3387), ('democrat', 3388), ('capitalist', 3389), ('tropic', 3390), ('mm', 3391), ('wellbeingwednesday', 3392), ('harvard', 3393), ('minimum', 3394), ('ba', 3395), ('built', 3396), ('repel', 3397), ('moat', 3398), ('archer', 3399), ('attrit', 3400), ('rrqo2p3exx', 3401), ('gwg', 3402), ('2020', 3403), ('havet', 3404), ('abroad', 3405), ('envrion', 3406), ('psyblog', 3407), ('granblu', 3408), ('japantim', 3409), ('autonom', 3410), ('regul', 3411), ('bereav', 3412), ('sank', 3413), ('yasmin', 3414), ('nemosanartist', 3415), ('highwatermark', 3416), ('capac', 3417), ('cyber', 3418), ('1jl7a5jvd4', 3419), ('pub', 3420), ('weiner', 3421), ('transfer', 3422), ('sore', 3423), ('kelli', 3424), ('accessori', 3425), ('dank', 3426), ('ke', 3427), ('fela', 3428), ('bullshit', 3429), ('mensutra', 3430), ('kapil', 3431), ('sharma', 3432), ('controversi', 3433), ('accur', 3434), ('u6zoe0rgq3', 3435), ('sinus', 3436), ('twin', 3437), ('tapi', 3438), ('belum', 3439), ('sama', 3440), ('lagi', 3441), ('kelseybl4ck', 3442), ('allthesedoubt', 3443), ('dormant', 3444), ('docnerdington', 3445), ('shouti', 3446), ('cwb', 3447), ('manslaught', 3448), ('maya', 3449), ('murphi', 3450), ('teenagesuicid', 3451), ('peerpressur', 3452), ('criminaldefens', 3453), ('mayalaw', 3454), ('lawyersinct', 3455), ('vkreuw83jm', 3456), ('defici', 3457), ('wena', 3458), ('2r73iqe4hd', 3459), ('ghey', 3460), ('leftist', 3461), ('showin', 3462), ('itll', 3463), ('sunixr', 3464), ('halsey', 3465), ('kehlani', 3466), ('depressionk', 3467), ('hol', 3468), ('pabloayodeji', 3469), ('nigerian', 3470), ('stigmatis', 3471), ('z185urghu9', 3472), ('kung', 3473), ('pano', 3474), ('nalabanan', 3475), ('yung', 3476), ('aboard', 3477), ('funk', 3478), ('hxasdjg5mm', 3479), ('funtim', 3480), ('suicideawar', 3481), ('discret', 3482), ('complain', 3483), ('quantiti', 3484), ('250', 3485), ('mg', 3486), ('oxid', 3487), ('wergisislam', 3488), ('hyjidwnkm', 3489), ('boston73bruin', 3490), ('aur', 3491), ('ho', 3492), ('kay', 3493), ('ks3', 3494), ('arobert', 3495), ('psychtoday', 3496), ('walshresearch', 3497), ('mercola', 3498), ('foundmyfit', 3499), ('clevelandclin', 3500), ('amermedicalassn', 3501), ('jzk1haieya', 3502), ('energet', 3503), ('craziest', 3504), ('costco', 3505), ('killari', 3506), ('nowplay', 3507), ('biblic', 3508), ('joe', 3509), ('marquez', 3510), ('06', 3511), ('christopherwilliam', 3512), ('jazz', 3513), ('puf', 3514), ('hydrat', 3515), ('sweatpant', 3516), ('whilst', 3517), ('heidi', 3518), ('themedicalmamac', 3519), ('postpartumdepress', 3520), ('beliv', 3521), ('goldunveil', 3522), ('oregon', 3523), ('rickygervai', 3524), ('xeni', 3525), ('gspellcheck', 3526), ('talesofbritain', 3527), ('chuckwendig', 3528), ('bequest', 3529), ('soz', 3530), ('opp', 3531), ('lifelesson', 3532), ('entrepreneurship', 3533), ('selfimprov', 3534), ('fair', 3535), ('roof', 3536), ('sundown', 3537), ('jimmyeatworld', 3538), ('goat', 3539), ('wallow', 3540), ('asmr', 3541), ('w47mtobsdm', 3542), ('mtstanford', 3543), ('zacharylevi', 3544), ('zbkzmmxnfi', 3545), ('nedastaff', 3546), ('pef3epgvyz', 3547), ('shes', 3548), ('ador', 3549), ('fw', 3550), ('6vpm63ypzi', 3551), ('metoprolol', 3552), ('monmouthcoffe', 3553), ('badg', 3554), ('vex', 3555), ('peanut', 3556), ('debbi', 3557), ('expo', 3558), ('gumawa', 3559), ('tula', 3560), ('zombi', 3561), ('corn', 3562), ('combo', 3563), ('attitud', 3564), ('technician', 3565), ('92', 3566), ('coursework', 3567), ('pearllamfineart', 3568), ('nyacademyofart', 3569), ('goddamn', 3570), ('boxwood', 3571), ('complex', 3572), ('stargat', 3573), ('samuel', 3574), ('alan', 3575), ('samael', 3576), ('harbing', 3577), ('uncontrol', 3578), ('stoke', 3579), ('upmc', 3580), ('blindspot', 3581), ('ipad', 3582), ('jacket', 3583), ('lunchtim', 3584), ('itsumm', 3585), ('8xsqzsnnat', 3586), ('ladyferni', 3587), ('marcusalmost', 3588), ('volum', 3589), ('gn', 3590), ('campbellclaret', 3591), ('decent', 3592), ('secur', 3593), ('hockey', 3594), ('embryon', 3595), ('blight', 3596), ('twenti', 3597), ('vg5vzqfscj', 3598), ('thee', 3599), ('omnipres', 3600), ('permeat', 3601), ('filthi', 3602), ('subtl', 3603), ('inescap', 3604), ('bloor', 3605), ('chrissi', 3606), ('teigen', 3607), ('spoken', 3608), ('phat', 3609), ('coast', 3610), ('aightindiaaaaaa', 3611), ('zugub', 3612), ('envi', 3613), ('bolster', 3614), ('crumpl', 3615), ('newli', 3616), ('launch', 3617), ('genr', 3618), ('goofin', 3619), ('bookstor', 3620), ('camila', 3621), ('cabello', 3622), ('bazzi', 3623), ('unreal', 3624), ('augmentedmentalhealth', 3625), ('unmatch', 3626), ('fluid', 3627), ('insurtech', 3628), ('mentalhealthprogram', 3629), ('0ssnsdl0nh', 3630), ('biz', 3631), ('owner', 3632), ('baroquessn', 3633), ('mentalheath', 3634), ('daisyretreat', 3635), ('abnorm', 3636), ('ventral', 3637), ('anterior', 3638), ('insula', 3639), ('asthmat', 3640), ('swiss', 3641), ('reckon', 3642), ('mmmm', 3643), ('excersis', 3644), ('battlefield', 3645), ('captain', 3646), ('istg', 3647), ('jihyo', 3648), ('noonecar', 3649), ('hmwncfkefr', 3650), ('spurt', 3651), ('oftentim', 3652), ('somewher', 3653), ('traxiontoken', 3654), ('traxionico', 3655), ('traxion', 3656), ('envis', 3657), ('foursom', 3658), ('flatshar', 3659), ('nich', 3660), ('plr', 3661), ('fkfnj7xdoh', 3662), ('hypersensit', 3663), ('mf', 3664), ('idek', 3665), ('ik', 3666), ('knock', 3667), ('loooooool', 3668), ('unrel', 3669), ('aaa', 3670), ('shooter', 3671), ('gx', 3672), ('whateverbut', 3673), ('fvck', 3674), ('havimg', 3675), ('contracept', 3676), ('ha7ej77muv', 3677), ('honour', 3678), ('lgbtq', 3679), ('14th', 3680), ('incel', 3681), ('shyness', 3682), ('happili', 3683), ('numbmetomybon', 3684), ('qnmsdrodqr', 3685), ('ajit9988', 3686), ('probiot', 3687), ('herbal', 3688), ('mrjayv', 3689), ('jeff', 3690), ('artistri', 3691), ('charli', 3692), ('amputeeatheist', 3693), ('1bq2pavwag', 3694), ('mismanag', 3695), ('undertr', 3696), ('amssm18', 3697), ('theamssm', 3698), ('zvyfuo1ayo', 3699), ('parry2shawn', 3700), ('izzi', 3701), ('chubb', 3702), ('typic', 3703), ('magat', 3704), ('remark', 3705), ('80k', 3706), ('40k', 3707), ('collegedecisions2k18', 3708), ('soar', 3709), ('kidsinmuseum', 3710), ('toughest', 3711), ('correct', 3712), ('presid', 3713), ('rep', 3714), ('edward', 3715), ('heck', 3716), ('kz4vsd4cnr', 3717), ('yourrightscamp', 3718), ('amnesti', 3719), ('kaepernick7', 3720), ('florid', 3721), ('agreement', 3722), ('thin', 3723), ('mindsmith', 3724), ('personalis', 3725), ('confidenti', 3726), ('solac', 3727), ('paramount', 3728), ('myhemophiliateam', 3729), ('yaaay', 3730), ('nourish', 3731), ('dealt', 3732), ('policeman', 3733), ('sunk', 3734), ('aborigin', 3735), ('didgeridoo', 3736), ('sleepov', 3737), ('socialmedia', 3738), ('hv', 3739), ('xkad37qe7o', 3740), ('shafayahya', 3741), ('shafa', 3742), ('bein', 3743), ('insensit', 3744), ('shd', 3745), ('bt', 3746), ('swept', 3747), ('hostil', 3748), ('veil', 3749), ('morrow', 3750), ('happycishappi', 3751), ('churn', 3752), ('overdepress', 3753), ('guidanc', 3754), ('clinician', 3755), ('alter', 3756), ('cnifii0mgc', 3757), ('isdepress', 3758), ('jac', 3759), ('hokkien', 3760), ('magtuxq3p', 3761), ('bald', 3762), ('pregnant', 3763), ('huffpost', 3764), ('alpha', 3765), ('chelsea', 3766), ('eg', 3767), ('senexchang', 3768), ('souvenir', 3769), ('brandon', 3770), ('ritual', 3771), ('storytel', 3772), ('goldquot', 3773), ('ppmad', 3774), ('streak', 3775), ('vibrant', 3776), ('nthabi', 3777), ('mokak', 3778), ('kish', 3779), ('kitchen', 3780), ('curio', 3781), ('expat', 3782), ('twitt', 3783), ('sprout', 3784), ('sibl', 3785), ('g2l5l2utjc', 3786), ('melancholi', 3787), ('brood', 3788), ('deliber', 3789), ('arnold', 3790), ('bennett', 3791), ('inspiredaili', 3792), ('inspirationalquot', 3793), ('motivateyourself', 3794), ('bfzifrtmf2', 3795), ('badass', 3796), ('sfuqetzsbh', 3797), ('urself', 3798), ('gooood', 3799), ('d3', 3800), ('intent', 3801), ('devel', 3802), ('ecnttdiarv', 3803), ('thesadag', 3804), ('sunelmusician', 3805), ('fbbpnzlrqm', 3806), ('paradox', 3807), ('wash', 3808), ('grind', 3809), ('handili', 3810), ('hesit', 3811), ('shitpost', 3812), ('aaaaayyyyy', 3813), ('trynna', 3814), ('gray', 3815), ('the100', 3816), ('1r1z4hriw8', 3817), ('grab', 3818), ('latent', 3819), ('wnfpugcb7n', 3820), ('lololol', 3821), ('hannah', 3822), ('09', 3823), ('lisabowhors', 3824), ('sarahjanebrown5', 3825), ('ovkpcgjj6v', 3826), ('painter', 3827), ('caffein', 3828), ('transmut', 3829), ('itsashleybb', 3830), ('geeez', 3831), ('flu', 3832), ('hala', 3833), ('catastroph', 3834), ('medicationreadmor', 3835), ('buyonlin', 3836), ('n76ofv5rs0', 3837), ('gross', 3838), ('tree', 3839), ('guidelin', 3840), ('frazzl', 3841), ('preval', 3842), ('loos', 3843), ('blindboy', 3844), ('alt', 3845), ('baddiedaywin', 3846), ('schmids333', 3847), ('capt', 3848), ('hominem', 3849), ('stanc', 3850), ('realm', 3851), ('152', 3852), ('2050', 3853), ('sharedfact', 3854), ('propos', 3855), ('psycho', 3856), ('hereditari', 3857), ('evolutionari', 3858), ('neuro', 3859), ('aerob', 3860), ('systemrevers', 3861), ('etcprev', 3862), ('expand', 3863), ('ow3x5ndmaf', 3864), ('superior', 3865), ('brunch', 3866), ('misunderstood', 3867), ('thiev', 3868), ('phantom', 3869), ('q5xfylpmjm', 3870), ('sync', 3871), ('lauren', 3872), ('closur', 3873), ('islamist', 3874), ('garner', 3875), ('rural', 3876), ('welfar', 3877), ('subsidi', 3878), ('linkedin', 3879), ('worthwhil', 3880), ('amwrit', 3881), ('ownvoic', 3882), ('hawkfal', 3883), ('stray', 3884), ('hall', 3885), ('squat', 3886), ('periscopetv', 3887), ('yaaass', 3888), ('superpow', 3889), ('culturegeek', 3890), ('o1v7mknpkl', 3891), ('goat21', 3892), ('adopt', 3893), ('lgbqt', 3894), ('whathaveyoudonetoday', 3895), ('iduqnr305t', 3896), ('sadi', 3897), ('diewelcom', 3898), ('oooo', 3899), ('mural', 3900), ('fran', 3901), ('biscuit', 3902), ('correspond', 3903), ('kitti', 3904), ('hip', 3905), ('stressstudi', 3906), ('psychoact', 3907), ('compound', 3908), ('unwant', 3909), ('nyela', 3910), ('3d', 3911), ('jone', 3912), ('artseduc', 3913), ('samba', 3914), ('smidg', 3915), ('sacrific', 3916), ('dieddepress', 3917), ('tu7pkvkyvl', 3918), ('ucla', 3919), ('luna', 3920), ('linger', 3921), ('angst', 3922), ('abeautyhealthi', 3923), ('uhm', 3924), ('ddla0fj27g', 3925), ('1ppt01a1ig', 3926), ('picardonhealth', 3927), ('matrix', 3928), ('rachelosiri', 3929), ('gregcool1', 3930), ('deregul', 3931), ('predatori', 3932), ('lender', 3933), ('4trillion', 3934), ('derekcav', 3935), ('shelf', 3936), ('obv', 3937), ('unwav', 3938), ('kira', 3939), ('didyouknow', 3940), ('qvxglxuqrn', 3941), ('bori', 3942), ('gentlegi', 3943), ('hopecharityproject', 3944), ('splay', 3945), ('holdonpainend', 3946), ('offenc', 3947), ('imsoak', 3948), ('yumm', 3949), ('arthriti', 3950), ('stiff', 3951), ('sluggish', 3952), ('apathi', 3953), ('3pnruel0v', 3954), ('xujrvb32hp', 3955), ('depressionclass', 3956), ('keepingthefaith', 3957), ('jxfgcxyjxr', 3958), ('lomaschar', 3959), ('skynew', 3960), ('nihrmaudsleybrc', 3961), ('mindchar', 3962), ('fixi', 3963), ('maintain', 3964), ('senat', 3965), ('jim', 3966), ('foxandfriend', 3967), ('euqfkuoxv9', 3968), ('yousn', 3969), ('lyk', 3970), ('toothbrush', 3971), ('blast', 3972), ('react', 3973), ('seclus', 3974), ('yard', 3975), ('errand', 3976), ('quizz', 3977), ('cheerlead', 3978), ('berkley', 3979), ('u2d1ozaomz', 3980), ('unit', 3981), ('nativ', 3982), ('filipino', 3983), ('indian', 3984), ('rewir', 3985), ('autist', 3986), ('burger', 3987), ('definat', 3988), ('mysteri', 3989), ('amphetamin', 3990), ('sciencedaili', 3991), ('asamorg', 3992), ('whyyyyyyi', 3993), ('serbian', 3994), ('repress', 3995), ('landscap', 3996), ('bronchodil', 3997), ('palpit', 3998), ('anosulfid', 3999), ('conjunct', 4000), ('bibioxyphospho', 4001), ('sold', 4002), ('sterosron', 4003), ('tweeter', 4004), ('mediocr', 4005), ('mask', 4006), ('vedio', 4007), ('pornstar', 4008), ('uvqwxezy63', 4009), ('burnout', 4010), ('correl', 4011), ('versa', 4012), ('bob', 4013), ('kalamazoo', 4014), ('peopledepress', 4015), ('sleepdepress', 4016), ('insidedepress', 4017), ('goingdepress', 4018), ('sho', 4019), ('map', 4020), ('glenn', 4021), ('mailonlin', 4022), ('dollar', 4023), ('distant', 4024), ('shiver', 4025), ('sht', 4026), ('thumb', 4027), ('corps', 4028), ('newlynexchang', 4029), ('noun', 4030), ('scallop', 4031), ('dent', 4032), ('dimpl', 4033), ('tooth', 4034), ('battlement', 4035), ('aec', 4036), ('adreanainlb', 4037), ('mairinmurphi', 4038), ('aa', 4039), ('poc', 4040), ('blk', 4041), ('hero', 4042), ('sublimin', 4043), ('rachel', 4044), ('prop', 4045), ('dunya', 4046), ('ignit', 4047), ('naiv', 4048), ('heavili', 4049), ('rab', 4050), ('feather', 4051), ('yiygubqasa', 4052), ('revenu', 4053), ('neighbour', 4054), ('zentropi', 4055), ('retweetblogg', 4056), ('ukblog', 4057), ('femblogg', 4058), ('ukblogrt', 4059), ('wet', 4060), ('footi', 4061), ('cryyyyyy', 4062), ('dayi', 4063), ('dillonschmidt', 4064), ('anb', 4065), ('ultralight', 4066), ('beam', 4067), ('uusttcssj3', 4068), ('broadcast', 4069), ('devendra', 4070), ('fadnavi', 4071), ('abdulla', 4072), ('shaikh', 4073), ('mumbai', 4074), ('hasham', 4075), ('qureshi', 4076), ('posses', 4077), ('jj', 4078), ('marg', 4079), ('swine', 4080), ('bqv4tji67i', 4081), ('patron', 4082), ('sue', 4083), ('pres', 4084), ('potent', 4085), ('alli', 4086), ('visitcamb', 4087), ('featur', 4088), ('talent', 4089), ('civilis', 4090), ('strategi', 4091), ('grass', 4092), ('greensun', 4093), ('shininglowest', 4094), ('score', 4095), ('droppeddepress', 4096), ('vinegar', 4097), ('darl', 4098), ('realmissanxieti', 4099), ('antigopactivist', 4100), ('enriquemflores3', 4101), ('otepoffici', 4102), ('sassymsviolet', 4103), ('mamarose2017', 4104), ('kalelvx', 4105), ('dawnresist', 4106), ('sagarch', 4107), ('kalenaanna', 4108), ('kalena', 4109), ('tia', 4110), ('cis', 4111), ('remix', 4112), ('mario', 4113), ('mtg', 4114), ('blackjack', 4115), ('robust', 4116), ('icbt', 4117), ('fomcic', 4118), ('gc6yndttb', 4119), ('fish', 4120), ('straw', 4121), ('wellb', 4122), ('aemtrt94vp', 4123), ('livartfair', 4124), ('lovenorthernart', 4125), ('massagetherapi', 4126), ('hypertens', 4127), ('massagecalgari', 4128), ('yychealth', 4129), ('yychealthyliv', 4130), ('rmt', 4131), ('jnsrmbdasu', 4132), ('tay', 4133), ('scheme', 4134), ('reader', 4135), ('kenni', 4136), ('noshoesn', 4137), ('triparoundthesuntour', 4138), ('hxsdp20cnr', 4139), ('romant', 4140), ('clout', 4141), ('mere', 4142), ('eccentr', 4143), ('yojv6jvnk', 4144), ('acropolismuseum', 4145), ('leggo', 4146), ('invigil', 4147), ('biennial', 4148), ('rofl', 4149), ('vlhavrtfuj', 4150), ('yup', 4151), ('jonathan', 4152), ('signorella', 4153), ('herbert', 4154), ('farrah', 4155), ('confound', 4156), ('distress', 4157), ('restor', 4158), ('someday', 4159), ('xoxoboobl', 4160), ('flag', 4161), ('bangladesh', 4162), ('ltparentlif', 4163), ('vxjklynldv', 4164), ('romanticis', 4165), ('deppres', 4166), ('underag', 4167), ('besfriend', 4168), ('ot9aykfht3', 4169), ('forthright', 4170), ('request', 4171), ('germ', 4172), ('dc', 4173), ('carolina', 4174), ('italian', 4175), ('preach', 4176), ('gloomi', 4177), ('mac', 4178), ('140', 4179), ('char', 4180), ('communitymentalhealth', 4181), ('mentalhealtheduc', 4182), ('nypost', 4183), ('pussi', 4184), ('compens', 4185), ('anorexia', 4186), ('meanwhil', 4187), ('scholarofsong', 4188), ('sob', 4189), ('9m', 4190), ('han', 4191), ('erin', 4192), ('peterdutton', 4193), ('mp', 4194), ('shanebazzi', 4195), ('fuckingwel', 4196), ('dienobodi', 4197), ('hopesh', 4198), ('indefinit', 4199), ('nauru', 4200), ('oper', 4201), ('spinal', 4202), ('rod', 4203), ('insert', 4204), ('granola', 4205), ('dismiss', 4206), ('cite', 4207), ('mercuri', 4208), ('retrograd', 4209), ('sentenc', 4210), ('tmrw', 4211), ('feck', 4212), ('infect', 4213), ('ov', 4214), ('depr', 4215), ('depressionawar', 4216), ('linkinbio', 4217), ('jason', 4218), ('folx', 4219), ('masturb', 4220), ('dizzi', 4221), ('prep', 4222), ('motion', 4223), ('molest', 4224), ('hardship', 4225), ('penn', 4226), ('bquentin3', 4227), ('zada', 4228), ('beda', 4229), ('aranjan2012', 4230), ('kshitishsc', 4231), ('sanghiwalk', 4232), ('gaganjass141', 4233), ('gagan', 4234), ('2024', 4235), ('modi', 4236), ('pawfqcsrum', 4237), ('reni', 4238), ('h8', 4239), ('bf', 4240), ('spurgeon', 4241), ('zackeswin', 4242), ('christian', 4243), ('payment', 4244), ('pinella', 4245), ('catalyst', 4246), ('rebuild', 4247), ('polymath', 4248), ('intrust', 4249), ('krimpel', 4250), ('checkmat', 4251), ('abel', 4252), ('restraint', 4253), ('inabl', 4254), ('shawn', 4255), ('sleev', 4256), ('lotta', 4257), ('vment', 4258), ('britain', 4259), ('monopolar', 4260), ('gnar', 4261), ('ina', 4262), ('gemini', 4263), ('separ', 4264), ('blot', 4265), ('enemi', 4266), ('misconcept', 4267), ('panelist', 4268), ('mermaid', 4269), ('upfront', 4270), ('birthdayyyyy', 4271), ('unicorn', 4272), ('crown', 4273), ('empir', 4274), ('8mkp8apsrf', 4275), ('thoracotomi', 4276), ('sarcoidosi', 4277), ('mylif', 4278), ('myhealth', 4279), ('rob8wgjooh', 4280), ('monetari', 4281), ('chairman', 4282), ('economist', 4283), ('milton', 4284), ('friedman', 4285), ('conveni', 4286), ('nanci', 4287), ('famil', 4288), ('oki', 4289), ('dokey', 4290), ('wa', 4291), ('uterus', 4292), ('unmanag', 4293), ('harvardm', 4294), ('bwubstnjh8', 4295), ('dehuman', 4296), ('gteen', 4297), ('hmcwffkyu7', 4298), ('elder', 4299), ('kyledfranklin', 4300), ('cparksafflu', 4301), ('yohannamueller1', 4302), ('yield', 4303), ('drastic', 4304), ('gluten', 4305), ('leaver', 4306), ('myriad', 4307), ('aahh', 4308), ('auster', 4309), ('brexit', 4310), ('aquina', 4311), ('ii', 4312), ('38', 4313), ('sleepin', 4314), ('thnx', 4315), ('dubai', 4316), ('mail', 4317), ('defeatdepress', 4318), ('bbc4', 4319), ('documentari', 4320), ('babstoxyn', 4321), ('bimmyana', 4322), ('hayteehay', 4323), ('mefloquin', 4324), ('arrhythmia', 4325), ('readytobeatmalaria', 4326), ('worldmalariaday', 4327), ('newt', 4328), ('sk', 4329), ('humili', 4330), ('unabl', 4331), ('pvb6ig1fkm', 4332), ('pd', 4333), ('mhealth', 4334), ('perinat', 4335), ('sandi', 4336), ('brighton', 4337), ('ballin', 4338), ('basketbal', 4339), ('firenoob', 4340), ('sackless', 4341), ('doughi', 4342), ('kevvi', 4343), ('tongu', 4344), ('douchey', 4345), ('sousa', 4346), ('precis', 4347), ('awoken', 4348), ('avatar', 4349), ('bread', 4350), ('180', 4351), ('champagn', 4352), ('lifelong', 4353), ('existenti', 4354), ('employ', 4355), ('steven', 4356), ('heap', 4357), ('gust', 4358), ('lds', 4359), ('43kjwsn0dr', 4360), ('on', 4361), ('earliest', 4362), ('sunris', 4363), ('chris', 4364), ('assault', 4365), ('expressli', 4366), ('eatin', 4367), ('wyyyuuuuut', 4368), ('elif', 4369), ('nsal', 4370), ('avdal', 4371), ('junip', 4372), ('jojc', 4373), ('7ckbu54qpb', 4374), ('877', 4375), ('844', 4376), ('disorder877', 4377), ('888', 4378), ('ysjq5cxjxs', 4379), ('knive', 4380), ('ndtv', 4381), ('ndtvlivestream', 4382), ('discipl', 4383), ('devote', 4384), ('quiz', 4385), ('reclaim', 4386), ('depressionfre', 4387), ('curedepress', 4388), ('eeri', 4389), ('elimin', 4390), ('lkz3kzqcw9', 4391), ('mbzoqwifnn', 4392), ('wasnt', 4393), ('xyz', 4394), ('pad', 4395), ('ambush', 4396), ('sunken', 4397), ('retribut', 4398), ('sushi', 4399), ('spectacular', 4400), ('drake', 4401), ('jp', 4402), ('uhbsxsept7', 4403), ('lethal', 4404), ('kuuku', 4405), ('fleabag', 4406), ('selfish', 4407), ('crocwhen', 4408), ('shire', 4409), ('injur', 4410), ('slaughterhous', 4411), ('sole', 4412), ('belittl', 4413), ('kcsuszgbkm', 4414), ('lush', 4415), ('gr8', 4416), ('suggestsit', 4417), ('0bqk7k3z5i', 4418), ('0435xcwpc2', 4419), ('anxietythem', 4420), ('renaiss', 4421), ('cfhtkxqqqa', 4422), ('turbul', 4423), ('b7tlz4vuj0', 4424), ('credibl', 4425), ('rainout', 4426), ('equilibrium', 4427), ('kirk', 4428), ('sneak', 4429), ('4am', 4430), ('florida', 4431), ('counter', 4432), ('campfir', 4433), ('eurovis', 4434), ('hayleykiyoko', 4435), ('campaign', 4436), ('nhs', 4437), ('selv', 4438), ('bo', 4439), ('renew', 4440), ('yeshewil', 4441), ('rejoic', 4442), ('cafeteria', 4443), ('bestdayev', 4444), ('roshvarosha', 4445), ('lisalooli', 4446), ('iartg', 4447), ('asmsg', 4448), ('mentalhealthliv', 4449), ('hxk42hummc', 4450), ('jimmi', 4451), ('persuas', 4452), ('mckee', 4453), ('shaker', 4454), ('delphit', 4455), ('aluminum', 4456), ('vapor', 4457), ('whatasaviour7', 4458), ('alisawoodard6', 4459), ('swantowski', 4460), ('anitalea1', 4461), ('florsunni', 4462), ('redrobin741', 4463), ('1bramant', 4464), ('linsonvarughes', 4465), ('blupony3', 4466), ('bishopdawkin', 4467), ('middlebrookdep', 4468), ('ccangels', 4469), ('sheila', 4470), ('freda', 4471), ('blessttt', 4472), ('jackcouch11', 4473), ('lisaharlow10', 4474), ('ahmedaniy', 4475), ('toddtrotter3', 4476), ('believeallcom', 4477), ('endtimeslif', 4478), ('reeves5150', 4479), ('sharonrenee15', 4480), ('joanneileen', 4481), ('cherami1sherri', 4482), ('gregpetti', 4483), ('trinitysfaith', 4484), ('bramant', 4485), ('bailog', 4486), ('cheriss', 4487), ('flashg', 4488), ('86', 4489), ('smrutimishra7', 4490), ('vinodgnair73', 4491), ('reginahhop', 4492), ('twisty58', 4493), ('doswel', 4494), ('vee', 4495), ('radioshowccc', 4496), ('notjudgin', 4497), ('nhiscare57', 4498), ('nadiaforjesus', 4499), ('wheatsuzann', 4500), ('freebetsyb', 4501), ('elliesangelw', 4502), ('mcinnes003', 4503), ('kieth', 4504), ('captiv', 4505), ('stronghold', 4506), ('mighti', 4507), ('2cor', 4508), ('tenderlov', 4509), ('slump', 4510), ('pl', 4511), ('championship', 4512), ('2005', 4513), ('ecstasi', 4514), ('utv', 4515), ('waterfal', 4516), ('mc', 4517), ('sff', 4518), ('protagonist', 4519), ('tae', 4520), ('opticalmeg', 4521), ('cousin', 4522), ('momentum', 4523), ('roar', 4524), ('2010', 4525), ('excess', 4526), ('contributor', 4527), ('north', 4528), ('momlif', 4529), ('gymlif', 4530), ('lifego', 4531), ('dwen', 4532), ('anglosaxon', 4533), ('vike', 4534), ('vlog', 4535), ('emmahiggcn', 4536), ('vadimnewquist', 4537), ('fem', 4538), ('waitimcuri', 4539), ('ilk', 4540), ('moralist', 4541), ('boner', 4542), ('wifi', 4543), ('biom', 4544), ('loveyourbiom', 4545), ('meri', 4546), ('hota', 4547), ('becoz', 4548), ('quran', 4549), ('pak', 4550), ('ayat', 4551), ('hade', 4552), ('wanttel', 4553), ('openu', 4554), ('muslimi', 4555), ('muslim', 4556), ('muslimin', 4557), ('sha', 4558), ('seqgnrljkz', 4559), ('amxo4eebn', 4560), ('hung', 4561), ('hrv', 4562), ('differenti', 4563), ('r726xud64w', 4564), ('zekelli', 4565), ('catelyn', 4566), ('herk360cyg', 4567), ('depressionlonelinessand', 4568), ('pattern', 4569), ('outright', 4570), ('fascism', 4571), ('lifespan', 4572), ('jze6yfy2uj', 4573), ('mega', 4574), ('perk', 4575), ('ggd7wpulrq', 4576), ('laughter', 4577), ('regain', 4578), ('antsi', 4579), ('unmotiv', 4580), ('pammyhammy48', 4581), ('runner', 4582), ('ellen', 4583), ('freight', 4584), ('4qyir3iknt', 4585), ('meeeeeeeeeee', 4586), ('gangnamstyl', 4587), ('style', 4588), ('unresolv', 4589), ('pitch', 4590), ('generous', 4591), ('stalker', 4592), ('nlj5b3jki5', 4593), ('password', 4594), ('daybut', 4595), ('dayon', 4596), ('disdainand', 4597), ('submerg', 4598), ('trucker', 4599), ('depresssss', 4600), ('58ntkqutir', 4601), ('topper', 4602), ('holi', 4603), ('ledecestr', 4604), ('marshhi', 4605), ('fatal', 4606), ('respiratori', 4607), ('analges', 4608), ('manufactur', 4609), ('ventil', 4610), ('neuenschwand', 4611), ('gladiat', 4612), ('politician', 4613), ('fucker', 4614), ('ensur', 4615), ('katiefhurley', 4616), ('thuli', 4617), ('madonsela', 4618), ('heartfelt', 4619), ('jyr9eommcm', 4620), ('oiqlygpwbw', 4621), ('fi2jx3zzda', 4622), ('wip', 4623), ('grandmer', 4624), ('memer', 4625), ('kk6ruz4h2x', 4626), ('dickhead', 4627), ('unjust', 4628), ('6unnm95qoq', 4629), ('decor', 4630), ('extraordinari', 4631), ('freshman', 4632), ('bead', 4633), ('civilian', 4634), ('iraq', 4635), ('charcter', 4636), ('fite', 4637), ('cupid', 4638), ('qvxstw5eus', 4639), ('wale', 4640), ('jbuchana', 4641), ('mentalhealh', 4642), ('turnin', 4643), ('incorpor', 4644), ('aaaaaah', 4645), ('calmest', 4646), ('jinx', 4647), ('tulip', 4648), ('pressview', 4649), ('scratch', 4650), ('spark', 4651), ('jealousi', 4652), ('plung', 4653), ('patent', 4654), ('cmuellertweet', 4655), ('avicii', 4656), ('ca', 4657), ('2943', 4658), ('counti', 4659), ('vocat', 4660), ('ufvae5zyvo', 4661), ('tasnimaktast', 4662), ('volatil', 4663), ('bullish', 4664), ('bearish', 4665), ('expans', 4666), ('rbi', 4667), ('hawkish', 4668), ('dovish', 4669), ('nda', 4670), ('upa', 4671), ('sipkaromastraho', 4672), ('mutualfund', 4673), ('nihilist', 4674), ('inclin', 4675), ('magicianseven', 4676), ('pentaclesnin', 4677), ('interrupt', 4678), ('mei', 4679), ('indecis', 4680), ('alllll', 4681), ('ahold', 4682), ('prematur', 4683), ('anna', 4684), ('core', 4685), ('visual', 4686), ('electron', 4687), ('kit', 4688), ('exposur', 4689), ('longitudin', 4690), ('enliv', 4691), ('stigmat', 4692), ('trisha', 4693), ('input', 4694), ('evil', 4695), ('britishlibrari', 4696), ('feb', 4697), ('crazypark', 4698), ('depressionpark', 4699), ('interweb', 4700), ('twerent', 4701), ('betray', 4702), ('sociopath', 4703), ('sadbyier', 4704), ('bylertrash', 4705), ('gaybyl', 4706), ('hipwillby', 4707), ('blithevigor', 4708), ('wllliambyer', 4709), ('gldfinch', 4710), ('noahsfool', 4711), ('blushyby', 4712), ('goodbyerichi', 4713), ('fic', 4714), ('byler', 4715), ('harbour', 4716), ('ascent', 4717), ('akp', 4718), ('burak', 4719), ('rel', 4720), ('theerpi', 4721), ('stepscentr', 4722), ('nathan', 4723), ('oxley', 4724), ('infograph', 4725), ('ht', 4726), ('obscur', 4727), ('antidepressantoftheday', 4728), ('yyweoaaua', 4729), ('predict', 4730), ('fakeout', 4731), ('yah', 4732), ('adul', 4733), ('tempestu', 4734), ('preacher', 4735), ('tchanmd', 4736), ('sandnsurf', 4737), ('sherbino', 4738), ('srrezai', 4739), ('thesgem', 4740), ('ilgen', 4741), ('bias', 4742), ('x0ivohpcix', 4743), ('bandcamp', 4744), ('indiefilmmak', 4745), ('q3enmbbqpa', 4746), ('fyguwhvynh', 4747), ('sutton', 4748), ('txg', 4749), ('compressopn', 4750), ('sock', 4751), ('exrtcis', 4752), ('autobiograph', 4753), ('t8ha8ysx7n', 4754), ('intth', 4755), ('slightest', 4756), ('msn', 4757), ('churchil', 4758), ('daft', 4759), ('mutt', 4760), ('ap6j1plfxb', 4761), ('addam', 4762), ('sporad', 4763), ('sxdiowjzup', 4764), ('100s', 4765), ('redfolio', 4766), ('mindart', 4767), ('strewn', 4768), ('addit', 4769), ('sierra', 4770), ('hostileenviron', 4771), ('legalaid', 4772), ('independentreview', 4773), ('migrantvoic', 4774), ('circl', 4775), ('akcounsellor', 4776), ('horni', 4777), ('albani', 4778), ('supernatur', 4779), ('war10', 4780), ('cinematographi', 4781), ('bop', 4782), ('myb', 4783), ('bcs', 4784), ('kotaku', 4785), ('ign', 4786), ('playstat', 4787), ('essenti', 4788), ('savour', 4789), ('sixteen', 4790), ('grave', 4791), ('v3qcymdhat', 4792), ('wondrous', 4793), ('blake', 4794), ('snow', 4795), ('bulb', 4796), ('blackish', 4797), ('si', 4798), ('utang', 4799), ('nang', 4800), ('loob', 4801), ('matthew', 4802), ('tweetdeck', 4803), ('wireless', 4804), ('acct', 4805), ('summitrdu', 4806), ('g4', 4807), ('ministri', 4808), ('bradhambrick', 4809), ('talkingtherapi', 4810), ('desk', 4811), ('tubecosix', 4812), ('longtim', 4813), ('pupil', 4814), ('wound', 4815), ('stalk', 4816), ('fault', 4817), ('shortcom', 4818), ('bitchywolfhard', 4819), ('greatdaneuj', 4820), ('joshua', 4821), ('9pour100', 4822), ('piano', 4823), ('bfsuxvrk5i', 4824), ('pmbea8df5p', 4825), ('inkheist', 4826), ('guestpost', 4827), ('writerslif', 4828), ('kiesl', 4829), ('horrorbookshelf', 4830), ('shanedkeen', 4831), ('pb9m9nvotb', 4832), ('z8nmgbvebu', 4833), ('crescent', 4834), ('union', 4835), ('ray', 4836), ('regist', 4837), ('receptionist', 4838), ('spanish', 4839), ('pro', 4840), ('oxytocin', 4841), ('brew', 4842), ('activelinc', 4843), ('bikeabl', 4844), ('sns', 4845), ('condamn', 4846), ('comesher', 4847), ('depressionrrrrrrrrrrrrrrrrrrrrrrrrev', 4848), ('imper', 4849), ('icymi', 4850), ('peerrun', 4851), ('reduct', 4852), ('andperform', 4853), ('andsignific', 4854), ('arkowitz', 4855), ('peool', 4856), ('themself', 4857), ('flaw', 4858), ('dishwash', 4859), ('intak', 4860), ('derek', 4861), ('wrxnicka', 4862), ('obvi', 4863), ('expiri', 4864), ('pyrocyn', 4865), ('section', 4866), ('8pnykwpjqa', 4867), ('shoot', 4868), ('astonish', 4869), ('ohhhhhkkkk', 4870), ('treacl', 4871), ('spong', 4872), ('cognitive2018', 4873), ('iqto', 4874), ('neurocognitivedisord', 4875), ('cdcp', 4876), ('xxhdyuai09', 4877), ('bipolardisord', 4878), ('bbi', 4879), ('travail', 4880), ('mixtur', 4881), ('marit', 4882), ('niec', 4883), ('98', 4884), ('venezuela', 4885), ('nycdcc', 4886), ('4pm', 4887), ('mindcharitypleas', 4888), ('leadership', 4889), ('groundbreak', 4890), ('goosebump', 4891), ('slice', 4892), ('koltsovo', 4893), ('v5c6hhffkd', 4894), ('t01rmp4oq0', 4895), ('artwork', 4896), ('issa', 4897), ('rae', 4898), ('presentsit', 4899), ('intim', 4900), ('ivketamin', 4901), ('e3g43kncop', 4902), ('andi', 4903), ('umassmed', 4904), ('selegilin', 4905), ('emsam', 4906), ('bullcrap', 4907), ('b4', 4908), ('neglect', 4909), ('ceram', 4910), ('realryanwhorton', 4911), ('jewel', 4912), ('creas', 4913), ('wrist', 4914), ('feeeeel', 4915), ('carrel', 4916), ('gru', 4917), ('risen', 4918), ('tooo', 4919), ('ut', 4920), ('johnmu', 4921), ('bet', 4922), ('dystopian', 4923), ('autonomi', 4924), ('fragment', 4925), ('dive', 4926), ('dayoff', 4927), ('warfram', 4928), ('utc', 4929), ('supportsmallerstream', 4930), ('nightstream', 4931), ('pr', 4932), ('nephew', 4933), ('ron', 4934), ('themoodcard', 4935), ('letstalk', 4936), ('headstogeth', 4937), ('r0dq3gof6f', 4938), ('atmo', 4939), ('abatevintag', 4940), ('fleurchipbowl', 4941), ('braintech', 4942), ('pk11195', 4943), ('marker', 4944), ('nihrbrainm', 4945), ('commiss', 4946), ('ka1jh3ttdj', 4947), ('downplay', 4948), ('psa', 4949), ('socialfabr', 4950), ('employmentlaw', 4951), ('v9qh2zacvf', 4952), ('scene', 4953), ('legion', 4954), ('maitreya', 4955), ('albino', 4956), ('odditi', 4957), ('velociraptor', 4958), ('arthur', 4959), ('insist', 4960), ('velociped', 4961), ('superstar', 4962), ('jeannett', 4963), ('platter', 4964), ('repostapp', 4965), ('frankincens', 4966), ('9ivbfcmsid', 4967), ('alex', 4968), ('westwick', 4969), ('zo9c1hgs73', 4970), ('pend', 4971), ('rowl', 4972), ('undoubt', 4973), ('marbl', 4974), ('derick', 4975), ('circumst', 4976), ('financ', 4977), ('adventuretravel', 4978), ('motorcycl', 4979), ('vobvxdik8v', 4980), ('lecmn', 4981), ('pc', 4982), ('repub', 4983), ('arm', 4984), ('robin', 4985), ('recruit', 4986), ('takepartinresearch', 4987), ('onhxvqmqvf', 4988), ('panick', 4989), ('plot', 4990), ('lmfaoo', 4991), ('simethibg', 4992), ('diddi', 4993), ('desir', 4994), ('scope', 4995), ('aswel', 4996), ('alexa', 4997), ('chick', 4998), ('heb', 4999), ('bewar', 5000), ('lest', 5001), ('therebi', 5002), ('defil', 5003), ('corrupt', 5004), ('igtduaojpm', 5005), ('builder', 5006), ('path', 5007), ('deceiv', 5008), ('dlc', 5009), ('twentea', 5010), ('eyesight', 5011), ('clandestin', 5012), ('gear', 5013), ('stimul', 5014), ('thor', 5015), ('luci', 5016), ('9am', 5017), ('doyoga', 5018), ('moyai', 5019), ('aish', 5020), ('sidelin', 5021), ('awhil', 5022), ('disclaim', 5023), ('remyvampvuitton', 5024), ('sectioncurb', 5025), ('depressiongo', 5026), ('rehabacknowledg', 5027), ('oncom', 5028), ('societ', 5029), ('ilovecornwalluk', 5030), ('bamconstructuk', 5031), ('drax', 5032), ('career150', 5033), ('sex5', 5034), ('snapchat', 5035), ('help4', 5036), ('help200', 5037), ('mansion', 5038), ('19', 5039), ('oneplexus', 5040), ('guthealth', 5041), ('healthandhappi', 5042), ('i6wihsxaew', 5043), ('chrismannbbc', 5044), ('phelp', 5045), ('luckili', 5046), ('halfway', 5047), ('griev', 5048), ('dsm', 5049), ('6month', 5050), ('ty', 5051), ('minion', 5052), ('noon', 5053), ('smallkewlhuman', 5054), ('thinkin', 5055), ('wander', 5056), ('doingg', 5057), ('fandom', 5058), ('aaahhhh', 5059), ('hypocrisi', 5060), ('bakit', 5061), ('dinadamay', 5062), ('yang', 5063), ('niyong', 5064), ('dalawa', 5065), ('judgejudi', 5066), ('bondirescu', 5067), ('cbsrealityeu', 5068), ('daytimetv', 5069), ('trendi', 5070), ('birmingham', 5071), ('sew', 5072), ('traine', 5073), ('redisplay', 5074), ('2in', 5075), ('tk', 5076), ('religi', 5077), ('leaflet', 5078), ('golden', 5079), ('scum', 5080), ('horrif', 5081), ('stack', 5082), ('r232', 5083), ('gdp', 5084), ('renata', 5085), ('schoeman', 5086), ('usb', 5087), ('mba', 5088), ('alumnus', 5089), ('knowfren', 5090), ('breadth', 5091), ('hahahah', 5092), ('lovewin', 5093), ('lagladi', 5094), ('joeldaw', 5095), ('orioni', 5096), ('wherev', 5097), ('consider', 5098), ('973', 5099), ('765', 5100), ('9050', 5101), ('ddlovato', 5102), ('dug', 5103), ('alochol', 5104), ('zann', 5105), ('jamjam', 5106), ('uxwjl0wuy2', 5107), ('fuckeddddd', 5108), ('assess', 5109), ('cornish', 5110), ('abil', 5111), ('ayanatheoracl', 5112), ('opposit', 5113), ('coupon', 5114), ('smallest', 5115), ('genius', 5116), ('tlbevnck99', 5117), ('buddha', 5118), ('moodcard', 5119), ('k5khydrkvj', 5120), ('salvat', 5121), ('id', 5122), ('checkup', 5123), ('virus', 5124), ('yearsof', 5125), ('liontedprid', 5126), ('bohl', 5127), ('euthanasia', 5128), ('belgium', 5129), ('euthan', 5130), ('w6ej1bv7i7', 5131), ('solitud', 5132), ('shizu', 5133), ('healer', 5134), ('pughug', 5135), ('transform', 5136), ('kayla', 5137), ('penni', 5138), ('nz', 5139), ('neurostar', 5140), ('gif', 5141), ('platypus', 5142), ('z5ed35eitb', 5143), ('analyz', 5144), ('user', 5145), ('reddit', 5146), ('awwww', 5147), ('irregular', 5148), ('proverb', 5149), ('farha', 5150), ('np', 5151), ('fog', 5152), ('irrat', 5153), ('terror', 5154), ('tortilla', 5155), ('olivia', 5156), ('lowensteinhous', 5157), ('coolbrainfact', 5158), ('wecar', 5159), ('wn9qhnld4e', 5160), ('tortur', 5161), ('lexapro', 5162), ('proplanolol', 5163), ('boredom', 5164), ('stsring', 5165), ('ambassador', 5166), ('inc', 5167), ('jahannam', 5168), ('fanwar', 5169), ('giasison', 5170), ('po', 5171), ('reallyyyyi', 5172), ('2c', 5173), ('target', 5174), ('donut', 5175), ('cooki', 5176), ('ptexp', 5177), ('hottest', 5178), ('ethiopia', 5179), ('danakil', 5180), ('environn', 5181), ('titan', 5182), ('nuclear', 5183), ('astrobiolog', 5184), ('tourism', 5185), ('owtrevn1vi', 5186), ('jeremi', 5187), ('nichola', 5188), ('objects2015', 5189), ('le', 5190), ('frida', 5191), ('34', 5192), ('thanx', 5193), ('ztfnnfmj3k', 5194), ('foxvertebra', 5195), ('senexhang', 5196), ('communic', 5197), ('riku', 5198), ('afloat', 5199), ('amychozick', 5200), ('miloventimiglia', 5201), ('looov', 5202), ('groan', 5203), ('criteria', 5204), ('justughughuuuughhhhhhhhhhhuuuuuuuughuuuuuuuuuuuuuuuuuuugh', 5205), ('afterward', 5206), ('grandpa', 5207), ('ps4', 5208), ('hack', 5209), ('yugioh', 5210), ('mmds', 5211), ('candlewick', 5212), ('candl', 5213), ('holder', 5214), ('imperi', 5215), ('peersupport', 5216), ('timestwo', 5217), ('meeteveri', 5218), ('prestonwhen', 5219), ('7th', 5220), ('oppos', 5221), ('forsur', 5222), ('cmts', 5223), ('bio', 5224), ('introvert', 5225), ('dash', 5226), ('extrovert', 5227), ('emapth', 5228), ('pmcmtwbryd', 5229), ('papa', 5230), ('lincoln', 5231), ('brass', 5232), ('watchin', 5233), ('9s7qgow7x7', 5234), ('pose', 5235), ('knowthesign', 5236), ('0beck', 5237), ('day36', 5238), ('365daysofselfcar', 5239), ('stresscontrol', 5240), ('stresscontrol1', 5241), ('iwishicoulddoiteveryday', 5242), ('somethingform', 5243), ('cvhistoryfest', 5244), ('upep0v9fwa', 5245), ('mute', 5246), ('p4', 5247), ('usyky6yxai', 5248), ('screed', 5249), ('spree', 5250), ('kxbw40vztd', 5251), ('scrumptious', 5252), ('amber', 5253), ('inertia', 5254), ('edit', 5255), ('2018goal', 5256), ('53lbs', 5257), ('cardio', 5258), ('bicep', 5259), ('somewhat', 5260), ('igotthi', 5261), ('knox', 5262), ('brb', 5263), ('shld', 5264), ('ham', 5265), ('tt7spj7qmg', 5266), ('borrow', 5267), ('georg', 5268), ('wage', 5269), ('conciqu', 5270), ('rom', 5271), ('furhermor', 5272), ('sucid', 5273), ('attackpeopl', 5274), ('itm', 5275), ('thispeopl', 5276), ('uit', 5277), ('bvrxuhwkp6', 5278), ('antagon', 5279), ('empathi', 5280), ('soak', 5281), ('redraw', 5282), ('altho', 5283), ('blogspot', 5284), ('placesin', 5285), ('plagu', 5286), ('canyon', 5287), ('tripl', 5288), ('threat', 5289), ('sunglass', 5290), ('thermomet', 5291), ('dietpatch', 5292), ('pjforguk', 5293), ('junkfood', 5294), ('heighten', 5295), ('whoot', 5296), ('heret', 5297), ('black2thbon', 5298), ('chrisvega25', 5299), ('kurtis4mari', 5300), ('waltmum', 5301), ('scaryhomeschool', 5302), ('dam7978', 5303), ('anishia420', 5304), ('nobot', 5305), ('ldlmead', 5306), ('rubinsr', 5307), ('passthesalti', 5308), ('newsjunkie60', 5309), ('twmentality1', 5310), ('kellmas06', 5311), ('lynnwolf', 5312), ('whythisfuckeri', 5313), ('rosethewolf', 5314), ('buffster76', 5315), ('bruce79038687', 5316), ('snobyrd', 5317), ('juliet', 5318), ('benoit', 5319), ('woofwoofblak', 5320), ('randallpink17', 5321), ('drkittykatz', 5322), ('meemawresist', 5323), ('feraltwin', 5324), ('lisalbarjas1', 5325), ('ajsgmajc', 5326), ('donnawithrow2', 5327), ('pissedoffwhtgrl', 5328), ('dgc9274', 5329), ('conservativesti', 5330), ('musiklpn', 5331), ('grumpycham', 5332), ('tomdurkin1', 5333), ('steve03343829', 5334), ('mmdesoer', 5335), ('pixmichell', 5336), ('crystaljon', 5337), ('nhojhpesoj', 5338), ('britin17k', 5339), ('kerrazycanuck', 5340), ('briztoljeff', 5341), ('domdalom', 5342), ('hollywooddebi', 5343), ('kokomothegreat', 5344), ('colin', 5345), ('macaulay', 5346), ('di', 5347), ('duncansalkeld', 5348), ('nottarchaeolog', 5349), ('garon', 5350), ('effexor', 5351), ('adamhoward2000', 5352), ('prolli', 5353), ('st2idyeig9', 5354), ('mf5hoygydz', 5355), ('les', 5356), ('owl', 5357), ('hmmm', 5358), ('hula', 5359), ('hoop', 5360), ('printabl', 5361), ('lgt3kjt7rp', 5362), ('grandma', 5363), ('showcas', 5364), ('birkbecknew', 5365), ('cdavalu', 5366), ('kris', 5367), ('disprov', 5368), ('28', 5369), ('chronicallysick', 5370), ('chronicpain', 5371), ('chronicil', 5372), ('justdon', 5373), ('justgiv', 5374), ('10000', 5375), ('ridicul', 5376), ('backstag', 5377), ('curropt', 5378), ('leader', 5379), ('arrest', 5380), ('shawol', 5381), ('onew', 5382), ('minho', 5383), ('taemin', 5384), ('durczpqonf', 5385), ('glitteri', 5386), ('wore', 5387), ('aft', 5388), ('establish', 5389), ('tumor', 5390), ('anticip', 5391), ('shuri', 5392), ('kevin', 5393), ('inherit', 5394), ('silentinherit', 5395), ('dnaday', 5396), ('4hjlzvzmgw', 5397), ('twitterindia', 5398), ('twittersupport', 5399), ('yourtimeform', 5400), ('janin', 5401), ('wednesdaythought', 5402), ('25april', 5403), ('demi', 5404), ('outdoor', 5405), ('postnataldepress', 5406), ('returningtowork', 5407), ('workingmum', 5408), ('rsrd8a0hrz', 5409), ('autumn', 5410), ('talkin', 5411), ('kpop', 5412), ('fcking', 5413), ('crimin', 5414), ('deficit', 5415), ('terrorist', 5416), ('dem', 5417), ('ami', 5418), ('jedi', 5419), ('coub', 5420), ('vx4ih11we9', 5421), ('sesebi', 5422), ('420weedin', 5423), ('commerci', 5424), ('pamper', 5425), ('soft', 5426), ('duncan', 5427), ('fame', 5428), ('goodby', 5429), ('hellooooo', 5430), ('ma1cvaq4q9', 5431), ('eustonchurch', 5432), ('daykeep', 5433), ('awayweh', 5434), ('hop', 5435), ('wrap', 5436), ('namjin', 5437), ('namjoon', 5438), ('centric', 5439), ('6k', 5440), ('tw', 5441), ('6fqddxe5bi', 5442), ('wqqk7iufti', 5443), ('smite', 5444), ('tn', 5445), ('forb', 5446), ('russian', 5447), ('japan', 5448), ('eachoth', 5449), ('will', 5450), ('donald', 5451), ('provigil', 5452), ('agit', 5453), ('confus', 5454), ('grip', 5455), ('besito', 5456), ('underpin', 5457), ('modul', 5458), ('gsk', 5459), ('catenin', 5460), ('rat', 5461), ('oooooh', 5462), ('cohes', 5463), ('aspir', 5464), ('amplifi', 5465), ('rumin', 5466), ('f4qde3lvs4', 5467), ('sexier', 5468), ('dflaobzctg', 5469), ('genechat', 5470), ('mdd1', 5471), ('mdd2', 5472), ('ns', 5473), ('kms', 5474), ('moder', 5475), ('gm', 5476), ('wrangl', 5477), ('codepend', 5478), ('3qtnmheyhn', 5479), ('wyitollxqi', 5480), ('metal', 5481), ('blurtalert', 5482), ('selfcar', 5483), ('smarter', 5484), ('recollect', 5485), ('span', 5486), ('sensit', 5487), ('courag', 5488), ('uhhh', 5489), ('advanc', 5490), ('irl', 5491), ('milleni', 5492), ('cambridgecor', 5493), ('sr7dwurdo4', 5494), ('empathet', 5495), ('misconstru', 5496), ('iapt', 5497), ('skinsupport', 5498), ('metrouk', 5499), ('shscft', 5500), ('healthyskin4al', 5501), ('adkinsk', 5502), ('sheffieldpsi', 5503), ('corin', 5504), ('ebnjc', 5505), ('appropri', 5506), ('rigour', 5507), ('runto', 5508), ('niall', 5509), ('davidhogg111', 5510), ('tofailsnoopt', 5511), ('hoggster', 5512), ('78jota4fnp', 5513), ('ruskin', 5514), ('jus', 5515), ('ajbrzski', 5516), ('angrierthanmost', 5517), ('iq', 5518), ('superb', 5519), ('stolen', 5520), ('atticren', 5521), ('ireland', 5522), ('code', 5523), ('lovelif', 5524), ('sokor', 5525), ('intellect', 5526), ('druggi', 5527), ('mess', 5528), ('18yr', 5529), ('ordin', 5530), ('eupd', 5531), ('serial', 5532), ('luke5so', 5533), ('geographi', 5534), ('swap', 5535), ('hpv', 5536), ('tupelo', 5537), ('demo', 5538), ('rsd', 5539), ('oz6nlwok4x', 5540), ('tremenheer', 5541), ('kylekashuv', 5542), ('snowflak', 5543), ('wwii', 5544), ('ypbltfqyg', 5545), ('gainer', 5546), ('basi', 5547), ('confront', 5548), ('havign', 5549), ('herstori', 5550), ('stressin', 5551), ('blah', 5552), ('7up', 5553), ('lithium', 5554), ('stabil', 5555), ('spous', 5556), ('monkey', 5557), ('onslaught', 5558), ('creek', 5559), ('publix', 5560), ('francisco', 5561), ('grey', 5562), ('reshap', 5563), ('emphasi', 5564), ('allay', 5565), ('malais', 5566), ('quartz', 5567), ('humpday', 5568), ('anytim', 5569), ('jbdhlxyogi', 5570), ('dani', 5571), ('lcg9pg0uua', 5572), ('13cwwchdsc', 5573), ('hipp', 5574), ('1am', 5575), ('hoffman', 5576), ('lamanna', 5577), ('rlcsw', 5578), ('psychotherapist', 5579), ('hqicyy7mpc', 5580), ('slope', 5581), ('rosen', 5582), ('jailer', 5583), ('zoologymuseum', 5584), ('socltweet', 5585), ('d2o1ebun7g', 5586), ('mentor', 5587), ('p17nyfizxk', 5588), ('examseason', 5589), ('ayi', 5590), ('superduperkyl', 5591), ('medal', 5592), ('creativedebut', 5593), ('shoreditchhyp', 5594), ('de3m1xyuq4', 5595), ('genom', 5596), ('phenotyp', 5597), ('biobank', 5598), ('variant', 5599), ('excitatori', 5600), ('synapt', 5601), ('apr', 5602), ('enrich', 5603), ('sleepdepriv', 5604), ('heartdiseas', 5605), ('f6q3d1mq5l', 5606), ('palai', 5607), ('dans', 5608), ('witch', 5609), ('undo', 5610), ('oof', 5611), ('pathet', 5612), ('tsm', 5613), ('goya', 5614), ('fest', 5615), ('okeechobe', 5616), ('temporarili', 5617), ('poster', 5618), ('premenstru', 5619), ('syndrometh', 5620), ('pms', 5621), ('londoncraftweek', 5622), ('bonus', 5623), ('instruct', 5624), ('jkf4qga4hw', 5625), ('il', 5626), ('glennligon', 5627), ('xo', 5628), ('invalid', 5629), ('fantasi', 5630), ('gotten', 5631), ('britainsfatfight', 5632), ('wrt', 5633), ('asap', 5634), ('ffslukaaku', 5635), ('sharon', 5636), ('fc', 5637), ('snxpakbpwm', 5638), ('triumph', 5639), ('bam', 5640), ('pmea', 5641), ('legitim', 5642), ('scroll', 5643), ('raunchi', 5644), ('crave', 5645), ('xpress', 5646), ('bril', 5647), ('perri', 5648), ('darn', 5649), ('depressioni', 5650), ('amput', 5651), ('spine', 5652), ('kin', 5653), ('pandora', 5654), ('chime', 5655), ('149', 5656), ('tsuruda', 5657), ('legendsneverdi', 5658), ('wyd', 5659), ('angel', 5660), ('consecut', 5661), ('tpgalleri', 5662), ('royalacademi', 5663), ('volleybal', 5664), ('uajthvozex', 5665), ('retrospect', 5666), ('fluoxetin', 5667), ('etvpod', 5668), ('thoughtspctrum', 5669), ('expos', 5670), ('unnecessari', 5671), ('nuanc', 5672), ('convey', 5673), ('adweek', 5674), ('a6yvb33h2i', 5675), ('unattract', 5676), ('welp', 5677), ('puke', 5678), ('chemist', 5679), ('nonsens', 5680), ('baileyc333', 5681), ('deadliest', 5682), ('mmmmmm', 5683), ('jewelri', 5684), ('catseri', 5685), ('unintent', 5686), ('eval', 5687), ('depressionf', 5688), ('chief', 5689), ('flip', 5690), ('confid', 5691), ('gpa', 5692), ('800bn', 5693), ('cwvifkqdub', 5694), ('incl', 5695), ('deplet', 5696), ('heath', 5697), ('bruin', 5698), ('piti', 5699), ('worthi', 5700), ('glamor', 5701), ('drawn', 5702), ('myselfm', 5703), ('haphazard', 5704), ('shove', 5705), ('drawer', 5706), ('tis', 5707), ('bump', 5708), ('incap', 5709), ('daluckym', 5710), ('subsid', 5711), ('bojack', 5712), ('horseman', 5713), ('pant', 5714), ('inappropri', 5715), ('oop', 5716), ('cantwait', 5717), ('leftov', 5718), ('spooker', 5719), ('bisexu', 5720), ('genesi', 5721), ('ounvazorh', 5722), ('puppi', 5723), ('koto', 5724), ('crack', 5725), ('bacon', 5726), ('reagan', 5727), ('au', 5728), ('marbella', 5729), ('emosh', 5730), ('kilwa', 5731), ('sherd', 5732), ('historyoftheworldin100object', 5733), ('eek', 5734), ('stilll', 5735), ('dawg', 5736), ('3min', 5737), ('accommod', 5738), ('galor', 5739), ('rhyme', 5740), ('miked2345', 5741), ('aldridtl', 5742), ('ovama', 5743), ('miriam', 5744), ('disput', 5745), ('shar', 5746), ('yjech', 5747), ('thei', 5748), ('stell', 5749), ('deazi', 5750), ('templat', 5751), ('plurk', 5752), ('gue', 5753), ('yg', 5754), ('skrg', 5755), ('gimana', 5756), ('skate', 5757), ('meto', 5758), ('mindwon', 5759), ('stopworri', 5760), ('depressioncrept', 5761), ('disinterestedto', 5762), ('confusedand', 5763), ('tiredlik', 5764), ('restless', 5765), ('skythat', 5766), ('keepschang', 5767), ('inkmin', 5768), ('northcamacademi', 5769), ('fourth', 5770), ('iw', 5771), ('seanjohn', 5772), ('martin', 5773), ('martinslewi', 5774), ('mmhpi', 5775), ('creditor', 5776), ('hospitalis', 5777), ('sansovinofram', 5778), ('bpdchat', 5779), ('mentalillnessmisconcept', 5780), ('pete', 5781), ('dud', 5782), ('hoot', 5783), ('sophia', 5784), ('babyyyyi', 5785), ('planet', 5786), ('revel', 5787), ('histchild', 5788), ('twitterstorian', 5789), ('pros', 5790), ('chemistri', 5791), ('southbank', 5792), ('nataliecarter80', 5793), ('theyr', 5794), ('3dprint', 5795), ('piero', 5796), ('della', 5797), ('francesca', 5798), ('ook', 5799), ('jodypatrickjoy', 5800), ('sergeant', 5801), ('flick', 5802), ('beetch', 5803), ('studio44ad', 5804), ('fringeartsbath', 5805), ('creativebath', 5806), ('bathn', 5807), ('minichocol', 5808), ('liquor', 5809), ('liqour', 5810), ('camcitco', 5811), ('dnt', 5812), ('anak', 5813), ('shldnt', 5814), ('ito', 5815), ('tranc', 5816), ('redbul', 5817), ('asot400', 5818), ('shi', 5819), ('redund', 5820), ('charliz', 5821), ('theron', 5822), ('europa', 5823), ('abduct', 5824), ('bull', 5825), ('zeus', 5826), ('risotto', 5827), ('croissant', 5828), ('eavesdrop', 5829), ('pathogenesi', 5830), ('peripher', 5831), ('neuropath', 5832), ('parkinson', 5833), ('sclerosi', 5834), ('motor', 5835), ('ischemia', 5836), ('stroll', 5837), ('brit', 5838), ('laaa', 5839), ('millan', 5840), ('cesarmillan', 5841), ('ollow', 5842), ('ednacz', 5843), ('swellybutton', 5844), ('rhus', 5845), ('juici', 5846), ('pluto', 5847), ('y7', 5848), ('ss', 5849), ('historicalarchaeolog', 5850), ('henri', 5851), ('inm', 5852), ('hump', 5853), ('gheez', 5854), ('thumper', 5855), ('dcmuseum', 5856), ('incompetech', 5857), ('artpreneur', 5858), ('agora', 5859), ('cuti', 5860), ('blup', 5861), ('sighhh', 5862), ('23rd', 5863), ('pwa', 5864), ('positiveacademi', 5865), ('cow', 5866), ('grasland', 5867), ('wkend', 5868), ('nationalkissingday', 5869), ('smooch', 5870), ('v4v', 5871), ('hajim', 5872), ('hinata', 5873), ('ph', 5874), ('nom', 5875), ('nal', 5876), ('depressionnot', 5877), ('unityvill', 5878), ('gramma', 5879), ('depressioninsg', 5880), ('recoveringfromdepress', 5881), ('depresseddavecom', 5882), ('depdavecom', 5883), ('jpltyoyzeu', 5884), ('lovesss', 5885), ('geeche', 5886), ('tempeh', 5887), ('rblpn', 5888), ('kaaeyl', 5889), ('iloveyou', 5890), ('museumgeek', 5891), ('recharg', 5892), ('4rm', 5893), ('girlllll', 5894), ('wreak', 5895), ('havoc', 5896), ('madald', 5897), ('mga', 5898), ('ganon', 5899), ('brighter', 5900), ('eya', 5901), ('tca', 5902), ('gbu', 5903), ('elliewoo', 5904), ('annnd', 5905), ('goooooodnight', 5906), ('blogout09', 5907), ('drinki', 5908), ('dranki', 5909), ('kaskad', 5910), ('gnight', 5911), ('suckahz', 5912), ('worki', 5913), ('nt', 5914), ('eloqu', 5915), ('bueno', 5916), ('mindontleavem', 5917), ('shoestr', 5918), ('unimpress', 5919), ('palmyr', 5920), ('godlik', 5921), ('moral', 5922), ('yesssssssss', 5923), ('uwwtus1kv4', 5924), ('proudest', 5925), ('cherrylolita', 5926), ('22nd', 5927), ('20th', 5928), ('davidsandum', 5929), ('portraitur', 5930), ('horn', 5931), ('7am', 5932), ('bar', 5933), ('toutluniv', 5934), ('throug', 5935), ('4ward', 5936), ('mikael', 5937), ('kibbo', 5938), ('kift', 5939), ('kindr', 5940), ('oct', 5941), ('h0me', 5942), ('lsad', 5943), ('clare', 5944), ('limerick', 5945), ('6pm', 5946), ('nytynyt', 5947), ('anywho', 5948), ('followthisguid', 5949), ('loooong', 5950), ('chug', 5951), ('iiiiit', 5952), ('lifter', 5953), ('strengththerapi', 5954), ('tlkg', 5955), ('carehomeopenday', 5956), ('sicken', 5957), ('ronalda', 5958), ('purifi', 5959), ('greatestcapit', 5960), ('snatch', 5961), ('fxw7ygnmwi', 5962), ('sharp', 5963), ('unfair', 5964), ('nityanandam', 5965), ('shree', 5966), ('fuuuucckedd', 5967), ('hjdjjsiurjhjfhoipwplkjdhjdhhjhjdxdhueuhrjjjjjaaayyyyyyyyyyyi', 5968), ('heymondayonlin', 5969), ('bri', 5970), ('iht', 5971), ('pnaayshorddi', 5972), ('roflmao', 5973), ('hartsonforca', 5974), ('howdyhord', 5975), ('gild', 5976), ('wealth', 5977), ('pie', 5978), ('unfett', 5979), ('unregul', 5980), ('dnc', 5981), ('steakandhonour', 5982), ('newark', 5983), ('rayray', 5984), ('saythat', 5985), ('316', 5986), ('r20ajg01mf', 5987), ('mazemb', 5988), ('ddgs', 5989), ('dsps', 5990), ('pillow', 5991), ('jello', 5992), ('mud', 5993), ('emmet', 5994), ('net', 5995), ('visionari', 5996), ('clarkson', 5997), ('vielen', 5998), ('thirsti', 5999), ('187', 6000), ('ideolog', 6001), ('mire', 6002), ('audac', 6003), ('obstruct', 6004), ('administr', 6005), ('morningjo', 6006), ('evan', 6007), ('homosexu', 6008), ('ametur', 6009), ('ybgczbur7z', 6010), ('fwafa', 6011), ('fieldssoci', 6012), ('anxietytens', 6013), ('disposit', 6014), ('everlast', 6015), ('depressionmajor', 6016), ('leagu', 6017), ('bond', 6018), ('m0ment', 6019), ('kahapon', 6020), ('rightward', 6021), ('qggbqpzumr', 6022), ('m8', 6023), ('exh', 6024), ('tonn', 6025), ('macg', 6026), ('faeri', 6027), ('diario', 6028), ('profecaro', 6029), ('digitaltext', 6030), ('portalgeekep', 6031), ('curtisdroppelman', 6032), ('goliv', 6033), ('culmin', 6034), ('sf', 6035), ('equival', 6036), ('kuiperbell', 6037), ('torn', 6038), ('afinefrenzi', 6039), ('tfln', 6040), ('mkald', 6041), ('virgin', 6042), ('fray', 6043), ('70', 6044), ('67', 6045), ('kgs', 6046), ('crossroad', 6047), ('braid', 6048), ('aura', 6049), ('hyper', 6050), ('fixat', 6051), ('janell', 6052), ('bodili', 6053), ('fledg', 6054), ('jab', 6055), ('bohat', 6056), ('ziada', 6057), ('honay', 6058), ('liay', 6059), ('karna', 6060), ('chaiay', 6061), ('hotweath', 6062), ('datsun', 6063), ('280zx', 6064), ('circa', 6065), ('1979', 6066), ('grantsimonrog', 6067), ('dailyguidedtour', 6068), ('tequila', 6069), ('choya', 6070), ('brut', 6071), ('splendid', 6072), ('storifi', 6073), ('notesonprotest', 6074), ('syo', 6075), ('kurusu', 6076), ('computermuseum', 6077), ('videogam', 6078), ('deconstruct', 6079), ('demystifi', 6080), ('laura', 6081), ('int', 6082), ('univeres', 6083), ('ion', 6084), ('reconnect', 6085), ('exma', 6086), ('museelouvr', 6087), ('louvrepourt', 6088), ('museecarnavalet', 6089), ('torna', 6090), ('museumweek', 6091), ('ratatosk4', 6092), ('museumhour', 6093), ('armillari', 6094), ('sphere', 6095), ('17thc', 6096), ('worn', 6097), ('5min', 6098), ('ketaki', 6099), ('sheth', 6100), ('sidi', 6101), ('tomvmorri', 6102), ('producergirl', 6103), ('segment', 6104), ('ml42', 6105), ('foyl', 6106), ('foppcov', 6107), ('dishoom', 6108), ('curzonbburi', 6109), ('1851', 6110), ('sociabl', 6111), ('ryan', 6112), ('2night', 6113), ('spectacl', 6114), ('otown', 6115), ('bribearxoxo', 6116), ('itt', 6117), ('santa', 6118), ('monica', 6119), ('pier', 6120), ('glitter', 6121), ('carv', 6122), ('istrugglewith', 6123), ('depressionsuck', 6124), ('strongertogeth', 6125), ('speakout', 6126), ('depressedbutnotdef', 6127), ('hog', 6128), ('whew', 6129), ('homepag', 6130), ('guard', 6131), ('swmh', 6132), ('ioppn', 6133), ('bunni', 6134), ('carrot', 6135), ('martial', 6136), ('pugilist', 6137), ('syndrom', 6138), ('medusa', 6139), ('thxsoooomuch', 6140), ('tweetdom', 6141), ('goi', 6142), ('reedbox', 6143), ('movii', 6144), ('aaaand', 6145), ('ken', 6146), ('guar', 6147), ('aux', 6148), ('byl', 6149), ('jamspher', 6150), ('kenrosatoabc7', 6151), ('sustain', 6152), ('partnership', 6153), ('agefriendlymuseum', 6154), ('rehang', 6155), ('assist', 6156), ('taker', 6157), ('euh', 6158), ('diego', 6159), ('matthia', 6160), ('stom', 6161), ('diner', 6162), ('ahahaha', 6163), ('generalis', 6164), ('playin', 6165), ('kickbal', 6166), ('tournament', 6167), ('oooh', 6168), ('25mg', 6169), ('v7lyhtoq4u', 6170), ('moreso', 6171), ('vibe', 6172), ('mysha', 6173), ('myreen', 6174), ('length', 6175), ('franco', 6176), ('strawberri', 6177), ('radiant', 6178), ('guideguardian', 6179), ('needwithin', 6180), ('youarenotalon', 6181), ('acl7zpbbwf', 6182), ('110', 6183), ('indiaforum', 6184), ('ferrari', 6185), ('goodnyt', 6186), ('trekki', 6187), ('lmbo', 6188), ('bedwyrwilliam', 6189), ('flamin', 6190), ('larissa', 6191), ('sansour', 6192), ('beatric', 6193), ('gibson', 6194), ('noli', 6195), ('tangerin', 6196), ('theartistspres', 6197), ('krisi', 6198), ('kreme', 6199), ('necessarili', 6200), ('davidsmithart', 6201), ('southwest', 6202), ('besid', 6203), ('gawsh', 6204), ('nalin', 6205), ('demonstr', 6206), ('lulu', 6207), ('irregularcircl', 6208), ('tito', 6209), ('logo', 6210), ('imm', 6211), ('l8terz', 6212), ('rorieboreali', 6213), ('twink', 6214), ('bs', 6215), ('brake', 6216), ('adm', 6217), ('gwb', 6218), ('demolish', 6219), ('realnew', 6220), ('aid', 6221), ('zzzzzzzzzzzzzzzzzzzzzzzzzzzzzzzzzzz', 6222), ('delong', 6223), ('vc9nmx376b', 6224), ('heycassade', 6225), ('twitterroo', 6226), ('selenagomez', 6227), ('burst', 6228), ('unclear', 6229), ('cheap', 6230), ('endlonelinessuk', 6231), ('libbypagewrit', 6232), ('erad', 6233), ('agenc', 6234), ('newdesign', 6235), ('wallacemuseum', 6236), ('obligatori', 6237), ('plymlibrari', 6238), ('cece', 6239), ('fifi', 6240), ('beau', 6241), ('popup', 6242), ('sticki', 6243), ('toffe', 6244), ('thks', 6245), ('renov', 6246), ('wellcom', 6247), ('distinct', 6248), ('tall', 6249), ('chines', 6250), ('chineselearn', 6251), ('whistlejacket', 6252), ('1997', 6253), ('immens', 6254), ('crowd', 6255), ('driven', 6256), ('smedian', 6257), ('creditcard', 6258), ('roxanna', 6259), ('officialswick', 6260), ('nerd', 6261), ('vein', 6262), ('ghost', 6263), ('liya', 6264), ('nik', 6265), ('grumbl', 6266), ('farther', 6267), ('ahhhhhh', 6268), ('beyonc', 6269), ('limb', 6270), ('heroin', 6271), ('muddi', 6272), ('shite', 6273), ('chipotl', 6274), ('sneakpeek', 6275), ('knw', 6276), ('remblanc', 6277), ('herbo', 6278), ('clarin', 6279), ('foundat', 6280), ('ne', 6281), ('norf', 6282), ('exil', 6283), ('hkm67dbys0', 6284), ('simonripley', 6285), ('yaaaaay', 6286), ('sorcer', 6287), ('pwn', 6288), ('jog', 6289), ('washington', 6290), ('tacoma', 6291), ('l0l', 6292), ('ditch', 6293), ('xddd', 6294), ('pace', 6295), ('liseberg', 6296), ('helio', 6297), ('castellani', 6298), ('1860s', 6299), ('sarahdawnscott', 6300), ('qtr', 6301), ('usa', 6302), ('impressionist', 6303), ('louiejameskeen', 6304), ('happysuday', 6305), ('1000', 6306), ('har', 6307), ('varit', 6308), ('montana', 6309), ('pinkberri', 6310), ('dev', 6311), ('beij', 6312), ('poker', 6313), ('lalala', 6314), ('paul', 6315), ('watt', 6316), ('j6gkrdhsxe', 6317), ('hilllllll', 6318), ('delay', 6319), ('moonbootica', 6320), ('32', 6321), ('littlest', 6322), ('houseguest', 6323), ('evolut', 6324), ('yeg', 6325), ('yvr', 6326), ('boiler', 6327), ('stivesbreweri', 6328), ('devot', 6329), ('voluntarili', 6330), ('speysid', 6331), ('highland', 6332), ('malt', 6333), ('cragganmor', 6334), ('oban', 6335), ('kurdishwhitebean', 6336), ('sadkatelyn', 6337), ('sooooooo', 6338), ('gilmor', 6339), ('jacquelin', 6340), ('bustl', 6341), ('amz', 6342), ('oatmeal', 6343), ('bloom', 6344), ('wisteria', 6345), ('betti', 6346), ('gang', 6347), ('cod', 6348), ('armor', 6349), ('showerrr', 6350), ('unpack', 6351), ('cactus', 6352), ('v4', 6353), ('threw', 6354), ('daigl', 6355), ('c6jssmcffx', 6356), ('salut', 6357), ('unistudio', 6358), ('baltimoresun', 6359), ('statcan', 6360), ('eng', 6361), ('defjamrecord', 6362), ('onlyinliverpool', 6363), ('bud', 6364), ('clariti', 6365), ('tangl', 6366), ('verg', 6367), ('persist', 6368), ('ynzcr2rguv', 6369), ('uccello', 6370), ('romano', 6371), ('gall', 6372), ('haii', 6373), ('ooc', 6374), ('huy', 6375), ('matulog', 6376), ('ka', 6377), ('cbroom', 6378), ('afneil', 6379), ('contemporari', 6380), ('chr1sm1chael', 6381), ('oliv', 6382), ('cheri', 6383), ('madd', 6384), ('apaam18', 6385), ('mhiz', 6386), ('newyork', 6387), ('lcsw', 6388), ('psychotherapi', 6389), ('e6awk2ewcv', 6390), ('regal', 6391), ('hal', 6392), ('throat', 6393), ('halaloya', 6394), ('bagel', 6395), ('memphi', 6396), ('roomi', 6397), ('possess', 6398), ('daze', 6399), ('espresso', 6400), ('bb', 6401), ('soda', 6402), ('ogeduc', 6403), ('camdentalk', 6404), ('electroconvuls', 6405), ('miracl', 6406), ('sufeamono', 6407), ('circuitphf', 6408), ('circuit2015', 6409), ('tatecollect', 6410), ('ngocdupont', 6411), ('transcript', 6412), ('urg', 6413), ('sheer', 6414), ('krakow', 6415), ('320changedirect', 6416), ('linkinpark', 6417), ('swir', 6418), ('denial2', 6419), ('anger3', 6420), ('depression5', 6421), ('acceptancei', 6422), ('avengersinfinitywar', 6423), ('bcuz', 6424), ('regimen', 6425), ('hepworthgalleri', 6426), ('tptgener', 6427), ('w2d', 6428), ('lowpass', 6429), ('pizzicato', 6430), ('bbrfoundat', 6431), ('esljdighjf', 6432), ('ohhhh', 6433), ('orlando', 6434), ('loveeee', 6435), ('laast', 6436), ('explorewellcom', 6437), ('ashmoleanmuseum', 6438), ('bassetlawmuseum', 6439), ('poolemuseum', 6440), ('chi', 6441), ('nay', 6442), ('tr', 6443), ('hem', 6444), ('xglw9pkxgl', 6445), ('sci', 6446), ('fi', 6447), ('nh', 6448), ('cqs', 6449), ('daab', 6450), ('v2', 6451), ('prezzi', 6452), ('lara', 6453), ('selfportrait', 6454), ('polyvoringg', 6455), ('heyhey', 6456), ('yha', 6457), ('tweetlat', 6458), ('strip', 6459), ('represent', 6460), ('floridian', 6461), ('exqusit', 6462), ('saigon', 6463), ('hanoi', 6464), ('dd', 6465), ('dh', 6466), ('spesh', 6467), ('lxeyrwlmlv', 6468), ('smallvill', 6469), ('trivia', 6470), ('yesssssssssss', 6471), ('melt', 6472), ('scissorhand', 6473), ('girllll', 6474), ('zzz', 6475), ('insuffici', 6476), ('heatonsarttrail', 6477), ('alyssa', 6478), ('enriqu', 6479), ('iglesia', 6480), ('woooaw', 6481), ('coool', 6482), ('atlanit', 6483), ('hobojebus', 6484), ('socialist', 6485), ('dust', 6486), ('slaughter', 6487), ('starvat', 6488), ('vape', 6489), ('sativa', 6490), ('jacob', 6491), ('theresa', 6492), ('ukhomeopathyreg', 6493), ('wire', 6494), ('prolong', 6495), ('resembl', 6496), ('homeopathi', 6497), ('khlo', 6498), ('seal', 6499), ('orb', 6500), ('tristram', 6501), ('pride2015', 6502), ('prideinlondon', 6503), ('masculin', 6504), ('variat', 6505), ('eiffel', 6506), ('tower', 6507), ('compromis', 6508), ('muster', 6509), ('kfjcajk2g6', 6510), ('ear', 6511), ('goodmenproject', 6512), ('doria', 6513), ('tichit', 6514), ('bagrifound', 6515), ('facin', 6516), ('hafto', 6517), ('capcom', 6518), ('necessari', 6519), ('zangief', 6520), ('bulk', 6521), ('fighter', 6522), ('daddi', 6523), ('kidscrazi', 6524), ('rockin', 6525), ('marley', 6526), ('pcjbfan', 6527), ('seein', 6528), ('tampa', 6529), ('kewgarden', 6530), ('vase', 6531), ('socrat', 6532), ('voyeur', 6533), ('abroaaaaad', 6534), ('tomrow', 6535), ('dubaiiii', 6536), ('prodigi', 6537), ('elis', 6538), ('thas', 6539), ('wassup', 6540), ('command', 6541), ('itsnicethat', 6542), ('nottobemiss', 6543), ('milpita', 6544), ('threeter', 6545), ('courtauldsummerparti', 6546), ('courtauld', 6547), ('letthegoodtimesrol', 6548), ('flyladi', 6549), ('unnot', 6550), ('unappreci', 6551), ('nana', 6552), ('laterr', 6553), ('probli', 6554), ('seak', 6555), ('headgames66', 6556), ('facet', 6557), ('gete', 6558), ('charl', 6559), ('xii', 6560), ('dentur', 6561), ('3n', 6562), ('r33nhins8x', 6563), ('script', 6564), ('irk', 6565), ('bartend', 6566), ('maria', 6567), ('lj', 6568), ('ziyatong', 6569), ('china', 6570), ('coal', 6571), ('kanga', 6572), ('bhodichaya', 6573), ('propens', 6574), ('liv', 6575), ('mommaa', 6576), ('vh1', 6577), ('twlight', 6578), ('comentari', 6579), ('rave', 6580), ('dirai', 6581), ('premier', 6582), ('9th', 6583), ('mp3s', 6584), ('museum140', 6585), ('cacl', 6586), ('hamthrax', 6587), ('tourney', 6588), ('melli', 6589), ('lovecamb', 6590), ('ny', 6591), ('erezshek', 6592), ('powerslave1974', 6593), ('7bnijlwgga', 6594), ('tought', 6595), ('adamsilvera', 6596), ('cmo', 6597), ('dreviangordon', 6598), ('concret', 6599), ('mentalwel', 6600), ('brainhealth', 6601), ('mindmatt', 6602), ('whatyoudontse', 6603), ('amyzellm', 6604), ('gaudierbrzeska', 6605), ('oo', 6606), ('fairi', 6607), ('cookout', 6608), ('08', 6609), ('showtek', 6610), ('xxxtentact', 6611), ('sponsor', 6612), ('bailliegifford', 6613), ('northpoint', 6614), ('c3g', 6615), ('crabappl', 6616), ('tornado', 6617), ('wick', 6618), ('weho', 6619), ('presssec', 6620), ('baramundi', 6621), ('olympiaantiqu', 6622), ('clive', 6623), ('loveless', 6624), ('liverbuild', 6625), ('ohkay', 6626), ('obbess', 6627), ('handshak', 6628), ('sux', 6629), ('unmention', 6630), ('navig', 6631), ('z0uma4rrpc', 6632), ('inquiri', 6633), ('maccabe', 6634), ('endorphin', 6635), ('permiss', 6636), ('misread', 6637), ('5ugzrjj8zh', 6638), ('iqxvvdbh0j', 6639), ('usg', 6640), ('accout', 6641), ('givethemback', 6642), ('elginmarbl', 6643), ('happpppppi', 6644), ('camilll', 6645), ('forealz', 6646), ('carol', 6647), ('vatti', 6648), ('purg', 6649), ('yonishtrash', 6650), ('hicer', 6651), ('bobbarclay', 6652), ('snookie007', 6653), ('amiti', 6654), ('uscrudeoil', 6655), ('blackburn', 6656), ('wathcin', 6657), ('wrestl', 6658), ('theanin', 6659), ('yorrlwkkuz', 6660), ('makeawish', 6661), ('monk', 6662), ('thebluecoat', 6663), ('antoni', 6664), ('gormley', 6665), ('sacc', 6666), ('930', 6667), ('lindsey', 6668), ('hardcor', 6669), ('selfcarea', 6670), ('duvet', 6671), ('compassion', 6672), ('itsoknottobeok', 6673), ('3tuas1jb5g', 6674), ('fatter', 6675), ('enforc', 6676), ('postur', 6677), ('fg5rlnggrb', 6678), ('wellnessblog', 6679), ('vkuntfktb', 6680), ('fresno', 6681), ('swoon', 6682), ('barberini', 6683), ('faun', 6684), ('riasarantaridou', 6685), ('ar', 6686), ('outing', 6687), ('scale', 6688), ('gsp', 6689), ('atl', 6690), ('florenc', 6691), ('refurb', 6692), ('malta', 6693), ('venu', 6694), ('shakespeareantc', 6695), ('loveart', 6696), ('updatee', 6697), ('wing', 6698), ('brudder', 6699), ('worldhad', 6700), ('ultra', 6701), ('circul', 6702), ('30pm', 6703), ('mayday', 6704), ('vivstylz', 6705), ('gerryma', 6706), ('178', 6707), ('ohhh', 6708), ('brogan', 6709), ('vlbiz', 6710), ('visitliverpool', 6711), ('liverpoollep', 6712), ('bisnorthwest', 6713), ('microcontrol', 6714), ('xam', 6715), ('shctravel', 6716), ('espectacular', 6717), ('sunbeam', 6718), ('mooi', 6719), ('hadrian', 6720), ('nothingg', 6721), ('gad', 6722), ('saidin', 6723), ('saidar', 6724), ('ownership', 6725), ('aacura', 6726), ('clip', 6727), ('bernard', 6728), ('berenson', 6729), ('disparag', 6730), ('rediscov', 6731), ('precolumbian', 6732), ('jago', 6733), ('inca', 6734), ('enrout', 6735), ('nighttrain', 6736), ('artistnetwork', 6737), ('dumbass', 6738), ('airhorn', 6739), ('gnna', 6740), ('nct', 6741), ('wonwoo', 6742), ('ferrero', 6743), ('rocher', 6744), ('jash', 6745), ('cheerdanc', 6746), ('allan', 6747), ('ivanalepojev', 6748), ('chilli', 6749), ('celiac', 6750), ('gi', 6751), ('communityarcha', 6752), ('pybossa', 6753), ('chancock', 6754), ('joshuathogu', 6755), ('shopkeep', 6756), ('luc', 6757), ('barca', 6758), ('villarr', 6759), ('lovee', 6760), ('sb', 6761), ('februari', 6762), ('bmp', 6763), ('jpeg', 6764), ('depressiongood', 6765), ('declar', 6766), ('partayyyi', 6767), ('cibernetica', 6768), ('aser', 6769), ('prieteni', 6770), ('proiect', 6771), ('greutati', 6772), ('reusit', 6773), ('colorblind', 6774), ('carb', 6775), ('bugl', 6776), ('hearti', 6777), ('missssssssss', 6778), ('alexmonro', 6779), ('cambscen', 6780), ('bruce', 6781), ('okeydok', 6782), ('doki', 6783), ('hokey', 6784), ('okey', 6785), ('okledockl', 6786), ('slang', 6787), ('oklahoman', 6788), ('dalesi', 6789), ('artmarket', 6790), ('sweeni', 6791), ('deadset', 6792), ('meghanmf', 6793), ('jobrich', 6794), ('dameunit', 6795), ('avmast', 6796), ('aherman2006', 6797), ('curatorsarah', 6798), ('martina', 6799), ('reba', 6800), ('peek', 6801), ('cuddi', 6802), ('streeton', 6803), ('1889', 6804), ('cigar', 6805), ('artgalleryofnsw', 6806), ('joselechiguero', 6807), ('rara', 6808), ('benn', 6809), ('fret', 6810), ('antimuseum', 6811), ('archivist', 6812), ('explorearch', 6813), ('sideway', 6814), ('browser', 6815), ('kisha', 6816), ('cnt', 6817), ('frm', 6818), ('vangogh', 6819), ('bottecelli', 6820), ('diggg', 6821), ('bicycl', 6822), ('biiiik', 6823), ('3ft', 6824), ('supper', 6825), ('petosin', 6826), ('wheelbarrow', 6827), ('affair', 6828), ('southwestern', 6829), ('outfit', 6830), ('hobbi', 6831), ('lipstick', 6832), ('hairgild', 6833), ('wherea', 6834), ('cindi', 6835), ('perinsarosh', 6836), ('camden', 6837), ('meltdown', 6838), ('snore', 6839), ('couch', 6840), ('rulz', 6841), ('uof', 6842), ('ofc', 6843), ('k8', 6844), ('yahoo', 6845), ('2006', 6846), ('veg', 6847), ('crusti', 6848), ('mileeey', 6849), ('pretend', 6850), ('smother', 6851), ('18e0c9dycr', 6852), ('artisteboy', 6853), ('sum', 6854), ('dilemma', 6855), ('strauss', 6856), ('victoria', 6857), ('oxford', 6858), ('lana', 6859), ('yayyyi', 6860), ('fenc', 6861), ('geopolit', 6862), ('robertalai', 6863), ('lustborn', 6864), ('kenya', 6865), ('sweetpea', 6866), ('rejuvin', 6867), ('coppermillpoet', 6868), ('curios', 6869), ('hc', 6870), ('collector', 6871), ('againn', 6872), ('gooddd', 6873), ('shameless', 6874), ('plug', 6875), ('ranger', 6876), ('infront', 6877), ('drum', 6878), ('bahaha', 6879), ('ilyc', 6880), ('viva', 6881), ('vida', 6882), ('coldplay', 6883), ('wooo', 6884), ('waight', 6885), ('albam', 6886), ('yqyng3wtiz', 6887), ('justttt', 6888), ('styl', 6889), ('dour', 6890), ('24hrs', 6891), ('alltop', 6892), ('bbctwo', 6893), ('tape', 6894), ('jeje', 6895), ('hahahaha', 6896), ('luhhh', 6897), ('ttyt', 6898), ('tisdal', 6899), ('ddd', 6900), ('ftw', 6901), ('methodist', 6902), ('lorenphoto', 6903), ('cambridgeshir', 6904), ('emmarose10', 6905), ('lotsa', 6906), ('poblano', 6907), ('oaxaca', 6908), ('scott', 6909), ('zoolog', 6910), ('prerna', 6911), ('youuu', 6912), ('brainstorm', 6913), ('aloud', 6914), ('pwn3d', 6915), ('packag', 6916), ('hotelindigo', 6917), ('travelbird', 6918), ('mytholog', 6919), ('jewelleri', 6920), ('seahors', 6921), ('personifi', 6922), ('bff', 6923), ('bacchus', 6924), ('sadtosportsfan', 6925), ('chainlink', 6926), ('supportmentalhealth', 6927), ('oopssss', 6928), ('ypur', 6929), ('maxxi', 6930), ('whippet', 6931), ('fruiti', 6932), ('waterhous', 6933), ('jhi', 6934), ('fanklin', 6935), ('homophobia', 6936), ('fitzmuseumeduca', 6937), ('rachelsinfield', 6938), ('tenur', 6939), ('environment', 6940), ('carbon', 6941), ('standard', 6942), ('tourcrush', 6943), ('madrid', 6944), ('cashier', 6945), ('fastfood', 6946), ('discount', 6947), ('para', 6948), ('zg', 6949), ('pedagoofriday', 6950), ('lgbt', 6951), ('parkinsson', 6952), ('wendi', 6953), ('tourofnilgiri', 6954), ('api', 6955), ('oauth', 6956), ('stave', 6957), ('spontan', 6958), ('sexxxi', 6959), ('wrexhammuseum', 6960), ('wrexham', 6961), ('trainer', 6962), ('brand', 6963), ('arnt', 6964), ('laughinggg', 6965), ('netizen', 6966), ('pacino', 6967), ('schriftart', 6968), ('countrylifemag', 6969), ('mcavoy', 6970), ('irresist', 6971), ('hawwttt', 6972), ('holdin', 6973), ('pooch', 6974), ('alwayss', 6975), ('dhatbadyellobch', 6976), ('hygien', 6977), ('hangov', 6978), ('yeaj', 6979), ('nu', 6980), ('mein', 6981), ('auch', 6982), ('applecar', 6983), ('protecion', 6984), ('hummingbbakeri', 6985), ('lifeisgood', 6986), ('fridayfeel', 6987), ('ahaha', 6988), ('markhoppus', 6989), ('hoppus', 6990), ('feast', 6991), ('assert', 6992), ('blatant', 6993), ('wellcometrust', 6994), ('funclickearn', 6995), ('studyphys', 6996), ('ucyapysjsi', 6997), ('awee', 6998), ('mamma', 6999), ('barrow', 7000), ('shweeettt', 7001), ('whippleword', 7002), ('fiddl', 7003), ('sissi', 7004), ('jennyism', 7005), ('cupi', 7006), ('audrey', 7007), ('inch', 7008), ('yellowcab', 7009), ('historyneedsyou', 7010), ('notsmilingoninsid', 7011), ('2gh0h6avix', 7012), ('hook', 7013), ('wii', 7014), ('eeet', 7015), ('ot', 7016), ('startin', 7017), ('yaidunohannji', 7018), ('140m', 7019), ('flesh', 7020), ('aestheticamag', 7021), ('minseoki', 7022), ('ctto', 7023), ('manilalovesxiumin', 7024), ('elyxioninmanila', 7025), ('weareoneexo', 7026), ('jriuabxx0g', 7027), ('bipolarhotlin', 7028), ('theplumlineg', 7029), ('tombston', 7030), ('kurt', 7031), ('kbuech', 7032), ('hinder', 7033), ('tsb', 7034), ('paulpest', 7035), ('telephon', 7036), ('manhattan', 7037), ('relish', 7038), ('rib', 7039), ('1930', 7040), ('foodi', 7041), ('procrastin', 7042), ('roam', 7043), ('commut', 7044), ('unmiss', 7045), ('thecassart', 7046), ('en', 7047), ('rjcc', 7048), ('freeyourmindkid', 7049), ('sanen85', 7050), ('notch', 7051), ('terrel', 7052), ('district', 7053), ('council', 7054), ('liveatlica', 7055), ('richardsmith79', 7056), ('beckymgonzalez', 7057), ('camryn', 7058), ('jessleal7', 7059), ('yourdragmoth', 7060), ('bradin', 7061), ('walker', 7062), ('carlosdaddylara', 7063), ('bumptime247', 7064), ('mxriah', 7065), ('rensbbi', 7066), ('dobrikskopf', 7067), ('sine', 7068), ('mn', 7069), ('obizniz', 7070), ('babimare', 7071), ('asia', 7072), ('thomas123', 7073), ('urib1184', 7074), ('prout', 7075), ('gir', 7076), ('shriek', 7077), ('scrap', 7078), ('uffizidotcom', 7079), ('benjamin', 7080), ('abc', 7081), ('1xq', 7082), ('pelda', 7083), ('csak', 7084), ('aztmondja', 7085), ('likemind', 7086), ('tweepl', 7087), ('bryantma', 7088), ('mccoy', 7089), ('rivan', 7090), ('y7s', 7091), ('smart', 7092), ('bensoir', 7093), ('whistler', 7094), ('audreyhepburn', 7095), ('idolis', 7096), ('brochur', 7097), ('puter', 7098), ('yipeeee', 7099), ('chapmangl', 7100), ('grasslakec', 7101), ('adobespark', 7102), ('cudd', 7103), ('johannhari101', 7104), ('anew', 7105), ('dypecfx580', 7106), ('calif', 7107), ('earthquak', 7108), ('heidiii', 7109), ('blackout', 7110), ('amazinggg', 7111), ('kuwait', 7112), ('sacrif', 7113), ('soldier', 7114), ('isral', 7115), ('mayfair', 7116), ('jar', 7117), ('lng', 7118), ('bikerid', 7119), ('fen', 7120), ('pleaseit', 7121), ('mjflajocdw', 7122), ('boyfi', 7123), ('5am', 7124), ('parthenon', 7125), ('kboyceq', 7126), ('caseytreat', 7127), ('chronicl', 7128), ('fennwick', 7129), ('tweak', 7130), ('sall', 7131), ('priceless', 7132), ('arttherapi', 7133), ('mgmt', 7134), ('micropast', 7135), ('loftless', 7136), ('leas', 7137), ('montreal', 7138), ('warped09', 7139), ('promo', 7140), ('cbcidea', 7141), ('thegetti', 7142), ('haidaheritag', 7143), ('newcdnmedia', 7144), ('morethanadodo', 7145), ('haida', 7146), ('gwaii', 7147), ('pursebuzz', 7148), ('bohanrob', 7149), ('hurrah', 7150), ('weigh', 7151), ('53kg', 7152), ('aus', 7153), ('chapter', 7154), ('36', 7155), ('wrinkl', 7156), ('penmen06', 7157), ('anthey', 7158), ('spider', 7159), ('agynaathavaasi', 7160), ('daridram', 7161), ('crust', 7162), ('protein', 7163), ('joyless', 7164), ('hardboil', 7165), ('amirit', 7166), ('nicki', 7167), ('url', 7168), ('error', 7169), ('mlg', 7170), ('sane', 7171), ('smelli', 7172), ('dhol', 7173), ('crappi', 7174), ('plbpbao1wt', 7175), ('supremist', 7176), ('abhor', 7177), ('racist', 7178), ('leicest', 7179), ('geeki', 7180), ('gloss', 7181), ('coloni', 7182), ('lahp', 7183), ('dtp', 7184), ('summerschool', 7185), ('uknatarch', 7186), ('thousand', 7187), ('1011', 7188), ('daamnn', 7189), ('hk', 7190), ('harnevo', 7191), ('museumsassoc', 7192), ('virtual', 7193), ('junora', 7194), ('clubbin', 7195), ('dammit', 7196), ('cottag', 7197), ('sail', 7198), ('unappropri', 7199), ('illus', 7200), ('trick', 7201), ('chessmen', 7202), ('chit', 7203), ('swooni', 7204), ('lornadiwa', 7205), ('humbl', 7206), ('bonfir', 7207), ('prosper', 7208), ('archuleta', 7209), ('addyx21', 7210), ('slowdown', 7211), ('artandperfum', 7212), ('mistaken', 7213), ('angamali', 7214), ('antwic', 7215), ('shavam', 7216), ('evacu', 7217), ('popey', 7218), ('somewer', 7219), ('angi', 7220), ('wingit', 7221), ('ldn', 7222), ('peytonandbyrn', 7223), ('oliverpeyton', 7224), ('brueck', 7225), ('kristi', 7226), ('bart', 7227), ('emphas', 7228), ('amid', 7229), ('happybirthdaytom', 7230), ('ilovelondon', 7231), ('storag', 7232), ('oblig', 7233), ('awesomest', 7234), ('acdc', 7235), ('tween', 7236), ('yearofpercuss', 7237), ('persepoli', 7238), ('relaxx', 7239), ('dandipiero', 7240), ('400', 7241), ('portray', 7242), ('2l', 7243), ('kekekek', 7244), ('nevermind', 7245), ('speed', 7246), ('jetblu', 7247), ('ankl', 7248), ('woow', 7249), ('parallel', 7250), ('17th', 7251), ('6ejoawqtnk', 7252), ('behold', 7253), ('hmmmm', 7254), ('teapot', 7255), ('gaaf', 7256), ('het', 7257), ('gebruikt', 7258), ('om', 7259), ('rondleidingen', 7260), ('te', 7261), ('streamen', 7262), ('default', 7263), ('blackradioisback', 7264), ('sup', 7265), ('1998', 7266), ('mash', 7267), ('multisyllab', 7268), ('dreddiemurphi', 7269), ('fundament', 7270), ('berndtarel', 7271), ('kyle', 7272), ('xy', 7273), ('twosteppin', 7274), ('puppylick', 7275), ('danni', 7276), ('agnosticquest', 7277), ('onfiremiss', 7278), ('resili', 7279), ('doke', 7280), ('zomg', 7281), ('brutal', 7282), ('cash', 7283), ('promin', 7284), ('mummifi', 7285), ('croc', 7286), ('razzl', 7287), ('dazzl', 7288), ('ferri', 7289), ('lamp', 7290), ('dai', 7291), ('eventprof', 7292), ('kerepakupai', 7293), ('vena', 7294), ('twittervill', 7295), ('ciao', 7296), ('moneymak', 7297), ('sprint', 7298), ('unlimit', 7299), ('gb', 7300), ('harsher', 7301), ('ese', 7302), ('nireyna', 7303), ('guido', 7304), ('cagnacci', 7305), ('cleopatra', 7306), ('dagnyreardon', 7307), ('coming', 7308), ('hater', 7309), ('shang', 7310), ('tucker', 7311), ('chillin', 7312), ('madisonwild', 7313), ('ilybff4l', 7314), ('w0w75igalj', 7315), ('samson', 7316), ('delilah', 7317), ('sexiest', 7318), ('draperi', 7319), ('bingethink', 7320), ('nugget', 7321), ('donottouch', 7322), ('sewingcircus', 7323), ('sewbloominhappi', 7324), ('larksvintag', 7325), ('classicis', 7326), ('graffito', 7327), ('senecarul', 7328), ('fonder', 7329), ('blip', 7330), ('glasgow', 7331), ('kong', 7332), ('jw', 7333), ('sofia', 7334), ('youll', 7335), ('here', 7336), ('billi', 7337), ('cyrusim', 7338), ('nako', 7339), ('umuulan', 7340), ('naman', 7341), ('deplurk', 7342), ('buhbyee', 7343), ('religon', 7344), ('8th', 7345), ('pdt', 7346), ('webinar', 7347), ('inland', 7348), ('coalit', 7349), ('lactat', 7350), ('jmkis91', 7351), ('49', 7352), ('vernetroy', 7353), ('ewww', 7354), ('wateri', 7355), ('whitechapel', 7356), ('sheraton', 7357), ('statu', 7358), ('struth', 7359), ('wth', 7360), ('kalm', 7361), ('corpor', 7362), ('sourc', 7363), ('devour', 7364), ('fiasco', 7365), ('pinot', 7366), ('blond', 7367), ('jamesissexi', 7368), ('hotti', 7369), ('firesti', 7370), ('shiraabl', 7371), ('sheppard', 7372), ('patti', 7373), ('bish', 7374), ('booth', 7375), ('afflic', 7376), ('ufc', 7377), ('auth', 7378), ('traffic', 7379), ('siginutz', 7380), ('invok', 7381), ('momz', 7382), ('weet', 7383), ('bouillabais', 7384), ('lucystein', 7385), ('gelato', 7386), ('affogato', 7387), ('epoxi', 7388), ('alien', 7389), ('heartless', 7390), ('anythin', 7391), ('malley', 7392), ('cyberstalk', 7393), ('peelport', 7394), ('magazin', 7395), ('patronmagazin', 7396), ('sunburn', 7397), ('owwww', 7398), ('chorus', 7399), ('catchi', 7400), ('gud', 7401), ('bmimag', 7402), ('randolphstproduct', 7403), ('mypodcast', 7404), ('forthcom', 7405), ('dublin', 7406), ('berlin', 7407), ('jackass', 7408), ('prof', 7409), ('sight', 7410), ('waver', 7411), ('restrain', 7412), ('tide', 7413), ('1946', 7414), ('awalkonthewildsid', 7415), ('admiss', 7416), ('visitk', 7417), ('atmospheremong', 7418), ('joshr', 7419), ('1344', 7420), ('kathi', 7421), ('coupla', 7422), ('tote', 7423), ('nicoledivid', 7424), ('3we', 7425), ('x7qxh7chid', 7426), ('tzknhl1q5i', 7427), ('therapeut', 7428), ('aj', 7429), ('rafael', 7430), ('musician', 7431), ('composit', 7432), ('render', 7433), ('amadeus', 7434), ('shaffer', 7435), ('flocktognew', 7436), ('wordpressdotcom', 7437), ('verizon', 7438), ('vampir', 7439), ('dessert', 7440), ('mandi', 7441), ('smc', 7442), ('thedaythat', 7443), ('stivesurfschool', 7444), ('caro', 7445), ('tribut', 7446), ('duccio', 7447), ('wax', 7448), ('greaaat', 7449), ('exeterliv', 7450), ('buudi', 7451), ('zoot', 7452), ('credenti', 7453), ('gur', 7454), ('yaya', 7455), ('no1', 7456), ('duchess', 7457), ('umasscct', 7458), ('rank', 7459), ('w00t', 7460), ('beingadoptedmean', 7461), ('farter', 7462), ('bake', 7463), ('thunder', 7464), ('louisvill', 7465), ('derbi', 7466), ('yesjim', 7467), ('unbirthday', 7468), ('northant', 7469), ('motley', 7470), ('moot', 7471), ('beltain', 7472), ('picnic', 7473), ('ing', 7474), ('40m', 7475), ('artforthesoul', 7476), ('slur', 7477), ('statuari', 7478), ('callipygian', 7479), ('stylish', 7480), ('anthonytheakston', 7481), ('pelicanjug', 7482), ('waterston', 7483), ('erot', 7484), ('bronzino', 7485), ('leda', 7486), ('swan', 7487), ('michealangleo', 7488), ('chicjwelcoutur', 7489), ('inquisit', 7490), ('quesadilla', 7491), ('wallpap', 7492), ('idnhu', 7493), ('vid', 7494), ('sand', 7495), ('lash', 7496), ('extens', 7497), ('cheeseland', 7498), ('djembech', 7499), ('mrskennyd', 7500), ('mannn', 7501), ('banga', 7502), ('ballad', 7503), ('gon', 7504), ('fella', 7505), ('adventureswithtuck', 7506), ('grvtyuk', 7507), ('blcklistddd', 7508), ('bnperry1', 7509), ('embrac', 7510), ('nog', 7511), ('insan', 7512), ('steev', 7513), ('yeow', 7514), ('folowerssss', 7515), ('frighten', 7516), ('leather', 7517), ('amazingplac', 7518), ('toomuchforaquickvisit', 7519), ('purpledeee', 7520), ('wassuppp', 7521), ('wsj', 7522), ('edmonton', 7523), ('nipeg', 7524), ('megainspir', 7525), ('rdi', 7526), ('masterb', 7527), ('mynameiskaraaaa', 7528), ('pertin', 7529), ('collis', 7530), ('arthistorydegre', 7531), ('wellworthit', 7532), ('natgalleryaus', 7533), ('deleg', 7534), ('swfed', 7535), ('devonportguildhal', 7536), ('syllabl', 7537), ('whore', 7538), ('g0d', 7539), ('furlough', 7540), ('whichev', 7541), ('locki', 7542), ('rub', 7543), ('dreamt', 7544), ('tendulkar', 7545), ('heidinimhurchu', 7546), ('timessquarenyc', 7547), ('summersolstic', 7548), ('glade', 7549), ('laundrey', 7550), ('waay', 7551), ('dwayn', 7552), ('johnson', 7553), ('yahoolifestyl', 7554), ('craftsmanship', 7555), ('onthisday', 7556), ('ecinc', 7557), ('petermansbridg', 7558), ('mtaalumni', 7559), ('colvill', 7560), ('southampton', 7561), ('plight', 7562), ('charm', 7563), ('relentless', 7564), ('secondari', 7565), ('insta', 7566), ('fmglobal', 7567), ('airmic2015', 7568), ('wildstarb', 7569), ('rezday', 7570), ('antiag', 7571), ('bestantiagingproduct', 7572), ('hairproduct', 7573), ('painrelief', 7574), ('reverseag', 7575), ('reversediseas', 7576), ('reversetheagingprocess', 7577), ('m1qjmncpal', 7578), ('skydiv', 7579), ('4yrstoday', 7580), ('scottila1459', 7581), ('dubya', 7582), ('tril', 7583), ('2tril', 7584), ('unfund', 7585), ('mandat', 7586), ('declin', 7587), ('countercycl', 7588), ('chord', 7589), ('vanessagounden', 7590), ('wearableart', 7591), ('artiv', 7592), ('plymouth', 7593), ('plymho', 7594), ('writer', 7595), ('emussj', 7596), ('montag', 7597), ('rocki', 7598), ('snicker', 7599), ('hemispher', 7600), ('fed', 7601), ('ventur', 7602), ('hayyyyy', 7603), ('steppin', 7604), ('opi', 7605), ('ds', 7606), ('solstic', 7607), ('hav', 7608), ('letharg', 7609), ('wallyworld', 7610), ('kewl', 7611), ('easter', 7612), ('nitelit', 7613), ('tynnyri500', 7614), ('callmekorv', 7615), ('samaritan', 7616), ('papyrus', 7617), ('honitontown', 7618), ('1815project', 7619), ('nov', 7620), ('selena', 7621), ('gomez', 7622), ('phill', 7623), ('playboy', 7624), ('exhal', 7625), ('namast', 7626), ('startrek', 7627), ('bracelet', 7628), ('gag', 7629), ('aboutlondon', 7630), ('madametussaud', 7631), ('bateauxlondon', 7632), ('camdencoffe', 7633), ('thamesribexp', 7634), ('thamesclipp', 7635), ('emiratesairldn', 7636), ('clan', 7637), ('southbankcentr', 7638), ('hotfoot', 7639), ('gentl', 7640), ('pelajar', 7641), ('cemerlang', 7642), ('thnk', 7643), ('munirah', 7644), ('omj', 7645), ('wep', 7646), ('horrend', 7647), ('stafford', 7648), ('lookout', 7649), ('tile', 7650), ('spearhead', 7651), ('eras', 7652), ('duplic', 7653), ('problemyou', 7654), ('hype', 7655), ('mccain', 7656), ('frozen', 7657), ('deliveri', 7658), ('doobi', 7659), ('religion', 7660), ('scam', 7661), ('cus', 7662), ('infidel', 7663), ('chekk', 7664), ('lalafashionista', 7665), ('ama', 7666), ('itun', 7667), ('construct', 7668), ('bouquet', 7669), ('teddi', 7670), ('helmi', 7671), ('makapu', 7672), ('captur', 7673), ('woohooooo', 7674), ('sameperson', 7675), ('holllllla', 7676), ('rio', 7677), ('summ', 7678), ('clay', 7679), ('collabor', 7680), ('naaaaic', 7681), ('naaaaaic', 7682), ('eclips', 7683), ('dorset', 7684), ('crab', 7685), ('gazpacho', 7686), ('eventconcept', 7687), ('gailsmithflow', 7688), ('netti', 7689), ('prozac', 7690), ('readin', 7691), ('sotm', 7692), ('degrad', 7693), ('these', 7694), ('cinemat', 7695), ('skyfal', 7696), ('quirki', 7697), ('swagga', 7698), ('333', 7699), ('nosham', 7700), ('notalon', 7701), ('sicknotweak', 7702), ('fox6tedperri', 7703), ('6sntlj17m4', 7704), ('obox', 7705), ('andersenemili', 7706), ('darkroom', 7707), ('punk', 7708), ('montacut', 7709), ('outstand', 7710), ('deck', 7711), ('holden', 7712), ('stare', 7713), ('brendon', 7714), ('stubb', 7715), ('geograph', 7716), ('kingscollegelon', 7717), ('telegraph', 7718), ('therapyonlin', 7719), ('nk', 7720), ('mv', 7721), ('silver', 7722), ('uncool01', 7723), ('ann', 7724), ('donnelli', 7725), ('inuit', 7726), ('resist', 7727), ('movement', 7728), ('gibba', 7729), ('gabba', 7730), ('taster', 7731), ('cruiselpool', 7732), ('livechonew', 7733), ('scousescen', 7734), ('infus', 7735), ('boil', 7736), ('fishbal', 7737), ('hollowcrownfan', 7738), ('iplay', 7739), ('dazzleferri', 7740), ('1418now', 7741), ('livcathedr', 7742), ('shaundiviney', 7743), ('plane', 7744), ('monitor', 7745), ('getinmywelli', 7746), ('gh', 7747), ('sudburi', 7748), ('nymphoman', 7749), ('bing', 7750), ('excelent', 7751), ('colecci', 7752), ('proceed', 7753), ('dreambuild', 7754), ('virginiamason', 7755), ('companion', 7756), ('donor', 7757), ('automata', 7758), ('hotrod', 7759), ('leah', 7760), ('fatin', 7761), ('gov', 7762), ('gamblin', 7763), ('element', 7764), ('gambl', 7765), ('peaceful', 7766), ('realtek', 7767), ('8111', 7768), ('8169', 7769), ('ubuntu', 7770), ('lts', 7771), ('waitingi', 7772), ('sour', 7773), ('sop', 7774), ('healthbenefit', 7775), ('save10', 7776), ('checkout', 7777), ('bloodi', 7778), ('messpleas', 7779), ('bathdanc', 7780), ('chaptertweet', 7781), ('prisonhorsen', 7782), ('hellish', 7783), ('acim', 7784), ('w33', 7785), ('w70', 7786), ('tardi', 7787), ('loner', 7788), ('marieantoynett', 7789), ('wut', 7790), ('divastw', 7791), ('countless', 7792), ('mmh', 7793), ('asset', 7794), ('midnight', 7795), ('pancak', 7796), ('snolen', 7797), ('ahahahaha', 7798), ('pierc', 7799), ('unobtrus', 7800), ('revamp', 7801), ('waddestonbequest', 7802), ('palmer', 7803), ('1in', 7804), ('greatservic', 7805), ('cognac', 7806), ('emmythecat', 7807), ('henryandfriend', 7808), ('fergusthedog', 7809), ('pawpawti', 7810), ('toodl', 7811), ('comparison', 7812), ('gucci', 7813), ('omelett', 7814), ('sloop', 7815), ('inn', 7816), ('visitcornwal', 7817), ('visitbritainpr', 7818), ('cosmicuk', 7819), ('igotyou', 7820), ('nzmentalhealth', 7821), ('spunk', 7822), ('apt', 7823), ('calv', 7824), ('mu', 7825), ('osx', 7826), ('giveaway', 7827), ('heartmileycyrus', 7828), ('tent', 7829), ('gratitud', 7830), ('textbk', 7831), ('whyyi', 7832), ('leavvvinng', 7833), ('mii', 7834), ('rubbi', 7835), ('ducki', 7836), ('kk', 7837), ('muffin', 7838), ('bug', 7839), ('sarahfredrick', 7840), ('internship', 7841), ('globe', 7842), ('camh', 7843), ('wsu', 7844), ('healthbeat', 7845), ('cashmqmymg', 7846), ('hautenurs', 7847), ('drolufunmilayo', 7848), ('healthertain', 7849), ('deekachi', 7850), ('md', 7851), ('eminitybaba', 7852), ('lou', 7853), ('whiz', 7854), ('nomso', 7855), ('josephineavid', 7856), ('lp', 7857), ('lf', 7858), ('kansa', 7859), ('ala', 7860), ('longgg', 7861), ('celtic', 7862), ('tomm', 7863), ('gonnna', 7864), ('bestt', 7865), ('fairytal', 7866), ('craaaaazzyy', 7867), ('alexand', 7868), ('rybak', 7869), ('korea', 7870), ('protectparkbom1115', 7871), ('q4qxklakn7', 7872), ('hor', 7873), ('stockleyart', 7874), ('mesmeris', 7875), ('realal', 7876), ('tottenhamsoho', 7877), ('1826', 7878), ('bigdata', 7879), ('paranorm', 7880), ('xytbnutdc4', 7881), ('goldblum', 7882), ('optician', 7883), ('austin', 7884), ('graffiti', 7885), ('scotland', 7886), ('quarterlif', 7887), ('column', 7888), ('nebula', 7889), ('1m', 7890), ('combin', 7891), ('comradeship', 7892), ('agebettersheffield', 7893), ('houseee', 7894), ('deniernyc', 7895), ('abat', 7896), ('jami', 7897), ('linocut', 7898), ('ancestor', 7899), ('laceycontemp', 7900), ('hoxtongalleri', 7901), ('jfreemangalleri', 7902), ('bloke', 7903), ('dunde', 7904), ('flicker', 7905), ('hooch', 7906), ('pea', 7907), ('butterscotch', 7908), ('handbag', 7909), ('xox', 7910), ('buhat', 7911), ('multipli', 7912), ('ang', 7913), ('choova', 7914), ('bonzo', 7915), ('190lb', 7916), ('parines', 7917), ('sp', 7918), ('bark', 7919), ('fierc', 7920), ('pussycat', 7921), ('ovguid', 7922), ('celbriti', 7923), ('bulma', 7924), ('d72grmzblk', 7925), ('kyem74', 7926), ('aweinspir', 7927), ('whoo', 7928), ('crazaaay', 7929), ('critiqu', 7930), ('rethink', 7931), ('contextualis', 7932), ('l5rmfiiqqi', 7933), ('microscop', 7934), ('jb', 7935), ('naraaz', 7936), ('houn', 7937), ('wo', 7938), ('khana', 7939), ('chor', 7940), ('phire', 7941), ('chli', 7942), ('jae', 7943), ('kr', 7944), ('marco', 7945), ('polo', 7946), ('blown', 7947), ('pin', 7948), ('attn', 7949), ('cannon', 7950), ('tandemcopd', 7951), ('updatesoptimis', 7952), ('pulmonaryrehab', 7953), ('dcjc', 7954), ('3hotword', 7955), ('nsfw', 7956), ('naptim', 7957), ('belgravest', 7958), ('stivesartschool', 7959), ('steppenwolf', 7960), ('carpet', 7961), ('exhbit', 7962), ('muse', 7963), ('kiana', 7964), ('masha', 7965), ('palm', 7966), ('dwanb', 7967), ('filet', 7968), ('mobil', 7969), ('bencod', 7970), ('artifact', 7971), ('civil', 7972), ('geolog', 7973), ('downward', 7974), ('overtir', 7975), ('cranki', 7976), ('tammra', 7977), ('warbi', 7978), ('drtammrawarbi', 7979), ('h7bm0tror4', 7980), ('yarinhochman', 7981), ('yhu', 7982), ('ngeke', 7983), ('magictwackl', 7984), ('megan', 7985), ('maddi', 7986), ('zar', 7987), ('ceremoni', 7988), ('headlin', 7989), ('overnight', 7990), ('ia8nyoaq4c', 7991), ('haunt', 7992), ('loser', 7993), ('foe', 7994), ('trekaroo', 7995), ('minter', 7996), ('pebbl', 7997), ('interior', 7998), ('clog', 7999), ('plunger', 8000), ('vera', 8001), ('bradley', 8002), ('cargo', 8003), ('sling', 8004), ('viz', 8005), ('badfeel', 8006), ('francesbark', 8007), ('inprogress', 8008), ('gerarddavid', 8009), ('cheesecak', 8010), ('factori', 8011), ('lemon', 8012), ('abe', 8013), ('kpag2r87jt', 8014), ('paycheck', 8015), ('firefli', 8016), ('summertim', 8017), ('crunch', 8018), ('pushup', 8019), ('layout', 8020), ('erudit', 8021), ('byte', 8022), ('oponopono', 8023), ('physician', 8024), ('pharmaceut', 8025), ('rite', 8026), ('passag', 8027), ('destini', 8028), ('awaken', 8029), ('1msvhk5anu', 8030), ('marion', 8031), ('qc', 8032), ('39essexchamb', 8033), ('warhol', 8034), ('labbytherat', 8035), ('informat', 8036), ('lab', 8037), ('cougar', 8038), ('chore', 8039), ('paperwork', 8040), ('heritag', 8041), ('compot', 8042), ('introduc', 8043), ('cheltlitfest', 8044), ('laconicphoto', 8045), ('hoylandh', 8046), ('groggi', 8047), ('rabid', 8048), ('portobello', 8049), ('sheff', 8050), ('submerc', 8051), ('pile', 8052), ('desert', 8053), ('kaya', 8054), ('buffalo', 8055), ('rida', 8056), ('tweetamigo', 8057), ('nicholson', 8058), ('madz', 8059), ('gabgabesp', 8060), ('ungrat', 8061), ('keynot', 8062), ('fffssss', 8063), ('szn', 8064), ('tl', 8065), ('stepford', 8066), ('ish', 8067), ('sausag', 8068), ('deena', 8069), ('dentist', 8070), ('polish', 8071), ('nj', 8072), ('privateview', 8073), ('poken', 8074), ('conspir', 8075), ('evangelist', 8076), ('alison', 8077), ('wiseproduct', 8078), ('bestinshow', 8079), ('quicki', 8080), ('satc', 8081), ('lisarcast', 8082), ('doubg', 8083), ('vital', 8084), ('gutbrainlink', 8085), ('wufoojieu', 8086), ('holla', 8087), ('mapl', 8088), ('syrup', 8089), ('wayn', 8090), ('nearbi', 8091), ('camtechmuseum', 8092), ('tweetbrk', 8093), ('eccl', 8094), ('hardwork', 8095), ('ethnographi', 8096), ('aidanbak', 8097), ('d2zen', 8098), ('temp', 8099), ('64', 8100), ('craycray', 8101), ('carisamarie11', 8102), ('hollywood', 8103), ('phathead', 8104), ('cutest', 8105), ('jersey', 8106), ('berwickstlondon', 8107), ('compton', 8108), ('soho', 8109), ('crew', 8110), ('sculthorp', 8111), ('zav', 8112), ('razor', 8113), ('cantus', 8114), ('squirrel', 8115), ('paulaboardman', 8116), ('checker', 8117), ('denis', 8118), ('ozzi', 8119), ('tigger', 8120), ('neuter', 8121), ('pierodellafrancesca', 8122), ('tous', 8123), ('visiteur', 8124), ('osalto', 8125), ('atchya', 8126), ('ravenglass', 8127), ('rothschild', 8128), ('caterpillar', 8129), ('goodnit', 8130), ('sope', 8131), ('aumin', 8132), ('yoongi', 8133), ('jung', 8134), ('hoseok', 8135), ('dbeshh6cia', 8136), ('cornucopia', 8137), ('yyuumm', 8138), ('tuck', 8139), ('barley', 8140), ('weightlosswiththefabulousfatti', 8141), ('unpopul', 8142), ('brea', 8143), ('stubhub', 8144), ('3x', 8145), ('salari', 8146), ('rcxoc5g0kx', 8147), ('industri', 8148), ('fiest', 8149), ('cranleigh', 8150), ('shindig', 8151), ('cubicl', 8152), ('thepoldarkian', 8153), ('scent', 8154), ('africanrockart', 8155), ('oupojdcmyd', 8156), ('hellogoodby', 8157), ('vicki', 8158), ('timetochang', 8159), ('detach', 8160), ('transgress', 8161), ('matthaig', 8162), ('enthusiast', 8163), ('beautyboutiqu', 8164), ('bound', 8165), ('punt', 8166), ('jack', 8167), ('dejohnett', 8168), ('shannon', 8169), ('thriller', 8170), ('midst', 8171), ('timeless', 8172), ('wgydnjv2dx', 8173), ('paula', 8174), ('wakefield', 8175), ('jokepleas', 8176), ('daunt', 8177), ('profan', 8178), ('dosent', 8179), ('myrea', 8180), ('2500', 8181), ('savagebeauti', 8182), ('paulkeat', 8183), ('1992', 8184), ('pitboard', 8185), ('museumselfi', 8186), ('maustinp', 8187), ('hulsey', 8188), ('boudreau', 8189), ('freu', 8190), ('scientif', 8191), ('debunk', 8192), ('squeee', 8193), ('tweetheart', 8194), ('sweetheart', 8195), ('xoxoxo', 8196), ('sigma', 8197), ('50mm', 8198), ('f2', 8199), ('macro', 8200), ('len', 8201), ('canon', 8202), ('bliss', 8203), ('deed', 8204), ('ahhaha', 8205), ('gee', 8206), ('virtua', 8207), ('2009', 8208), ('jessicaclair', 8209), ('jsnorwood', 8210), ('creativeag', 8211), ('theplacelondon', 8212), ('provoc', 8213), ('psyd', 8214), ('kimberland', 8215), ('refinery29', 8216), ('stall', 8217), ('deaf', 8218), ('nervousbut', 8219), ('cart', 8220), ('ericfolm', 8221), ('proveee', 8222), ('itttttttttt', 8223), ('phillip', 8224), ('schofield', 8225), ('schofe', 8226), ('duh', 8227), ('keit', 8228), ('freepeep', 8229), ('fckin', 8230), ('bich', 8231), ('1pm', 8232), ('karen', 8233), ('allsort', 8234), ('faienc', 8235), ('vessel', 8236), ('theee', 8237), ('excav', 8238), ('nubia', 8239), ('arttm', 8240), ('ff5', 8241), ('30h', 8242), ('prone', 8243), ('lasbest', 8244), ('lasbestgam', 8245), ('mscaseycart', 8246), ('elocio', 8247), ('extract', 8248), ('w3c', 8249), ('lock', 8250), ('manga', 8251), ('chalk', 8252), ('fanim', 8253), ('jeremyrjenkin', 8254), ('marknutt', 8255), ('bling', 8256), ('vienna', 8257), ('tai', 8258), ('ji', 8259), ('quan', 8260), ('wudang', 8261), ('oc', 8262), ('dannymcfli', 8263), ('whooo', 8264), ('9pm', 8265), ('60s', 8266), ('hippi', 8267), ('hedg', 8268), ('bindwe', 8269), ('peckham', 8270), ('pendant', 8271), ('wooh', 8272), ('fmm', 8273), ('narcissist', 8274), ('nairn', 8275), ('adium', 8276), ('ingrid', 8277), ('frakk', 8278), ('simoncald', 8279), ('walsop', 8280), ('hodderpriba', 8281), ('ascot', 8282), ('londonfir', 8283), ('hq', 8284), ('maby', 8285), ('agoraphobia', 8286), ('sicknotweaki', 8287), ('pgr4baysix', 8288), ('emnuttal', 8289), ('curltasticgurl', 8290), ('anonim', 8291), ('segedunumfort', 8292), ('allason', 8293), ('interconnect', 8294), ('chloe', 8295), ('brotheridg', 8296), ('calmer', 8297), ('twitpic', 8298), ('meh', 8299), ('allsoulscon', 8300), ('arseni', 8301), ('zhilyaev', 8302), ('biennal', 8303), ('bali', 8304), ('emo', 8305), ('dsds', 8306), ('oj1imktfr7', 8307), ('wee', 8308), ('minatur', 8309), ('moree', 8310), ('ove', 8311), ('maen', 8312), ('loveeeyi', 8313), ('health24com', 8314), ('haiku', 8315), ('disconnect', 8316), ('raymartin55', 8317), ('troop', 8318), ('conflict', 8319), ('vet', 8320), ('anzac', 8321), ('schooltrip', 8322), ('londi', 8323), ('compliment', 8324), ('chasm', 8325), ('priv', 8326), ('b12', 8327), ('instln', 8328), ('obliqu', 8329), ('interpret', 8330), ('entral', 8331), ('beguil', 8332), ('andrea', 8333), ('del', 8334), ('sarto', 8335), ('bucket', 8336), ('openhous', 8337), ('davidkefford', 8338), ('cantabridgia', 8339), ('catz', 8340), ('pembroke1347', 8341), ('handmad', 8342), ('jurass', 8343), ('nostalg', 8344), ('optimist', 8345), ('der', 8346), ('maaaaster', 8347), ('sidekcik', 8348), ('lx', 8349), ('rockstar', 8350), ('smaaack', 8351), ('hahhahahaa', 8352), ('sleeeep', 8353), ('ahha', 8354), ('niit', 8355), ('richardsproject', 8356), ('howitz', 8357), ('howi', 8358), ('sweeeeet', 8359), ('cach', 8360), ('tobermori', 8361), ('gradual', 8362), ('tricki', 8363), ('oro2ytklqg', 8364), ('wider', 8365), ('averag', 8366), ('normalisbor', 8367), ('alll', 8368), ('staffrm', 8369), ('lovingit', 8370), ('escuchando', 8371), ('ulitmo', 8372), ('directo', 8373), ('dreatm', 8374), ('theater', 8375), ('ahora', 8376), ('sonando', 8377), ('peni', 8378), ('adderal', 8379), ('tacrain', 8380), ('kylielanejona', 8381), ('mission', 8382), ('uh', 8383), ('explooos', 8384), ('mikhaila', 8385), ('peterson', 8386), ('err', 8387), ('moonstarladi', 8388), ('shepherd', 8389), ('vip', 8390), ('tks', 8391), ('kekepalm', 8392), ('99vmshcbsv', 8393), ('treehousebkshop', 8394), ('prepe', 8395), ('18th', 8396), ('reinstat', 8397), ('entic', 8398), ('milwauke', 8399), ('rpdri', 8400), ('katya', 8401), ('awfuli', 8402), ('bulim', 8403), ('ribbon', 8404), ('announc', 8405), ('craig', 8406), ('dorian', 8407), ('scarf', 8408), ('deinstal', 8409), ('formal', 8410), ('makeov', 8411), ('thexcert', 8412), ('lucyyyy', 8413), ('pen', 8414), ('knight', 8415), ('dinosaur', 8416), ('lovemuseum', 8417), ('bundl', 8418), ('willll', 8419), ('lantern', 8420), ('nurulnxha', 8421), ('wuah', 8422), ('crosshatch', 8423), ('hendrik', 8424), ('goltzius', 8425), ('silverpoint', 8426), ('ngadc', 8427), ('sworn', 8428), ('merch', 8429), ('barrier', 8430), ('livestream', 8431), ('wifito', 8432), ('queue', 8433), ('hlfsupport', 8434), ('yehey', 8435), ('loi', 8436), ('familar', 8437), ('expens', 8438), ('indianapoli', 8439), ('adrift', 8440), ('blank', 8441), ('anda', 8442), ('archer96danni', 8443), ('catharsi', 8444), ('flashback', 8445), ('cont', 8446), ('popcorn', 8447), ('aircondit', 8448), ('blizzard', 8449), ('odin', 8450), ('revrichardcol', 8451), ('terryfrost', 8452), ('michell', 8453), ('beautifulth', 8454), ('cozi', 8455), ('tha', 8456), ('hiyaaa', 8457), ('blair', 8458), ('brown', 8459), ('g20', 8460), ('shambl', 8461), ('cameron', 8462), ('appli', 8463), ('eu', 8464), ('townsend', 8465), ('mosaic', 8466), ('richmond', 8467), ('vinci', 8468), ('pro7', 8469), ('otr', 8470), ('aaaaaaaand', 8471), ('unfollowdiddi', 8472), ('workhard', 8473), ('beautifullif', 8474), ('keepontri', 8475), ('summeriscom', 8476), ('hee', 8477), ('luff', 8478), ('musketer', 8479), ('corona', 8480), ('bradi', 8481), ('westjet', 8482), ('nonetheless', 8483), ('uhh', 8484), ('kayak', 8485), ('facil', 8486), ('par', 8487), ('uffizi', 8488), ('louvr', 8489), ('tehstalk', 8490), ('hooki', 8491), ('cheaper', 8492), ('ipt', 8493), ('rush', 8494), ('dkegel', 8495), ('inflam', 8496), ('mening', 8497), ('cliff', 8498), ('acut', 8499), ('ruskinturn', 8500), ('mflowers1965', 8501), ('bellingham', 8502), ('waaaaaay', 8503), ('northwest', 8504), ('soviet', 8505), ('ussa', 8506), ('oebrrygzvm', 8507), ('webcast', 8508), ('marcasmil', 8509), ('employershealth', 8510), ('ifebpl', 8511), ('neebc', 8512), ('fqqiszuabl', 8513), ('okaaay', 8514), ('wanima', 8515), ('appendixjourn', 8516), ('ephemera07', 8517), ('bbccamb', 8518), ('cub', 8519), ('fathom', 8520), ('cannt', 8521), ('fromm', 8522), ('youu', 8523), ('wc', 8524), ('cuppycak', 8525), ('xxoo', 8526), ('pow', 8527), ('chinchilla', 8528), ('loaf', 8529), ('academ', 8530), ('ketamineinfusiontherapi', 8531), ('oaumsbqht', 8532), ('livechat', 8533), ('robshepherd', 8534), ('npglondon', 8535), ('boulder', 8536), ('gram', 8537), ('automat', 8538), ('mmhm', 8539), ('flew', 8540), ('buffi', 8541), ('enjoythemo', 8542), ('edinburgh', 8543), ('edinburghac', 8544), ('org', 8545), ('y12', 8546), ('asda', 8547), ('wen', 8548), ('boxx', 8549), ('4gsbpiuaag', 8550), ('departur', 8551), ('91610', 8552), ('90210', 8553), ('hahaa', 8554), ('breakfastofk', 8555), ('norepinehrin', 8556), ('receptor', 8557), ('sympathet', 8558), ('uterin', 8559), ('labour', 8560), ('museummonday', 8561), ('ldnfilmmuseum', 8562), ('museeairespac', 8563), ('cahcccpa', 8564), ('neamuseum', 8565), ('hstrysitelocatr', 8566), ('thebakken', 8567), ('nimitzmuseum', 8568), ('yuffymoh', 8569), ('ai', 8570), ('batteri', 8571), ('shakespear', 8572), ('canap', 8573), ('recep', 8574), ('hrp', 8575), ('banquet', 8576), ('wabbey', 8577), ('gravur', 8578), ('membersback', 8579), ('racewayreport', 8580), ('gogol', 8581), ('bordello', 8582), ('rington', 8583), ('eeee', 8584), ('yee', 8585), ('kenyon', 8586), ('isabell', 8587), ('roster', 8588), ('teendepress', 8589), ('fydqzvco2t', 8590), ('squash', 8591), ('punish', 8592), ('rpi6zq43uo', 8593), ('cmon', 8594), ('weepi', 8595), ('ti', 8596), ('dalila', 8597), ('andjustbeingm', 8598), ('hurra', 8599), ('mai', 8600), ('collar', 8601), ('slender', 8602), ('arrang', 8603), ('noisi', 8604), ('feeter', 8605), ('lisajewelluk', 8606), ('bigthang', 8607), ('xhtml', 8608), ('prototyp', 8609), ('booti', 8610), ('bootleg', 8611), ('endless', 8612), ('yearn', 8613), ('numer', 8614), ('greekreport', 8615), ('delishhhh', 8616), ('murray', 8617), ('adork', 8618), ('lovegreatbritain', 8619), ('jink', 8620), ('nri', 8621), ('karan', 8622), ('johar', 8623), ('manchu', 8624), ('stink', 8625), ('helenwanglondon', 8626), ('museearme', 8627), ('rescu', 8628), ('attic', 8629), ('ooooo', 8630), ('friendsss', 8631), ('kellan', 8632), ('lutz', 8633), ('katymontgomeri', 8634), ('owe', 8635), ('colleagu', 8636), ('saviour', 8637), ('geass', 8638), ('bebop', 8639), ('ericsson', 8640), ('hoax', 8641), ('courtesi', 8642), ('bofh', 8643), ('gatsbi', 8644), ('prequel', 8645), ('funkyartgalleri', 8646), ('globalartag', 8647), ('80s', 8648), ('presentfilm', 8649), ('fifth', 8650), ('asham', 8651), ('jeanni', 8652), ('withdraw', 8653), ('whateva', 8654), ('zftdxskbb9', 8655), ('bunker', 8656), ('camb', 8657), ('warbler', 8658), ('gnatcatch', 8659), ('lisaj2108', 8660), ('assaulti', 8661), ('murderi', 8662), ('daylight', 8663), ('wsksnw0gho', 8664), ('exploreyoursubject', 8665), ('applic', 8666), ('millenniumart', 8667), ('hassl', 8668), ('toolkit', 8669), ('tinyhabit', 8670), ('gather', 8671), ('carolin', 8672), ('campbel', 8673), ('sanfrancisco', 8674), ('sector', 8675), ('hoover', 8676), ('glinda', 8677), ('columbus', 8678), ('ohio', 8679), ('borderlin', 8680), ('funfunfun', 8681), ('ox', 8682), ('lysm', 8683), ('queenxxlarray', 8684), ('ilysm', 8685), ('baddi', 8686), ('bask', 8687), ('kate', 8688), ('bes', 8689), ('manana', 8690), ('impression', 8691), ('fond', 8692), ('isacosta', 8693), ('xbray', 8694), ('wilki', 8695), ('belong', 8696), ('elementari', 8697), ('sualujliwi', 8698), ('forehead', 8699), ('throb', 8700), ('classarch', 8701), ('herakl', 8702), ('joker', 8703), ('scar', 8704), ('selfharm', 8705), ('stampoutstigma', 8706), ('kardashian', 8707), ('futureofmuseum', 8708), ('sutzkev', 8709), ('aydsma', 8710), ('hahahahha', 8711), ('awh', 8712), ('bahahah', 8713), ('seth', 8714), ('mcfarlen', 8715), ('smellyvis', 8716), ('britishgarden', 8717), ('klimt', 8718), ('palla', 8719), ('checkbook', 8720), ('ahhah', 8721), ('toooo', 8722), ('iloveloveloveyou', 8723), ('shoppin', 8724), ('kayle', 8725), ('rosco', 8726), ('citrix', 8727), ('hardwick', 8728), ('accompani', 8729), ('tedious', 8730), ('lifesav', 8731), ('mizteefranklin', 8732), ('deliver', 8733), ('baptist', 8734), ('onq2c4ycwm', 8735), ('supris', 8736), ('downtown', 8737), ('fyi', 8738), ('upstair', 8739), ('3speeder', 8740), ('tu', 8741), ('nona', 8742), ('hendryx', 8743), ('labell', 8744), ('unrealist', 8745), ('yknow', 8746), ('40821', 8747), ('campicturehous', 8748), ('tabcambridg', 8749), ('nf', 8750), ('fundrais', 8751), ('annemcx', 8752), ('westminst', 8753), ('whine', 8754), ('skwunt', 8755), ('wm', 8756), ('culturaldayforanorthern', 8757), ('guatemala', 8758), ('firecrack', 8759), ('ky', 8760), ('geffry', 8761), ('ruskinwalk', 8762), ('dinaxlovesjb', 8763), ('melasay', 8764), ('fag', 8765), ('dislik', 8766), ('portfolio', 8767), ('nifti', 8768), ('jqueri', 8769), ('slider', 8770), ('themeforest', 8771), ('coverag', 8772), ('strainprint', 8773), ('medicalmarijuana', 8774), ('medicalcannabi', 8775), ('ravin', 8776), ('disast', 8777), ('thirti', 8778), ('emptyng', 8779), ('londonlivindol', 8780), ('piqu', 8781), ('comptonverney', 8782), ('kimbobl', 8783), ('wisdombegun', 8784), ('gentleman', 8785), ('manner', 8786), ('profjoecain', 8787), ('coolest', 8788), ('characterist', 8789), ('chalkboard', 8790), ('pourhousecaf', 8791), ('nevershoutnev', 8792), ('holidayparad', 8793), ('waitrewindthat', 8794), ('ihop', 8795), ('sayig', 8796), ('meen', 8797), ('tiernan', 8798), ('plastic', 8799), ('pearl', 8800), ('afleck', 8801), ('anth', 8802), ('amo', 8803), ('lite', 8804), ('parko', 8805), ('chadreev', 8806), ('yearbook', 8807), ('closet', 8808), ('ki6bjv', 8809), ('buck', 8810), ('toll', 8811), ('cds', 8812), ('robynforzen', 8813), ('hearten', 8814), ('righteous', 8815), ('omgood', 8816), ('audienc', 8817), ('tosh', 8818), ('gimm', 8819), ('ambitioverumest', 8820), ('kowarikirsti', 8821), ('hurray', 8822), ('tommmmmmmmmm', 8823), ('tamara', 8824), ('raraact', 8825), ('nooo', 8826), ('sceneri', 8827), ('forgiven', 8828), ('mulligrub', 8829), ('unusualword', 8830), ('bsjxroomoq', 8831), ('sme', 8832), ('wuld', 8833), ('hahahahahaha', 8834), ('lovelyzband', 8835), ('infinitens97', 8836), ('metro', 8837), ('under18', 8838), ('barcelona', 8839), ('lai', 8840), ('patt', 8841), ('foto', 8842), ('diff', 8843), ('certif', 8844), ('quak', 8845), ('pilat', 8846), ('rabbit', 8847), ('rts', 8848), ('pcs', 8849), ('davidchoimus', 8850), ('mraz', 8851), ('colbi', 8852), ('caillat', 8853), ('jtm', 8854), ('yva', 8855), ('nelsonpmaainc', 8856), ('alexbwell4', 8857), ('klansmen', 8858), ('supremacist', 8859), ('parliament', 8860), ('dusk', 8861), ('onset', 8862), ('4jyt3wpvvi', 8863), ('infantri', 8864), ('gaza', 8865), ('shrapnel', 8866), ('nam', 8867), ('dynam', 8868), ('alfr', 8869), ('walli', 8870), ('primit', 8871), ('stivessocieti', 8872), ('qz', 8873), ('ehiiiiiiii', 8874), ('muppet', 8875), ('citizen', 8876), ('persever', 8877), ('curs', 8878), ('440nhcyefr', 8879), ('kaci', 8880), ('baer', 8881), ('wqovf9diil', 8882), ('wilton', 8883), ('diptych', 8884), ('willowi', 8885), ('seren', 8886), ('portabl', 8887), ('balm', 8888), ('indianajon', 8889), ('htbchurch', 8890), ('radisson', 8891), ('spinach', 8892), ('chickpea', 8893), ('stapl', 8894), ('vengeanc', 8895), ('cookbook', 8896), ('mabel', 8897), ('samthegreat', 8898), ('reread', 8899), ('crochet', 8900), ('horus', 8901), ('greet', 8902), ('varianviciss', 8903), ('contrib', 8904), ('lizlulu', 8905), ('daniellemariemu', 8906), ('coffeeeeeeeeee', 8907), ('newspap', 8908), ('swedish', 8909), ('surveypir', 8910), ('squad', 8911), ('battalion', 8912), ('hellerrr', 8913), ('followerss', 8914), ('tricina', 8915), ('uhhm', 8916), ('downstair', 8917), ('ratzingeriana', 8918), ('lb2s', 8919), ('delic', 8920), ('bugglepuffbook', 8921), ('museummodernart', 8922), ('mallgalleri', 8923), ('ugg', 8924), ('flutter', 8925), ('dyk', 8926), ('harvest', 8927), ('microb', 8928), ('soil', 8929), ('ed2ng7dkll', 8930), ('darlin', 8931), ('turquois', 8932), ('durhamrderbi', 8933), ('seifertova', 8934), ('anthropologytip', 8935), ('rosin', 8936), ('m47jakeman', 8937), ('vijayshadean', 8938), ('meaningless', 8939), ('slapper', 8940), ('raider', 8941), ('yayyy', 8942), ('crazydjbazarro', 8943), ('uofl', 8944), ('ladybird', 8945), ('angl', 8946), ('buhahaha', 8947), ('kuh342ppjg', 8948), ('jacksonsarttalk', 8949), ('mediev', 8950), ('cosmograph', 8951), ('evangelion', 8952), ('chryslyn', 8953), ('hungov', 8954), ('nicolaherbert', 8955), ('britney', 8956), ('spear', 8957), ('desktop', 8958), ('item', 8959), ('libbi', 8960), ('keen', 8961), ('nath', 8962), ('mysuperpow', 8963), ('cbarlowmarr', 8964), ('neacdrawschool', 8965), ('wksp', 8966), ('mattsmind', 8967), ('700', 8968), ('anfield', 8969), ('museumarch', 8970), ('quack', 8971), ('nanna', 8972), ('southern', 8973), ('rm', 8974), ('73', 8975), ('15pm', 8976), ('gravina', 8977), ('veggi', 8978), ('lasagna', 8979), ('boston', 8980), ('latestnew', 8981), ('destruct', 8982), ('unhappi', 8983), ('pendem', 8984), ('z3vzigseaa', 8985), ('maryborough', 8986), ('rsl', 8987), ('alabama', 8988), ('cuba', 8989), ('darkest', 8990), ('profound', 8991), ('fox', 8992), ('lolla', 8993), ('yeaaa', 8994), ('notebook', 8995), ('inbetween', 8996), ('burpe', 8997), ('brianwilliamson', 8998), ('flirt', 8999), ('touchin', 9000), ('suckin', 9001), ('hahhah', 9002), ('stephen', 9003), ('teaser', 9004), ('scorpio', 9005), ('nextlevel', 9006), ('punkin', 9007), ('napoconf09', 9008), ('62', 9009), ('ohhhhhhhhhhhh', 9010), ('mikeeeeeeeeeee', 9011), ('backgammon', 9012), ('needforcaffein', 9013), ('haka', 9014), ('emir', 9015), ('energeticeft', 9016), ('euhh', 9017), ('cboyleimag', 9018), ('li', 9019), ('500th', 9020), ('ont', 9021), ('gadjo', 9022), ('calom', 9023), ('bronz', 9024), ('metalwork', 9025), ('infanc', 9026), ('875', 9027), ('blowin', 9028), ('player', 9029), ('teruel', 9030), ('neilkc41', 9031), ('berthemorisot', 9032), ('dau', 9033), ('juliemanet', 9034), ('jhghendrik', 9035), ('sh', 9036), ('ob', 9037), ('citymov', 9038), ('alkmaar', 9039), ('mcmuffin', 9040), ('58', 9041), ('foreal', 9042), ('craze', 9043), ('roflrofl', 9044), ('techno', 9045), ('juno', 9046), ('fleamarket', 9047), ('musicmonday', 9048), ('lking', 9049), ('2012', 9050), ('tokyo', 9051), ('mrs', 9052), ('upick', 9053), ('darkartist', 9054), ('pwadey', 9055), ('martinpribbl', 9056), ('engrav', 9057), ('spqr', 9058), ('bjp', 9059), ('congress', 9060), ('narendramodi', 9061), ('pmoindia', 9062), ('makeinindia', 9063), ('shane', 9064), ('mothman', 9065), ('worryi', 9066), ('through', 9067), ('healthnew', 9068), ('bw', 9069), ('126', 9070), ('silouhett', 9071), ('cigarett', 9072), ('compress', 9073), ('gig', 9074), ('imtgalleri', 9075), ('maureenpaley', 9076), ('approachgalleri', 9077), ('tryout', 9078), ('heartach', 9079), ('breakup', 9080), ('esgbroknjt', 9081), ('impos', 9082), ('placenta', 9083), ('capsul', 9084), ('pregnancyproblem', 9085), ('childbirth', 9086), ('r06lbhr1wg', 9087), ('rehears', 9088), ('baylor', 9089), ('espn', 9090), ('29th', 9091), ('plymouthherald', 9092), ('devonday', 9093), ('nokla', 9094), ('heroic', 9095), ('highway', 9096), ('bridg', 9097), ('saniti', 9098), ('gassingabout', 9099), ('rode', 9100), ('faulconbridg', 9101), ('penrith', 9102), ('00pm', 9103), ('10pm', 9104), ('riden', 9105), ('stamp', 9106), ('norr', 9107), ('lonelyplanet', 9108), ('notsosunni', 9109), ('torontostrong', 9110), ('stolengirl', 9111), ('timesup', 9112), ('thewaramp', 9113), ('just4today', 9114), ('redfriday', 9115), ('ig2018', 9116), ('loveislov', 9117), ('access4al', 9118), ('climatechang', 9119), ('mmiwg', 9120), ('boysmattertoo', 9121), ('beccatoldmeto', 9122), ('z30r41uh5o', 9123), ('militaryspous', 9124), ('spaniard', 9125), ('galician', 9126), ('accent', 9127), ('prayform', 9128), ('5pm', 9129), ('havenward', 9130), ('tux', 9131), ('digitalpreserv', 9132), ('browni', 9133), ('londonprid', 9134), ('wahaca', 9135), ('paddl', 9136), ('hyde', 9137), ('hotlinemi', 9138), ('dms', 9139), ('thot', 9140), ('drip', 9141), ('favour', 9142), ('barbi', 9143), ('menstrual', 9144), ('vagin', 9145), ('blunt', 9146), ('tokin', 9147), ('mic', 9148), ('extrins', 9149), ('western', 9150), ('ingest', 9151), ('abund', 9152), ('alarm', 9153), ('lill', 9154), ('instructor', 9155), ('nissenrichard', 9156), ('compassiom', 9157), ('butttt', 9158), ('eeeat', 9159), ('pleasee', 9160), ('assumpt', 9161), ('skipe', 9162), ('sim', 9163), ('alexandra', 9164), ('hatchard', 9165), ('arggh', 9166), ('snuggi', 9167), ('peruvian', 9168), ('gogh', 9169), ('thame', 9170), ('allen', 9171), ('birthstori', 9172), ('matexp', 9173), ('birthtraumachat', 9174), ('maternitymatt', 9175), ('pblogger', 9176), ('pnmh', 9177), ('motherhood', 9178), ('royalbabi', 9179), ('otdrhwyl4r', 9180), ('twitterland', 9181), ('mesmer', 9182), ('alpert', 9183), ('statesboro', 9184), ('greenjacket', 9185), ('augusta', 9186), ('soullessi', 9187), ('humani', 9188), ('inhumani', 9189), ('uncontrollablyit', 9190), ('depressiona', 9191), ('suggestedbecaus', 9192), ('youit', 9193), ('statementpiec', 9194), ('colt', 9195), ('jaim', 9196), ('lassi', 9197), ('artbystand', 9198), ('rc', 9199), ('penis', 9200), ('1994', 9201), ('fmylif', 9202), ('checkk', 9203), ('profiel', 9204), ('barack', 9205), ('jole', 9206), ('erwin', 9207), ('blom', 9208), ('perimenopaus', 9209), ('hormon', 9210), ('thro', 9211), ('flickbook', 9212), ('excellnt', 9213), ('benedict', 9214), ('rubbra', 9215), ('devon', 9216), ('kf8krzpf2t', 9217), ('cpdickenson', 9218), ('savag', 9219), ('japanes', 9220), ('cooler', 9221), ('wowzer', 9222), ('absent', 9223), ('funilli', 9224), ('wthdrawal', 9225), ('flotus', 9226), ('ramonitasilva7', 9227), ('jeffreyguterman', 9228), ('durnan', 9229), ('steadili', 9230), ('trumpalso', 9231), ('oust', 9232), ('otherh', 9233), ('mueller', 9234), ('nail', 9235), ('himcount', 9236), ('5avcfo1r6r', 9237), ('sirajdatoo', 9238), ('gameplay', 9239), ('footag', 9240), ('screenshot', 9241), ('ps3', 9242), ('quitb', 9243), ('itc', 9244), ('reenforc', 9245), ('movin', 9246), ('eileen', 9247), ('kickin', 9248), ('ps2', 9249), ('clutter', 9250), ('carl', 9251), ('bonjour', 9252), ('twitterett', 9253), ('navi', 9254), ('newslett', 9255), ('funniest', 9256), ('heather1576', 9257), ('quad', 9258), ('mocha', 9259), ('lls', 9260), ('imma', 9261), ('8am', 9262), ('10am', 9263), ('crank', 9264), ('hayley', 9265), ('nano', 9266), ('shuffl', 9267), ('d6worjzka3', 9268), ('rli', 9269), ('sdl2tw5bpw', 9270), ('cage', 9271), ('igersexet', 9272), ('spatter', 9273), ('3pm', 9274), ('2pm', 9275), ('sofaa', 9276), ('empow', 9277), ('sugg', 9278), ('hitch', 9279), ('rack', 9280), ('jt', 9281), ('lager', 9282), ('meantimebrew', 9283), ('headphon', 9284), ('pinterest', 9285), ('prehistor', 9286), ('bone', 9287), ('flute', 9288), ('paleolith', 9289), ('cav', 9290), ('annual', 9291), ('schooooool', 9292), ('fitalbott', 9293), ('joreilly00', 9294), ('14554550', 9295), ('anglo', 9296), ('saxon', 9297), ('hoard', 9298), ('helmet', 9299), ('cathart', 9300), ('jlmcaleer', 9301), ('ink', 9302), ('printer', 9303), ('cliocloth', 9304), ('synaesthesia', 9305), ('lightnightlpool', 9306), ('offspr', 9307), ('bust', 9308), ('nia', 9309), ('2000', 9310), ('coin', 9311), ('rsi', 9312), ('dijon', 9313), ('frittata', 9314), ('destin', 9315), ('ibiza', 9316), ('yihaaaaa', 9317), ('marlin', 9318), ('jockey', 9319), ('pacha', 9320), ('hyolyn', 9321), ('wk', 9322), ('cameronmarion', 9323), ('songwrit', 9324), ('atb', 9325), ('yippiie', 9326), ('cdc', 9327), ('elgin', 9328), ('fil', 9329), ('anderson', 9330), ('ima', 9331), ('witcha', 9332), ('socialcar', 9333), ('mhfa', 9334), ('safetalk', 9335), ('mentalhealthawarenessweek', 9336), ('mhaw', 9337), ('pmme1xfthq', 9338), ('lookthund', 9339), ('substanc', 9340), ('sequela', 9341), ('organis', 9342), ('adjust', 9343), ('remain', 9344), ('various', 9345), ('archiveshub', 9346), ('pencil', 9347), ('prenatalalcoholexposur', 9348), ('behavioralhealth', 9349), ('opioidusedisord', 9350), ('violenc', 9351), ('6lbs', 9352), ('glen', 9353), ('twittz', 9354), ('allerg', 9355), ('ew', 9356), ('caf', 9357), ('surf', 9358), ('astrodud', 9359), ('wwr', 9360), ('ltr', 9361), ('exuber', 9362), ('ure', 9363), ('invest', 9364), ('devic', 9365), ('tmi', 9366), ('metolab', 9367), ('rachelprudden', 9368), ('laguna', 9369), ('safari', 9370), ('jpn', 9371), ('taiko', 9372), ('chicklet7', 9373), ('misskeribabi', 9374), ('homemad', 9375), ('enchilada', 9376), ('3k', 9377), ('nomadicmatt', 9378), ('horsey', 9379), ('no1cathedr', 9380), ('holbein', 9381), ('alkerm', 9382), ('fda', 9383), ('misunderstand', 9384), ('statnew', 9385), ('intellig', 9386), ('rhetor', 9387), ('lc', 9388), ('pratt', 9389), ('downhil', 9390), ('aaroo4', 9391), ('conservationist', 9392), ('merit', 9393), ('tdashrich', 9394), ('cab', 9395), ('fiddler', 9396), ('panther', 9397), ('goooooooooooooooooooooooood', 9398), ('birfday', 9399), ('feigelsonmia', 9400), ('titian', 9401), ('youuuuu', 9402), ('bowart', 9403), ('moodi', 9404), ('wretch', 9405), ('btub', 9406), ('moron', 9407), ('fmla', 9408), ('abraham', 9409), ('16th', 9410), ('clark', 9411), ('orbit', 9412), ('flavor', 9413), ('wll', 9414), ('mindless', 9415), ('inabit', 9416), ('cracker', 9417), ('barrel', 9418), ('atlanti', 9419), ('hubbl', 9420), ('indonesia', 9421), ('franci', 9422), ('bhandl', 9423), ('gtrooprha', 9424), ('sinonevero', 9425), ('suzilov', 9426), ('lansonloyalti', 9427), ('antiquemag', 9428), ('bhl', 9429), ('valuer', 9430), ('trueyanke', 9431), ('franc', 9432), ('uogfineart', 9433), ('trumanbreweri', 9434), ('freerangeshow', 9435), ('degreeshow', 9436), ('pw89bk0mh5', 9437), ('atmospher', 9438), ('unisouthampton', 9439), ('uniofread', 9440), ('adrianmurdoch', 9441), ('conserv', 9442), ('bbc2', 9443), ('lmaaao', 9444), ('alik', 9445), ('tomorow', 9446), ('aztec', 9447), ('twitbotnew', 9448), ('gmoney52', 9449), ('folfriday', 9450), ('gmoney', 9451), ('xxxx', 9452), ('plaridel', 9453), ('43', 9454), ('maga', 9455), ('treasuri', 9456), ('soc', 9457), ('sec', 9458), ('trickl', 9459), ('trillion', 9460), ('specifi', 9461), ('currenlti', 9462), ('tellin', 9463), ('spaceman', 9464), ('ginoandfran', 9465), ('fetal', 9466), ('dwn', 9467), ('museumofcamb', 9468), ('lesbian', 9469), ('orient', 9470), ('heterosexu', 9471), ('counterpart', 9472), ('nhl', 9473), ('playoff', 9474), ('appt', 9475), ('claw', 9476), ('enuf', 9477), ('kannadiga', 9478), ('utd', 9479), ('lolz', 9480), ('85', 9481), ('palaisdetokyo', 9482), ('finit', 9483), ('sc', 9484), ('artheal', 9485), ('nurseri', 9486), ('messi', 9487), ('eagl', 9488), ('sovonstar', 9489), ('baird', 9490), ('gothic', 9491), ('rosa', 9492), ('1615', 9493), ('etch', 9494), ('ashdown', 9495), ('stephani', 9496), ('cera', 9497), ('nottingham', 9498), ('dreamtim', 9499), ('ccconf2015', 9500), ('supercool', 9501), ('zimmer', 9502), ('jyv5io1vy5', 9503), ('fritter', 9504), ('raphael', 9505), ('saadiq', 9506), ('overanalyz', 9507), ('i9ptgg1ktv', 9508), ('toilet', 9509), ('besti', 9510), ('morrw', 9511), ('beaut', 9512), ('tbt', 9513), ('c1pcxyem51', 9514), ('kristen', 9515), ('los', 9516), ('swim', 9517), ('holdontoyourvoic', 9518), ('homagi', 9519), ('wellcaregiverwednesday', 9520), ('homag', 9521), ('tuk', 9522), ('pweas', 9523), ('rental', 9524), ('eufaula', 9525), ('any1', 9526), ('intreset', 9527), ('mikequad', 9528), ('reli', 9529), ('mae', 9530), ('courtauldgal', 9531), ('barberinstitut', 9532), ('unveil', 9533), ('corporatesupport', 9534), ('marykatrantzou', 9535), ('claridg', 9536), ('columbia', 9537), ('highgatecemet', 9538), ('libertylondon', 9539), ('herebeforeoprah', 9540), ('montanna', 9541), ('materialhistori', 9542), ('noodl', 9543), ('sequel', 9544), ('peg', 9545), ('pilgrim', 9546), ('agoni', 9547), ('l6', 9548), ('dept', 9549), ('zoe', 9550), ('prey', 9551), ('aplusk', 9552), ('msaleem', 9553), ('bangor', 9554), ('moor', 9555), ('bieber', 9556), ('350', 9557), ('stardom', 9558), ('4m8qzputqi', 9559), ('thorough', 9560), ('approv', 9561), ('scone', 9562), ('albrecht', 9563), ('durer', 9564), ('gloria', 9565), ('pool', 9566), ('missouri', 9567), ('tudorhistori', 9568), ('rex', 9569)])\n"
     ]
    }
   ],
   "source": [
    "print(tokenizer.word_index.items())"
   ]
  },
  {
   "cell_type": "code",
   "execution_count": 335,
   "metadata": {},
   "outputs": [
    {
     "data": {
      "text/plain": [
       "array([-1.92024648e-01, -2.77189612e-01, -1.59575492e-02, -7.88112730e-03,\n",
       "       -2.28034481e-01,  1.10867940e-01,  1.22339331e-01,  2.47601584e-01,\n",
       "        4.82572988e-02, -1.23012312e-01,  4.29660499e-01,  3.13828021e-01,\n",
       "       -2.89963186e-01, -5.87191507e-02,  3.52591217e-01,  1.20268442e-01,\n",
       "        3.92885834e-01, -6.37762964e-01,  5.41273679e-04,  3.58330488e-01,\n",
       "       -3.66761029e-01, -2.01038182e-01,  7.75740743e-01,  1.02419622e-01,\n",
       "        2.08836541e-01,  2.76683688e-01, -7.68548995e-02, -2.36948565e-01,\n",
       "       -2.98869908e-01, -2.73561001e-01, -7.38072753e-01,  1.34221941e-01,\n",
       "       -2.10800126e-01, -1.25358999e-01,  1.61235586e-01,  2.64839828e-01,\n",
       "        9.63775888e-02,  2.02973709e-01, -3.16191576e-02,  4.42249328e-01,\n",
       "        5.08158021e-02,  2.05217361e-01,  8.85749143e-03, -1.48072124e-01,\n",
       "        4.47312683e-01,  1.38365149e-01, -1.38029028e-02, -5.43893129e-02,\n",
       "       -2.31594518e-01,  7.04963654e-02,  4.29946452e-01,  1.25470161e-01,\n",
       "       -6.45504713e-01, -1.43136799e-01, -3.35290968e-01,  5.11190057e-01,\n",
       "        1.61324456e-01,  1.05402723e-01,  1.58300936e-01, -4.21003014e-01,\n",
       "       -2.12885633e-01,  6.07955456e-02,  1.41503438e-01, -6.03791736e-02,\n",
       "       -1.14992999e-01,  3.13934162e-02,  5.12968078e-02,  6.36101007e-01,\n",
       "        2.65505463e-01, -4.51142848e-01,  5.41179702e-02,  6.07014060e-01,\n",
       "        3.97298425e-01, -1.53267071e-01, -5.62951863e-01, -6.23501599e-01,\n",
       "       -4.06017900e-01,  2.42524505e-01, -5.43080270e-01,  4.45169926e-01,\n",
       "       -2.20138207e-01, -6.09593570e-01,  1.58615753e-01,  5.22723854e-01,\n",
       "        1.34538546e-01, -2.62888856e-02,  4.66655582e-01, -1.08377431e-02,\n",
       "       -1.49697021e-01, -4.12358314e-01,  1.33543789e-01, -7.07313299e-01,\n",
       "        5.13231456e-01,  1.34735525e-01,  6.48925900e-01,  3.63340199e-01,\n",
       "        5.34628108e-02, -3.26962203e-01,  1.37081072e-01,  1.54066473e-01,\n",
       "        8.80835298e-03,  1.38201296e-01, -2.82904834e-01, -1.08843213e-02,\n",
       "        3.34052950e-01,  2.38061652e-01,  2.50623226e-01, -4.29692239e-01,\n",
       "       -6.07722342e-01,  1.24344826e-01, -3.91636372e-01, -2.19808653e-01,\n",
       "       -1.86685562e-01,  5.71170330e-01, -1.90139730e-02, -2.81349272e-01,\n",
       "        5.29620647e-01,  1.03055090e-01,  3.17408770e-01, -1.49447788e-02,\n",
       "       -2.99134821e-01, -4.47435118e-02,  6.73626602e-01,  2.93405771e-01,\n",
       "       -4.07253534e-01, -6.18361644e-02,  2.60080189e-01,  4.08939898e-01,\n",
       "        1.05149396e-01, -3.40560675e-02,  4.35651034e-01,  2.56417602e-01,\n",
       "       -1.45528600e-01, -1.81113020e-01,  2.07938552e-01, -3.25604379e-01,\n",
       "        1.89569667e-01, -1.76273569e-01,  9.41562951e-02, -2.40060627e-01,\n",
       "        1.01251349e-01, -2.78600633e-01, -9.18543518e-01,  2.32132405e-01,\n",
       "        8.12138259e-01, -2.94832289e-01,  4.73894715e-01,  6.24588318e-02,\n",
       "       -1.83910504e-01, -2.78283358e-02, -2.44968444e-01,  3.75895053e-01,\n",
       "        1.90782428e-01,  1.15356050e-01, -2.86214709e-01,  8.14533979e-02,\n",
       "       -8.32722113e-02, -6.02397472e-02,  1.09426454e-01, -1.96247116e-01,\n",
       "        8.60540494e-02, -3.77693146e-01, -1.83705479e-01,  1.58673763e-01,\n",
       "        4.11016196e-01, -3.61341566e-01,  1.31012365e-01,  1.19282886e-01,\n",
       "       -3.09471995e-01,  1.64176092e-01, -2.38225341e-01, -5.42466491e-02,\n",
       "        1.02081231e-03,  4.48454887e-01,  3.41125607e-01,  3.32546294e-01,\n",
       "        1.39478743e-01,  4.93558079e-01,  3.12936395e-01, -2.84572452e-01,\n",
       "       -2.15472002e-02,  1.74597293e-01,  3.46127629e-01, -2.00527415e-01,\n",
       "       -4.02239025e-01, -3.33287537e-01,  6.12169743e-01,  4.26936569e-03,\n",
       "       -4.00216192e-01, -1.86924592e-01,  4.30213034e-01, -9.18525457e-02,\n",
       "        2.05812588e-01, -2.50333816e-01, -1.67921513e-01,  4.57783081e-02,\n",
       "        1.46636337e-01, -1.57096803e-01,  3.25346798e-01,  7.68852755e-02,\n",
       "        4.75108176e-01, -1.11033402e-01, -1.69081464e-01,  1.67333990e-01,\n",
       "       -2.55231112e-01,  2.17527390e-01,  2.88522184e-01,  3.29193652e-01,\n",
       "       -3.92982334e-01,  1.71475545e-01, -8.48808661e-02, -9.04076844e-02,\n",
       "       -8.41058493e-02, -2.38409907e-01, -1.62183702e-01, -5.88162877e-02,\n",
       "       -5.17241418e-01, -4.52917904e-01, -2.98685402e-01,  5.55745102e-02,\n",
       "       -3.77678573e-01, -9.63015705e-02,  4.04644400e-01,  5.93511164e-01,\n",
       "       -3.51564020e-01, -3.68233591e-01,  6.36946037e-02,  2.88611967e-02,\n",
       "       -1.80607498e-01,  2.69134119e-02,  9.63173434e-02, -1.01435728e-01,\n",
       "        1.13119259e-01,  4.14678175e-03, -5.37567019e-01,  1.57872051e-01,\n",
       "        4.12135661e-01, -4.83842865e-02,  2.77689904e-01, -2.40055844e-01,\n",
       "        2.20877022e-01,  1.01781592e-01, -5.51532805e-01, -8.48047733e-02,\n",
       "        2.20762447e-01, -8.07741806e-02,  1.93090290e-01,  1.02781743e-01,\n",
       "        2.19719946e-01, -1.14507899e-01, -2.07534023e-02, -3.55598509e-01,\n",
       "       -7.80394077e-02, -8.71840119e-02, -1.10473938e-01,  2.55995486e-02,\n",
       "       -1.32324040e-01, -4.53375965e-01,  3.73869091e-01, -1.27986386e-01,\n",
       "       -6.90135360e-01, -3.15738954e-02,  2.32810810e-01,  2.52917469e-01,\n",
       "        6.77778125e-02,  2.81517506e-01, -1.13950400e-02,  4.25189346e-01,\n",
       "        1.95565447e-01, -1.06120698e-01,  4.10325676e-01, -1.83515638e-01,\n",
       "       -6.96227625e-02,  3.31463426e-01, -1.02845538e+00,  3.58156025e-01,\n",
       "       -1.03624010e+00, -3.32267582e-02,  9.88738239e-02, -2.33133599e-01,\n",
       "       -6.53032660e-02,  2.04685166e-01,  6.31415192e-03, -2.73243308e-01,\n",
       "       -4.36382443e-01,  2.67608106e-01,  1.65382504e-01, -1.30396858e-01,\n",
       "        3.52818072e-02, -4.02729362e-01,  4.53704685e-01, -1.77327409e-01,\n",
       "        1.61218062e-01,  1.83399588e-01,  4.98446733e-01, -2.65207469e-01,\n",
       "        3.05366255e-02, -6.89531267e-01, -1.11355186e-01, -1.68757349e-01],\n",
       "      dtype=float32)"
      ]
     },
     "execution_count": 335,
     "metadata": {},
     "output_type": "execute_result"
    }
   ],
   "source": [
    "w2v_model.wv['depress']"
   ]
  },
  {
   "cell_type": "code",
   "execution_count": 336,
   "metadata": {},
   "outputs": [
    {
     "name": "stdout",
     "output_type": "stream",
     "text": [
      "(9570, 300)\n"
     ]
    }
   ],
   "source": [
    "embedding_matrix = np.zeros((vocab_size, W2V_SIZE))\n",
    "for word, i in tokenizer.word_index.items():\n",
    "  if word in w2v_model.wv:\n",
    "    embedding_matrix[i] = w2v_model.wv[word]\n",
    "print(embedding_matrix.shape)"
   ]
  },
  {
   "cell_type": "code",
   "execution_count": 337,
   "metadata": {},
   "outputs": [],
   "source": [
    "embedding_layer = Embedding(vocab_size, W2V_SIZE, weights=[embedding_matrix], input_length=SEQUENCE_LENGTH, trainable=False)"
   ]
  },
  {
   "cell_type": "code",
   "execution_count": null,
   "metadata": {},
   "outputs": [],
   "source": []
  },
  {
   "attachments": {},
   "cell_type": "markdown",
   "metadata": {},
   "source": [
    "**LSTM Model**"
   ]
  },
  {
   "cell_type": "code",
   "execution_count": 338,
   "metadata": {},
   "outputs": [
    {
     "name": "stdout",
     "output_type": "stream",
     "text": [
      "Model: \"sequential_13\"\n",
      "_________________________________________________________________\n",
      " Layer (type)                Output Shape              Param #   \n",
      "=================================================================\n",
      " embedding_10 (Embedding)    (None, 300, 300)          2871000   \n",
      "                                                                 \n",
      " lstm_11 (LSTM)              (None, 128)               219648    \n",
      "                                                                 \n",
      " dense_19 (Dense)            (None, 1)                 129       \n",
      "                                                                 \n",
      "=================================================================\n",
      "Total params: 3,090,777\n",
      "Trainable params: 219,777\n",
      "Non-trainable params: 2,871,000\n",
      "_________________________________________________________________\n"
     ]
    }
   ],
   "source": [
    "model = Sequential()\n",
    "model.add(embedding_layer)\n",
    "model.add(LSTM(128, dropout=0.2, recurrent_dropout=0.2))\n",
    "model.add(Dense(1, activation='sigmoid'))\n",
    "\n",
    "model.summary()"
   ]
  },
  {
   "cell_type": "code",
   "execution_count": 340,
   "metadata": {},
   "outputs": [],
   "source": [
    "model.compile(loss='binary_crossentropy',\n",
    "              optimizer=\"adam\",\n",
    "              metrics=['accuracy'])"
   ]
  },
  {
   "cell_type": "code",
   "execution_count": 341,
   "metadata": {},
   "outputs": [],
   "source": [
    "callbacks = [ ReduceLROnPlateau(monitor='val_loss', patience=5, cooldown=0),\n",
    "              EarlyStopping(monitor='val_accuracy', min_delta=1e-4, patience=5)]"
   ]
  },
  {
   "cell_type": "code",
   "execution_count": 342,
   "metadata": {},
   "outputs": [
    {
     "name": "stdout",
     "output_type": "stream",
     "text": [
      "Epoch 1/8\n",
      "6/6 [==============================] - 27s 4s/step - loss: 0.5121 - accuracy: 0.8002 - val_loss: 0.3292 - val_accuracy: 0.8760 - lr: 0.0010\n",
      "Epoch 2/8\n",
      "6/6 [==============================] - 25s 4s/step - loss: 0.2543 - accuracy: 0.9070 - val_loss: 0.1859 - val_accuracy: 0.9296 - lr: 0.0010\n",
      "Epoch 3/8\n",
      "6/6 [==============================] - 24s 4s/step - loss: 0.1514 - accuracy: 0.9455 - val_loss: 0.1608 - val_accuracy: 0.9541 - lr: 0.0010\n",
      "Epoch 4/8\n",
      "6/6 [==============================] - 25s 4s/step - loss: 0.1125 - accuracy: 0.9659 - val_loss: 0.1110 - val_accuracy: 0.9602 - lr: 0.0010\n",
      "Epoch 5/8\n",
      "6/6 [==============================] - 25s 4s/step - loss: 0.0745 - accuracy: 0.9770 - val_loss: 0.0782 - val_accuracy: 0.9816 - lr: 0.0010\n",
      "Epoch 6/8\n",
      "6/6 [==============================] - 25s 4s/step - loss: 0.0554 - accuracy: 0.9848 - val_loss: 0.0562 - val_accuracy: 0.9847 - lr: 0.0010\n",
      "Epoch 7/8\n",
      "6/6 [==============================] - 25s 4s/step - loss: 0.0424 - accuracy: 0.9879 - val_loss: 0.0361 - val_accuracy: 0.9908 - lr: 0.0010\n",
      "Epoch 8/8\n",
      "6/6 [==============================] - 25s 4s/step - loss: 0.0392 - accuracy: 0.9886 - val_loss: 0.0280 - val_accuracy: 0.9923 - lr: 0.0010\n"
     ]
    }
   ],
   "source": [
    "history = model.fit(x_train, y_train,\n",
    "                    batch_size=BATCH_SIZE,\n",
    "                    epochs=EPOCHS,\n",
    "                    validation_split=0.1,\n",
    "                    verbose=1,\n",
    "                    callbacks=callbacks)"
   ]
  },
  {
   "cell_type": "code",
   "execution_count": 343,
   "metadata": {},
   "outputs": [
    {
     "data": {
      "image/png": "[encoded data removed]",
      "text/plain": [
       "<Figure size 640x480 with 1 Axes>"
      ]
     },
     "metadata": {},
     "output_type": "display_data"
    },
    {
     "data": {
      "image/png": "[encoded data removed]",
      "text/plain": [
       "<Figure size 640x480 with 1 Axes>"
      ]
     },
     "metadata": {},
     "output_type": "display_data"
    }
   ],
   "source": [
    "acc = history.history['accuracy']\n",
    "val_acc = history.history['val_accuracy']\n",
    "loss = history.history['loss']\n",
    "val_loss = history.history['val_loss']\n",
    "epochs = range(1, len(acc) + 1)\n",
    "plt.plot(epochs, acc, 'b', label='Training acc')\n",
    "plt.plot(epochs, val_acc, 'r', label='Validation acc')\n",
    "plt.title('Training and validation accuracy')\n",
    "plt.legend()\n",
    "plt.figure()\n",
    "plt.plot(epochs, loss, 'b', label='Training loss')\n",
    "plt.plot(epochs, val_loss, 'r', label='Validation loss')\n",
    "plt.title('Training and validation loss')\n",
    "plt.legend()\n",
    "plt.show()"
   ]
  },
  {
   "cell_type": "code",
   "execution_count": 344,
   "metadata": {},
   "outputs": [
    {
     "name": "stdout",
     "output_type": "stream",
     "text": [
      "2/2 [==============================] - 2s 815ms/step - loss: 0.0308 - accuracy: 0.9920\n",
      "[0.030802525579929352, 0.9920294284820557]\n",
      "LSTM\n",
      "ACCURACY: 0.9920294284820557\n",
      "LOSS: 0.030802525579929352\n"
     ]
    }
   ],
   "source": [
    "score = model.evaluate(x_test, y_test, batch_size=BATCH_SIZE)\n",
    "print(score)\n",
    "print(\"LSTM\\nACCURACY:\",score[1])\n",
    "print(\"LOSS:\",score[0])"
   ]
  },
  {
   "cell_type": "code",
   "execution_count": 373,
   "metadata": {},
   "outputs": [
    {
     "name": "stdout",
     "output_type": "stream",
     "text": [
      "51/51 [==============================] - 11s 201ms/step\n",
      "Accuracy: 89.64%\n"
     ]
    }
   ],
   "source": [
    "labels_pred = model.predict(x_test)\n",
    "labels_pred = np.round(labels_pred.flatten())\n",
    "accuracy = accuracy_score(y_test, labels_pred)\n",
    "print(\"Accuracy: %.2f%%\" % (accuracy*100))"
   ]
  },
  {
   "cell_type": "code",
   "execution_count": 374,
   "metadata": {},
   "outputs": [
    {
     "name": "stdout",
     "output_type": "stream",
     "text": [
      "{'0': {'precision': 0.8275862068965517, 'recall': 0.9501466275659824, 'f1-score': 0.884641638225256, 'support': 682}, '1': {'precision': 0.9599056603773585, 'recall': 0.8577449947312961, 'f1-score': 0.9059543683917641, 'support': 949}, 'accuracy': 0.8963825873697119, 'macro avg': {'precision': 0.8937459336369551, 'recall': 0.9039458111486393, 'f1-score': 0.8952980033085101, 'support': 1631}, 'weighted avg': {'precision': 0.9045764958930482, 'recall': 0.8963825873697119, 'f1-score': 0.8970424849009251, 'support': 1631}}\n"
     ]
    }
   ],
   "source": [
    "report = classification_report(y_test, labels_pred, output_dict=True)\n",
    "print(report)"
   ]
  },
  {
   "cell_type": "code",
   "execution_count": 375,
   "metadata": {},
   "outputs": [
    {
     "data": {
      "text/html": [
       "<div>\n",
       "<style scoped>\n",
       "    .dataframe tbody tr th:only-of-type {\n",
       "        vertical-align: middle;\n",
       "    }\n",
       "\n",
       "    .dataframe tbody tr th {\n",
       "        vertical-align: top;\n",
       "    }\n",
       "\n",
       "    .dataframe thead th {\n",
       "        text-align: right;\n",
       "    }\n",
       "</style>\n",
       "<table border=\"1\" class=\"dataframe\">\n",
       "  <thead>\n",
       "    <tr style=\"text-align: right;\">\n",
       "      <th></th>\n",
       "      <th>cat</th>\n",
       "      <th>val</th>\n",
       "      <th>source</th>\n",
       "    </tr>\n",
       "  </thead>\n",
       "  <tbody>\n",
       "    <tr>\n",
       "      <th>0</th>\n",
       "      <td>precision</td>\n",
       "      <td>0.959906</td>\n",
       "      <td>lstm</td>\n",
       "    </tr>\n",
       "    <tr>\n",
       "      <th>1</th>\n",
       "      <td>recall</td>\n",
       "      <td>0.857745</td>\n",
       "      <td>lstm</td>\n",
       "    </tr>\n",
       "    <tr>\n",
       "      <th>2</th>\n",
       "      <td>accuracy</td>\n",
       "      <td>0.896383</td>\n",
       "      <td>lstm</td>\n",
       "    </tr>\n",
       "    <tr>\n",
       "      <th>3</th>\n",
       "      <td>f1-score</td>\n",
       "      <td>0.905954</td>\n",
       "      <td>lstm</td>\n",
       "    </tr>\n",
       "  </tbody>\n",
       "</table>\n",
       "</div>"
      ],
      "text/plain": [
       "         cat       val source\n",
       "0  precision  0.959906   lstm\n",
       "1     recall  0.857745   lstm\n",
       "2   accuracy  0.896383   lstm\n",
       "3   f1-score  0.905954   lstm"
      ]
     },
     "execution_count": 375,
     "metadata": {},
     "output_type": "execute_result"
    }
   ],
   "source": [
    "data = [['precision', report['1']['precision']], ['recall', report['1']['recall']], ['accuracy', report['accuracy']], ['f1-score', report['1']['f1-score']]]\n",
    "df_lstm = pd.DataFrame(data, columns=['cat', 'val'])\n",
    "df_lstm['source'] = 'lstm'\n",
    "df_lstm.head()"
   ]
  },
  {
   "cell_type": "code",
   "execution_count": 278,
   "metadata": {},
   "outputs": [
    {
     "data": {
      "text/html": [
       "<div>\n",
       "<style scoped>\n",
       "    .dataframe tbody tr th:only-of-type {\n",
       "        vertical-align: middle;\n",
       "    }\n",
       "\n",
       "    .dataframe tbody tr th {\n",
       "        vertical-align: top;\n",
       "    }\n",
       "\n",
       "    .dataframe thead th {\n",
       "        text-align: right;\n",
       "    }\n",
       "</style>\n",
       "<table border=\"1\" class=\"dataframe\">\n",
       "  <thead>\n",
       "    <tr style=\"text-align: right;\">\n",
       "      <th></th>\n",
       "      <th>cat</th>\n",
       "      <th>val</th>\n",
       "      <th>source</th>\n",
       "    </tr>\n",
       "  </thead>\n",
       "  <tbody>\n",
       "    <tr>\n",
       "      <th>0</th>\n",
       "      <td>precision</td>\n",
       "      <td>0.988066</td>\n",
       "      <td>lstm</td>\n",
       "    </tr>\n",
       "    <tr>\n",
       "      <th>1</th>\n",
       "      <td>recall</td>\n",
       "      <td>0.987738</td>\n",
       "      <td>lstm</td>\n",
       "    </tr>\n",
       "    <tr>\n",
       "      <th>2</th>\n",
       "      <td>accuracy</td>\n",
       "      <td>0.987738</td>\n",
       "      <td>lstm</td>\n",
       "    </tr>\n",
       "    <tr>\n",
       "      <th>3</th>\n",
       "      <td>f1-score</td>\n",
       "      <td>0.987752</td>\n",
       "      <td>lstm</td>\n",
       "    </tr>\n",
       "    <tr>\n",
       "      <th>0</th>\n",
       "      <td>precision</td>\n",
       "      <td>0.870000</td>\n",
       "      <td>hybrid</td>\n",
       "    </tr>\n",
       "    <tr>\n",
       "      <th>1</th>\n",
       "      <td>recall</td>\n",
       "      <td>0.940000</td>\n",
       "      <td>hybrid</td>\n",
       "    </tr>\n",
       "    <tr>\n",
       "      <th>2</th>\n",
       "      <td>accuracy</td>\n",
       "      <td>0.760000</td>\n",
       "      <td>hybrid</td>\n",
       "    </tr>\n",
       "    <tr>\n",
       "      <th>3</th>\n",
       "      <td>f1-score</td>\n",
       "      <td>0.990000</td>\n",
       "      <td>hybrid</td>\n",
       "    </tr>\n",
       "  </tbody>\n",
       "</table>\n",
       "</div>"
      ],
      "text/plain": [
       "         cat       val  source\n",
       "0  precision  0.988066    lstm\n",
       "1     recall  0.987738    lstm\n",
       "2   accuracy  0.987738    lstm\n",
       "3   f1-score  0.987752    lstm\n",
       "0  precision  0.870000  hybrid\n",
       "1     recall  0.940000  hybrid\n",
       "2   accuracy  0.760000  hybrid\n",
       "3   f1-score  0.990000  hybrid"
      ]
     },
     "execution_count": 278,
     "metadata": {},
     "output_type": "execute_result"
    }
   ],
   "source": []
  },
  {
   "cell_type": "code",
   "execution_count": 347,
   "metadata": {},
   "outputs": [],
   "source": [
    "def decode_sentiment(score):\n",
    "    return NEGATIVE if score < 0.5 else POSITIVE"
   ]
  },
  {
   "cell_type": "code",
   "execution_count": 348,
   "metadata": {},
   "outputs": [],
   "source": [
    "def predict(text):\n",
    "    text = re.sub(TEXT_CLEANING_RE, ' ', str(text).lower()).strip()\n",
    "    tokens = []\n",
    "    for token in text.split():\n",
    "        if token not in stop_words:\n",
    "            tokens.append(stemmer.stem(token))\n",
    "    text = \" \".join(tokens)\n",
    "    start_at = time.time()\n",
    "    # Tokenize text\n",
    "    x_test = pad_sequences(tokenizer.texts_to_sequences([text]), maxlen=300)\n",
    "    # Predict\n",
    "    score = model.predict(x_test)[0]\n",
    "    # Decode sentiment\n",
    "    label = decode_sentiment(score)\n",
    "\n",
    "    return {\"label\": label, \"score\": float(score),\n",
    "       \"elapsed_time\": time.time()-start_at}  "
   ]
  },
  {
   "cell_type": "code",
   "execution_count": 349,
   "metadata": {},
   "outputs": [
    {
     "name": "stdout",
     "output_type": "stream",
     "text": [
      "1/1 [==============================] - 0s 48ms/step\n"
     ]
    },
    {
     "data": {
      "text/plain": [
       "{'label': 'POSITIVE',\n",
       " 'score': 0.9251490235328674,\n",
       " 'elapsed_time': 0.07922792434692383}"
      ]
     },
     "execution_count": 349,
     "metadata": {},
     "output_type": "execute_result"
    }
   ],
   "source": [
    "predict(\"i hate my life, suicide is the only option\")"
   ]
  },
  {
   "cell_type": "code",
   "execution_count": 350,
   "metadata": {},
   "outputs": [
    {
     "name": "stdout",
     "output_type": "stream",
     "text": [
      "1/1 [==============================] - 0s 49ms/step\n"
     ]
    },
    {
     "data": {
      "text/plain": [
       "{'label': 'NEGATIVE',\n",
       " 'score': 0.0015907048946246505,\n",
       " 'elapsed_time': 0.0799708366394043}"
      ]
     },
     "execution_count": 350,
     "metadata": {},
     "output_type": "execute_result"
    }
   ],
   "source": [
    "predict(\"I love and enjoy music\")"
   ]
  },
  {
   "attachments": {},
   "cell_type": "markdown",
   "metadata": {},
   "source": [
    "**CNN**"
   ]
  },
  {
   "cell_type": "code",
   "execution_count": 351,
   "metadata": {},
   "outputs": [],
   "source": [
    "model = Sequential()\n",
    "model.add(embedding_layer)\n",
    "model.add(Convolution1D(32, 3, activation='relu'))\n",
    "model.add(MaxPooling1D(pool_size=2))\n",
    "model.add(Convolution1D(64, 3, activation='relu'))\n",
    "model.add(MaxPooling1D(pool_size=2))\n",
    "model.add(Convolution1D(64, 3, activation='relu'))\n",
    "model.add(MaxPooling1D(pool_size=2))\n",
    "model.add(Flatten())\n",
    "model.add(Dense(32, activation='relu'))\n",
    "model.add(Dense(16, activation='relu'))\n",
    "model.add(Dense(8, activation='relu'))\n",
    "model.add(Dense(1, activation='sigmoid'))"
   ]
  },
  {
   "cell_type": "code",
   "execution_count": 352,
   "metadata": {},
   "outputs": [
    {
     "name": "stdout",
     "output_type": "stream",
     "text": [
      "Model: \"sequential_14\"\n",
      "_________________________________________________________________\n",
      " Layer (type)                Output Shape              Param #   \n",
      "=================================================================\n",
      " embedding_10 (Embedding)    (None, 300, 300)          2871000   \n",
      "                                                                 \n",
      " conv1d_5 (Conv1D)           (None, 298, 32)           28832     \n",
      "                                                                 \n",
      " max_pooling1d_5 (MaxPooling  (None, 149, 32)          0         \n",
      " 1D)                                                             \n",
      "                                                                 \n",
      " conv1d_6 (Conv1D)           (None, 147, 64)           6208      \n",
      "                                                                 \n",
      " max_pooling1d_6 (MaxPooling  (None, 73, 64)           0         \n",
      " 1D)                                                             \n",
      "                                                                 \n",
      " conv1d_7 (Conv1D)           (None, 71, 64)            12352     \n",
      "                                                                 \n",
      " max_pooling1d_7 (MaxPooling  (None, 35, 64)           0         \n",
      " 1D)                                                             \n",
      "                                                                 \n",
      " flatten_2 (Flatten)         (None, 2240)              0         \n",
      "                                                                 \n",
      " dense_20 (Dense)            (None, 32)                71712     \n",
      "                                                                 \n",
      " dense_21 (Dense)            (None, 16)                528       \n",
      "                                                                 \n",
      " dense_22 (Dense)            (None, 8)                 136       \n",
      "                                                                 \n",
      " dense_23 (Dense)            (None, 1)                 9         \n",
      "                                                                 \n",
      "=================================================================\n",
      "Total params: 2,990,777\n",
      "Trainable params: 119,777\n",
      "Non-trainable params: 2,871,000\n",
      "_________________________________________________________________\n"
     ]
    }
   ],
   "source": [
    "model.compile(optimizer='adam', loss='binary_crossentropy', metrics=[\"accuracy\"])\n",
    "model.summary()"
   ]
  },
  {
   "cell_type": "code",
   "execution_count": 353,
   "metadata": {},
   "outputs": [
    {
     "name": "stdout",
     "output_type": "stream",
     "text": [
      "Epoch 1/12\n",
      "6/6 [==============================] - 5s 685ms/step - loss: 0.6636 - accuracy: 0.5784 - val_loss: 0.6132 - val_accuracy: 0.5911 - lr: 0.0010\n",
      "Epoch 2/12\n",
      "6/6 [==============================] - 4s 628ms/step - loss: 0.5737 - accuracy: 0.6544 - val_loss: 0.5317 - val_accuracy: 0.7014 - lr: 0.0010\n",
      "Epoch 3/12\n",
      "6/6 [==============================] - 4s 624ms/step - loss: 0.5130 - accuracy: 0.7210 - val_loss: 0.4930 - val_accuracy: 0.7335 - lr: 0.0010\n",
      "Epoch 4/12\n",
      "6/6 [==============================] - 4s 629ms/step - loss: 0.4766 - accuracy: 0.7522 - val_loss: 0.4504 - val_accuracy: 0.7550 - lr: 0.0010\n",
      "Epoch 5/12\n",
      "6/6 [==============================] - 4s 648ms/step - loss: 0.4459 - accuracy: 0.7622 - val_loss: 0.4300 - val_accuracy: 0.7626 - lr: 0.0010\n",
      "Epoch 6/12\n",
      "6/6 [==============================] - 4s 643ms/step - loss: 0.4273 - accuracy: 0.7706 - val_loss: 0.4219 - val_accuracy: 0.7657 - lr: 0.0010\n",
      "Epoch 7/12\n",
      "6/6 [==============================] - 4s 741ms/step - loss: 0.4128 - accuracy: 0.7813 - val_loss: 0.4086 - val_accuracy: 0.7749 - lr: 0.0010\n",
      "Epoch 8/12\n",
      "6/6 [==============================] - 5s 743ms/step - loss: 0.3987 - accuracy: 0.7857 - val_loss: 0.3929 - val_accuracy: 0.7825 - lr: 0.0010\n",
      "Epoch 9/12\n",
      "6/6 [==============================] - 4s 639ms/step - loss: 0.3884 - accuracy: 0.7924 - val_loss: 0.3951 - val_accuracy: 0.7841 - lr: 0.0010\n",
      "Epoch 10/12\n",
      "6/6 [==============================] - 4s 688ms/step - loss: 0.3829 - accuracy: 0.7937 - val_loss: 0.3908 - val_accuracy: 0.7825 - lr: 0.0010\n",
      "Epoch 11/12\n",
      "6/6 [==============================] - 4s 690ms/step - loss: 0.3785 - accuracy: 0.7954 - val_loss: 0.3928 - val_accuracy: 0.7810 - lr: 0.0010\n",
      "Epoch 12/12\n",
      "6/6 [==============================] - 4s 703ms/step - loss: 0.3669 - accuracy: 0.8021 - val_loss: 0.3950 - val_accuracy: 0.7825 - lr: 0.0010\n"
     ]
    }
   ],
   "source": [
    "history = model.fit(x_train, y_train,\n",
    "                    batch_size=BATCH_SIZE,epochs=12,\n",
    "                    validation_split=0.1,verbose=1,callbacks=callbacks)"
   ]
  },
  {
   "cell_type": "code",
   "execution_count": 354,
   "metadata": {},
   "outputs": [
    {
     "name": "stdout",
     "output_type": "stream",
     "text": [
      "2/2 [==============================] - 1s 268ms/step - loss: 0.4192 - accuracy: 0.7621\n",
      "\n",
      "CNN\n",
      "ACCURACY: 0.7621091604232788\n",
      "LOSS: 0.41915690898895264\n"
     ]
    }
   ],
   "source": [
    "score = model.evaluate(x_test, y_test, batch_size=BATCH_SIZE)\n",
    "print()\n",
    "print(\"CNN\\nACCURACY:\",score[1])\n",
    "print(\"LOSS:\",score[0])"
   ]
  },
  {
   "cell_type": "code",
   "execution_count": 355,
   "metadata": {},
   "outputs": [
    {
     "name": "stdout",
     "output_type": "stream",
     "text": [
      "51/51 [==============================] - 1s 12ms/step\n",
      "Accuracy: 76.21%\n"
     ]
    }
   ],
   "source": [
    "labels_pred = model.predict(x_test)\n",
    "labels_pred = np.round(labels_pred.flatten())\n",
    "accuracy = accuracy_score(y_test, labels_pred)\n",
    "print(\"Accuracy: %.2f%%\" % (accuracy*100))"
   ]
  },
  {
   "cell_type": "code",
   "execution_count": 356,
   "metadata": {},
   "outputs": [
    {
     "data": {
      "text/plain": [
       "{'0': {'precision': 0.6506147540983607,\n",
       "  'recall': 0.9310850439882697,\n",
       "  'f1-score': 0.7659831121833534,\n",
       "  'support': 682},\n",
       " '1': {'precision': 0.9282442748091603,\n",
       "  'recall': 0.6406743940990516,\n",
       "  'f1-score': 0.7581047381546134,\n",
       "  'support': 949},\n",
       " 'accuracy': 0.7621091354996934,\n",
       " 'macro avg': {'precision': 0.7894295144537604,\n",
       "  'recall': 0.7858797190436606,\n",
       "  'f1-score': 0.7620439251689834,\n",
       "  'support': 1631},\n",
       " 'weighted avg': {'precision': 0.812153941808078,\n",
       "  'recall': 0.7621091354996934,\n",
       "  'f1-score': 0.7613990674541847,\n",
       "  'support': 1631}}"
      ]
     },
     "execution_count": 356,
     "metadata": {},
     "output_type": "execute_result"
    }
   ],
   "source": [
    "report = classification_report(y_test, labels_pred, output_dict=True)\n",
    "report"
   ]
  },
  {
   "cell_type": "code",
   "execution_count": 357,
   "metadata": {},
   "outputs": [
    {
     "data": {
      "text/html": [
       "<div>\n",
       "<style scoped>\n",
       "    .dataframe tbody tr th:only-of-type {\n",
       "        vertical-align: middle;\n",
       "    }\n",
       "\n",
       "    .dataframe tbody tr th {\n",
       "        vertical-align: top;\n",
       "    }\n",
       "\n",
       "    .dataframe thead th {\n",
       "        text-align: right;\n",
       "    }\n",
       "</style>\n",
       "<table border=\"1\" class=\"dataframe\">\n",
       "  <thead>\n",
       "    <tr style=\"text-align: right;\">\n",
       "      <th></th>\n",
       "      <th>cat</th>\n",
       "      <th>val</th>\n",
       "      <th>source</th>\n",
       "    </tr>\n",
       "  </thead>\n",
       "  <tbody>\n",
       "    <tr>\n",
       "      <th>0</th>\n",
       "      <td>precision</td>\n",
       "      <td>0.928244</td>\n",
       "      <td>cnn</td>\n",
       "    </tr>\n",
       "    <tr>\n",
       "      <th>1</th>\n",
       "      <td>recall</td>\n",
       "      <td>0.640674</td>\n",
       "      <td>cnn</td>\n",
       "    </tr>\n",
       "    <tr>\n",
       "      <th>2</th>\n",
       "      <td>accuracy</td>\n",
       "      <td>0.762109</td>\n",
       "      <td>cnn</td>\n",
       "    </tr>\n",
       "    <tr>\n",
       "      <th>3</th>\n",
       "      <td>f1-score</td>\n",
       "      <td>0.758105</td>\n",
       "      <td>cnn</td>\n",
       "    </tr>\n",
       "  </tbody>\n",
       "</table>\n",
       "</div>"
      ],
      "text/plain": [
       "         cat       val source\n",
       "0  precision  0.928244    cnn\n",
       "1     recall  0.640674    cnn\n",
       "2   accuracy  0.762109    cnn\n",
       "3   f1-score  0.758105    cnn"
      ]
     },
     "execution_count": 357,
     "metadata": {},
     "output_type": "execute_result"
    }
   ],
   "source": [
    "data = [['precision', report['1']['precision']], ['recall', report['1']['recall']], ['accuracy', report['accuracy']], ['f1-score', report['1']['f1-score']]]\n",
    "df_cnn = pd.DataFrame(data, columns=['cat', 'val'])\n",
    "df_cnn['source'] = 'cnn'\n",
    "df_cnn.head()"
   ]
  },
  {
   "attachments": {},
   "cell_type": "markdown",
   "metadata": {},
   "source": [
    "**LSTM+CNN**"
   ]
  },
  {
   "cell_type": "code",
   "execution_count": 367,
   "metadata": {},
   "outputs": [],
   "source": [
    "model = Sequential()\n",
    "model.add(embedding_layer)\n",
    "model.add(LSTM(128, return_sequences=True))\n",
    "\n",
    "model.add(Convolution1D(32, 3, activation='relu'))\n",
    "model.add(MaxPooling1D(pool_size=2))\n",
    "model.add(Dropout(0.2))\n",
    "model.add(Convolution1D(64, 3, activation='relu'))\n",
    "model.add(MaxPooling1D(pool_size=2))\n",
    "model.add(Flatten())\n",
    "model.add(Dense(32, activation='relu'))\n",
    "model.add(Dense(16, activation='relu'))\n",
    "model.add(Dense(8, activation='relu'))\n",
    "model.add(Dense(1, activation='sigmoid'))\n"
   ]
  },
  {
   "cell_type": "code",
   "execution_count": 368,
   "metadata": {},
   "outputs": [
    {
     "name": "stdout",
     "output_type": "stream",
     "text": [
      "Model: \"sequential_16\"\n",
      "_________________________________________________________________\n",
      " Layer (type)                Output Shape              Param #   \n",
      "=================================================================\n",
      " embedding_10 (Embedding)    (None, 300, 300)          2871000   \n",
      "                                                                 \n",
      " lstm_13 (LSTM)              (None, 300, 128)          219648    \n",
      "                                                                 \n",
      " conv1d_10 (Conv1D)          (None, 298, 32)           12320     \n",
      "                                                                 \n",
      " max_pooling1d_10 (MaxPoolin  (None, 149, 32)          0         \n",
      " g1D)                                                            \n",
      "                                                                 \n",
      " dropout_2 (Dropout)         (None, 149, 32)           0         \n",
      "                                                                 \n",
      " conv1d_11 (Conv1D)          (None, 147, 64)           6208      \n",
      "                                                                 \n",
      " max_pooling1d_11 (MaxPoolin  (None, 73, 64)           0         \n",
      " g1D)                                                            \n",
      "                                                                 \n",
      " flatten_4 (Flatten)         (None, 4672)              0         \n",
      "                                                                 \n",
      " dense_28 (Dense)            (None, 32)                149536    \n",
      "                                                                 \n",
      " dense_29 (Dense)            (None, 16)                528       \n",
      "                                                                 \n",
      " dense_30 (Dense)            (None, 8)                 136       \n",
      "                                                                 \n",
      " dense_31 (Dense)            (None, 1)                 9         \n",
      "                                                                 \n",
      "=================================================================\n",
      "Total params: 3,259,385\n",
      "Trainable params: 388,385\n",
      "Non-trainable params: 2,871,000\n",
      "_________________________________________________________________\n"
     ]
    }
   ],
   "source": [
    "model.compile(optimizer='adam', loss='binary_crossentropy', metrics=[\"acc\"])\n",
    "model.summary()"
   ]
  },
  {
   "cell_type": "code",
   "execution_count": 369,
   "metadata": {},
   "outputs": [
    {
     "name": "stdout",
     "output_type": "stream",
     "text": [
      "Epoch 1/8\n",
      "6/6 [==============================] - ETA: 0s - loss: 0.6916 - acc: 0.5973WARNING:tensorflow:Early stopping conditioned on metric `val_accuracy` which is not available. Available metrics are: loss,acc,val_loss,val_acc,lr\n",
      "6/6 [==============================] - 24s 4s/step - loss: 0.6916 - acc: 0.5973 - val_loss: 0.6811 - val_acc: 0.7749 - lr: 0.0010\n",
      "Epoch 2/8\n",
      "6/6 [==============================] - ETA: 0s - loss: 0.6510 - acc: 0.7513WARNING:tensorflow:Early stopping conditioned on metric `val_accuracy` which is not available. Available metrics are: loss,acc,val_loss,val_acc,lr\n",
      "6/6 [==============================] - 20s 3s/step - loss: 0.6510 - acc: 0.7513 - val_loss: 0.5816 - val_acc: 0.7718 - lr: 0.0010\n",
      "Epoch 3/8\n",
      "6/6 [==============================] - ETA: 0s - loss: 0.4954 - acc: 0.7510WARNING:tensorflow:Early stopping conditioned on metric `val_accuracy` which is not available. Available metrics are: loss,acc,val_loss,val_acc,lr\n",
      "6/6 [==============================] - 21s 4s/step - loss: 0.4954 - acc: 0.7510 - val_loss: 0.4159 - val_acc: 0.8545 - lr: 0.0010\n",
      "Epoch 4/8\n",
      "6/6 [==============================] - ETA: 0s - loss: 0.3773 - acc: 0.8227WARNING:tensorflow:Early stopping conditioned on metric `val_accuracy` which is not available. Available metrics are: loss,acc,val_loss,val_acc,lr\n",
      "6/6 [==============================] - 23s 4s/step - loss: 0.3773 - acc: 0.8227 - val_loss: 0.3598 - val_acc: 0.8346 - lr: 0.0010\n",
      "Epoch 5/8\n",
      "6/6 [==============================] - ETA: 0s - loss: 0.3271 - acc: 0.8576WARNING:tensorflow:Early stopping conditioned on metric `val_accuracy` which is not available. Available metrics are: loss,acc,val_loss,val_acc,lr\n",
      "6/6 [==============================] - 24s 4s/step - loss: 0.3271 - acc: 0.8576 - val_loss: 0.3178 - val_acc: 0.8790 - lr: 0.0010\n",
      "Epoch 6/8\n",
      "6/6 [==============================] - ETA: 0s - loss: 0.2854 - acc: 0.8787WARNING:tensorflow:Early stopping conditioned on metric `val_accuracy` which is not available. Available metrics are: loss,acc,val_loss,val_acc,lr\n",
      "6/6 [==============================] - 23s 4s/step - loss: 0.2854 - acc: 0.8787 - val_loss: 0.2816 - val_acc: 0.8790 - lr: 0.0010\n",
      "Epoch 7/8\n",
      "6/6 [==============================] - ETA: 0s - loss: 0.2616 - acc: 0.8845WARNING:tensorflow:Early stopping conditioned on metric `val_accuracy` which is not available. Available metrics are: loss,acc,val_loss,val_acc,lr\n",
      "6/6 [==============================] - 22s 4s/step - loss: 0.2616 - acc: 0.8845 - val_loss: 0.2496 - val_acc: 0.9005 - lr: 0.0010\n",
      "Epoch 8/8\n",
      "6/6 [==============================] - ETA: 0s - loss: 0.2414 - acc: 0.8932WARNING:tensorflow:Early stopping conditioned on metric `val_accuracy` which is not available. Available metrics are: loss,acc,val_loss,val_acc,lr\n",
      "6/6 [==============================] - 20s 3s/step - loss: 0.2414 - acc: 0.8932 - val_loss: 0.2288 - val_acc: 0.9066 - lr: 0.0010\n"
     ]
    }
   ],
   "source": [
    "history = model.fit(x_train, y_train,\n",
    "                    batch_size=BATCH_SIZE,epochs=EPOCHS,\n",
    "                    validation_split=0.1,verbose=1,callbacks=callbacks)"
   ]
  },
  {
   "cell_type": "code",
   "execution_count": 361,
   "metadata": {},
   "outputs": [
    {
     "name": "stdout",
     "output_type": "stream",
     "text": [
      "2/2 [==============================] - 2s 664ms/step - loss: 0.2505 - acc: 0.8860\n",
      "\n",
      "Hybrid(CNN+LSTM)\n",
      "ACCURACY: 0.8859595060348511\n",
      "LOSS: 0.2505301237106323\n"
     ]
    }
   ],
   "source": [
    "score = model.evaluate(x_test, y_test, batch_size=BATCH_SIZE)\n",
    "print()\n",
    "print(\"Hybrid(CNN+LSTM)\\nACCURACY:\",score[1])\n",
    "print(\"LOSS:\",score[0])"
   ]
  },
  {
   "cell_type": "code",
   "execution_count": 362,
   "metadata": {},
   "outputs": [
    {
     "name": "stdout",
     "output_type": "stream",
     "text": [
      "2/2 [==============================] - 1s 512ms/step - loss: 0.2505 - acc: 0.8860\n",
      "\n",
      "CNN\n",
      "ACCURACY: 0.8859595060348511\n",
      "LOSS: 0.2505301237106323\n"
     ]
    }
   ],
   "source": [
    "score = model.evaluate(x_test, y_test, batch_size=BATCH_SIZE)\n",
    "print()\n",
    "print(\"CNN\\nACCURACY:\",score[1])\n",
    "print(\"LOSS:\",score[0])"
   ]
  },
  {
   "cell_type": "code",
   "execution_count": 363,
   "metadata": {},
   "outputs": [
    {
     "data": {
      "text/plain": [
       "{'0': {'precision': 0.6506147540983607,\n",
       "  'recall': 0.9310850439882697,\n",
       "  'f1-score': 0.7659831121833534,\n",
       "  'support': 682},\n",
       " '1': {'precision': 0.9282442748091603,\n",
       "  'recall': 0.6406743940990516,\n",
       "  'f1-score': 0.7581047381546134,\n",
       "  'support': 949},\n",
       " 'accuracy': 0.7621091354996934,\n",
       " 'macro avg': {'precision': 0.7894295144537604,\n",
       "  'recall': 0.7858797190436606,\n",
       "  'f1-score': 0.7620439251689834,\n",
       "  'support': 1631},\n",
       " 'weighted avg': {'precision': 0.812153941808078,\n",
       "  'recall': 0.7621091354996934,\n",
       "  'f1-score': 0.7613990674541847,\n",
       "  'support': 1631}}"
      ]
     },
     "execution_count": 363,
     "metadata": {},
     "output_type": "execute_result"
    }
   ],
   "source": [
    "report = classification_report(y_test, labels_pred, output_dict=True)\n",
    "report"
   ]
  },
  {
   "cell_type": "code",
   "execution_count": 364,
   "metadata": {},
   "outputs": [
    {
     "data": {
      "text/html": [
       "<div>\n",
       "<style scoped>\n",
       "    .dataframe tbody tr th:only-of-type {\n",
       "        vertical-align: middle;\n",
       "    }\n",
       "\n",
       "    .dataframe tbody tr th {\n",
       "        vertical-align: top;\n",
       "    }\n",
       "\n",
       "    .dataframe thead th {\n",
       "        text-align: right;\n",
       "    }\n",
       "</style>\n",
       "<table border=\"1\" class=\"dataframe\">\n",
       "  <thead>\n",
       "    <tr style=\"text-align: right;\">\n",
       "      <th></th>\n",
       "      <th>cat</th>\n",
       "      <th>val</th>\n",
       "      <th>source</th>\n",
       "    </tr>\n",
       "  </thead>\n",
       "  <tbody>\n",
       "    <tr>\n",
       "      <th>0</th>\n",
       "      <td>precision</td>\n",
       "      <td>0.928244</td>\n",
       "      <td>hybrid</td>\n",
       "    </tr>\n",
       "    <tr>\n",
       "      <th>1</th>\n",
       "      <td>recall</td>\n",
       "      <td>0.640674</td>\n",
       "      <td>hybrid</td>\n",
       "    </tr>\n",
       "    <tr>\n",
       "      <th>2</th>\n",
       "      <td>accuracy</td>\n",
       "      <td>0.762109</td>\n",
       "      <td>hybrid</td>\n",
       "    </tr>\n",
       "    <tr>\n",
       "      <th>3</th>\n",
       "      <td>f1-score</td>\n",
       "      <td>0.758105</td>\n",
       "      <td>hybrid</td>\n",
       "    </tr>\n",
       "  </tbody>\n",
       "</table>\n",
       "</div>"
      ],
      "text/plain": [
       "         cat       val  source\n",
       "0  precision  0.928244  hybrid\n",
       "1     recall  0.640674  hybrid\n",
       "2   accuracy  0.762109  hybrid\n",
       "3   f1-score  0.758105  hybrid"
      ]
     },
     "execution_count": 364,
     "metadata": {},
     "output_type": "execute_result"
    }
   ],
   "source": [
    "data = [['precision', report['1']['precision']], ['recall', report['1']['recall']], ['accuracy', report['accuracy']], ['f1-score', report['1']['f1-score']]]\n",
    "df_hybrid = pd.DataFrame(data, columns=['cat', 'val'])\n",
    "df_hybrid['source'] = 'hybrid'\n",
    "df_hybrid.head()"
   ]
  },
  {
   "cell_type": "code",
   "execution_count": 376,
   "metadata": {},
   "outputs": [
    {
     "data": {
      "text/html": [
       "<div>\n",
       "<style scoped>\n",
       "    .dataframe tbody tr th:only-of-type {\n",
       "        vertical-align: middle;\n",
       "    }\n",
       "\n",
       "    .dataframe tbody tr th {\n",
       "        vertical-align: top;\n",
       "    }\n",
       "\n",
       "    .dataframe thead th {\n",
       "        text-align: right;\n",
       "    }\n",
       "</style>\n",
       "<table border=\"1\" class=\"dataframe\">\n",
       "  <thead>\n",
       "    <tr style=\"text-align: right;\">\n",
       "      <th></th>\n",
       "      <th>cat</th>\n",
       "      <th>val</th>\n",
       "      <th>source</th>\n",
       "    </tr>\n",
       "  </thead>\n",
       "  <tbody>\n",
       "    <tr>\n",
       "      <th>0</th>\n",
       "      <td>precision</td>\n",
       "      <td>0.959906</td>\n",
       "      <td>lstm</td>\n",
       "    </tr>\n",
       "    <tr>\n",
       "      <th>1</th>\n",
       "      <td>recall</td>\n",
       "      <td>0.857745</td>\n",
       "      <td>lstm</td>\n",
       "    </tr>\n",
       "    <tr>\n",
       "      <th>2</th>\n",
       "      <td>accuracy</td>\n",
       "      <td>0.896383</td>\n",
       "      <td>lstm</td>\n",
       "    </tr>\n",
       "    <tr>\n",
       "      <th>3</th>\n",
       "      <td>f1-score</td>\n",
       "      <td>0.905954</td>\n",
       "      <td>lstm</td>\n",
       "    </tr>\n",
       "    <tr>\n",
       "      <th>0</th>\n",
       "      <td>precision</td>\n",
       "      <td>0.928244</td>\n",
       "      <td>cnn</td>\n",
       "    </tr>\n",
       "    <tr>\n",
       "      <th>1</th>\n",
       "      <td>recall</td>\n",
       "      <td>0.640674</td>\n",
       "      <td>cnn</td>\n",
       "    </tr>\n",
       "    <tr>\n",
       "      <th>2</th>\n",
       "      <td>accuracy</td>\n",
       "      <td>0.762109</td>\n",
       "      <td>cnn</td>\n",
       "    </tr>\n",
       "    <tr>\n",
       "      <th>3</th>\n",
       "      <td>f1-score</td>\n",
       "      <td>0.758105</td>\n",
       "      <td>cnn</td>\n",
       "    </tr>\n",
       "    <tr>\n",
       "      <th>0</th>\n",
       "      <td>precision</td>\n",
       "      <td>0.928244</td>\n",
       "      <td>hybrid</td>\n",
       "    </tr>\n",
       "    <tr>\n",
       "      <th>1</th>\n",
       "      <td>recall</td>\n",
       "      <td>0.640674</td>\n",
       "      <td>hybrid</td>\n",
       "    </tr>\n",
       "    <tr>\n",
       "      <th>2</th>\n",
       "      <td>accuracy</td>\n",
       "      <td>0.762109</td>\n",
       "      <td>hybrid</td>\n",
       "    </tr>\n",
       "    <tr>\n",
       "      <th>3</th>\n",
       "      <td>f1-score</td>\n",
       "      <td>0.758105</td>\n",
       "      <td>hybrid</td>\n",
       "    </tr>\n",
       "  </tbody>\n",
       "</table>\n",
       "</div>"
      ],
      "text/plain": [
       "         cat       val  source\n",
       "0  precision  0.959906    lstm\n",
       "1     recall  0.857745    lstm\n",
       "2   accuracy  0.896383    lstm\n",
       "3   f1-score  0.905954    lstm\n",
       "0  precision  0.928244     cnn\n",
       "1     recall  0.640674     cnn\n",
       "2   accuracy  0.762109     cnn\n",
       "3   f1-score  0.758105     cnn\n",
       "0  precision  0.928244  hybrid\n",
       "1     recall  0.640674  hybrid\n",
       "2   accuracy  0.762109  hybrid\n",
       "3   f1-score  0.758105  hybrid"
      ]
     },
     "execution_count": 376,
     "metadata": {},
     "output_type": "execute_result"
    }
   ],
   "source": [
    "df_w2v = pd.concat([df_lstm, df_cnn, df_hybrid])\n",
    "df_w2v"
   ]
  },
  {
   "cell_type": "code",
   "execution_count": 377,
   "metadata": {},
   "outputs": [
    {
     "data": {
      "text/plain": [
       "Text(0.5, 1.0, 'plot')"
      ]
     },
     "execution_count": 377,
     "metadata": {},
     "output_type": "execute_result"
    },
    {
     "data": {
      "image/png": "[encoded data removed]",
      "text/plain": [
       "<Figure size 800x500 with 1 Axes>"
      ]
     },
     "metadata": {},
     "output_type": "display_data"
    }
   ],
   "source": [
    "plt.figure(figsize=(8,5))\n",
    "sns.barplot(x ='cat', y = 'val', data=df_w2v, hue='source')\n",
    "plt.title(\"plot\")"
   ]
  },
  {
   "attachments": {},
   "cell_type": "markdown",
   "metadata": {},
   "source": [
    "**TF-IDF**"
   ]
  },
  {
   "cell_type": "code",
   "execution_count": null,
   "metadata": {},
   "outputs": [],
   "source": [
    "texts = df.message\n",
    "labels = df.label;\n",
    "type(labels)\n"
   ]
  },
  {
   "cell_type": "code",
   "execution_count": 386,
   "metadata": {},
   "outputs": [
    {
     "name": "stdout",
     "output_type": "stream",
     "text": [
      "['lack understand small signific part caus anxieti depress feel incred lone soooo easi compar easi invalid'\n",
      " 'told parent depress hard get gen x peopl understand someth control time cure walk keep mind busi'\n",
      " 'depress someth speak even go also doubl edg sword love everi race even white peopl done much hate grandma legit white tf hate dislik peopl though'\n",
      " 'made tortilla fill pb j depress cure olivia 1 depress 0'\n",
      " 'gonna need depress med soon rainout spin equilibrium emoji pout face mother natur mean b h emoji face symbol mouth'\n",
      " 'anxieti depress fight whos day'\n",
      " 'wow sudden cure depress gave us world peac'\n",
      " 'offici done kanyewest neptun justin timberlak timbaland got depress younger lot artist chang sound still support far'\n",
      " 'wrong girl look look depress stress face babe examseason'\n",
      " 'peterdutton mp shanebazzi agre emoji clap hand sign emoji clap hand sign emoji clap hand sign someon long experi clinic depress like add cours fuckingwel yell hit head wall say want dienobodi live forev without hopesh get better kept indefinit nauru']\n"
     ]
    }
   ],
   "source": [
    "\n",
    "\n",
    "# Example ndarray of strings and corresponding binary labels (0 for non-depression, 1 for depression)\n",
    "texts = df.message.to_numpy()\n",
    "\n",
    "labels = df.label.to_numpy()\n",
    "\n",
    "# Initialize TF-IDF vectorizer\n",
    "vectorizer = TfidfVectorizer()\n",
    "\n",
    "print(texts[:10])"
   ]
  },
  {
   "cell_type": "code",
   "execution_count": null,
   "metadata": {},
   "outputs": [],
   "source": [
    "texts.shape"
   ]
  },
  {
   "cell_type": "code",
   "execution_count": 384,
   "metadata": {},
   "outputs": [
    {
     "name": "stdout",
     "output_type": "stream",
     "text": [
      "  (0, 4796)\t0.32885265542235037\n",
      "  (0, 2108)\t0.25881671364189013\n",
      "  (0, 2965)\t0.4784550415258618\n",
      "  (0, 8501)\t0.2975729767022106\n",
      "  (0, 5520)\t0.2392275207629309\n",
      "  (0, 4667)\t0.24639517459191693\n",
      "  (0, 3413)\t0.15389872204778754\n",
      "  (0, 2610)\t0.05826042795291189\n",
      "  (0, 735)\t0.12467402905354404\n",
      "  (0, 1763)\t0.18697958631467856\n",
      "  (0, 6853)\t0.21887973309655465\n",
      "  (0, 8294)\t0.2882952068152786\n",
      "  (0, 8398)\t0.2627063057601317\n",
      "  (0, 9577)\t0.2214714623558275\n",
      "  (0, 5251)\t0.2505789274749455\n",
      "  (1, 1591)\t0.27856886998174163\n",
      "  (1, 5993)\t0.24756783721541173\n",
      "  (1, 5091)\t0.23223825296421005\n",
      "  (1, 9870)\t0.29989134883205665\n",
      "  (1, 2373)\t0.21602827114170037\n",
      "  (1, 9228)\t0.18282862643537842\n",
      "  (1, 2186)\t0.2931213762311289\n",
      "  (1, 8486)\t0.23507264863664804\n",
      "  (1, 6946)\t0.1841204222105031\n",
      "  (1, 3795)\t0.3912160337324349\n",
      "  :\t:\n",
      "  (8151, 9955)\t0.4013619179000639\n",
      "  (8151, 5531)\t0.3427420803460123\n",
      "  (8151, 2822)\t0.4276619982337177\n",
      "  (8152, 9846)\t0.4929305863817176\n",
      "  (8152, 7505)\t0.4929305863817176\n",
      "  (8152, 9405)\t0.43478406501803646\n",
      "  (8152, 1505)\t0.21793487243792575\n",
      "  (8152, 5514)\t0.3247249538329618\n",
      "  (8152, 9157)\t0.23612599361654352\n",
      "  (8152, 9093)\t0.2149422257544589\n",
      "  (8152, 9664)\t0.26477186649096396\n",
      "  (8153, 565)\t0.3692531664715786\n",
      "  (8153, 6177)\t0.3692531664715786\n",
      "  (8153, 9638)\t0.3531774168284066\n",
      "  (8153, 2543)\t0.34177149093963693\n",
      "  (8153, 7496)\t0.25251300086391415\n",
      "  (8153, 3102)\t0.29210234940059215\n",
      "  (8153, 3606)\t0.22829187488839814\n",
      "  (8153, 7372)\t0.2821383161213512\n",
      "  (8153, 9293)\t0.23440359125232926\n",
      "  (8153, 7702)\t0.2312300838318631\n",
      "  (8153, 3212)\t0.25577355042033983\n",
      "  (8153, 5531)\t0.17641951783953747\n",
      "  (8154, 5913)\t0.9145985551427054\n",
      "  (8154, 1505)\t0.4043630583162559\n"
     ]
    }
   ],
   "source": [
    "\n",
    "# Fit and transform the texts into TF-IDF features\n",
    "tfidf_features = vectorizer.fit_transform(texts)\n",
    "# df_tfidf = pd.DataFrame(\n",
    "#     tfidf_features.todense(),\n",
    "#     columns=tfidf_features.get_feature_names()\n",
    "# )\n",
    "# df_tfidf.head()\n",
    "\n",
    "tfidf_features.get_shape()\n",
    "print(tfidf_features)\n",
    "\n",
    "\n"
   ]
  },
  {
   "cell_type": "code",
   "execution_count": null,
   "metadata": {},
   "outputs": [],
   "source": [
    "def predict(text, constant_filter = None):\n",
    "    text = re.sub(TEXT_CLEANING_RE, ' ', str(text).lower()).strip()\n",
    "    tokens = []\n",
    "    for token in text.split():\n",
    "        if token not in stop_words:\n",
    "            tokens.append(stemmer.stem(token))\n",
    "    text = \" \".join(tokens)\n",
    "    text = np.array([text])\n",
    "    text = vectorizer.transform(text)\n",
    "    text_filter = constant_filter.transform(text)\n",
    "    return model.predict(text_filter.toarray())"
   ]
  },
  {
   "cell_type": "code",
   "execution_count": null,
   "metadata": {},
   "outputs": [],
   "source": []
  },
  {
   "cell_type": "code",
   "execution_count": null,
   "metadata": {},
   "outputs": [],
   "source": [
    "\n",
    "# Split the dataset into train and test sets\n",
    "x_train, x_test, y_train, y_test = train_test_split(tfidf_features, labels, test_size=0.2, random_state=42)\n",
    "x_train[:10]"
   ]
  },
  {
   "cell_type": "code",
   "execution_count": null,
   "metadata": {},
   "outputs": [],
   "source": [
    "tfidf_features"
   ]
  },
  {
   "cell_type": "code",
   "execution_count": null,
   "metadata": {},
   "outputs": [],
   "source": [
    "constant_filter = VarianceThreshold(threshold = 0.0002)\n",
    "constant_filter.fit(x_train)\n"
   ]
  },
  {
   "cell_type": "code",
   "execution_count": null,
   "metadata": {},
   "outputs": [],
   "source": [
    "x_train_filter = constant_filter.transform(x_train)\n",
    "x_test_filter = constant_filter.transform(x_test)\n",
    "x_train_filter.shape, x_test_filter.shape, x_train.shape"
   ]
  },
  {
   "cell_type": "code",
   "execution_count": null,
   "metadata": {},
   "outputs": [],
   "source": []
  },
  {
   "cell_type": "code",
   "execution_count": null,
   "metadata": {},
   "outputs": [],
   "source": [
    "x_test_filter"
   ]
  },
  {
   "cell_type": "code",
   "execution_count": null,
   "metadata": {},
   "outputs": [],
   "source": [
    "# Build the LSTM model\n",
    "model = Sequential()\n",
    "model.add(Embedding(input_dim=x_train_filter.shape[1], output_dim=128, input_length=x_train_filter.shape[1]))\n",
    "model.add(LSTM(128))\n",
    "model.add(Dense(1, activation='sigmoid'))\n",
    "model.compile(optimizer='adam', loss='binary_crossentropy', metrics=['accuracy'])"
   ]
  },
  {
   "cell_type": "code",
   "execution_count": null,
   "metadata": {},
   "outputs": [],
   "source": [
    "model.summary()"
   ]
  },
  {
   "cell_type": "code",
   "execution_count": null,
   "metadata": {},
   "outputs": [],
   "source": [
    "x_train_arr = x_train_filter.toarray()"
   ]
  },
  {
   "cell_type": "code",
   "execution_count": null,
   "metadata": {},
   "outputs": [],
   "source": [
    "def get_correlation(data, threshold):\n",
    "    corr_col = set()\n",
    "    cormat = data.corr()\n",
    "    for i in range(len(cormat.columns)):\n",
    "        for j in range(i):\n",
    "            if abs(cormat.iloc[i,j]) > threshold:\n",
    "                colname = cormat.columns[i]\n",
    "                corr_col.add(colname)\n",
    "    return corr_col\n",
    "corr_features = get_correlation(x_train_filter, 0.70)"
   ]
  },
  {
   "cell_type": "code",
   "execution_count": null,
   "metadata": {},
   "outputs": [],
   "source": [
    "x_train_uncorr = x_train_filter.drop(labels= corr_features, axis = 1)\n",
    "x_test_uncorr = x_test_filter.drop(labels= corr_features, axis = 1)\n",
    "x_train_uncorr = pd.DataFrame(x_train_uncorr)\n",
    "x_test_uncorr = pd.DataFrame(x_test_uncorr)\n",
    "x_train_uncorr.shape, x_test_uncorr.shape"
   ]
  },
  {
   "cell_type": "code",
   "execution_count": null,
   "metadata": {},
   "outputs": [],
   "source": [
    "\n",
    "# Train the LSTM model\n",
    "model.fit(x_train_arr, y_train, epochs=10, batch_size=1024, validation_split=0.1, verbose=1, callbacks=[callbacks])\n",
    "\n"
   ]
  },
  {
   "cell_type": "code",
   "execution_count": null,
   "metadata": {},
   "outputs": [],
   "source": [
    "print(x_test_filter.shape, y_test.shape)"
   ]
  },
  {
   "cell_type": "code",
   "execution_count": null,
   "metadata": {},
   "outputs": [],
   "source": [
    "# Evaluate the LSTM model\n",
    "loss, accuracy = model.evaluate(x_test_filter.toarray(), y_test, batch_size=1)\n",
    "print('Test Loss:', loss)\n",
    "print('Test Accuracy:', accuracy)"
   ]
  },
  {
   "cell_type": "code",
   "execution_count": null,
   "metadata": {},
   "outputs": [],
   "source": [
    "predict(\"happy, love, joy, smile\", constant_filter)"
   ]
  },
  {
   "cell_type": "code",
   "execution_count": null,
   "metadata": {},
   "outputs": [],
   "source": [
    "labels_pred = model.predict(x_test_filter.toarray())\n",
    "labels_pred = np.round(labels_pred.flatten())"
   ]
  },
  {
   "cell_type": "code",
   "execution_count": null,
   "metadata": {},
   "outputs": [],
   "source": [
    "print(classification_report(y_test, labels_pred))"
   ]
  },
  {
   "cell_type": "code",
   "execution_count": null,
   "metadata": {},
   "outputs": [],
   "source": [
    "df.head()"
   ]
  },
  {
   "cell_type": "code",
   "execution_count": null,
   "metadata": {},
   "outputs": [],
   "source": [
    "X = df['message']\n",
    "y = df['label']\n",
    "# Split into Training and Test sets\n",
    "X_train, X_test, y_train, y_test = train_test_split(X, y, test_size=0.3, random_state=42, stratify=df['label'])"
   ]
  },
  {
   "cell_type": "code",
   "execution_count": null,
   "metadata": {},
   "outputs": [],
   "source": [
    "y_train.value_counts()\n"
   ]
  }
 ],
 "metadata": {
  "kernelspec": {
   "display_name": "Python 3",
   "language": "python",
   "name": "python3"
  },
  "language_info": {
   "codemirror_mode": {
    "name": "ipython",
    "version": 3
   },
   "file_extension": ".py",
   "mimetype": "text/x-python",
   "name": "python",
   "nbconvert_exporter": "python",
   "pygments_lexer": "ipython3",
   "version": "3.10.1"
  },
  "orig_nbformat": 4,
  "vscode": {
   "interpreter": {
    "hash": "aee8b7b246df8f9039afb4144a1f6fd8d2ca17a180786b69acc140d282b71a49"
   }
  }
 },
 "nbformat": 4,
 "nbformat_minor": 2
}
